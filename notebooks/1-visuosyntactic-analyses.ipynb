{
 "cells": [
  {
   "cell_type": "markdown",
   "metadata": {
    "collapsed": true
   },
   "source": [
    "# Visuosyntactic Analyses"
   ]
  },
  {
   "cell_type": "code",
   "execution_count": 1,
   "metadata": {},
   "outputs": [
    {
     "name": "stdout",
     "output_type": "stream",
     "text": [
      "env: CORENLP_HOME=stanford-corenlp-4.5.4\n"
     ]
    }
   ],
   "source": [
    "%env CORENLP_HOME=stanford-corenlp-4.5.4"
   ]
  },
  {
   "cell_type": "code",
   "execution_count": 2,
   "metadata": {},
   "outputs": [
    {
     "name": "stderr",
     "output_type": "stream",
     "text": [
      "2023-07-07 00:32:43 WARNING: Directory stanford-corenlp-4.5.4 already exists. Please install CoreNLP to a new directory.\n",
      "2023-07-07 00:32:43 INFO: Writing properties to tmp file: corenlp_server-8e8c4b3e34ad4e6a.props\n"
     ]
    }
   ],
   "source": [
    "from stanza.server import CoreNLPClient\n",
    "import stanza\n",
    "\n",
    "stanza.install_corenlp(dir='stanford-corenlp-4.5.4')\n",
    "client = CoreNLPClient(annotators=['tokenize', 'ssplit', 'pos', 'lemma', 'ner', 'parse', 'depparse','coref'], timeout=30000, memory='6G')"
   ]
  },
  {
   "cell_type": "markdown",
   "metadata": {},
   "source": [
    "# Generate DAAM Maps"
   ]
  },
  {
   "cell_type": "code",
   "execution_count": 7,
   "metadata": {},
   "outputs": [],
   "source": [
    "from pathlib import Path\n",
    "import json\n",
    "\n",
    "annotations = json.load(Path('coco/annotations/captions_val2014.json').open())"
   ]
  },
  {
   "cell_type": "code",
   "execution_count": 11,
   "metadata": {},
   "outputs": [
    {
     "data": {
      "text/plain": [
       "dict_keys(['info', 'images', 'licenses', 'annotations'])"
      ]
     },
     "execution_count": 11,
     "metadata": {},
     "output_type": "execute_result"
    }
   ],
   "source": [
    "annotations.keys()"
   ]
  },
  {
   "cell_type": "code",
   "execution_count": 13,
   "metadata": {},
   "outputs": [],
   "source": [
    "import pandas as pd\n",
    "\n",
    "df = pd.DataFrame(annotations['annotations'])"
   ]
  },
  {
   "cell_type": "code",
   "execution_count": 15,
   "metadata": {},
   "outputs": [],
   "source": [
    "!mkdir -p experiments/visuosyntax"
   ]
  },
  {
   "cell_type": "code",
   "execution_count": 17,
   "metadata": {},
   "outputs": [],
   "source": [
    "df = df.sample(1500, replace=False)"
   ]
  },
  {
   "cell_type": "code",
   "execution_count": 22,
   "metadata": {},
   "outputs": [],
   "source": [
    "import torch\n",
    "\n",
    "torch.cuda.amp.autocast().__enter__()\n",
    "torch.set_grad_enabled(False);"
   ]
  },
  {
   "cell_type": "code",
   "execution_count": null,
   "metadata": {},
   "outputs": [],
   "source": [
    "from diffusers import StableDiffusionPipeline\n",
    "from daam import set_seed, trace\n",
    "\n",
    "pipe = StableDiffusionPipeline.from_pretrained('stabilityai/stable-diffusion-2-1-base')"
   ]
  },
  {
   "cell_type": "code",
   "execution_count": 37,
   "metadata": {},
   "outputs": [],
   "source": [
    "pipe.to('cuda:0');"
   ]
  },
  {
   "cell_type": "code",
   "execution_count": null,
   "metadata": {
    "scrolled": true
   },
   "outputs": [],
   "source": [
    "from tqdm import tqdm\n",
    "\n",
    "for _, row in tqdm(df.iterrows(), total=len(df)):\n",
    "    image_id, caption = row.image_id, row.caption\n",
    "    gen = set_seed(image_id)\n",
    "    output_folder = Path('experiments/visuosyntax')\n",
    "    \n",
    "    with trace(pipe) as tc:\n",
    "        out = pipe(caption, num_inference_steps=30, generator=gen)\n",
    "        exp = tc.to_experiment(output_folder, id=str(image_id), seed=image_id)\n",
    "        exp.save(output_folder, heat_maps=False)"
   ]
  },
  {
   "cell_type": "markdown",
   "metadata": {},
   "source": [
    "# Parse and Analyze"
   ]
  },
  {
   "cell_type": "code",
   "execution_count": 146,
   "metadata": {},
   "outputs": [
    {
     "name": "stderr",
     "output_type": "stream",
     "text": [
      "  0%|                                                                          | 0/1488 [00:00<?, ?it/s][pool-1-thread-1] INFO CoreNLP - [/127.0.0.1:41414] API call w/annotators tokenize,pos,lemma,ner,parse,depparse,coref\n",
      "  0%|                                                                  | 1/1488 [00:00<03:00,  8.22it/s][pool-1-thread-5] INFO CoreNLP - [/127.0.0.1:41424] API call w/annotators tokenize,pos,lemma,ner,parse,depparse,coref\n",
      "  0%|                                                                  | 2/1488 [00:00<02:50,  8.70it/s]"
     ]
    },
    {
     "name": "stdout",
     "output_type": "stream",
     "text": [
      "a person sitting down holding an open umbrella\n",
      "a black and white photo of children washing an elephant\n"
     ]
    },
    {
     "name": "stderr",
     "output_type": "stream",
     "text": [
      "[pool-1-thread-4] INFO CoreNLP - [/127.0.0.1:41442] API call w/annotators tokenize,pos,lemma,ner,parse,depparse,coref\n",
      "  0%|▏                                                                 | 3/1488 [00:00<02:51,  8.66it/s][pool-1-thread-3] INFO CoreNLP - [/127.0.0.1:41462] API call w/annotators tokenize,pos,lemma,ner,parse,depparse,coref\n",
      "  0%|▏                                                                 | 4/1488 [00:00<02:55,  8.47it/s]"
     ]
    },
    {
     "name": "stdout",
     "output_type": "stream",
     "text": [
      "Two brown horses running side by side in the snow.\n",
      "A person walking  a horse and jockey down a narrow entrance corridor.\n"
     ]
    },
    {
     "name": "stderr",
     "output_type": "stream",
     "text": [
      "[pool-1-thread-2] INFO CoreNLP - [/127.0.0.1:41474] API call w/annotators tokenize,pos,lemma,ner,parse,depparse,coref\n",
      "  0%|▏                                                                 | 5/1488 [00:00<03:05,  7.99it/s][pool-1-thread-1] INFO CoreNLP - [/127.0.0.1:41494] API call w/annotators tokenize,pos,lemma,ner,parse,depparse,coref\n",
      "  0%|▎                                                                 | 6/1488 [00:00<02:55,  8.43it/s]"
     ]
    },
    {
     "name": "stdout",
     "output_type": "stream",
     "text": [
      "A metal statue of two women sits on a bench in a city street.\n",
      "A group of people standing around a wine cellar.\n"
     ]
    },
    {
     "name": "stderr",
     "output_type": "stream",
     "text": [
      "[pool-1-thread-5] INFO CoreNLP - [/127.0.0.1:41510] API call w/annotators tokenize,pos,lemma,ner,parse,depparse,coref\n",
      "  0%|▎                                                                 | 7/1488 [00:00<03:01,  8.14it/s][pool-1-thread-4] INFO CoreNLP - [/127.0.0.1:41534] API call w/annotators tokenize,pos,lemma,ner,parse,depparse,coref\n",
      "  1%|▎                                                                 | 8/1488 [00:00<02:54,  8.50it/s]"
     ]
    },
    {
     "name": "stdout",
     "output_type": "stream",
     "text": [
      "A boy in a green jersey with a bag on a baseball field\n",
      "People are cooking on grills in a commercial kitchen.\n"
     ]
    },
    {
     "name": "stderr",
     "output_type": "stream",
     "text": [
      "[pool-1-thread-3] INFO CoreNLP - [/127.0.0.1:41544] API call w/annotators tokenize,pos,lemma,ner,parse,depparse,coref\n",
      "  1%|▍                                                                 | 9/1488 [00:01<02:47,  8.84it/s][pool-1-thread-2] INFO CoreNLP - [/127.0.0.1:41572] API call w/annotators tokenize,pos,lemma,ner,parse,depparse,coref\n",
      "  1%|▍                                                                | 10/1488 [00:01<02:46,  8.89it/s]"
     ]
    },
    {
     "name": "stdout",
     "output_type": "stream",
     "text": [
      "A man consuming a plate of Italian food.\n",
      "The side of a train that is passing another train.\n"
     ]
    },
    {
     "name": "stderr",
     "output_type": "stream",
     "text": [
      "[pool-1-thread-1] INFO CoreNLP - [/127.0.0.1:41576] API call w/annotators tokenize,pos,lemma,ner,parse,depparse,coref\n",
      "  1%|▍                                                                | 11/1488 [00:01<02:51,  8.63it/s][pool-1-thread-5] INFO CoreNLP - [/127.0.0.1:41582] API call w/annotators tokenize,pos,lemma,ner,parse,depparse,coref\n"
     ]
    },
    {
     "name": "stdout",
     "output_type": "stream",
     "text": [
      "An old, red truck sits in the foothills of a mountain.\n",
      "an adult helping a child play nintendo wii\n"
     ]
    },
    {
     "name": "stderr",
     "output_type": "stream",
     "text": [
      "[pool-1-thread-4] INFO CoreNLP - [/127.0.0.1:41596] API call w/annotators tokenize,pos,lemma,ner,parse,depparse,coref\n",
      "  1%|▌                                                                | 13/1488 [00:01<02:39,  9.27it/s][pool-1-thread-3] INFO CoreNLP - [/127.0.0.1:41602] API call w/annotators tokenize,pos,lemma,ner,parse,depparse,coref\n",
      "  1%|▌                                                                | 14/1488 [00:01<02:55,  8.38it/s]"
     ]
    },
    {
     "name": "stdout",
     "output_type": "stream",
     "text": [
      "Television cameras capture a tennis player during a match\n",
      "A living room area with a couch and seating area, and television on a stand.\n"
     ]
    },
    {
     "name": "stderr",
     "output_type": "stream",
     "text": [
      "[pool-1-thread-2] INFO CoreNLP - [/127.0.0.1:41620] API call w/annotators tokenize,pos,lemma,ner,parse,depparse,coref\n",
      "  1%|▋                                                                | 15/1488 [00:01<02:50,  8.62it/s][pool-1-thread-1] INFO CoreNLP - [/127.0.0.1:41638] API call w/annotators tokenize,pos,lemma,ner,parse,depparse,coref\n",
      "  1%|▋                                                                | 16/1488 [00:01<02:46,  8.84it/s]"
     ]
    },
    {
     "name": "stdout",
     "output_type": "stream",
     "text": [
      "An older model kitchen stove with an attached hood.\n",
      "Person paragliding and wakeboarding on ocean with tree slope\n"
     ]
    },
    {
     "name": "stderr",
     "output_type": "stream",
     "text": [
      "[pool-1-thread-5] INFO CoreNLP - [/127.0.0.1:41652] API call w/annotators tokenize,pos,lemma,ner,parse,depparse,coref\n",
      "  1%|▋                                                                | 17/1488 [00:01<02:47,  8.76it/s][pool-1-thread-4] INFO CoreNLP - [/127.0.0.1:41684] API call w/annotators tokenize,pos,lemma,ner,parse,depparse,coref\n",
      "  1%|▊                                                                | 18/1488 [00:02<02:57,  8.27it/s]"
     ]
    },
    {
     "name": "stdout",
     "output_type": "stream",
     "text": [
      "A kitchen with a large refrigerator, shelves, and stove.\n",
      "A plate of donuts on a tray sitting on a table in a bakery.\n"
     ]
    },
    {
     "name": "stderr",
     "output_type": "stream",
     "text": [
      "[pool-1-thread-3] INFO CoreNLP - [/127.0.0.1:41704] API call w/annotators tokenize,pos,lemma,ner,parse,depparse,coref\n",
      "  1%|▊                                                                | 19/1488 [00:02<02:53,  8.47it/s][pool-1-thread-2] INFO CoreNLP - [/127.0.0.1:41714] API call w/annotators tokenize,pos,lemma,ner,parse,depparse,coref\n",
      "  1%|▊                                                                | 20/1488 [00:02<03:02,  8.05it/s]"
     ]
    },
    {
     "name": "stdout",
     "output_type": "stream",
     "text": [
      "A large bus is parked outside a building.\n",
      "a bathroom with a toilet and sink and a bath tub sitting on a hardfloor\n"
     ]
    },
    {
     "name": "stderr",
     "output_type": "stream",
     "text": [
      "[pool-1-thread-1] INFO CoreNLP - [/127.0.0.1:41742] API call w/annotators tokenize,pos,lemma,ner,parse,depparse,coref\n",
      "[pool-1-thread-5] INFO CoreNLP - [/127.0.0.1:41758] API call w/annotators tokenize,pos,lemma,ner,parse,depparse,coref\n",
      "  1%|▉                                                                | 22/1488 [00:02<02:44,  8.94it/s][pool-1-thread-4] INFO CoreNLP - [/127.0.0.1:41770] API call w/annotators tokenize,pos,lemma,ner,parse,depparse,coref\n"
     ]
    },
    {
     "name": "stdout",
     "output_type": "stream",
     "text": [
      "an image of busy street sign scene \n",
      "A display case filled with assorted flavored donuts.\n",
      "A bike sitting parked on the ground next to a building.\n"
     ]
    },
    {
     "name": "stderr",
     "output_type": "stream",
     "text": [
      "  2%|█                                                                | 23/1488 [00:02<02:44,  8.90it/s][pool-1-thread-3] INFO CoreNLP - [/127.0.0.1:41794] API call w/annotators tokenize,pos,lemma,ner,parse,depparse,coref\n",
      "  2%|█                                                                | 24/1488 [00:02<02:43,  8.97it/s][pool-1-thread-2] INFO CoreNLP - [/127.0.0.1:41818] API call w/annotators tokenize,pos,lemma,ner,parse,depparse,coref\n",
      "  2%|█                                                                | 25/1488 [00:02<02:42,  9.00it/s]"
     ]
    },
    {
     "name": "stdout",
     "output_type": "stream",
     "text": [
      "A boy is hitting a baseball during a baseball game. \n",
      "Someone is blowing out the candles on the birthday cake.\n"
     ]
    },
    {
     "name": "stderr",
     "output_type": "stream",
     "text": [
      "[pool-1-thread-1] INFO CoreNLP - [/127.0.0.1:41836] API call w/annotators tokenize,pos,lemma,ner,parse,depparse,coref\n",
      "  2%|█▏                                                               | 26/1488 [00:02<02:39,  9.14it/s][pool-1-thread-5] INFO CoreNLP - [/127.0.0.1:41852] API call w/annotators tokenize,pos,lemma,ner,parse,depparse,coref\n",
      "  2%|█▏                                                               | 27/1488 [00:03<02:40,  9.08it/s]"
     ]
    },
    {
     "name": "stdout",
     "output_type": "stream",
     "text": [
      "an ancient vase on display in a glass case\n",
      "A person who is holding a hotdog in a napkin.\n"
     ]
    },
    {
     "name": "stderr",
     "output_type": "stream",
     "text": [
      "[pool-1-thread-4] INFO CoreNLP - [/127.0.0.1:41864] API call w/annotators tokenize,pos,lemma,ner,parse,depparse,coref\n",
      "  2%|█▏                                                               | 28/1488 [00:03<02:49,  8.62it/s][pool-1-thread-3] INFO CoreNLP - [/127.0.0.1:41882] API call w/annotators tokenize,pos,lemma,ner,parse,depparse,coref\n",
      "  2%|█▎                                                               | 29/1488 [00:03<02:54,  8.35it/s]"
     ]
    },
    {
     "name": "stdout",
     "output_type": "stream",
     "text": [
      "A youth wearing a yellow hat is rowing a boat down the stream.\n",
      "A group of skiers gathered on the ski slope getting ready to ski.\n"
     ]
    },
    {
     "name": "stderr",
     "output_type": "stream",
     "text": [
      "[pool-1-thread-2] INFO CoreNLP - [/127.0.0.1:41898] API call w/annotators tokenize,pos,lemma,ner,parse,depparse,coref\n",
      "  2%|█▎                                                               | 30/1488 [00:03<02:53,  8.42it/s][pool-1-thread-1] INFO CoreNLP - [/127.0.0.1:41906] API call w/annotators tokenize,pos,lemma,ner,parse,depparse,coref\n",
      "  2%|█▎                                                               | 31/1488 [00:03<02:48,  8.64it/s]"
     ]
    },
    {
     "name": "stdout",
     "output_type": "stream",
     "text": [
      "A black and white cow on stairs in a market area.\n",
      "A group of roses arranged in a vase. \n"
     ]
    },
    {
     "name": "stderr",
     "output_type": "stream",
     "text": [
      "[pool-1-thread-5] INFO CoreNLP - [/127.0.0.1:41922] API call w/annotators tokenize,pos,lemma,ner,parse,depparse,coref\n",
      "  2%|█▍                                                               | 32/1488 [00:03<02:50,  8.56it/s][pool-1-thread-4] INFO CoreNLP - [/127.0.0.1:41948] API call w/annotators tokenize,pos,lemma,ner,parse,depparse,coref\n",
      "  2%|█▍                                                               | 33/1488 [00:03<02:50,  8.52it/s]"
     ]
    },
    {
     "name": "stdout",
     "output_type": "stream",
     "text": [
      "a small green and white boat parked near the sidewalk near a lake \n",
      "A huge stainless steel cooking range with a hood in a salesroom\n"
     ]
    },
    {
     "name": "stderr",
     "output_type": "stream",
     "text": [
      "[pool-1-thread-3] INFO CoreNLP - [/127.0.0.1:41966] API call w/annotators tokenize,pos,lemma,ner,parse,depparse,coref\n",
      "  2%|█▍                                                               | 34/1488 [00:03<02:45,  8.80it/s][pool-1-thread-2] INFO CoreNLP - [/127.0.0.1:41996] API call w/annotators tokenize,pos,lemma,ner,parse,depparse,coref\n",
      "  2%|█▌                                                               | 35/1488 [00:04<02:44,  8.84it/s]"
     ]
    },
    {
     "name": "stdout",
     "output_type": "stream",
     "text": [
      "A person hold a sandwich and a large cookie.\n",
      "A room with tables and a clock on the wall.\n"
     ]
    },
    {
     "name": "stderr",
     "output_type": "stream",
     "text": [
      "[pool-1-thread-1] INFO CoreNLP - [/127.0.0.1:42014] API call w/annotators tokenize,pos,lemma,ner,parse,depparse,coref\n",
      "  2%|█▌                                                               | 36/1488 [00:04<02:41,  9.00it/s][pool-1-thread-5] INFO CoreNLP - [/127.0.0.1:42042] API call w/annotators tokenize,pos,lemma,ner,parse,depparse,coref\n",
      "  2%|█▌                                                               | 37/1488 [00:04<02:40,  9.01it/s]"
     ]
    },
    {
     "name": "stdout",
     "output_type": "stream",
     "text": [
      "A little boy making a mess with his dinner.\n",
      "A single surfer riding a wave as it crashes around him\n"
     ]
    },
    {
     "name": "stderr",
     "output_type": "stream",
     "text": [
      "[pool-1-thread-4] INFO CoreNLP - [/127.0.0.1:42052] API call w/annotators tokenize,pos,lemma,ner,parse,depparse,coref\n",
      "  3%|█▋                                                               | 38/1488 [00:04<02:36,  9.29it/s][pool-1-thread-3] INFO CoreNLP - [/127.0.0.1:42062] API call w/annotators tokenize,pos,lemma,ner,parse,depparse,coref\n",
      "  3%|█▋                                                               | 39/1488 [00:04<02:37,  9.23it/s]"
     ]
    },
    {
     "name": "stdout",
     "output_type": "stream",
     "text": [
      "A surfer is attempting to ride a large wave\n",
      "A plate of food and a fork on a table.\n"
     ]
    },
    {
     "name": "stderr",
     "output_type": "stream",
     "text": [
      "[pool-1-thread-2] INFO CoreNLP - [/127.0.0.1:42080] API call w/annotators tokenize,pos,lemma,ner,parse,depparse,coref\n",
      "  3%|█▋                                                               | 40/1488 [00:04<02:39,  9.11it/s][pool-1-thread-1] INFO CoreNLP - [/127.0.0.1:42104] API call w/annotators tokenize,pos,lemma,ner,parse,depparse,coref\n",
      "  3%|█▊                                                               | 41/1488 [00:04<02:42,  8.91it/s]"
     ]
    },
    {
     "name": "stdout",
     "output_type": "stream",
     "text": [
      "A red plate topped with broccoli, meat and veggies.\n",
      "A frisbee sitting in a sports bag sitting on the ground.\n"
     ]
    },
    {
     "name": "stderr",
     "output_type": "stream",
     "text": [
      "[pool-1-thread-5] INFO CoreNLP - [/127.0.0.1:42130] API call w/annotators tokenize,pos,lemma,ner,parse,depparse,coref\n",
      "  3%|█▊                                                               | 42/1488 [00:04<02:46,  8.69it/s][pool-1-thread-4] INFO CoreNLP - [/127.0.0.1:42152] API call w/annotators tokenize,pos,lemma,ner,parse,depparse,coref\n"
     ]
    },
    {
     "name": "stdout",
     "output_type": "stream",
     "text": [
      "An elephant draped with a colorful blanket wearing a decorative head piece.\n",
      "A microwave sitting on a brown shelf. \n"
     ]
    },
    {
     "name": "stderr",
     "output_type": "stream",
     "text": [
      "[pool-1-thread-3] INFO CoreNLP - [/127.0.0.1:42172] API call w/annotators tokenize,pos,lemma,ner,parse,depparse,coref\n",
      "  3%|█▉                                                               | 44/1488 [00:05<02:38,  9.10it/s][pool-1-thread-2] INFO CoreNLP - [/127.0.0.1:42190] API call w/annotators tokenize,pos,lemma,ner,parse,depparse,coref\n",
      "  3%|█▉                                                               | 45/1488 [00:05<02:37,  9.16it/s]"
     ]
    },
    {
     "name": "stdout",
     "output_type": "stream",
     "text": [
      "A man and woman cooking together in a kitchen.\n",
      "An old style airplane that is on the runway.\n"
     ]
    },
    {
     "name": "stderr",
     "output_type": "stream",
     "text": [
      "[pool-1-thread-1] INFO CoreNLP - [/127.0.0.1:42212] API call w/annotators tokenize,pos,lemma,ner,parse,depparse,coref\n",
      "  3%|██                                                               | 46/1488 [00:05<02:38,  9.09it/s][pool-1-thread-5] INFO CoreNLP - [/127.0.0.1:42230] API call w/annotators tokenize,pos,lemma,ner,parse,depparse,coref\n",
      "  3%|██                                                               | 47/1488 [00:05<02:37,  9.17it/s]"
     ]
    },
    {
     "name": "stdout",
     "output_type": "stream",
     "text": [
      "An old looking white fridge in a big rock wall.\n",
      "Car parked in the parking lot next to the pier\n"
     ]
    },
    {
     "name": "stderr",
     "output_type": "stream",
     "text": [
      "[pool-1-thread-4] INFO CoreNLP - [/127.0.0.1:42248] API call w/annotators tokenize,pos,lemma,ner,parse,depparse,coref\n",
      "  3%|██                                                               | 48/1488 [00:05<02:44,  8.75it/s][pool-1-thread-3] INFO CoreNLP - [/127.0.0.1:42262] API call w/annotators tokenize,pos,lemma,ner,parse,depparse,coref\n",
      "  3%|██▏                                                              | 49/1488 [00:05<02:43,  8.82it/s]"
     ]
    },
    {
     "name": "stdout",
     "output_type": "stream",
     "text": [
      "A skate boarder at the end of a trick losing his skate board.\n",
      "A counter top with a sink and a red vase.\n"
     ]
    },
    {
     "name": "stderr",
     "output_type": "stream",
     "text": [
      "[pool-1-thread-2] INFO CoreNLP - [/127.0.0.1:42288] API call w/annotators tokenize,pos,lemma,ner,parse,depparse,coref\n",
      "  3%|██▏                                                              | 50/1488 [00:05<02:42,  8.83it/s][pool-1-thread-1] INFO CoreNLP - [/127.0.0.1:42308] API call w/annotators tokenize,pos,lemma,ner,parse,depparse,coref\n",
      "  3%|██▏                                                              | 51/1488 [00:05<02:39,  9.01it/s]"
     ]
    },
    {
     "name": "stdout",
     "output_type": "stream",
     "text": [
      "A yard with a fire hydrant and trees at night.\n",
      "The miniature blue train is behind a picket fence. \n"
     ]
    },
    {
     "name": "stderr",
     "output_type": "stream",
     "text": [
      "[pool-1-thread-5] INFO CoreNLP - [/127.0.0.1:42326] API call w/annotators tokenize,pos,lemma,ner,parse,depparse,coref\n",
      "  3%|██▎                                                              | 52/1488 [00:05<02:44,  8.73it/s][pool-1-thread-4] INFO CoreNLP - [/127.0.0.1:42340] API call w/annotators tokenize,pos,lemma,ner,parse,depparse,coref\n",
      "  4%|██▎                                                              | 53/1488 [00:06<02:41,  8.86it/s]"
     ]
    },
    {
     "name": "stdout",
     "output_type": "stream",
     "text": [
      "A flock of birds standing on top of a lush green field.\n",
      "A girl is kneeling down and packing things in a suitcase\n"
     ]
    },
    {
     "name": "stderr",
     "output_type": "stream",
     "text": [
      "[pool-1-thread-3] INFO CoreNLP - [/127.0.0.1:42364] API call w/annotators tokenize,pos,lemma,ner,parse,depparse,coref\n",
      "  4%|██▎                                                              | 54/1488 [00:06<02:57,  8.10it/s][pool-1-thread-2] INFO CoreNLP - [/127.0.0.1:42376] API call w/annotators tokenize,pos,lemma,ner,parse,depparse,coref\n",
      "  4%|██▍                                                              | 55/1488 [00:06<02:51,  8.34it/s]"
     ]
    },
    {
     "name": "stdout",
     "output_type": "stream",
     "text": [
      "A plate with a slice of pizza sitting next to a pan with a pizza.\n",
      "A bathroom scene with a toilet and a sink.\n"
     ]
    },
    {
     "name": "stderr",
     "output_type": "stream",
     "text": [
      "[pool-1-thread-1] INFO CoreNLP - [/127.0.0.1:42390] API call w/annotators tokenize,pos,lemma,ner,parse,depparse,coref\n",
      "  4%|██▍                                                              | 56/1488 [00:06<02:45,  8.67it/s][pool-1-thread-5] INFO CoreNLP - [/127.0.0.1:42400] API call w/annotators tokenize,pos,lemma,ner,parse,depparse,coref\n"
     ]
    },
    {
     "name": "stdout",
     "output_type": "stream",
     "text": [
      "A stuffed animal sits atop a barbed wire fence.\n",
      "An old locomotive parked beside a building.on display.\n"
     ]
    },
    {
     "name": "stderr",
     "output_type": "stream",
     "text": [
      "[pool-1-thread-4] INFO CoreNLP - [/127.0.0.1:42418] API call w/annotators tokenize,pos,lemma,ner,parse,depparse,coref\n",
      "  4%|██▌                                                              | 58/1488 [00:06<02:34,  9.28it/s][pool-1-thread-3] INFO CoreNLP - [/127.0.0.1:42436] API call w/annotators tokenize,pos,lemma,ner,parse,depparse,coref\n",
      "  4%|██▌                                                              | 59/1488 [00:06<02:33,  9.31it/s]"
     ]
    },
    {
     "name": "stdout",
     "output_type": "stream",
     "text": [
      "a person riding skis on a snowy surface \n",
      "A zebra and a giraffe in an enclosure together.\n"
     ]
    },
    {
     "name": "stderr",
     "output_type": "stream",
     "text": [
      "[pool-1-thread-2] INFO CoreNLP - [/127.0.0.1:42446] API call w/annotators tokenize,pos,lemma,ner,parse,depparse,coref\n",
      "  4%|██▌                                                              | 60/1488 [00:06<02:42,  8.80it/s][pool-1-thread-1] INFO CoreNLP - [/127.0.0.1:42452] API call w/annotators tokenize,pos,lemma,ner,parse,depparse,coref\n",
      "  4%|██▋                                                              | 61/1488 [00:06<02:39,  8.95it/s]"
     ]
    },
    {
     "name": "stdout",
     "output_type": "stream",
     "text": [
      "A parking meter with a set of different colored papers wrapped around it.\n",
      "A bunny sits alone in an empty living room.\n"
     ]
    },
    {
     "name": "stderr",
     "output_type": "stream",
     "text": [
      "[pool-1-thread-5] INFO CoreNLP - [/127.0.0.1:42470] API call w/annotators tokenize,pos,lemma,ner,parse,depparse,coref\n",
      "  4%|██▋                                                              | 62/1488 [00:07<02:41,  8.83it/s][pool-1-thread-4] INFO CoreNLP - [/127.0.0.1:42478] API call w/annotators tokenize,pos,lemma,ner,parse,depparse,coref\n",
      "  4%|██▊                                                              | 63/1488 [00:07<02:51,  8.32it/s]"
     ]
    },
    {
     "name": "stdout",
     "output_type": "stream",
     "text": [
      "a man in a suit holding onto a kite in the park \n",
      "A man in a uniform standing on a motorcycle in front of a crowd.\n"
     ]
    },
    {
     "name": "stderr",
     "output_type": "stream",
     "text": [
      "[pool-1-thread-3] INFO CoreNLP - [/127.0.0.1:42508] API call w/annotators tokenize,pos,lemma,ner,parse,depparse,coref\n",
      "  4%|██▊                                                              | 64/1488 [00:07<02:44,  8.64it/s][pool-1-thread-2] INFO CoreNLP - [/127.0.0.1:42520] API call w/annotators tokenize,pos,lemma,ner,parse,depparse,coref\n",
      "  4%|██▊                                                              | 65/1488 [00:07<02:41,  8.81it/s]"
     ]
    },
    {
     "name": "stdout",
     "output_type": "stream",
     "text": [
      "closeup of an aquarium full of water and fish\n",
      "THERE IS A WOMAN THAT IS HOLDNG A TENNIS RACKET \n"
     ]
    },
    {
     "name": "stderr",
     "output_type": "stream",
     "text": [
      "[pool-1-thread-1] INFO CoreNLP - [/127.0.0.1:42540] API call w/annotators tokenize,pos,lemma,ner,parse,depparse,coref\n",
      "  4%|██▉                                                              | 66/1488 [00:07<02:36,  9.11it/s][pool-1-thread-5] INFO CoreNLP - [/127.0.0.1:42558] API call w/annotators tokenize,pos,lemma,ner,parse,depparse,coref\n",
      "  5%|██▉                                                              | 67/1488 [00:07<02:33,  9.28it/s]"
     ]
    },
    {
     "name": "stdout",
     "output_type": "stream",
     "text": [
      "Three smiling people are posing for the camera.\n",
      "A baseball player swinging a bat at a pitch\n"
     ]
    },
    {
     "name": "stderr",
     "output_type": "stream",
     "text": [
      "[pool-1-thread-4] INFO CoreNLP - [/127.0.0.1:42574] API call w/annotators tokenize,pos,lemma,ner,parse,depparse,coref\n",
      "  5%|██▉                                                              | 68/1488 [00:07<02:34,  9.19it/s][pool-1-thread-3] INFO CoreNLP - [/127.0.0.1:42582] API call w/annotators tokenize,pos,lemma,ner,parse,depparse,coref\n",
      "  5%|███                                                              | 69/1488 [00:07<02:37,  9.02it/s]"
     ]
    },
    {
     "name": "stdout",
     "output_type": "stream",
     "text": [
      "A person riding a motorcycle in an abandoned stone building\n",
      "A man stretching his arms holding a frisbee in the woods.\n"
     ]
    },
    {
     "name": "stderr",
     "output_type": "stream",
     "text": [
      "[pool-1-thread-2] INFO CoreNLP - [/127.0.0.1:42612] API call w/annotators tokenize,pos,lemma,ner,parse,depparse,coref\n",
      "[pool-1-thread-1] INFO CoreNLP - [/127.0.0.1:42632] API call w/annotators tokenize,pos,lemma,ner,parse,depparse,coref\n",
      "  5%|███                                                              | 71/1488 [00:08<02:29,  9.51it/s][pool-1-thread-5] INFO CoreNLP - [/127.0.0.1:42642] API call w/annotators tokenize,pos,lemma,ner,parse,depparse,coref\n"
     ]
    },
    {
     "name": "stdout",
     "output_type": "stream",
     "text": [
      "a car parked on a city street \n",
      "a very beautiful motorbike standing besides a red car\n",
      "A man skating in a skate park with another standing nearby.\n"
     ]
    },
    {
     "name": "stderr",
     "output_type": "stream",
     "text": [
      "  5%|███▏                                                             | 72/1488 [00:08<02:32,  9.27it/s][pool-1-thread-4] INFO CoreNLP - [/127.0.0.1:42664] API call w/annotators tokenize,pos,lemma,ner,parse,depparse,coref\n",
      "[pool-1-thread-3] INFO CoreNLP - [/127.0.0.1:42678] API call w/annotators tokenize,pos,lemma,ner,parse,depparse,coref\n",
      "  5%|███▏                                                             | 74/1488 [00:08<02:28,  9.53it/s][pool-1-thread-2] INFO CoreNLP - [/127.0.0.1:42696] API call w/annotators tokenize,pos,lemma,ner,parse,depparse,coref\n"
     ]
    },
    {
     "name": "stdout",
     "output_type": "stream",
     "text": [
      "The person is skiing down the snowy mountains.\n",
      "Large bird stands on tree branch near ocean.\n",
      "Two horse drawn carriages and a person on horseback walking on the beach.\n"
     ]
    },
    {
     "name": "stderr",
     "output_type": "stream",
     "text": [
      "  5%|███▎                                                             | 75/1488 [00:08<02:36,  9.02it/s][pool-1-thread-1] INFO CoreNLP - [/127.0.0.1:42720] API call w/annotators tokenize,pos,lemma,ner,parse,depparse,coref\n",
      "  5%|███▎                                                             | 76/1488 [00:08<02:46,  8.48it/s][pool-1-thread-5] INFO CoreNLP - [/127.0.0.1:42734] API call w/annotators tokenize,pos,lemma,ner,parse,depparse,coref\n"
     ]
    },
    {
     "name": "stdout",
     "output_type": "stream",
     "text": [
      "A man, wearing glasses, holds a pan of food with his ovenmits on. \n",
      "a table covered with banansas and a coconut\n"
     ]
    },
    {
     "name": "stderr",
     "output_type": "stream",
     "text": [
      "[pool-1-thread-4] INFO CoreNLP - [/127.0.0.1:42752] API call w/annotators tokenize,pos,lemma,ner,parse,depparse,coref\n",
      "  5%|███▍                                                             | 78/1488 [00:08<02:56,  7.98it/s][pool-1-thread-3] INFO CoreNLP - [/127.0.0.1:42770] API call w/annotators tokenize,pos,lemma,ner,parse,depparse,coref\n"
     ]
    },
    {
     "name": "stdout",
     "output_type": "stream",
     "text": [
      "A young tyke swings at the ball which is mid air, not far from his baseball bat.\n",
      "THIS IS A STREET SIGN IN A FOREIGN LANGUAGE\n"
     ]
    },
    {
     "name": "stderr",
     "output_type": "stream",
     "text": [
      "  5%|███▍                                                             | 79/1488 [00:09<02:49,  8.33it/s][pool-1-thread-2] INFO CoreNLP - [/127.0.0.1:42784] API call w/annotators tokenize,pos,lemma,ner,parse,depparse,coref\n",
      "  5%|███▍                                                             | 80/1488 [00:09<02:46,  8.44it/s][pool-1-thread-1] INFO CoreNLP - [/127.0.0.1:42794] API call w/annotators tokenize,pos,lemma,ner,parse,depparse,coref\n",
      "  5%|███▌                                                             | 81/1488 [00:09<02:41,  8.69it/s]"
     ]
    },
    {
     "name": "stdout",
     "output_type": "stream",
     "text": [
      "There is a plate with fruits and veggies on it\n",
      "A baseball player starts running after hitting the ball. \n"
     ]
    },
    {
     "name": "stderr",
     "output_type": "stream",
     "text": [
      "[pool-1-thread-5] INFO CoreNLP - [/127.0.0.1:42808] API call w/annotators tokenize,pos,lemma,ner,parse,depparse,coref\n",
      "  6%|███▌                                                             | 82/1488 [00:09<02:38,  8.89it/s][pool-1-thread-4] INFO CoreNLP - [/127.0.0.1:42826] API call w/annotators tokenize,pos,lemma,ner,parse,depparse,coref\n"
     ]
    },
    {
     "name": "stdout",
     "output_type": "stream",
     "text": [
      "Players are watching a baseball game from the sidelines.\n",
      "A knot of sheep are huddled close and looking out of a barbed wire fence with a frost-covered landscape behind them. \n"
     ]
    },
    {
     "name": "stderr",
     "output_type": "stream",
     "text": [
      "  6%|███▋                                                             | 83/1488 [00:09<03:18,  7.10it/s][pool-1-thread-3] INFO CoreNLP - [/127.0.0.1:40828] API call w/annotators tokenize,pos,lemma,ner,parse,depparse,coref\n",
      "  6%|███▋                                                             | 84/1488 [00:09<03:03,  7.63it/s][pool-1-thread-2] INFO CoreNLP - [/127.0.0.1:40842] API call w/annotators tokenize,pos,lemma,ner,parse,depparse,coref\n",
      "  6%|███▋                                                             | 85/1488 [00:09<03:02,  7.68it/s]"
     ]
    },
    {
     "name": "stdout",
     "output_type": "stream",
     "text": [
      "A single giraffe that is grazing on some grass.\n",
      "A brown chair sitting in front of a TV in a living room.\n"
     ]
    },
    {
     "name": "stderr",
     "output_type": "stream",
     "text": [
      "[pool-1-thread-1] INFO CoreNLP - [/127.0.0.1:40872] API call w/annotators tokenize,pos,lemma,ner,parse,depparse,coref\n",
      "  6%|███▊                                                             | 86/1488 [00:09<02:52,  8.13it/s][pool-1-thread-5] INFO CoreNLP - [/127.0.0.1:40880] API call w/annotators tokenize,pos,lemma,ner,parse,depparse,coref\n",
      "  6%|███▊                                                             | 87/1488 [00:10<03:08,  7.45it/s]"
     ]
    },
    {
     "name": "stdout",
     "output_type": "stream",
     "text": [
      "A cat in a field looking inside a barn.\n",
      "A fire hydrants and some potted plants sitting on the side of a road where cars are driving.\n"
     ]
    },
    {
     "name": "stderr",
     "output_type": "stream",
     "text": [
      "[pool-1-thread-4] INFO CoreNLP - [/127.0.0.1:40888] API call w/annotators tokenize,pos,lemma,ner,parse,depparse,coref\n",
      "  6%|███▊                                                             | 88/1488 [00:10<03:00,  7.76it/s][pool-1-thread-3] INFO CoreNLP - [/127.0.0.1:40898] API call w/annotators tokenize,pos,lemma,ner,parse,depparse,coref\n",
      "  6%|███▉                                                             | 89/1488 [00:10<02:52,  8.13it/s]"
     ]
    },
    {
     "name": "stdout",
     "output_type": "stream",
     "text": [
      "A large yellow clock tower sitting next to high rise buildings.\n",
      "Two dogs on a blanket sharing a banana toy.\n"
     ]
    },
    {
     "name": "stderr",
     "output_type": "stream",
     "text": [
      "[pool-1-thread-2] INFO CoreNLP - [/127.0.0.1:40908] API call w/annotators tokenize,pos,lemma,ner,parse,depparse,coref\n",
      "  6%|███▉                                                             | 90/1488 [00:10<02:58,  7.83it/s][pool-1-thread-1] INFO CoreNLP - [/127.0.0.1:40924] API call w/annotators tokenize,pos,lemma,ner,parse,depparse,coref\n"
     ]
    },
    {
     "name": "stdout",
     "output_type": "stream",
     "text": [
      "Two dogs with a plant holder that has a pot full of flowers.\n",
      "many different sinks near one another with mirrors\n"
     ]
    },
    {
     "name": "stderr",
     "output_type": "stream",
     "text": [
      "[pool-1-thread-5] INFO CoreNLP - [/127.0.0.1:40944] API call w/annotators tokenize,pos,lemma,ner,parse,depparse,coref\n",
      "  6%|████                                                             | 92/1488 [00:10<02:57,  7.85it/s][pool-1-thread-4] INFO CoreNLP - [/127.0.0.1:40950] API call w/annotators tokenize,pos,lemma,ner,parse,depparse,coref\n"
     ]
    },
    {
     "name": "stdout",
     "output_type": "stream",
     "text": [
      "A sandwich is on a plate with a spoon and bowl of soup near a glass.\n",
      "A person that is sitting on a bench.\n"
     ]
    },
    {
     "name": "stderr",
     "output_type": "stream",
     "text": [
      "[pool-1-thread-3] INFO CoreNLP - [/127.0.0.1:40962] API call w/annotators tokenize,pos,lemma,ner,parse,depparse,coref\n",
      "  6%|████                                                             | 94/1488 [00:10<02:48,  8.29it/s][pool-1-thread-2] INFO CoreNLP - [/127.0.0.1:40978] API call w/annotators tokenize,pos,lemma,ner,parse,depparse,coref\n",
      "  6%|████▏                                                            | 95/1488 [00:10<02:41,  8.60it/s]"
     ]
    },
    {
     "name": "stdout",
     "output_type": "stream",
     "text": [
      "A cat laying down on a door mat near a concrete wall.\n",
      "No image is displaying for this image description.\n"
     ]
    },
    {
     "name": "stderr",
     "output_type": "stream",
     "text": [
      "[pool-1-thread-1] INFO CoreNLP - [/127.0.0.1:41006] API call w/annotators tokenize,pos,lemma,ner,parse,depparse,coref\n",
      "  6%|████▏                                                            | 96/1488 [00:11<02:40,  8.67it/s][pool-1-thread-5] INFO CoreNLP - [/127.0.0.1:41026] API call w/annotators tokenize,pos,lemma,ner,parse,depparse,coref\n",
      "  7%|████▏                                                            | 97/1488 [00:11<02:36,  8.87it/s]"
     ]
    },
    {
     "name": "stdout",
     "output_type": "stream",
     "text": [
      "A bathroom with lighting and a toilet and other things.\n",
      "A teddy bear is sitting slumped in a chair.\n"
     ]
    },
    {
     "name": "stderr",
     "output_type": "stream",
     "text": [
      "[pool-1-thread-4] INFO CoreNLP - [/127.0.0.1:41044] API call w/annotators tokenize,pos,lemma,ner,parse,depparse,coref\n",
      "  7%|████▎                                                            | 98/1488 [00:11<02:43,  8.52it/s][pool-1-thread-3] INFO CoreNLP - [/127.0.0.1:41066] API call w/annotators tokenize,pos,lemma,ner,parse,depparse,coref\n",
      "  7%|████▎                                                            | 99/1488 [00:11<02:39,  8.68it/s]"
     ]
    },
    {
     "name": "stdout",
     "output_type": "stream",
     "text": [
      "A group of people riding skis on top of a snow covered slope.\n",
      "A streetlight is on a pole next to a wall.\n"
     ]
    },
    {
     "name": "stderr",
     "output_type": "stream",
     "text": [
      "[pool-1-thread-2] INFO CoreNLP - [/127.0.0.1:41088] API call w/annotators tokenize,pos,lemma,ner,parse,depparse,coref\n",
      "  7%|████▎                                                           | 100/1488 [00:11<02:39,  8.70it/s][pool-1-thread-1] INFO CoreNLP - [/127.0.0.1:41110] API call w/annotators tokenize,pos,lemma,ner,parse,depparse,coref\n",
      "  7%|████▎                                                           | 101/1488 [00:11<02:34,  8.95it/s]"
     ]
    },
    {
     "name": "stdout",
     "output_type": "stream",
     "text": [
      "a man sits next to a child as he uses a computer \n",
      "A group of parked motorcycles at a parking lot\n"
     ]
    },
    {
     "name": "stderr",
     "output_type": "stream",
     "text": [
      "[pool-1-thread-5] INFO CoreNLP - [/127.0.0.1:41130] API call w/annotators tokenize,pos,lemma,ner,parse,depparse,coref\n",
      "  7%|████▍                                                           | 102/1488 [00:11<02:40,  8.65it/s][pool-1-thread-4] INFO CoreNLP - [/127.0.0.1:41138] API call w/annotators tokenize,pos,lemma,ner,parse,depparse,coref\n",
      "  7%|████▍                                                           | 103/1488 [00:11<02:43,  8.49it/s]"
     ]
    },
    {
     "name": "stdout",
     "output_type": "stream",
     "text": [
      "A boy in a shirt and tie smiling at the camera.\n",
      "A black cat laying on top of a suitcase in a room. \n"
     ]
    },
    {
     "name": "stderr",
     "output_type": "stream",
     "text": [
      "[pool-1-thread-3] INFO CoreNLP - [/127.0.0.1:41158] API call w/annotators tokenize,pos,lemma,ner,parse,depparse,coref\n",
      "  7%|████▍                                                           | 104/1488 [00:12<02:37,  8.76it/s][pool-1-thread-2] INFO CoreNLP - [/127.0.0.1:41176] API call w/annotators tokenize,pos,lemma,ner,parse,depparse,coref\n",
      "  7%|████▌                                                           | 105/1488 [00:12<02:36,  8.82it/s]"
     ]
    },
    {
     "name": "stdout",
     "output_type": "stream",
     "text": [
      "A bench sitting in a park next to stones.\n",
      "A disc jockey and a man singing into a microphone. \n"
     ]
    },
    {
     "name": "stderr",
     "output_type": "stream",
     "text": [
      "[pool-1-thread-1] INFO CoreNLP - [/127.0.0.1:41196] API call w/annotators tokenize,pos,lemma,ner,parse,depparse,coref\n",
      "  7%|████▌                                                           | 106/1488 [00:12<02:37,  8.78it/s][pool-1-thread-5] INFO CoreNLP - [/127.0.0.1:41212] API call w/annotators tokenize,pos,lemma,ner,parse,depparse,coref\n",
      "  7%|████▌                                                           | 107/1488 [00:12<02:35,  8.91it/s]"
     ]
    },
    {
     "name": "stdout",
     "output_type": "stream",
     "text": [
      "A person at a restaurant taking a picture of a pizza. \n",
      "desktop picture with laptop and food container full of food\n"
     ]
    },
    {
     "name": "stderr",
     "output_type": "stream",
     "text": [
      "[pool-1-thread-4] INFO CoreNLP - [/127.0.0.1:41230] API call w/annotators tokenize,pos,lemma,ner,parse,depparse,coref\n",
      "  7%|████▋                                                           | 108/1488 [00:12<02:30,  9.18it/s][pool-1-thread-3] INFO CoreNLP - [/127.0.0.1:41248] API call w/annotators tokenize,pos,lemma,ner,parse,depparse,coref\n",
      "[pool-1-thread-2] INFO CoreNLP - [/127.0.0.1:41256] API call w/annotators tokenize,pos,lemma,ner,parse,depparse,coref\n"
     ]
    },
    {
     "name": "stdout",
     "output_type": "stream",
     "text": [
      "A large truck and a group of people.\n",
      "A park bench up against a brick wall.\n",
      "The motorcycles are parked in the parking lot. \n"
     ]
    },
    {
     "name": "stderr",
     "output_type": "stream",
     "text": [
      "  7%|████▋                                                           | 110/1488 [00:12<02:23,  9.59it/s][pool-1-thread-1] INFO CoreNLP - [/127.0.0.1:41280] API call w/annotators tokenize,pos,lemma,ner,parse,depparse,coref\n",
      "  7%|████▊                                                           | 111/1488 [00:12<02:30,  9.14it/s][pool-1-thread-5] INFO CoreNLP - [/127.0.0.1:41296] API call w/annotators tokenize,pos,lemma,ner,parse,depparse,coref\n",
      "  8%|████▊                                                           | 112/1488 [00:12<02:33,  8.94it/s]"
     ]
    },
    {
     "name": "stdout",
     "output_type": "stream",
     "text": [
      "a baseball player getting ready to throw a ball in front of a crowd \n",
      "A woman bending over in a living room to pet her dog.\n"
     ]
    },
    {
     "name": "stderr",
     "output_type": "stream",
     "text": [
      "[pool-1-thread-4] INFO CoreNLP - [/127.0.0.1:41310] API call w/annotators tokenize,pos,lemma,ner,parse,depparse,coref\n",
      "  8%|████▊                                                           | 113/1488 [00:13<02:34,  8.89it/s][pool-1-thread-3] INFO CoreNLP - [/127.0.0.1:41320] API call w/annotators tokenize,pos,lemma,ner,parse,depparse,coref\n",
      "  8%|████▉                                                           | 114/1488 [00:13<02:35,  8.84it/s]"
     ]
    },
    {
     "name": "stdout",
     "output_type": "stream",
     "text": [
      "Two beautiful young women baking a turkey in a pan..\n",
      "A laptop and some food on a dining table.\n"
     ]
    },
    {
     "name": "stderr",
     "output_type": "stream",
     "text": [
      "[pool-1-thread-2] INFO CoreNLP - [/127.0.0.1:41338] API call w/annotators tokenize,pos,lemma,ner,parse,depparse,coref\n",
      "  8%|████▉                                                           | 115/1488 [00:13<02:31,  9.08it/s][pool-1-thread-1] INFO CoreNLP - [/127.0.0.1:41368] API call w/annotators tokenize,pos,lemma,ner,parse,depparse,coref\n",
      "  8%|████▉                                                           | 116/1488 [00:13<02:31,  9.05it/s]"
     ]
    },
    {
     "name": "stdout",
     "output_type": "stream",
     "text": [
      "a teddy bear that is sitting in a seat\n",
      "A plate filled with pasta and vegetables on a table.\n"
     ]
    },
    {
     "name": "stderr",
     "output_type": "stream",
     "text": [
      "[pool-1-thread-5] INFO CoreNLP - [/127.0.0.1:41388] API call w/annotators tokenize,pos,lemma,ner,parse,depparse,coref\n",
      "  8%|█████                                                           | 117/1488 [00:13<02:34,  8.88it/s][pool-1-thread-4] INFO CoreNLP - [/127.0.0.1:41418] API call w/annotators tokenize,pos,lemma,ner,parse,depparse,coref\n",
      "  8%|█████                                                           | 118/1488 [00:13<02:29,  9.15it/s]"
     ]
    },
    {
     "name": "stdout",
     "output_type": "stream",
     "text": [
      "The steak and broccoli is next to a bowl of soup. \n",
      "A group of giraffe standing by a tree.\n"
     ]
    },
    {
     "name": "stderr",
     "output_type": "stream",
     "text": [
      "[pool-1-thread-3] INFO CoreNLP - [/127.0.0.1:41440] API call w/annotators tokenize,pos,lemma,ner,parse,depparse,coref\n",
      "  8%|█████                                                           | 119/1488 [00:13<02:34,  8.84it/s][pool-1-thread-2] INFO CoreNLP - [/127.0.0.1:41456] API call w/annotators tokenize,pos,lemma,ner,parse,depparse,coref\n",
      "  8%|█████▏                                                          | 120/1488 [00:13<02:35,  8.82it/s]"
     ]
    },
    {
     "name": "stdout",
     "output_type": "stream",
     "text": [
      "A collection of vases and a potted plant sit on a table.\n",
      "A group of elephants walking around and grazing in a field.\n"
     ]
    },
    {
     "name": "stderr",
     "output_type": "stream",
     "text": [
      "[pool-1-thread-1] INFO CoreNLP - [/127.0.0.1:41474] API call w/annotators tokenize,pos,lemma,ner,parse,depparse,coref\n",
      "  8%|█████▏                                                          | 121/1488 [00:13<02:33,  8.90it/s][pool-1-thread-5] INFO CoreNLP - [/127.0.0.1:41496] API call w/annotators tokenize,pos,lemma,ner,parse,depparse,coref\n",
      "  8%|█████▏                                                          | 122/1488 [00:14<02:31,  9.00it/s]"
     ]
    },
    {
     "name": "stdout",
     "output_type": "stream",
     "text": [
      "A man holding onto a snowboard while wearing snow glasses.\n",
      "a man and a woman are standing beside a red motorcycle\n"
     ]
    },
    {
     "name": "stderr",
     "output_type": "stream",
     "text": [
      "[pool-1-thread-4] INFO CoreNLP - [/127.0.0.1:41524] API call w/annotators tokenize,pos,lemma,ner,parse,depparse,coref\n",
      "[pool-1-thread-3] INFO CoreNLP - [/127.0.0.1:41552] API call w/annotators tokenize,pos,lemma,ner,parse,depparse,coref\n",
      "  8%|█████▎                                                          | 124/1488 [00:14<02:30,  9.07it/s]"
     ]
    },
    {
     "name": "stdout",
     "output_type": "stream",
     "text": [
      "A white bathroom looking at the cabinet sink\n",
      "A cat is sleeping on top of a tv showing a concert.\n"
     ]
    },
    {
     "name": "stderr",
     "output_type": "stream",
     "text": [
      "[pool-1-thread-2] INFO CoreNLP - [/127.0.0.1:41568] API call w/annotators tokenize,pos,lemma,ner,parse,depparse,coref\n",
      "  8%|█████▍                                                          | 125/1488 [00:14<02:30,  9.06it/s][pool-1-thread-1] INFO CoreNLP - [/127.0.0.1:41594] API call w/annotators tokenize,pos,lemma,ner,parse,depparse,coref\n",
      "  8%|█████▍                                                          | 126/1488 [00:14<02:28,  9.16it/s]"
     ]
    },
    {
     "name": "stdout",
     "output_type": "stream",
     "text": [
      "The grey cat is lying down in a bathroom sink.\n",
      "A small airplane sitting next to an airport runway.\n"
     ]
    },
    {
     "name": "stderr",
     "output_type": "stream",
     "text": [
      "[pool-1-thread-5] INFO CoreNLP - [/127.0.0.1:41610] API call w/annotators tokenize,pos,lemma,ner,parse,depparse,coref\n",
      "  9%|█████▍                                                          | 127/1488 [00:14<02:31,  8.98it/s][pool-1-thread-4] INFO CoreNLP - [/127.0.0.1:41638] API call w/annotators tokenize,pos,lemma,ner,parse,depparse,coref\n",
      "  9%|█████▌                                                          | 128/1488 [00:14<02:27,  9.20it/s]"
     ]
    },
    {
     "name": "stdout",
     "output_type": "stream",
     "text": [
      "A clock sits on a post in a small town.\n",
      "a parked bike sits in front of a statue \n"
     ]
    },
    {
     "name": "stderr",
     "output_type": "stream",
     "text": [
      "[pool-1-thread-3] INFO CoreNLP - [/127.0.0.1:41664] API call w/annotators tokenize,pos,lemma,ner,parse,depparse,coref\n",
      "  9%|█████▌                                                          | 129/1488 [00:14<02:26,  9.27it/s][pool-1-thread-2] INFO CoreNLP - [/127.0.0.1:41674] API call w/annotators tokenize,pos,lemma,ner,parse,depparse,coref\n",
      "  9%|█████▌                                                          | 130/1488 [00:14<02:28,  9.13it/s]"
     ]
    },
    {
     "name": "stdout",
     "output_type": "stream",
     "text": [
      "A woman stands outside a house with two suitcases. \n",
      "A woman with a bag sampling oranges from a basket.\n"
     ]
    },
    {
     "name": "stderr",
     "output_type": "stream",
     "text": [
      "[pool-1-thread-1] INFO CoreNLP - [/127.0.0.1:41694] API call w/annotators tokenize,pos,lemma,ner,parse,depparse,coref\n",
      "  9%|█████▋                                                          | 131/1488 [00:15<02:31,  8.93it/s][pool-1-thread-5] INFO CoreNLP - [/127.0.0.1:41716] API call w/annotators tokenize,pos,lemma,ner,parse,depparse,coref\n",
      "  9%|█████▋                                                          | 132/1488 [00:15<02:31,  8.96it/s]"
     ]
    },
    {
     "name": "stdout",
     "output_type": "stream",
     "text": [
      "A very big room with a big bed and some windows.\n",
      "man on surf board riding a wave of green and white\n"
     ]
    },
    {
     "name": "stderr",
     "output_type": "stream",
     "text": [
      "[pool-1-thread-4] INFO CoreNLP - [/127.0.0.1:41742] API call w/annotators tokenize,pos,lemma,ner,parse,depparse,coref\n",
      "  9%|█████▋                                                          | 133/1488 [00:15<02:27,  9.22it/s][pool-1-thread-3] INFO CoreNLP - [/127.0.0.1:41762] API call w/annotators tokenize,pos,lemma,ner,parse,depparse,coref\n",
      "  9%|█████▊                                                          | 134/1488 [00:15<02:34,  8.74it/s]"
     ]
    },
    {
     "name": "stdout",
     "output_type": "stream",
     "text": [
      "A white toilet that has its lid up.\n",
      "there is a german Shepard that is sitting on the back of the boat\n"
     ]
    },
    {
     "name": "stderr",
     "output_type": "stream",
     "text": [
      "[pool-1-thread-2] INFO CoreNLP - [/127.0.0.1:41794] API call w/annotators tokenize,pos,lemma,ner,parse,depparse,coref\n",
      "  9%|█████▊                                                          | 135/1488 [00:15<02:30,  9.01it/s][pool-1-thread-1] INFO CoreNLP - [/127.0.0.1:41812] API call w/annotators tokenize,pos,lemma,ner,parse,depparse,coref\n",
      "  9%|█████▊                                                          | 136/1488 [00:15<02:28,  9.13it/s]"
     ]
    },
    {
     "name": "stdout",
     "output_type": "stream",
     "text": [
      "Stuffed bear laying face down on pillows on bed\n",
      "Blow drier and brush sitting on top of newspaper.\n"
     ]
    },
    {
     "name": "stderr",
     "output_type": "stream",
     "text": [
      "[pool-1-thread-5] INFO CoreNLP - [/127.0.0.1:41840] API call w/annotators tokenize,pos,lemma,ner,parse,depparse,coref\n",
      "  9%|█████▉                                                          | 137/1488 [00:15<02:28,  9.12it/s][pool-1-thread-4] INFO CoreNLP - [/127.0.0.1:41856] API call w/annotators tokenize,pos,lemma,ner,parse,depparse,coref\n",
      "  9%|█████▉                                                          | 138/1488 [00:15<02:26,  9.22it/s]"
     ]
    },
    {
     "name": "stdout",
     "output_type": "stream",
     "text": [
      "A open fridge that has different items inside of it.\n",
      "The blue baseball cap is sitting on a table. \n"
     ]
    },
    {
     "name": "stderr",
     "output_type": "stream",
     "text": [
      "[pool-1-thread-3] INFO CoreNLP - [/127.0.0.1:41874] API call w/annotators tokenize,pos,lemma,ner,parse,depparse,coref\n",
      "  9%|█████▉                                                          | 139/1488 [00:15<02:25,  9.26it/s][pool-1-thread-2] INFO CoreNLP - [/127.0.0.1:41888] API call w/annotators tokenize,pos,lemma,ner,parse,depparse,coref\n",
      "  9%|██████                                                          | 140/1488 [00:15<02:23,  9.39it/s]"
     ]
    },
    {
     "name": "stdout",
     "output_type": "stream",
     "text": [
      "A man holding holding a giant remote control.\n",
      "A bunch of doughnuts sitting in a basket.\n"
     ]
    },
    {
     "name": "stderr",
     "output_type": "stream",
     "text": [
      "[pool-1-thread-1] INFO CoreNLP - [/127.0.0.1:41916] API call w/annotators tokenize,pos,lemma,ner,parse,depparse,coref\n",
      "  9%|██████                                                          | 141/1488 [00:16<02:21,  9.53it/s][pool-1-thread-5] INFO CoreNLP - [/127.0.0.1:41942] API call w/annotators tokenize,pos,lemma,ner,parse,depparse,coref\n",
      " 10%|██████                                                          | 142/1488 [00:16<02:19,  9.62it/s]"
     ]
    },
    {
     "name": "stdout",
     "output_type": "stream",
     "text": [
      "Some cute elephants gathered together by the water.\n",
      "A red and green handicapped bus is parked.\n"
     ]
    },
    {
     "name": "stderr",
     "output_type": "stream",
     "text": [
      "[pool-1-thread-4] INFO CoreNLP - [/127.0.0.1:41954] API call w/annotators tokenize,pos,lemma,ner,parse,depparse,coref\n",
      " 10%|██████▏                                                         | 143/1488 [00:16<02:26,  9.21it/s][pool-1-thread-3] INFO CoreNLP - [/127.0.0.1:41968] API call w/annotators tokenize,pos,lemma,ner,parse,depparse,coref\n",
      " 10%|██████▏                                                         | 144/1488 [00:16<02:24,  9.27it/s]"
     ]
    },
    {
     "name": "stdout",
     "output_type": "stream",
     "text": [
      "A dog's head pokes over the foot board of a bed.\n",
      "A dog sleeps on the ground in someones bedroom.\n"
     ]
    },
    {
     "name": "stderr",
     "output_type": "stream",
     "text": [
      "[pool-1-thread-2] INFO CoreNLP - [/127.0.0.1:41972] API call w/annotators tokenize,pos,lemma,ner,parse,depparse,coref\n",
      " 10%|██████▏                                                         | 145/1488 [00:16<02:24,  9.31it/s][pool-1-thread-1] INFO CoreNLP - [/127.0.0.1:41994] API call w/annotators tokenize,pos,lemma,ner,parse,depparse,coref\n",
      " 10%|██████▎                                                         | 146/1488 [00:16<02:24,  9.31it/s]"
     ]
    },
    {
     "name": "stdout",
     "output_type": "stream",
     "text": [
      "A guy on a surf board riding a wave.\n",
      "There are several horses pulling wagons with people in them  \n"
     ]
    },
    {
     "name": "stderr",
     "output_type": "stream",
     "text": [
      "[pool-1-thread-5] INFO CoreNLP - [/127.0.0.1:42020] API call w/annotators tokenize,pos,lemma,ner,parse,depparse,coref\n",
      " 10%|██████▎                                                         | 147/1488 [00:16<02:22,  9.39it/s][pool-1-thread-4] INFO CoreNLP - [/127.0.0.1:42036] API call w/annotators tokenize,pos,lemma,ner,parse,depparse,coref\n",
      " 10%|██████▎                                                         | 148/1488 [00:16<02:31,  8.87it/s]"
     ]
    },
    {
     "name": "stdout",
     "output_type": "stream",
     "text": [
      "A view of a wet day from indoors.\n",
      "A living room filled with furniture both in the day and the night.\n"
     ]
    },
    {
     "name": "stderr",
     "output_type": "stream",
     "text": [
      "[pool-1-thread-3] INFO CoreNLP - [/127.0.0.1:42046] API call w/annotators tokenize,pos,lemma,ner,parse,depparse,coref\n",
      " 10%|██████▍                                                         | 149/1488 [00:16<02:32,  8.77it/s][pool-1-thread-2] INFO CoreNLP - [/127.0.0.1:42076] API call w/annotators tokenize,pos,lemma,ner,parse,depparse,coref\n",
      " 10%|██████▍                                                         | 150/1488 [00:17<02:31,  8.83it/s]"
     ]
    },
    {
     "name": "stdout",
     "output_type": "stream",
     "text": [
      "A cat lying a top on the desk on a laptop. \n",
      "a man is posing in front of a wooden closet door\n"
     ]
    },
    {
     "name": "stderr",
     "output_type": "stream",
     "text": [
      "[pool-1-thread-1] INFO CoreNLP - [/127.0.0.1:42098] API call w/annotators tokenize,pos,lemma,ner,parse,depparse,coref\n",
      " 10%|██████▍                                                         | 151/1488 [00:17<02:33,  8.73it/s][pool-1-thread-5] INFO CoreNLP - [/127.0.0.1:42116] API call w/annotators tokenize,pos,lemma,ner,parse,depparse,coref\n",
      " 10%|██████▌                                                         | 152/1488 [00:17<02:34,  8.63it/s]"
     ]
    },
    {
     "name": "stdout",
     "output_type": "stream",
     "text": [
      "A woman in a yellow jacket standing against a concrete wall.\n",
      "A man and a smiling lady posing together with name tags.\n"
     ]
    },
    {
     "name": "stderr",
     "output_type": "stream",
     "text": [
      "[pool-1-thread-4] INFO CoreNLP - [/127.0.0.1:42130] API call w/annotators tokenize,pos,lemma,ner,parse,depparse,coref\n",
      " 10%|██████▌                                                         | 153/1488 [00:17<02:32,  8.78it/s][pool-1-thread-3] INFO CoreNLP - [/127.0.0.1:42152] API call w/annotators tokenize,pos,lemma,ner,parse,depparse,coref\n",
      " 10%|██████▌                                                         | 154/1488 [00:17<02:29,  8.92it/s]"
     ]
    },
    {
     "name": "stdout",
     "output_type": "stream",
     "text": [
      "A kitchen area with toilet and various cleaning appliances.\n",
      "A table topped with bags of luggage and purses.\n"
     ]
    },
    {
     "name": "stderr",
     "output_type": "stream",
     "text": [
      "[pool-1-thread-2] INFO CoreNLP - [/127.0.0.1:42172] API call w/annotators tokenize,pos,lemma,ner,parse,depparse,coref\n",
      " 10%|██████▋                                                         | 155/1488 [00:17<02:39,  8.36it/s][pool-1-thread-1] INFO CoreNLP - [/127.0.0.1:42192] API call w/annotators tokenize,pos,lemma,ner,parse,depparse,coref\n",
      " 10%|██████▋                                                         | 156/1488 [00:17<02:36,  8.53it/s]"
     ]
    },
    {
     "name": "stdout",
     "output_type": "stream",
     "text": [
      "A large panda bear with its mouth open sitting on top of some logs.\n",
      "A bunch of very cute cows in a fenced area.\n"
     ]
    },
    {
     "name": "stderr",
     "output_type": "stream",
     "text": [
      "[pool-1-thread-5] INFO CoreNLP - [/127.0.0.1:42218] API call w/annotators tokenize,pos,lemma,ner,parse,depparse,coref\n",
      "[pool-1-thread-4] INFO CoreNLP - [/127.0.0.1:42248] API call w/annotators tokenize,pos,lemma,ner,parse,depparse,coref\n",
      " 11%|██████▊                                                         | 158/1488 [00:17<02:24,  9.18it/s][pool-1-thread-3] INFO CoreNLP - [/127.0.0.1:42272] API call w/annotators tokenize,pos,lemma,ner,parse,depparse,coref\n"
     ]
    },
    {
     "name": "stdout",
     "output_type": "stream",
     "text": [
      "People and cars are passing by this street.\n",
      "a tennis player swinging at the tennis ball\n",
      "A person in an orange jacket skiing down a trail.\n"
     ]
    },
    {
     "name": "stderr",
     "output_type": "stream",
     "text": [
      " 11%|██████▊                                                         | 159/1488 [00:18<02:26,  9.09it/s][pool-1-thread-2] INFO CoreNLP - [/127.0.0.1:42302] API call w/annotators tokenize,pos,lemma,ner,parse,depparse,coref\n",
      " 11%|██████▉                                                         | 160/1488 [00:18<02:24,  9.16it/s][pool-1-thread-1] INFO CoreNLP - [/127.0.0.1:42324] API call w/annotators tokenize,pos,lemma,ner,parse,depparse,coref\n",
      " 11%|██████▉                                                         | 161/1488 [00:18<02:24,  9.21it/s]"
     ]
    },
    {
     "name": "stdout",
     "output_type": "stream",
     "text": [
      "A guy playing frisbee at the beach at sunset.\n",
      "A man is petting one of the cows outside. \n"
     ]
    },
    {
     "name": "stderr",
     "output_type": "stream",
     "text": [
      "[pool-1-thread-5] INFO CoreNLP - [/127.0.0.1:42340] API call w/annotators tokenize,pos,lemma,ner,parse,depparse,coref\n",
      " 11%|██████▉                                                         | 162/1488 [00:18<02:26,  9.05it/s][pool-1-thread-4] INFO CoreNLP - [/127.0.0.1:42346] API call w/annotators tokenize,pos,lemma,ner,parse,depparse,coref\n",
      " 11%|███████                                                         | 163/1488 [00:18<02:32,  8.69it/s]"
     ]
    },
    {
     "name": "stdout",
     "output_type": "stream",
     "text": [
      "A close-up of a fighter jet in the sky.\n",
      "A view of a city sidewalk, building, and a stop light.\n"
     ]
    },
    {
     "name": "stderr",
     "output_type": "stream",
     "text": [
      "[pool-1-thread-3] INFO CoreNLP - [/127.0.0.1:42378] API call w/annotators tokenize,pos,lemma,ner,parse,depparse,coref\n",
      " 11%|███████                                                         | 164/1488 [00:18<02:30,  8.79it/s][pool-1-thread-2] INFO CoreNLP - [/127.0.0.1:42386] API call w/annotators tokenize,pos,lemma,ner,parse,depparse,coref\n",
      " 11%|███████                                                         | 165/1488 [00:18<02:29,  8.87it/s]"
     ]
    },
    {
     "name": "stdout",
     "output_type": "stream",
     "text": [
      "A dog is watching a little boy on TV.\n",
      "there is a cow standing in the water by a boat\n"
     ]
    },
    {
     "name": "stderr",
     "output_type": "stream",
     "text": [
      "[pool-1-thread-1] INFO CoreNLP - [/127.0.0.1:42402] API call w/annotators tokenize,pos,lemma,ner,parse,depparse,coref\n",
      " 11%|███████▏                                                        | 166/1488 [00:18<02:31,  8.73it/s][pool-1-thread-5] INFO CoreNLP - [/127.0.0.1:42412] API call w/annotators tokenize,pos,lemma,ner,parse,depparse,coref\n",
      " 11%|███████▏                                                        | 167/1488 [00:19<02:34,  8.55it/s]"
     ]
    },
    {
     "name": "stdout",
     "output_type": "stream",
     "text": [
      "A person is trying to climb on top of an elephant.\n",
      "a close up of a horses face while it looks at the grass \n"
     ]
    },
    {
     "name": "stderr",
     "output_type": "stream",
     "text": [
      "[pool-1-thread-4] INFO CoreNLP - [/127.0.0.1:42432] API call w/annotators tokenize,pos,lemma,ner,parse,depparse,coref\n",
      " 11%|███████▏                                                        | 168/1488 [00:19<02:28,  8.90it/s][pool-1-thread-3] INFO CoreNLP - [/127.0.0.1:42456] API call w/annotators tokenize,pos,lemma,ner,parse,depparse,coref\n",
      " 11%|███████▎                                                        | 169/1488 [00:19<02:26,  8.99it/s]"
     ]
    },
    {
     "name": "stdout",
     "output_type": "stream",
     "text": [
      "a little boy that is eating food in bed\n",
      "A beautiful bush of flowers next to a bench.\n"
     ]
    },
    {
     "name": "stderr",
     "output_type": "stream",
     "text": [
      "[pool-1-thread-2] INFO CoreNLP - [/127.0.0.1:42466] API call w/annotators tokenize,pos,lemma,ner,parse,depparse,coref\n",
      " 11%|███████▎                                                        | 170/1488 [00:19<02:22,  9.26it/s][pool-1-thread-1] INFO CoreNLP - [/127.0.0.1:42488] API call w/annotators tokenize,pos,lemma,ner,parse,depparse,coref\n",
      "[pool-1-thread-5] INFO CoreNLP - [/127.0.0.1:44388] API call w/annotators tokenize,pos,lemma,ner,parse,depparse,coref\n"
     ]
    },
    {
     "name": "stdout",
     "output_type": "stream",
     "text": [
      "A white toilet sitting below a bathroom window.\n",
      "Young girls playing soccer on an open field\n",
      "Professional photo ad featuring man wearing shirt and tie.\n"
     ]
    },
    {
     "name": "stderr",
     "output_type": "stream",
     "text": [
      " 12%|███████▍                                                        | 172/1488 [00:19<02:18,  9.48it/s][pool-1-thread-4] INFO CoreNLP - [/127.0.0.1:44406] API call w/annotators tokenize,pos,lemma,ner,parse,depparse,coref\n",
      " 12%|███████▍                                                        | 173/1488 [00:19<02:21,  9.26it/s][pool-1-thread-3] INFO CoreNLP - [/127.0.0.1:44428] API call w/annotators tokenize,pos,lemma,ner,parse,depparse,coref\n",
      " 12%|███████▍                                                        | 174/1488 [00:19<02:19,  9.41it/s]"
     ]
    },
    {
     "name": "stdout",
     "output_type": "stream",
     "text": [
      "A herd of shaggy haired sheep grazing in a field.\n",
      "a brightly colored  bird sitting on a tree branch\n"
     ]
    },
    {
     "name": "stderr",
     "output_type": "stream",
     "text": [
      "[pool-1-thread-2] INFO CoreNLP - [/127.0.0.1:44446] API call w/annotators tokenize,pos,lemma,ner,parse,depparse,coref\n",
      "[pool-1-thread-1] INFO CoreNLP - [/127.0.0.1:44462] API call w/annotators tokenize,pos,lemma,ner,parse,depparse,coref\n",
      " 12%|███████▌                                                        | 176/1488 [00:19<02:18,  9.47it/s]"
     ]
    },
    {
     "name": "stdout",
     "output_type": "stream",
     "text": [
      "A plane is parked in an airport field.\n",
      "A man with a football being chased by another man.\n"
     ]
    },
    {
     "name": "stderr",
     "output_type": "stream",
     "text": [
      "[pool-1-thread-5] INFO CoreNLP - [/127.0.0.1:44482] API call w/annotators tokenize,pos,lemma,ner,parse,depparse,coref\n",
      " 12%|███████▌                                                        | 177/1488 [00:20<02:17,  9.53it/s][pool-1-thread-4] INFO CoreNLP - [/127.0.0.1:44504] API call w/annotators tokenize,pos,lemma,ner,parse,depparse,coref\n",
      " 12%|███████▋                                                        | 178/1488 [00:20<02:18,  9.49it/s]"
     ]
    },
    {
     "name": "stdout",
     "output_type": "stream",
     "text": [
      "The dressed up stuffed bears are in the window.\n",
      "there are four aluminum canoes sitting in the water\n"
     ]
    },
    {
     "name": "stderr",
     "output_type": "stream",
     "text": [
      "[pool-1-thread-3] INFO CoreNLP - [/127.0.0.1:44530] API call w/annotators tokenize,pos,lemma,ner,parse,depparse,coref\n",
      " 12%|███████▋                                                        | 179/1488 [00:20<02:17,  9.51it/s][pool-1-thread-2] INFO CoreNLP - [/127.0.0.1:44548] API call w/annotators tokenize,pos,lemma,ner,parse,depparse,coref\n",
      " 12%|███████▋                                                        | 180/1488 [00:20<02:23,  9.10it/s]"
     ]
    },
    {
     "name": "stdout",
     "output_type": "stream",
     "text": [
      "A baseball player holding a bat on a field.\n",
      "a woman wearing skis on a snowy mountain posing for the camera. \n"
     ]
    },
    {
     "name": "stderr",
     "output_type": "stream",
     "text": [
      "[pool-1-thread-1] INFO CoreNLP - [/127.0.0.1:44560] API call w/annotators tokenize,pos,lemma,ner,parse,depparse,coref\n",
      " 12%|███████▊                                                        | 181/1488 [00:20<02:25,  9.00it/s][pool-1-thread-5] INFO CoreNLP - [/127.0.0.1:44586] API call w/annotators tokenize,pos,lemma,ner,parse,depparse,coref\n",
      " 12%|███████▊                                                        | 182/1488 [00:20<02:26,  8.93it/s]"
     ]
    },
    {
     "name": "stdout",
     "output_type": "stream",
     "text": [
      "Two models in cowboy garb strike a pose as hitchhikers.\n",
      "Containers full of vegetables that are sitting next to each other.\n"
     ]
    },
    {
     "name": "stderr",
     "output_type": "stream",
     "text": [
      "[pool-1-thread-4] INFO CoreNLP - [/127.0.0.1:44612] API call w/annotators tokenize,pos,lemma,ner,parse,depparse,coref\n",
      " 12%|███████▊                                                        | 183/1488 [00:20<02:23,  9.08it/s][pool-1-thread-3] INFO CoreNLP - [/127.0.0.1:44624] API call w/annotators tokenize,pos,lemma,ner,parse,depparse,coref\n",
      " 12%|███████▉                                                        | 184/1488 [00:20<02:20,  9.27it/s]"
     ]
    },
    {
     "name": "stdout",
     "output_type": "stream",
     "text": [
      "A fire hydrant next to a low brick wall.\n",
      "a cat and some dogs sunbathing by the water\n"
     ]
    },
    {
     "name": "stderr",
     "output_type": "stream",
     "text": [
      "[pool-1-thread-2] INFO CoreNLP - [/127.0.0.1:44642] API call w/annotators tokenize,pos,lemma,ner,parse,depparse,coref\n",
      " 12%|███████▉                                                        | 185/1488 [00:20<02:23,  9.11it/s][pool-1-thread-1] INFO CoreNLP - [/127.0.0.1:44660] API call w/annotators tokenize,pos,lemma,ner,parse,depparse,coref\n",
      " 12%|████████                                                        | 186/1488 [00:21<02:38,  8.23it/s]"
     ]
    },
    {
     "name": "stdout",
     "output_type": "stream",
     "text": [
      "A cat sitting near a window looking at a squirrel eating. \n",
      "An overhead view of a man about to serve a tennis ball at a tennis court.\n"
     ]
    },
    {
     "name": "stderr",
     "output_type": "stream",
     "text": [
      "[pool-1-thread-5] INFO CoreNLP - [/127.0.0.1:44684] API call w/annotators tokenize,pos,lemma,ner,parse,depparse,coref\n",
      " 13%|████████                                                        | 187/1488 [00:21<02:32,  8.54it/s][pool-1-thread-4] INFO CoreNLP - [/127.0.0.1:44700] API call w/annotators tokenize,pos,lemma,ner,parse,depparse,coref\n"
     ]
    },
    {
     "name": "stdout",
     "output_type": "stream",
     "text": [
      "A park bench overlooks the ocean in the snow.\n",
      "A man is holding a yellow frisbee outside\n"
     ]
    },
    {
     "name": "stderr",
     "output_type": "stream",
     "text": [
      "[pool-1-thread-3] INFO CoreNLP - [/127.0.0.1:44724] API call w/annotators tokenize,pos,lemma,ner,parse,depparse,coref\n",
      " 13%|████████▏                                                       | 189/1488 [00:21<02:25,  8.95it/s][pool-1-thread-2] INFO CoreNLP - [/127.0.0.1:44738] API call w/annotators tokenize,pos,lemma,ner,parse,depparse,coref\n",
      " 13%|████████▏                                                       | 190/1488 [00:21<02:29,  8.71it/s]"
     ]
    },
    {
     "name": "stdout",
     "output_type": "stream",
     "text": [
      "A white bowl filled with soup on top of a plate.\n",
      "A woman is standing over a pan of food on the stove.\n"
     ]
    },
    {
     "name": "stderr",
     "output_type": "stream",
     "text": [
      "[pool-1-thread-1] INFO CoreNLP - [/127.0.0.1:44746] API call w/annotators tokenize,pos,lemma,ner,parse,depparse,coref\n",
      " 13%|████████▏                                                       | 191/1488 [00:21<02:28,  8.72it/s][pool-1-thread-5] INFO CoreNLP - [/127.0.0.1:44766] API call w/annotators tokenize,pos,lemma,ner,parse,depparse,coref\n",
      " 13%|████████▎                                                       | 192/1488 [00:21<02:26,  8.82it/s]"
     ]
    },
    {
     "name": "stdout",
     "output_type": "stream",
     "text": [
      "The man in the helmet is skateboarding on a walkway.\n",
      "A motorcycle parked at the beach next to a rock.\n"
     ]
    },
    {
     "name": "stderr",
     "output_type": "stream",
     "text": [
      "[pool-1-thread-4] INFO CoreNLP - [/127.0.0.1:44790] API call w/annotators tokenize,pos,lemma,ner,parse,depparse,coref\n",
      " 13%|████████▎                                                       | 193/1488 [00:21<02:34,  8.39it/s][pool-1-thread-3] INFO CoreNLP - [/127.0.0.1:44802] API call w/annotators tokenize,pos,lemma,ner,parse,depparse,coref\n",
      " 13%|████████▎                                                       | 194/1488 [00:21<02:27,  8.75it/s]"
     ]
    },
    {
     "name": "stdout",
     "output_type": "stream",
     "text": [
      "A tennis player in action looks like he is trying to hit a difficult ball\n",
      "There is a toy bear leaning on a pillow\n"
     ]
    },
    {
     "name": "stderr",
     "output_type": "stream",
     "text": [
      "[pool-1-thread-2] INFO CoreNLP - [/127.0.0.1:44824] API call w/annotators tokenize,pos,lemma,ner,parse,depparse,coref\n",
      " 13%|████████▍                                                       | 195/1488 [00:22<02:23,  9.03it/s][pool-1-thread-1] INFO CoreNLP - [/127.0.0.1:44838] API call w/annotators tokenize,pos,lemma,ner,parse,depparse,coref\n",
      " 13%|████████▍                                                       | 196/1488 [00:22<02:21,  9.15it/s]"
     ]
    },
    {
     "name": "stdout",
     "output_type": "stream",
     "text": [
      "A young boy admiring a toy railroad display.\n",
      "A blender that is sitting on a kitchen counter.\n"
     ]
    },
    {
     "name": "stderr",
     "output_type": "stream",
     "text": [
      "[pool-1-thread-5] INFO CoreNLP - [/127.0.0.1:44856] API call w/annotators tokenize,pos,lemma,ner,parse,depparse,coref\n",
      " 13%|████████▍                                                       | 197/1488 [00:22<02:21,  9.14it/s][pool-1-thread-4] INFO CoreNLP - [/127.0.0.1:44868] API call w/annotators tokenize,pos,lemma,ner,parse,depparse,coref\n",
      " 13%|████████▌                                                       | 198/1488 [00:22<02:33,  8.39it/s]"
     ]
    },
    {
     "name": "stdout",
     "output_type": "stream",
     "text": [
      "A man holding up a hot dog on a stick.\n",
      "A desk has two laptops, a monitor, mouse, and keyboard on it.\n"
     ]
    },
    {
     "name": "stderr",
     "output_type": "stream",
     "text": [
      "[pool-1-thread-3] INFO CoreNLP - [/127.0.0.1:44874] API call w/annotators tokenize,pos,lemma,ner,parse,depparse,coref\n",
      "[pool-1-thread-2] INFO CoreNLP - [/127.0.0.1:44882] API call w/annotators tokenize,pos,lemma,ner,parse,depparse,coref\n",
      " 13%|████████▌                                                       | 200/1488 [00:22<02:24,  8.91it/s]"
     ]
    },
    {
     "name": "stdout",
     "output_type": "stream",
     "text": [
      "two giraffes are walking around in their pen \n",
      "A young man rides a skateboard on a country road.\n"
     ]
    },
    {
     "name": "stderr",
     "output_type": "stream",
     "text": [
      "[pool-1-thread-1] INFO CoreNLP - [/127.0.0.1:44896] API call w/annotators tokenize,pos,lemma,ner,parse,depparse,coref\n",
      " 14%|████████▋                                                       | 201/1488 [00:22<02:22,  9.00it/s][pool-1-thread-5] INFO CoreNLP - [/127.0.0.1:44916] API call w/annotators tokenize,pos,lemma,ner,parse,depparse,coref\n",
      " 14%|████████▋                                                       | 202/1488 [00:22<02:22,  9.00it/s]"
     ]
    },
    {
     "name": "stdout",
     "output_type": "stream",
     "text": [
      "A group of five sheep wait outside a barn.\n",
      "A group of cows looking at camera by trees.\n"
     ]
    },
    {
     "name": "stderr",
     "output_type": "stream",
     "text": [
      "[pool-1-thread-4] INFO CoreNLP - [/127.0.0.1:44930] API call w/annotators tokenize,pos,lemma,ner,parse,depparse,coref\n",
      " 14%|████████▋                                                       | 203/1488 [00:22<02:19,  9.19it/s][pool-1-thread-3] INFO CoreNLP - [/127.0.0.1:44940] API call w/annotators tokenize,pos,lemma,ner,parse,depparse,coref\n",
      " 14%|████████▊                                                       | 204/1488 [00:23<02:18,  9.27it/s]"
     ]
    },
    {
     "name": "stdout",
     "output_type": "stream",
     "text": [
      "a view of a counter top in a diner\n",
      "A transit bus riding down a busy city street.\n"
     ]
    },
    {
     "name": "stderr",
     "output_type": "stream",
     "text": [
      "[pool-1-thread-2] INFO CoreNLP - [/127.0.0.1:44950] API call w/annotators tokenize,pos,lemma,ner,parse,depparse,coref\n",
      " 14%|████████▊                                                       | 205/1488 [00:23<02:23,  8.96it/s][pool-1-thread-1] INFO CoreNLP - [/127.0.0.1:44968] API call w/annotators tokenize,pos,lemma,ner,parse,depparse,coref\n",
      " 14%|████████▊                                                       | 206/1488 [00:23<02:23,  8.91it/s]"
     ]
    },
    {
     "name": "stdout",
     "output_type": "stream",
     "text": [
      "A green vase  with a bunch of green leafy plants in it\n",
      "Back view of girl sitting at a picnic bench reading.\n"
     ]
    },
    {
     "name": "stderr",
     "output_type": "stream",
     "text": [
      "[pool-1-thread-5] INFO CoreNLP - [/127.0.0.1:44974] API call w/annotators tokenize,pos,lemma,ner,parse,depparse,coref\n",
      " 14%|████████▉                                                       | 207/1488 [00:23<02:25,  8.78it/s][pool-1-thread-4] INFO CoreNLP - [/127.0.0.1:44996] API call w/annotators tokenize,pos,lemma,ner,parse,depparse,coref\n",
      " 14%|████████▉                                                       | 208/1488 [00:23<02:21,  9.05it/s]"
     ]
    },
    {
     "name": "stdout",
     "output_type": "stream",
     "text": [
      "A group of people standing with their luggage by the curb.\n",
      "Dog sleeping in his bed next to rocking chair\n"
     ]
    },
    {
     "name": "stderr",
     "output_type": "stream",
     "text": [
      "[pool-1-thread-3] INFO CoreNLP - [/127.0.0.1:45000] API call w/annotators tokenize,pos,lemma,ner,parse,depparse,coref\n",
      "[pool-1-thread-2] INFO CoreNLP - [/127.0.0.1:45016] API call w/annotators tokenize,pos,lemma,ner,parse,depparse,coref\n",
      " 14%|█████████                                                       | 210/1488 [00:23<02:15,  9.46it/s][pool-1-thread-1] INFO CoreNLP - [/127.0.0.1:45042] API call w/annotators tokenize,pos,lemma,ner,parse,depparse,coref\n"
     ]
    },
    {
     "name": "stdout",
     "output_type": "stream",
     "text": [
      "a bathroom with a fancy toilet in it\n",
      "A person on a surfboard in the water.\n",
      "Small work station situated next to a refrigerator.\n"
     ]
    },
    {
     "name": "stderr",
     "output_type": "stream",
     "text": [
      " 14%|█████████                                                       | 211/1488 [00:23<02:13,  9.55it/s][pool-1-thread-5] INFO CoreNLP - [/127.0.0.1:45056] API call w/annotators tokenize,pos,lemma,ner,parse,depparse,coref\n",
      " 14%|█████████                                                       | 212/1488 [00:23<02:15,  9.40it/s][pool-1-thread-4] INFO CoreNLP - [/127.0.0.1:45066] API call w/annotators tokenize,pos,lemma,ner,parse,depparse,coref\n",
      " 14%|█████████▏                                                      | 213/1488 [00:24<02:17,  9.30it/s]"
     ]
    },
    {
     "name": "stdout",
     "output_type": "stream",
     "text": [
      "A hot dog in a paper container of some sort.\n",
      "A large brown cow laying in a lush green field.\n"
     ]
    },
    {
     "name": "stderr",
     "output_type": "stream",
     "text": [
      "[pool-1-thread-3] INFO CoreNLP - [/127.0.0.1:45076] API call w/annotators tokenize,pos,lemma,ner,parse,depparse,coref\n",
      " 14%|█████████▏                                                      | 214/1488 [00:24<02:17,  9.29it/s][pool-1-thread-2] INFO CoreNLP - [/127.0.0.1:45104] API call w/annotators tokenize,pos,lemma,ner,parse,depparse,coref\n",
      " 14%|█████████▏                                                      | 215/1488 [00:24<02:20,  9.07it/s]"
     ]
    },
    {
     "name": "stdout",
     "output_type": "stream",
     "text": [
      "an aerial view of a stop sign and light pole \n",
      "A surfer paddles over a wave in clear blue water.\n"
     ]
    },
    {
     "name": "stderr",
     "output_type": "stream",
     "text": [
      "[pool-1-thread-1] INFO CoreNLP - [/127.0.0.1:45118] API call w/annotators tokenize,pos,lemma,ner,parse,depparse,coref\n",
      " 15%|█████████▎                                                      | 216/1488 [00:24<02:16,  9.30it/s][pool-1-thread-5] INFO CoreNLP - [/127.0.0.1:45142] API call w/annotators tokenize,pos,lemma,ner,parse,depparse,coref\n",
      " 15%|█████████▎                                                      | 217/1488 [00:24<02:17,  9.22it/s]"
     ]
    },
    {
     "name": "stdout",
     "output_type": "stream",
     "text": [
      "A zebra eating grass out in a field.\n",
      "A cat rubbing its body against an wooden oval mirror. \n"
     ]
    },
    {
     "name": "stderr",
     "output_type": "stream",
     "text": [
      "[pool-1-thread-4] INFO CoreNLP - [/127.0.0.1:45160] API call w/annotators tokenize,pos,lemma,ner,parse,depparse,coref\n",
      " 15%|█████████▍                                                      | 218/1488 [00:24<02:19,  9.11it/s][pool-1-thread-3] INFO CoreNLP - [/127.0.0.1:45178] API call w/annotators tokenize,pos,lemma,ner,parse,depparse,coref\n",
      " 15%|█████████▍                                                      | 219/1488 [00:24<02:19,  9.11it/s]"
     ]
    },
    {
     "name": "stdout",
     "output_type": "stream",
     "text": [
      "a batter lifting a foot as he stands at home plate \n",
      "Pair of twin beds in nice resort looking room.\n"
     ]
    },
    {
     "name": "stderr",
     "output_type": "stream",
     "text": [
      "[pool-1-thread-2] INFO CoreNLP - [/127.0.0.1:45202] API call w/annotators tokenize,pos,lemma,ner,parse,depparse,coref\n",
      " 15%|█████████▍                                                      | 220/1488 [00:24<02:16,  9.31it/s][pool-1-thread-1] INFO CoreNLP - [/127.0.0.1:45212] API call w/annotators tokenize,pos,lemma,ner,parse,depparse,coref\n",
      " 15%|█████████▌                                                      | 221/1488 [00:24<02:16,  9.26it/s]"
     ]
    },
    {
     "name": "stdout",
     "output_type": "stream",
     "text": [
      "Roadway intersection near large brick building in city.\n",
      "A plate on a table that has food on it.\n"
     ]
    },
    {
     "name": "stderr",
     "output_type": "stream",
     "text": [
      "[pool-1-thread-5] INFO CoreNLP - [/127.0.0.1:45228] API call w/annotators tokenize,pos,lemma,ner,parse,depparse,coref\n",
      " 15%|█████████▌                                                      | 222/1488 [00:25<02:15,  9.34it/s][pool-1-thread-4] INFO CoreNLP - [/127.0.0.1:45246] API call w/annotators tokenize,pos,lemma,ner,parse,depparse,coref\n",
      " 15%|█████████▌                                                      | 223/1488 [00:25<02:19,  9.08it/s]"
     ]
    },
    {
     "name": "stdout",
     "output_type": "stream",
     "text": [
      "A stove top oven sitting inside of a kitchen.\n",
      "A man with a bald head wearing a pair of glases.\n"
     ]
    },
    {
     "name": "stderr",
     "output_type": "stream",
     "text": [
      "[pool-1-thread-3] INFO CoreNLP - [/127.0.0.1:45268] API call w/annotators tokenize,pos,lemma,ner,parse,depparse,coref\n",
      " 15%|█████████▋                                                      | 224/1488 [00:25<02:18,  9.14it/s][pool-1-thread-2] INFO CoreNLP - [/127.0.0.1:45276] API call w/annotators tokenize,pos,lemma,ner,parse,depparse,coref\n",
      " 15%|█████████▋                                                      | 225/1488 [00:25<02:21,  8.92it/s]"
     ]
    },
    {
     "name": "stdout",
     "output_type": "stream",
     "text": [
      "A picture of a shaded walk way and benches. \n",
      "An umbrella on a backyard patio is upturned from the wind. \n"
     ]
    },
    {
     "name": "stderr",
     "output_type": "stream",
     "text": [
      "[pool-1-thread-1] INFO CoreNLP - [/127.0.0.1:45302] API call w/annotators tokenize,pos,lemma,ner,parse,depparse,coref\n",
      " 15%|█████████▋                                                      | 226/1488 [00:25<02:23,  8.81it/s][pool-1-thread-5] INFO CoreNLP - [/127.0.0.1:45322] API call w/annotators tokenize,pos,lemma,ner,parse,depparse,coref\n",
      " 15%|█████████▊                                                      | 227/1488 [00:25<02:18,  9.08it/s]"
     ]
    },
    {
     "name": "stdout",
     "output_type": "stream",
     "text": [
      "a fancy little birthday cake with some fruit on the top\n",
      "A herd of zebras standing together in the field\n"
     ]
    },
    {
     "name": "stderr",
     "output_type": "stream",
     "text": [
      "[pool-1-thread-4] INFO CoreNLP - [/127.0.0.1:45346] API call w/annotators tokenize,pos,lemma,ner,parse,depparse,coref\n",
      " 15%|█████████▊                                                      | 228/1488 [00:25<02:26,  8.59it/s][pool-1-thread-3] INFO CoreNLP - [/127.0.0.1:45374] API call w/annotators tokenize,pos,lemma,ner,parse,depparse,coref\n",
      " 15%|█████████▊                                                      | 229/1488 [00:25<02:29,  8.40it/s]"
     ]
    },
    {
     "name": "stdout",
     "output_type": "stream",
     "text": [
      "A brown and white horse standing on top of a giant red chair.\n",
      "A man standing on a train plateform as a train is passing by.\n"
     ]
    },
    {
     "name": "stderr",
     "output_type": "stream",
     "text": [
      "[pool-1-thread-2] INFO CoreNLP - [/127.0.0.1:45400] API call w/annotators tokenize,pos,lemma,ner,parse,depparse,coref\n",
      " 15%|█████████▉                                                      | 230/1488 [00:25<02:30,  8.38it/s][pool-1-thread-1] INFO CoreNLP - [/127.0.0.1:45426] API call w/annotators tokenize,pos,lemma,ner,parse,depparse,coref\n"
     ]
    },
    {
     "name": "stdout",
     "output_type": "stream",
     "text": [
      "Baker in a white apron placing raw donuts on a pan.\n",
      "A women holding a very large looking banana.\n"
     ]
    },
    {
     "name": "stderr",
     "output_type": "stream",
     "text": [
      "[pool-1-thread-5] INFO CoreNLP - [/127.0.0.1:45452] API call w/annotators tokenize,pos,lemma,ner,parse,depparse,coref\n",
      " 16%|█████████▉                                                      | 232/1488 [00:26<02:27,  8.50it/s][pool-1-thread-4] INFO CoreNLP - [/127.0.0.1:45472] API call w/annotators tokenize,pos,lemma,ner,parse,depparse,coref\n",
      " 16%|██████████                                                      | 233/1488 [00:26<02:27,  8.53it/s]"
     ]
    },
    {
     "name": "stdout",
     "output_type": "stream",
     "text": [
      "When it's this cold, it's better to stay out of the wind.\n",
      "a bird standing on a branch sticking out of the water.\n"
     ]
    },
    {
     "name": "stderr",
     "output_type": "stream",
     "text": [
      "[pool-1-thread-3] INFO CoreNLP - [/127.0.0.1:45478] API call w/annotators tokenize,pos,lemma,ner,parse,depparse,coref\n",
      " 16%|██████████                                                      | 234/1488 [00:26<02:21,  8.84it/s][pool-1-thread-2] INFO CoreNLP - [/127.0.0.1:45504] API call w/annotators tokenize,pos,lemma,ner,parse,depparse,coref\n",
      " 16%|██████████                                                      | 235/1488 [00:26<02:18,  9.03it/s]"
     ]
    },
    {
     "name": "stdout",
     "output_type": "stream",
     "text": [
      "A man using his computers with onlookers watching.\n",
      "there is a large stuffed bear outside of this store\n"
     ]
    },
    {
     "name": "stderr",
     "output_type": "stream",
     "text": [
      "[pool-1-thread-1] INFO CoreNLP - [/127.0.0.1:45528] API call w/annotators tokenize,pos,lemma,ner,parse,depparse,coref\n",
      "[pool-1-thread-5] INFO CoreNLP - [/127.0.0.1:45542] API call w/annotators tokenize,pos,lemma,ner,parse,depparse,coref\n",
      " 16%|██████████▏                                                     | 237/1488 [00:26<02:13,  9.39it/s]"
     ]
    },
    {
     "name": "stdout",
     "output_type": "stream",
     "text": [
      "a couple of men are holding game controllers\n",
      "a young girl eating something while playing in the woods \n"
     ]
    },
    {
     "name": "stderr",
     "output_type": "stream",
     "text": [
      "[pool-1-thread-4] INFO CoreNLP - [/127.0.0.1:45566] API call w/annotators tokenize,pos,lemma,ner,parse,depparse,coref\n",
      " 16%|██████████▏                                                     | 238/1488 [00:26<02:16,  9.13it/s][pool-1-thread-3] INFO CoreNLP - [/127.0.0.1:45576] API call w/annotators tokenize,pos,lemma,ner,parse,depparse,coref\n",
      " 16%|██████████▎                                                     | 239/1488 [00:26<02:16,  9.18it/s]"
     ]
    },
    {
     "name": "stdout",
     "output_type": "stream",
     "text": [
      "a person in a large field flying a kite in the sky\n",
      "A boy is sitting at a table with a pizza.\n"
     ]
    },
    {
     "name": "stderr",
     "output_type": "stream",
     "text": [
      "[pool-1-thread-2] INFO CoreNLP - [/127.0.0.1:45584] API call w/annotators tokenize,pos,lemma,ner,parse,depparse,coref\n",
      " 16%|██████████▎                                                     | 240/1488 [00:27<02:15,  9.18it/s][pool-1-thread-1] INFO CoreNLP - [/127.0.0.1:45602] API call w/annotators tokenize,pos,lemma,ner,parse,depparse,coref\n"
     ]
    },
    {
     "name": "stdout",
     "output_type": "stream",
     "text": [
      "a picture of the back end of a zebra \n",
      "many bears in captivity with a fake tree\n"
     ]
    },
    {
     "name": "stderr",
     "output_type": "stream",
     "text": [
      "[pool-1-thread-5] INFO CoreNLP - [/127.0.0.1:45626] API call w/annotators tokenize,pos,lemma,ner,parse,depparse,coref\n",
      " 16%|██████████▍                                                     | 242/1488 [00:27<02:11,  9.49it/s][pool-1-thread-4] INFO CoreNLP - [/127.0.0.1:45656] API call w/annotators tokenize,pos,lemma,ner,parse,depparse,coref\n",
      " 16%|██████████▍                                                     | 243/1488 [00:27<02:11,  9.49it/s]"
     ]
    },
    {
     "name": "stdout",
     "output_type": "stream",
     "text": [
      "A baseball player holding a bat during a game.\n",
      "A skier is in mid air over the snow.\n"
     ]
    },
    {
     "name": "stderr",
     "output_type": "stream",
     "text": [
      "[pool-1-thread-3] INFO CoreNLP - [/127.0.0.1:45682] API call w/annotators tokenize,pos,lemma,ner,parse,depparse,coref\n",
      " 16%|██████████▍                                                     | 244/1488 [00:27<02:13,  9.34it/s][pool-1-thread-2] INFO CoreNLP - [/127.0.0.1:45692] API call w/annotators tokenize,pos,lemma,ner,parse,depparse,coref\n"
     ]
    },
    {
     "name": "stdout",
     "output_type": "stream",
     "text": [
      "A dining table holding coffee and a plate of eggs.\n",
      "A bus that is sitting in the street.\n"
     ]
    },
    {
     "name": "stderr",
     "output_type": "stream",
     "text": [
      "[pool-1-thread-1] INFO CoreNLP - [/127.0.0.1:45714] API call w/annotators tokenize,pos,lemma,ner,parse,depparse,coref\n",
      " 17%|██████████▌                                                     | 246/1488 [00:27<02:13,  9.27it/s][pool-1-thread-5] INFO CoreNLP - [/127.0.0.1:45746] API call w/annotators tokenize,pos,lemma,ner,parse,depparse,coref\n"
     ]
    },
    {
     "name": "stdout",
     "output_type": "stream",
     "text": [
      "A man is in the air while sitting on a surf board.\n",
      "a room showing a wooden table and a capboard\n"
     ]
    },
    {
     "name": "stderr",
     "output_type": "stream",
     "text": [
      "[pool-1-thread-4] INFO CoreNLP - [/127.0.0.1:45762] API call w/annotators tokenize,pos,lemma,ner,parse,depparse,coref\n",
      " 17%|██████████▋                                                     | 248/1488 [00:27<02:09,  9.56it/s][pool-1-thread-3] INFO CoreNLP - [/127.0.0.1:45772] API call w/annotators tokenize,pos,lemma,ner,parse,depparse,coref\n",
      "[pool-1-thread-2] INFO CoreNLP - [/127.0.0.1:45792] API call w/annotators tokenize,pos,lemma,ner,parse,depparse,coref\n"
     ]
    },
    {
     "name": "stdout",
     "output_type": "stream",
     "text": [
      "I am unable to see an image above.\n",
      "a cat that is sitting over a keyboard\n",
      "Two people are standing in the snow with a snow board. \n"
     ]
    },
    {
     "name": "stderr",
     "output_type": "stream",
     "text": [
      " 17%|██████████▊                                                     | 250/1488 [00:28<02:09,  9.54it/s][pool-1-thread-1] INFO CoreNLP - [/127.0.0.1:45806] API call w/annotators tokenize,pos,lemma,ner,parse,depparse,coref\n",
      "[pool-1-thread-5] INFO CoreNLP - [/127.0.0.1:45826] API call w/annotators tokenize,pos,lemma,ner,parse,depparse,coref\n",
      " 17%|██████████▊                                                     | 252/1488 [00:28<02:15,  9.13it/s]"
     ]
    },
    {
     "name": "stdout",
     "output_type": "stream",
     "text": [
      "a man sitting in a chair watching tv\n",
      "A man in a red shirt in a bathroom with two mirror and a photo\n"
     ]
    },
    {
     "name": "stderr",
     "output_type": "stream",
     "text": [
      "[pool-1-thread-4] INFO CoreNLP - [/127.0.0.1:45844] API call w/annotators tokenize,pos,lemma,ner,parse,depparse,coref\n",
      " 17%|██████████▉                                                     | 253/1488 [00:28<02:25,  8.52it/s][pool-1-thread-3] INFO CoreNLP - [/127.0.0.1:45860] API call w/annotators tokenize,pos,lemma,ner,parse,depparse,coref\n",
      " 17%|██████████▉                                                     | 254/1488 [00:28<02:23,  8.60it/s]"
     ]
    },
    {
     "name": "stdout",
     "output_type": "stream",
     "text": [
      "A close up of a black and white clock on the side of a building.\n",
      "a white black and brown cat is sleeping on a bed\n"
     ]
    },
    {
     "name": "stderr",
     "output_type": "stream",
     "text": [
      "[pool-1-thread-2] INFO CoreNLP - [/127.0.0.1:45878] API call w/annotators tokenize,pos,lemma,ner,parse,depparse,coref\n",
      " 17%|██████████▉                                                     | 255/1488 [00:28<02:20,  8.75it/s][pool-1-thread-1] INFO CoreNLP - [/127.0.0.1:45898] API call w/annotators tokenize,pos,lemma,ner,parse,depparse,coref\n",
      " 17%|███████████                                                     | 256/1488 [00:28<02:25,  8.49it/s]"
     ]
    },
    {
     "name": "stdout",
     "output_type": "stream",
     "text": [
      "Asian police stand in line to serve themselves doughnuts.\n",
      "Two hot dogs with different toppings on a tray with French fries.\n"
     ]
    },
    {
     "name": "stderr",
     "output_type": "stream",
     "text": [
      "[pool-1-thread-5] INFO CoreNLP - [/127.0.0.1:45910] API call w/annotators tokenize,pos,lemma,ner,parse,depparse,coref\n",
      " 17%|███████████                                                     | 257/1488 [00:28<02:19,  8.81it/s][pool-1-thread-4] INFO CoreNLP - [/127.0.0.1:45924] API call w/annotators tokenize,pos,lemma,ner,parse,depparse,coref\n",
      " 17%|███████████                                                     | 258/1488 [00:29<02:19,  8.84it/s]"
     ]
    },
    {
     "name": "stdout",
     "output_type": "stream",
     "text": [
      "A NICE STUFF BEAR WITH A TAG ON IT\n",
      "A woman riding a wave on top of a surfboard.\n"
     ]
    },
    {
     "name": "stderr",
     "output_type": "stream",
     "text": [
      "[pool-1-thread-3] INFO CoreNLP - [/127.0.0.1:45940] API call w/annotators tokenize,pos,lemma,ner,parse,depparse,coref\n",
      " 17%|███████████▏                                                    | 259/1488 [00:29<02:21,  8.71it/s][pool-1-thread-2] INFO CoreNLP - [/127.0.0.1:45952] API call w/annotators tokenize,pos,lemma,ner,parse,depparse,coref\n",
      " 17%|███████████▏                                                    | 260/1488 [00:29<02:19,  8.83it/s]"
     ]
    },
    {
     "name": "stdout",
     "output_type": "stream",
     "text": [
      "The tray has a sandwich and two bowls near a beverage. \n",
      "A man walks along a wall that overlooks the ocean.\n"
     ]
    },
    {
     "name": "stderr",
     "output_type": "stream",
     "text": [
      "[pool-1-thread-1] INFO CoreNLP - [/127.0.0.1:45966] API call w/annotators tokenize,pos,lemma,ner,parse,depparse,coref\n",
      " 18%|███████████▏                                                    | 261/1488 [00:29<02:18,  8.88it/s][pool-1-thread-5] INFO CoreNLP - [/127.0.0.1:38204] API call w/annotators tokenize,pos,lemma,ner,parse,depparse,coref\n"
     ]
    },
    {
     "name": "stdout",
     "output_type": "stream",
     "text": [
      "A little girl covering her mouth leaning on a chair.\n",
      "some children are playing soccer on a field\n"
     ]
    },
    {
     "name": "stderr",
     "output_type": "stream",
     "text": [
      "[pool-1-thread-4] INFO CoreNLP - [/127.0.0.1:38224] API call w/annotators tokenize,pos,lemma,ner,parse,depparse,coref\n",
      " 18%|███████████▎                                                    | 263/1488 [00:29<02:10,  9.35it/s][pool-1-thread-3] INFO CoreNLP - [/127.0.0.1:38248] API call w/annotators tokenize,pos,lemma,ner,parse,depparse,coref\n",
      " 18%|███████████▎                                                    | 264/1488 [00:29<02:09,  9.48it/s]"
     ]
    },
    {
     "name": "stdout",
     "output_type": "stream",
     "text": [
      "A guy carries his surfboard on his head.\n",
      "A beige dog with very tight curly hair.\n"
     ]
    },
    {
     "name": "stderr",
     "output_type": "stream",
     "text": [
      "[pool-1-thread-2] INFO CoreNLP - [/127.0.0.1:38264] API call w/annotators tokenize,pos,lemma,ner,parse,depparse,coref\n",
      " 18%|███████████▍                                                    | 265/1488 [00:29<02:11,  9.31it/s][pool-1-thread-1] INFO CoreNLP - [/127.0.0.1:38274] API call w/annotators tokenize,pos,lemma,ner,parse,depparse,coref\n",
      " 18%|███████████▍                                                    | 266/1488 [00:29<02:14,  9.12it/s]"
     ]
    },
    {
     "name": "stdout",
     "output_type": "stream",
     "text": [
      "A small boy in a striped shirt eating something.\n",
      "A man looks into the mirror as he styles his hair.\n"
     ]
    },
    {
     "name": "stderr",
     "output_type": "stream",
     "text": [
      "[pool-1-thread-5] INFO CoreNLP - [/127.0.0.1:38292] API call w/annotators tokenize,pos,lemma,ner,parse,depparse,coref\n",
      " 18%|███████████▍                                                    | 267/1488 [00:30<02:15,  9.04it/s][pool-1-thread-4] INFO CoreNLP - [/127.0.0.1:38310] API call w/annotators tokenize,pos,lemma,ner,parse,depparse,coref\n",
      " 18%|███████████▌                                                    | 268/1488 [00:30<02:14,  9.09it/s]"
     ]
    },
    {
     "name": "stdout",
     "output_type": "stream",
     "text": [
      "a silver and gray train car with some graffiti on it\n",
      "cereal and juice are placed on top of a fridge\n"
     ]
    },
    {
     "name": "stderr",
     "output_type": "stream",
     "text": [
      "[pool-1-thread-3] INFO CoreNLP - [/127.0.0.1:38332] API call w/annotators tokenize,pos,lemma,ner,parse,depparse,coref\n",
      " 18%|███████████▌                                                    | 269/1488 [00:30<02:20,  8.68it/s][pool-1-thread-2] INFO CoreNLP - [/127.0.0.1:38356] API call w/annotators tokenize,pos,lemma,ner,parse,depparse,coref\n",
      " 18%|███████████▌                                                    | 270/1488 [00:30<02:18,  8.80it/s]"
     ]
    },
    {
     "name": "stdout",
     "output_type": "stream",
     "text": [
      "A helmeted rider is lifted off of the ground in a grassy area.\n",
      "A woman with a racquet standing on a tennis court.\n"
     ]
    },
    {
     "name": "stderr",
     "output_type": "stream",
     "text": [
      "[pool-1-thread-1] INFO CoreNLP - [/127.0.0.1:38370] API call w/annotators tokenize,pos,lemma,ner,parse,depparse,coref\n",
      " 18%|███████████▋                                                    | 271/1488 [00:30<02:21,  8.58it/s][pool-1-thread-5] INFO CoreNLP - [/127.0.0.1:38390] API call w/annotators tokenize,pos,lemma,ner,parse,depparse,coref\n",
      " 18%|███████████▋                                                    | 272/1488 [00:30<02:16,  8.93it/s]"
     ]
    },
    {
     "name": "stdout",
     "output_type": "stream",
     "text": [
      "A dog laying on the sand at a beach near some water.\n",
      "A person on some skis in the snow.\n"
     ]
    },
    {
     "name": "stderr",
     "output_type": "stream",
     "text": [
      "[pool-1-thread-4] INFO CoreNLP - [/127.0.0.1:38408] API call w/annotators tokenize,pos,lemma,ner,parse,depparse,coref\n",
      " 18%|███████████▋                                                    | 273/1488 [00:30<02:21,  8.60it/s][pool-1-thread-3] INFO CoreNLP - [/127.0.0.1:38426] API call w/annotators tokenize,pos,lemma,ner,parse,depparse,coref\n",
      " 18%|███████████▊                                                    | 274/1488 [00:30<02:21,  8.60it/s]"
     ]
    },
    {
     "name": "stdout",
     "output_type": "stream",
     "text": [
      "A vase filled with a pink rose sitting in front of a mirror.\n",
      "A person standing in front of a fountain holding an umbrella.\n"
     ]
    },
    {
     "name": "stderr",
     "output_type": "stream",
     "text": [
      "[pool-1-thread-2] INFO CoreNLP - [/127.0.0.1:38452] API call w/annotators tokenize,pos,lemma,ner,parse,depparse,coref\n",
      " 18%|███████████▊                                                    | 275/1488 [00:30<02:21,  8.56it/s][pool-1-thread-1] INFO CoreNLP - [/127.0.0.1:38482] API call w/annotators tokenize,pos,lemma,ner,parse,depparse,coref\n",
      " 19%|███████████▊                                                    | 276/1488 [00:31<02:17,  8.80it/s]"
     ]
    },
    {
     "name": "stdout",
     "output_type": "stream",
     "text": [
      "there is a black bear that can be seen walking on the road\n",
      "Teenager jumping off of a ramp on a skateboard.\n"
     ]
    },
    {
     "name": "stderr",
     "output_type": "stream",
     "text": [
      "[pool-1-thread-5] INFO CoreNLP - [/127.0.0.1:38496] API call w/annotators tokenize,pos,lemma,ner,parse,depparse,coref\n",
      " 19%|███████████▉                                                    | 277/1488 [00:31<02:19,  8.66it/s][pool-1-thread-4] INFO CoreNLP - [/127.0.0.1:38522] API call w/annotators tokenize,pos,lemma,ner,parse,depparse,coref\n"
     ]
    },
    {
     "name": "stdout",
     "output_type": "stream",
     "text": [
      "Young calico cat hides out inside the sink\n",
      "a person standing next to large teddy bears\n"
     ]
    },
    {
     "name": "stderr",
     "output_type": "stream",
     "text": [
      "[pool-1-thread-3] INFO CoreNLP - [/127.0.0.1:38536] API call w/annotators tokenize,pos,lemma,ner,parse,depparse,coref\n",
      " 19%|████████████                                                    | 279/1488 [00:31<02:13,  9.06it/s][pool-1-thread-2] INFO CoreNLP - [/127.0.0.1:38554] API call w/annotators tokenize,pos,lemma,ner,parse,depparse,coref\n",
      " 19%|████████████                                                    | 280/1488 [00:31<02:17,  8.81it/s]"
     ]
    },
    {
     "name": "stdout",
     "output_type": "stream",
     "text": [
      "A school bus with a stop sign is filled with dogs.\n",
      "A man in a blue shirt is putting food into a bowl.\n"
     ]
    },
    {
     "name": "stderr",
     "output_type": "stream",
     "text": [
      "[pool-1-thread-1] INFO CoreNLP - [/127.0.0.1:38568] API call w/annotators tokenize,pos,lemma,ner,parse,depparse,coref\n",
      " 19%|████████████                                                    | 281/1488 [00:31<02:15,  8.88it/s][pool-1-thread-5] INFO CoreNLP - [/127.0.0.1:38586] API call w/annotators tokenize,pos,lemma,ner,parse,depparse,coref\n",
      " 19%|████████████▏                                                   | 282/1488 [00:31<02:19,  8.65it/s]"
     ]
    },
    {
     "name": "stdout",
     "output_type": "stream",
     "text": [
      "Two men standing in a living room holding game controllers.\n",
      "The garbage can and fire hydrants are in the park.\n"
     ]
    },
    {
     "name": "stderr",
     "output_type": "stream",
     "text": [
      "[pool-1-thread-4] INFO CoreNLP - [/127.0.0.1:38616] API call w/annotators tokenize,pos,lemma,ner,parse,depparse,coref\n",
      " 19%|████████████▏                                                   | 283/1488 [00:31<02:18,  8.67it/s][pool-1-thread-3] INFO CoreNLP - [/127.0.0.1:38638] API call w/annotators tokenize,pos,lemma,ner,parse,depparse,coref\n",
      " 19%|████████████▏                                                   | 284/1488 [00:31<02:17,  8.78it/s]"
     ]
    },
    {
     "name": "stdout",
     "output_type": "stream",
     "text": [
      "A dog sitting on a beach looks off into the distance.\n",
      "A four way stop sign in front of a building.\n"
     ]
    },
    {
     "name": "stderr",
     "output_type": "stream",
     "text": [
      "[pool-1-thread-2] INFO CoreNLP - [/127.0.0.1:38648] API call w/annotators tokenize,pos,lemma,ner,parse,depparse,coref\n",
      " 19%|████████████▎                                                   | 285/1488 [00:32<02:18,  8.66it/s][pool-1-thread-1] INFO CoreNLP - [/127.0.0.1:38668] API call w/annotators tokenize,pos,lemma,ner,parse,depparse,coref\n",
      " 19%|████████████▎                                                   | 286/1488 [00:32<02:23,  8.40it/s]"
     ]
    },
    {
     "name": "stdout",
     "output_type": "stream",
     "text": [
      "a few giraffes that are standing out in a field under a tree\n",
      "A tall tower stands in the distance, it has clocks on it.\n"
     ]
    },
    {
     "name": "stderr",
     "output_type": "stream",
     "text": [
      "[pool-1-thread-5] INFO CoreNLP - [/127.0.0.1:38688] API call w/annotators tokenize,pos,lemma,ner,parse,depparse,coref\n",
      " 19%|████████████▎                                                   | 287/1488 [00:32<02:18,  8.65it/s][pool-1-thread-4] INFO CoreNLP - [/127.0.0.1:38696] API call w/annotators tokenize,pos,lemma,ner,parse,depparse,coref\n",
      " 19%|████████████▍                                                   | 288/1488 [00:32<02:25,  8.24it/s]"
     ]
    },
    {
     "name": "stdout",
     "output_type": "stream",
     "text": [
      "A girl in a bathroom blow-drying her hair.\n",
      "A group of people conversing together, one of the women is laughing.\n"
     ]
    },
    {
     "name": "stderr",
     "output_type": "stream",
     "text": [
      "[pool-1-thread-3] INFO CoreNLP - [/127.0.0.1:38724] API call w/annotators tokenize,pos,lemma,ner,parse,depparse,coref\n",
      "[pool-1-thread-2] INFO CoreNLP - [/127.0.0.1:38750] API call w/annotators tokenize,pos,lemma,ner,parse,depparse,coref\n",
      " 19%|████████████▍                                                   | 290/1488 [00:32<02:14,  8.89it/s]"
     ]
    },
    {
     "name": "stdout",
     "output_type": "stream",
     "text": [
      "some cows are eating grass in a field\n",
      "View of jet airliner taking off over tree top.\n"
     ]
    },
    {
     "name": "stderr",
     "output_type": "stream",
     "text": [
      "[pool-1-thread-1] INFO CoreNLP - [/127.0.0.1:38764] API call w/annotators tokenize,pos,lemma,ner,parse,depparse,coref\n",
      " 20%|████████████▌                                                   | 291/1488 [00:32<02:14,  8.88it/s][pool-1-thread-5] INFO CoreNLP - [/127.0.0.1:38784] API call w/annotators tokenize,pos,lemma,ner,parse,depparse,coref\n",
      " 20%|████████████▌                                                   | 292/1488 [00:32<02:14,  8.90it/s]"
     ]
    },
    {
     "name": "stdout",
     "output_type": "stream",
     "text": [
      "two sinks under a mirror and a light on a wall\n",
      "A group of colorful striped umbrellas opened up for display.\n"
     ]
    },
    {
     "name": "stderr",
     "output_type": "stream",
     "text": [
      "[pool-1-thread-4] INFO CoreNLP - [/127.0.0.1:38810] API call w/annotators tokenize,pos,lemma,ner,parse,depparse,coref\n",
      " 20%|████████████▌                                                   | 293/1488 [00:33<02:15,  8.79it/s][pool-1-thread-3] INFO CoreNLP - [/127.0.0.1:38818] API call w/annotators tokenize,pos,lemma,ner,parse,depparse,coref\n",
      " 20%|████████████▋                                                   | 294/1488 [00:33<02:14,  8.88it/s]"
     ]
    },
    {
     "name": "stdout",
     "output_type": "stream",
     "text": [
      "a woman sitting on top of a couch with a controller.\n",
      "A train station with a train pulling into the platform.\n"
     ]
    },
    {
     "name": "stderr",
     "output_type": "stream",
     "text": [
      "[pool-1-thread-2] INFO CoreNLP - [/127.0.0.1:38838] API call w/annotators tokenize,pos,lemma,ner,parse,depparse,coref\n",
      " 20%|████████████▋                                                   | 295/1488 [00:33<02:18,  8.63it/s][pool-1-thread-1] INFO CoreNLP - [/127.0.0.1:38854] API call w/annotators tokenize,pos,lemma,ner,parse,depparse,coref\n",
      " 20%|████████████▋                                                   | 296/1488 [00:33<02:14,  8.84it/s]"
     ]
    },
    {
     "name": "stdout",
     "output_type": "stream",
     "text": [
      "A small group of people are standing by a green Higer bus. \n",
      "some zebras and an elephant some grass bushes and trees\n"
     ]
    },
    {
     "name": "stderr",
     "output_type": "stream",
     "text": [
      "[pool-1-thread-5] INFO CoreNLP - [/127.0.0.1:38884] API call w/annotators tokenize,pos,lemma,ner,parse,depparse,coref\n",
      " 20%|████████████▊                                                   | 297/1488 [00:33<02:10,  9.12it/s][pool-1-thread-4] INFO CoreNLP - [/127.0.0.1:38902] API call w/annotators tokenize,pos,lemma,ner,parse,depparse,coref\n",
      " 20%|████████████▊                                                   | 298/1488 [00:33<02:08,  9.26it/s]"
     ]
    },
    {
     "name": "stdout",
     "output_type": "stream",
     "text": [
      "A brown horse grazing in an open plain.\n",
      "Two sheep are looking through the barbed wire fence.\n"
     ]
    },
    {
     "name": "stderr",
     "output_type": "stream",
     "text": [
      "[pool-1-thread-3] INFO CoreNLP - [/127.0.0.1:38918] API call w/annotators tokenize,pos,lemma,ner,parse,depparse,coref\n",
      " 20%|████████████▊                                                   | 299/1488 [00:33<02:07,  9.33it/s][pool-1-thread-2] INFO CoreNLP - [/127.0.0.1:38926] API call w/annotators tokenize,pos,lemma,ner,parse,depparse,coref\n",
      " 20%|████████████▉                                                   | 300/1488 [00:33<02:07,  9.34it/s]"
     ]
    },
    {
     "name": "stdout",
     "output_type": "stream",
     "text": [
      "There is an image of two people playing wii.\n",
      "A row of small boats docked in the water.\n"
     ]
    },
    {
     "name": "stderr",
     "output_type": "stream",
     "text": [
      "[pool-1-thread-1] INFO CoreNLP - [/127.0.0.1:38950] API call w/annotators tokenize,pos,lemma,ner,parse,depparse,coref\n",
      " 20%|████████████▉                                                   | 301/1488 [00:33<02:13,  8.92it/s][pool-1-thread-5] INFO CoreNLP - [/127.0.0.1:38962] API call w/annotators tokenize,pos,lemma,ner,parse,depparse,coref\n",
      " 20%|████████████▉                                                   | 302/1488 [00:34<02:10,  9.10it/s]"
     ]
    },
    {
     "name": "stdout",
     "output_type": "stream",
     "text": [
      "Two hot dogs on a plate with fruit salad.\n",
      "A clock hanging on the side of a building.\n"
     ]
    },
    {
     "name": "stderr",
     "output_type": "stream",
     "text": [
      "[pool-1-thread-4] INFO CoreNLP - [/127.0.0.1:38972] API call w/annotators tokenize,pos,lemma,ner,parse,depparse,coref\n",
      " 20%|█████████████                                                   | 303/1488 [00:34<02:09,  9.17it/s][pool-1-thread-3] INFO CoreNLP - [/127.0.0.1:38990] API call w/annotators tokenize,pos,lemma,ner,parse,depparse,coref\n",
      " 20%|█████████████                                                   | 304/1488 [00:34<02:06,  9.36it/s]"
     ]
    },
    {
     "name": "stdout",
     "output_type": "stream",
     "text": [
      "Performers are in the circus doing tricks with horses.\n",
      "two people riding on horses on a city street\n"
     ]
    },
    {
     "name": "stderr",
     "output_type": "stream",
     "text": [
      "[pool-1-thread-2] INFO CoreNLP - [/127.0.0.1:38998] API call w/annotators tokenize,pos,lemma,ner,parse,depparse,coref\n",
      " 20%|█████████████                                                   | 305/1488 [00:34<02:04,  9.48it/s][pool-1-thread-1] INFO CoreNLP - [/127.0.0.1:39020] API call w/annotators tokenize,pos,lemma,ner,parse,depparse,coref\n",
      " 21%|█████████████▏                                                  | 306/1488 [00:34<02:19,  8.46it/s]"
     ]
    },
    {
     "name": "stdout",
     "output_type": "stream",
     "text": [
      "A cat lying across the top of the microwave\n",
      "A white sink and mirror stands near a red wall with a small window in it.\n"
     ]
    },
    {
     "name": "stderr",
     "output_type": "stream",
     "text": [
      "[pool-1-thread-5] INFO CoreNLP - [/127.0.0.1:39042] API call w/annotators tokenize,pos,lemma,ner,parse,depparse,coref\n",
      " 21%|█████████████▏                                                  | 307/1488 [00:34<02:14,  8.75it/s][pool-1-thread-4] INFO CoreNLP - [/127.0.0.1:39054] API call w/annotators tokenize,pos,lemma,ner,parse,depparse,coref\n",
      " 21%|█████████████▏                                                  | 308/1488 [00:34<02:14,  8.77it/s]"
     ]
    },
    {
     "name": "stdout",
     "output_type": "stream",
     "text": [
      "The man is throwing a Frisbee in the air. \n",
      "An ice-cream truck turning a corner at the intersecction.\n"
     ]
    },
    {
     "name": "stderr",
     "output_type": "stream",
     "text": [
      "[pool-1-thread-3] INFO CoreNLP - [/127.0.0.1:39068] API call w/annotators tokenize,pos,lemma,ner,parse,depparse,coref\n",
      " 21%|█████████████▎                                                  | 309/1488 [00:34<02:12,  8.89it/s][pool-1-thread-2] INFO CoreNLP - [/127.0.0.1:39086] API call w/annotators tokenize,pos,lemma,ner,parse,depparse,coref\n",
      " 21%|█████████████▎                                                  | 310/1488 [00:34<02:09,  9.10it/s]"
     ]
    },
    {
     "name": "stdout",
     "output_type": "stream",
     "text": [
      "A group of young people standing next to each other.\n",
      "a bathroom with a sink and lotion in it\n"
     ]
    },
    {
     "name": "stderr",
     "output_type": "stream",
     "text": [
      "[pool-1-thread-1] INFO CoreNLP - [/127.0.0.1:39108] API call w/annotators tokenize,pos,lemma,ner,parse,depparse,coref\n",
      " 21%|█████████████▍                                                  | 311/1488 [00:35<02:06,  9.30it/s][pool-1-thread-5] INFO CoreNLP - [/127.0.0.1:39116] API call w/annotators tokenize,pos,lemma,ner,parse,depparse,coref\n",
      " 21%|█████████████▍                                                  | 312/1488 [00:35<02:27,  7.98it/s]"
     ]
    },
    {
     "name": "stdout",
     "output_type": "stream",
     "text": [
      "a large airplane that is parked on a runway\n",
      "A person with long blonde hair wearing a blue shirt with a brown tie and blue white flowers.\n"
     ]
    },
    {
     "name": "stderr",
     "output_type": "stream",
     "text": [
      "[pool-1-thread-4] INFO CoreNLP - [/127.0.0.1:39140] API call w/annotators tokenize,pos,lemma,ner,parse,depparse,coref\n",
      " 21%|█████████████▍                                                  | 313/1488 [00:35<02:30,  7.79it/s][pool-1-thread-3] INFO CoreNLP - [/127.0.0.1:39156] API call w/annotators tokenize,pos,lemma,ner,parse,depparse,coref\n",
      " 21%|█████████████▌                                                  | 314/1488 [00:35<02:23,  8.18it/s]"
     ]
    },
    {
     "name": "stdout",
     "output_type": "stream",
     "text": [
      "A zebra grazes on trees as deer graze on grass in the background.\n",
      "A plate of noodles and vegetables is seen here.\n"
     ]
    },
    {
     "name": "stderr",
     "output_type": "stream",
     "text": [
      "[pool-1-thread-2] INFO CoreNLP - [/127.0.0.1:39172] API call w/annotators tokenize,pos,lemma,ner,parse,depparse,coref\n",
      " 21%|█████████████▌                                                  | 315/1488 [00:35<02:18,  8.45it/s][pool-1-thread-1] INFO CoreNLP - [/127.0.0.1:39190] API call w/annotators tokenize,pos,lemma,ner,parse,depparse,coref\n",
      " 21%|█████████████▌                                                  | 316/1488 [00:35<02:12,  8.84it/s]"
     ]
    },
    {
     "name": "stdout",
     "output_type": "stream",
     "text": [
      "A person riding a buggy and horse down the street.\n",
      "Here are some elephants grazing in the wildlife preserve\n"
     ]
    },
    {
     "name": "stderr",
     "output_type": "stream",
     "text": [
      "[pool-1-thread-5] INFO CoreNLP - [/127.0.0.1:39216] API call w/annotators tokenize,pos,lemma,ner,parse,depparse,coref\n",
      "[pool-1-thread-4] INFO CoreNLP - [/127.0.0.1:39242] API call w/annotators tokenize,pos,lemma,ner,parse,depparse,coref\n",
      " 21%|█████████████▋                                                  | 318/1488 [00:35<02:05,  9.35it/s][pool-1-thread-3] INFO CoreNLP - [/127.0.0.1:39260] API call w/annotators tokenize,pos,lemma,ner,parse,depparse,coref\n"
     ]
    },
    {
     "name": "stdout",
     "output_type": "stream",
     "text": [
      "A bedroom suite with balcony and  lovely view\n",
      "A statue of an elephant on the ground.\n",
      "A woman riding on the back of a white horse.\n"
     ]
    },
    {
     "name": "stderr",
     "output_type": "stream",
     "text": [
      " 21%|█████████████▋                                                  | 319/1488 [00:35<02:05,  9.31it/s][pool-1-thread-2] INFO CoreNLP - [/127.0.0.1:39280] API call w/annotators tokenize,pos,lemma,ner,parse,depparse,coref\n",
      " 22%|█████████████▊                                                  | 320/1488 [00:36<02:08,  9.12it/s][pool-1-thread-1] INFO CoreNLP - [/127.0.0.1:39288] API call w/annotators tokenize,pos,lemma,ner,parse,depparse,coref\n",
      " 22%|█████████████▊                                                  | 321/1488 [00:36<02:06,  9.24it/s]"
     ]
    },
    {
     "name": "stdout",
     "output_type": "stream",
     "text": [
      "A motorcyclist is driving past a post with two street signs.\n",
      "A bedroom trashed and filled with clutter and junk.\n"
     ]
    },
    {
     "name": "stderr",
     "output_type": "stream",
     "text": [
      "[pool-1-thread-5] INFO CoreNLP - [/127.0.0.1:39300] API call w/annotators tokenize,pos,lemma,ner,parse,depparse,coref\n",
      " 22%|█████████████▊                                                  | 322/1488 [00:36<02:12,  8.81it/s][pool-1-thread-4] INFO CoreNLP - [/127.0.0.1:39326] API call w/annotators tokenize,pos,lemma,ner,parse,depparse,coref\n",
      " 22%|█████████████▉                                                  | 323/1488 [00:36<02:11,  8.85it/s]"
     ]
    },
    {
     "name": "stdout",
     "output_type": "stream",
     "text": [
      "Woman on a tennis court swinging her racket at green tennis ball. \n",
      "Two men playing tennis on one side of the court.\n"
     ]
    },
    {
     "name": "stderr",
     "output_type": "stream",
     "text": [
      "[pool-1-thread-3] INFO CoreNLP - [/127.0.0.1:39346] API call w/annotators tokenize,pos,lemma,ner,parse,depparse,coref\n",
      " 22%|█████████████▉                                                  | 324/1488 [00:36<02:11,  8.88it/s][pool-1-thread-2] INFO CoreNLP - [/127.0.0.1:39372] API call w/annotators tokenize,pos,lemma,ner,parse,depparse,coref\n",
      " 22%|█████████████▉                                                  | 325/1488 [00:36<02:11,  8.83it/s]"
     ]
    },
    {
     "name": "stdout",
     "output_type": "stream",
     "text": [
      "The crowd behind the fence watches the woman playing tennis. \n",
      "Several hoofed animals much on hay in the stable.  \n"
     ]
    },
    {
     "name": "stderr",
     "output_type": "stream",
     "text": [
      "[pool-1-thread-1] INFO CoreNLP - [/127.0.0.1:39404] API call w/annotators tokenize,pos,lemma,ner,parse,depparse,coref\n",
      " 22%|██████████████                                                  | 326/1488 [00:36<02:09,  8.95it/s][pool-1-thread-5] INFO CoreNLP - [/127.0.0.1:39428] API call w/annotators tokenize,pos,lemma,ner,parse,depparse,coref\n",
      " 22%|██████████████                                                  | 327/1488 [00:36<02:12,  8.78it/s]"
     ]
    },
    {
     "name": "stdout",
     "output_type": "stream",
     "text": [
      "A man sitting next to a woman on a train.\n",
      "A wall full of pictures in frames of various subject matters.\n"
     ]
    },
    {
     "name": "stderr",
     "output_type": "stream",
     "text": [
      "[pool-1-thread-4] INFO CoreNLP - [/127.0.0.1:39432] API call w/annotators tokenize,pos,lemma,ner,parse,depparse,coref\n",
      " 22%|██████████████                                                  | 328/1488 [00:36<02:08,  9.02it/s][pool-1-thread-3] INFO CoreNLP - [/127.0.0.1:39456] API call w/annotators tokenize,pos,lemma,ner,parse,depparse,coref\n",
      " 22%|██████████████▏                                                 | 329/1488 [00:37<02:07,  9.12it/s]"
     ]
    },
    {
     "name": "stdout",
     "output_type": "stream",
     "text": [
      "cows and  bulls on grass grazing for food.\n",
      "A sandwich with scrambles eggs on a white plate.\n"
     ]
    },
    {
     "name": "stderr",
     "output_type": "stream",
     "text": [
      "[pool-1-thread-2] INFO CoreNLP - [/127.0.0.1:39476] API call w/annotators tokenize,pos,lemma,ner,parse,depparse,coref\n",
      " 22%|██████████████▏                                                 | 330/1488 [00:37<02:15,  8.52it/s][pool-1-thread-1] INFO CoreNLP - [/127.0.0.1:39494] API call w/annotators tokenize,pos,lemma,ner,parse,depparse,coref\n",
      " 22%|██████████████▏                                                 | 331/1488 [00:37<02:12,  8.72it/s]"
     ]
    },
    {
     "name": "stdout",
     "output_type": "stream",
     "text": [
      "A large fork sculpture stands in the water as a large boat passes.\n",
      "Several exotic kits hang from a glass ceiling.\n"
     ]
    },
    {
     "name": "stderr",
     "output_type": "stream",
     "text": [
      "[pool-1-thread-5] INFO CoreNLP - [/127.0.0.1:39520] API call w/annotators tokenize,pos,lemma,ner,parse,depparse,coref\n",
      " 22%|██████████████▎                                                 | 332/1488 [00:37<02:07,  9.06it/s][pool-1-thread-4] INFO CoreNLP - [/127.0.0.1:39540] API call w/annotators tokenize,pos,lemma,ner,parse,depparse,coref\n",
      " 22%|██████████████▎                                                 | 333/1488 [00:37<02:15,  8.53it/s]"
     ]
    },
    {
     "name": "stdout",
     "output_type": "stream",
     "text": [
      "Two girls holding umbrellas on a brick street.\n",
      "A man is enjoying his day of skiing, trying to stay up float. \n"
     ]
    },
    {
     "name": "stderr",
     "output_type": "stream",
     "text": [
      "[pool-1-thread-3] INFO CoreNLP - [/127.0.0.1:39572] API call w/annotators tokenize,pos,lemma,ner,parse,depparse,coref\n",
      "[pool-1-thread-2] INFO CoreNLP - [/127.0.0.1:39596] API call w/annotators tokenize,pos,lemma,ner,parse,depparse,coref\n",
      " 23%|██████████████▍                                                 | 335/1488 [00:37<02:08,  8.95it/s]"
     ]
    },
    {
     "name": "stdout",
     "output_type": "stream",
     "text": [
      "an analog clock attached to a brick building \n",
      "A tree-lined city street with car and motorcycle traffic. \n"
     ]
    },
    {
     "name": "stderr",
     "output_type": "stream",
     "text": [
      "[pool-1-thread-1] INFO CoreNLP - [/127.0.0.1:39606] API call w/annotators tokenize,pos,lemma,ner,parse,depparse,coref\n",
      " 23%|██████████████▍                                                 | 336/1488 [00:37<02:16,  8.42it/s][pool-1-thread-5] INFO CoreNLP - [/127.0.0.1:39632] API call w/annotators tokenize,pos,lemma,ner,parse,depparse,coref\n",
      " 23%|██████████████▍                                                 | 337/1488 [00:38<02:17,  8.37it/s]"
     ]
    },
    {
     "name": "stdout",
     "output_type": "stream",
     "text": [
      "A colorful plate topped with four donuts, two of them covered in chocolate..\n",
      "A man doing a trick on his skateboard at the skate park\n"
     ]
    },
    {
     "name": "stderr",
     "output_type": "stream",
     "text": [
      "[pool-1-thread-4] INFO CoreNLP - [/127.0.0.1:39644] API call w/annotators tokenize,pos,lemma,ner,parse,depparse,coref\n",
      " 23%|██████████████▌                                                 | 338/1488 [00:38<02:12,  8.71it/s][pool-1-thread-3] INFO CoreNLP - [/127.0.0.1:39658] API call w/annotators tokenize,pos,lemma,ner,parse,depparse,coref\n",
      " 23%|██████████████▌                                                 | 339/1488 [00:38<02:09,  8.86it/s]"
     ]
    },
    {
     "name": "stdout",
     "output_type": "stream",
     "text": [
      "A pitcher pitching a baseball on the mound.\n",
      "Tiled shower with toilet and sink in same room.\n"
     ]
    },
    {
     "name": "stderr",
     "output_type": "stream",
     "text": [
      "[pool-1-thread-2] INFO CoreNLP - [/127.0.0.1:39684] API call w/annotators tokenize,pos,lemma,ner,parse,depparse,coref\n",
      " 23%|██████████████▌                                                 | 340/1488 [00:38<02:31,  7.56it/s][pool-1-thread-1] INFO CoreNLP - [/127.0.0.1:39696] API call w/annotators tokenize,pos,lemma,ner,parse,depparse,coref\n"
     ]
    },
    {
     "name": "stdout",
     "output_type": "stream",
     "text": [
      "A white and blue bird is perched on a tree branch that is sitting next to a bunch of bushes.\n",
      "A sheep is walking along a wide field.\n"
     ]
    },
    {
     "name": "stderr",
     "output_type": "stream",
     "text": [
      "[pool-1-thread-5] INFO CoreNLP - [/127.0.0.1:39722] API call w/annotators tokenize,pos,lemma,ner,parse,depparse,coref\n",
      " 23%|██████████████▋                                                 | 342/1488 [00:38<02:17,  8.36it/s][pool-1-thread-4] INFO CoreNLP - [/127.0.0.1:39736] API call w/annotators tokenize,pos,lemma,ner,parse,depparse,coref\n"
     ]
    },
    {
     "name": "stdout",
     "output_type": "stream",
     "text": [
      "This is a scrambled egg omelet on a white plate. \n",
      "Girls holding kittens while they are being pet.\n"
     ]
    },
    {
     "name": "stderr",
     "output_type": "stream",
     "text": [
      "[pool-1-thread-3] INFO CoreNLP - [/127.0.0.1:39750] API call w/annotators tokenize,pos,lemma,ner,parse,depparse,coref\n",
      " 23%|██████████████▊                                                 | 344/1488 [00:38<02:08,  8.93it/s][pool-1-thread-2] INFO CoreNLP - [/127.0.0.1:39766] API call w/annotators tokenize,pos,lemma,ner,parse,depparse,coref\n",
      " 23%|██████████████▊                                                 | 345/1488 [00:38<02:06,  9.05it/s]"
     ]
    },
    {
     "name": "stdout",
     "output_type": "stream",
     "text": [
      "The player in red swings for the hit.\n",
      "A lone sea gull flying against a blue sky.\n"
     ]
    },
    {
     "name": "stderr",
     "output_type": "stream",
     "text": [
      "[pool-1-thread-1] INFO CoreNLP - [/127.0.0.1:39778] API call w/annotators tokenize,pos,lemma,ner,parse,depparse,coref\n",
      " 23%|██████████████▉                                                 | 346/1488 [00:39<02:03,  9.26it/s][pool-1-thread-5] INFO CoreNLP - [/127.0.0.1:39796] API call w/annotators tokenize,pos,lemma,ner,parse,depparse,coref\n",
      " 23%|██████████████▉                                                 | 347/1488 [00:39<02:01,  9.38it/s]"
     ]
    },
    {
     "name": "stdout",
     "output_type": "stream",
     "text": [
      "A NYPD police car in New York City.\n",
      "A cow stands in tall grass in the woods\n"
     ]
    },
    {
     "name": "stderr",
     "output_type": "stream",
     "text": [
      "[pool-1-thread-4] INFO CoreNLP - [/127.0.0.1:39818] API call w/annotators tokenize,pos,lemma,ner,parse,depparse,coref\n",
      " 23%|██████████████▉                                                 | 348/1488 [00:39<02:12,  8.62it/s][pool-1-thread-3] INFO CoreNLP - [/127.0.0.1:39844] API call w/annotators tokenize,pos,lemma,ner,parse,depparse,coref\n",
      " 23%|███████████████                                                 | 349/1488 [00:39<02:14,  8.47it/s]"
     ]
    },
    {
     "name": "stdout",
     "output_type": "stream",
     "text": [
      "A chair and contraption between a grandfather clock and a plaque on a floor.\n",
      "A tired cat lies on a couch next to a laptop.\n"
     ]
    },
    {
     "name": "stderr",
     "output_type": "stream",
     "text": [
      "[pool-1-thread-2] INFO CoreNLP - [/127.0.0.1:57870] API call w/annotators tokenize,pos,lemma,ner,parse,depparse,coref\n",
      " 24%|███████████████                                                 | 350/1488 [00:39<02:10,  8.75it/s][pool-1-thread-1] INFO CoreNLP - [/127.0.0.1:57890] API call w/annotators tokenize,pos,lemma,ner,parse,depparse,coref\n",
      " 24%|███████████████                                                 | 351/1488 [00:39<02:07,  8.92it/s]"
     ]
    },
    {
     "name": "stdout",
     "output_type": "stream",
     "text": [
      "A man holding a baseball walking across a walkway.\n",
      "A blue turboprop airplane races across the blue sky.\n"
     ]
    },
    {
     "name": "stderr",
     "output_type": "stream",
     "text": [
      "[pool-1-thread-5] INFO CoreNLP - [/127.0.0.1:57914] API call w/annotators tokenize,pos,lemma,ner,parse,depparse,coref\n",
      " 24%|███████████████▏                                                | 352/1488 [00:39<02:08,  8.86it/s][pool-1-thread-4] INFO CoreNLP - [/127.0.0.1:57926] API call w/annotators tokenize,pos,lemma,ner,parse,depparse,coref\n",
      " 24%|███████████████▏                                                | 353/1488 [00:39<02:04,  9.10it/s]"
     ]
    },
    {
     "name": "stdout",
     "output_type": "stream",
     "text": [
      "It looks like the cat is trying to open the luggage.\n",
      "A hand holding cellphone with desk in background.\n"
     ]
    },
    {
     "name": "stderr",
     "output_type": "stream",
     "text": [
      "[pool-1-thread-3] INFO CoreNLP - [/127.0.0.1:57944] API call w/annotators tokenize,pos,lemma,ner,parse,depparse,coref\n",
      " 24%|███████████████▏                                                | 354/1488 [00:39<02:04,  9.10it/s][pool-1-thread-2] INFO CoreNLP - [/127.0.0.1:57960] API call w/annotators tokenize,pos,lemma,ner,parse,depparse,coref\n",
      " 24%|███████████████▎                                                | 355/1488 [00:40<02:05,  9.00it/s]"
     ]
    },
    {
     "name": "stdout",
     "output_type": "stream",
     "text": [
      "The keyboard and computer mouse are sitting on the desk.\n",
      "A large green field with a bench in the foreground.\n"
     ]
    },
    {
     "name": "stderr",
     "output_type": "stream",
     "text": [
      "[pool-1-thread-1] INFO CoreNLP - [/127.0.0.1:57970] API call w/annotators tokenize,pos,lemma,ner,parse,depparse,coref\n",
      " 24%|███████████████▎                                                | 356/1488 [00:40<02:02,  9.23it/s][pool-1-thread-5] INFO CoreNLP - [/127.0.0.1:57978] API call w/annotators tokenize,pos,lemma,ner,parse,depparse,coref\n",
      " 24%|███████████████▎                                                | 357/1488 [00:40<02:01,  9.27it/s]"
     ]
    },
    {
     "name": "stdout",
     "output_type": "stream",
     "text": [
      "People engaging in activities in an open area. \n",
      "A brown teddy bear covered in mini  pizza boxes.\n"
     ]
    },
    {
     "name": "stderr",
     "output_type": "stream",
     "text": [
      "[pool-1-thread-4] INFO CoreNLP - [/127.0.0.1:58004] API call w/annotators tokenize,pos,lemma,ner,parse,depparse,coref\n",
      " 24%|███████████████▍                                                | 358/1488 [00:40<02:07,  8.83it/s][pool-1-thread-3] INFO CoreNLP - [/127.0.0.1:58036] API call w/annotators tokenize,pos,lemma,ner,parse,depparse,coref\n",
      " 24%|███████████████▍                                                | 359/1488 [00:40<02:10,  8.68it/s]"
     ]
    },
    {
     "name": "stdout",
     "output_type": "stream",
     "text": [
      "A double decker bus driving down a street next to a tall building.\n",
      "a close up of a young child using a pair of scissors\n"
     ]
    },
    {
     "name": "stderr",
     "output_type": "stream",
     "text": [
      "[pool-1-thread-2] INFO CoreNLP - [/127.0.0.1:58044] API call w/annotators tokenize,pos,lemma,ner,parse,depparse,coref\n",
      " 24%|███████████████▍                                                | 360/1488 [00:40<02:07,  8.82it/s][pool-1-thread-1] INFO CoreNLP - [/127.0.0.1:58068] API call w/annotators tokenize,pos,lemma,ner,parse,depparse,coref\n",
      " 24%|███████████████▌                                                | 361/1488 [00:40<02:03,  9.10it/s]"
     ]
    },
    {
     "name": "stdout",
     "output_type": "stream",
     "text": [
      "A person with a surfboard standing next to the water.\n",
      "The kid is riding his skateboard in the park\n"
     ]
    },
    {
     "name": "stderr",
     "output_type": "stream",
     "text": [
      "[pool-1-thread-5] INFO CoreNLP - [/127.0.0.1:58082] API call w/annotators tokenize,pos,lemma,ner,parse,depparse,coref\n",
      " 24%|███████████████▌                                                | 362/1488 [00:40<02:08,  8.76it/s][pool-1-thread-4] INFO CoreNLP - [/127.0.0.1:58104] API call w/annotators tokenize,pos,lemma,ner,parse,depparse,coref\n",
      " 24%|███████████████▌                                                | 363/1488 [00:40<02:06,  8.87it/s]"
     ]
    },
    {
     "name": "stdout",
     "output_type": "stream",
     "text": [
      "Many baseball players and umpires are on the field.\n",
      "an entrance a clock and some colonial arch type architecture\n"
     ]
    },
    {
     "name": "stderr",
     "output_type": "stream",
     "text": [
      "[pool-1-thread-3] INFO CoreNLP - [/127.0.0.1:58128] API call w/annotators tokenize,pos,lemma,ner,parse,depparse,coref\n",
      " 24%|███████████████▋                                                | 364/1488 [00:41<02:08,  8.74it/s][pool-1-thread-2] INFO CoreNLP - [/127.0.0.1:58148] API call w/annotators tokenize,pos,lemma,ner,parse,depparse,coref\n",
      " 25%|███████████████▋                                                | 365/1488 [00:41<02:12,  8.49it/s]"
     ]
    },
    {
     "name": "stdout",
     "output_type": "stream",
     "text": [
      "A bald man smiles and holds up an item for the picture.\n",
      "Vehicles parked along street with dome-topped building and arch in background.\n"
     ]
    },
    {
     "name": "stderr",
     "output_type": "stream",
     "text": [
      "[pool-1-thread-1] INFO CoreNLP - [/127.0.0.1:58152] API call w/annotators tokenize,pos,lemma,ner,parse,depparse,coref\n",
      " 25%|███████████████▋                                                | 366/1488 [00:41<02:09,  8.67it/s][pool-1-thread-5] INFO CoreNLP - [/127.0.0.1:58162] API call w/annotators tokenize,pos,lemma,ner,parse,depparse,coref\n",
      " 25%|███████████████▊                                                | 367/1488 [00:41<02:10,  8.57it/s]"
     ]
    },
    {
     "name": "stdout",
     "output_type": "stream",
     "text": [
      "There is a hand sticking out of the suit case. \n",
      "A person riding skis down the side of  a snow covered mountain.\n"
     ]
    },
    {
     "name": "stderr",
     "output_type": "stream",
     "text": [
      "[pool-1-thread-4] INFO CoreNLP - [/127.0.0.1:58176] API call w/annotators tokenize,pos,lemma,ner,parse,depparse,coref\n",
      " 25%|███████████████▊                                                | 368/1488 [00:41<02:12,  8.43it/s][pool-1-thread-3] INFO CoreNLP - [/127.0.0.1:58194] API call w/annotators tokenize,pos,lemma,ner,parse,depparse,coref\n",
      " 25%|███████████████▊                                                | 369/1488 [00:41<02:08,  8.69it/s]"
     ]
    },
    {
     "name": "stdout",
     "output_type": "stream",
     "text": [
      "Two old era planes flying in the sky next to each other. \n",
      "A cat walking across a pair of brown shoes.\n"
     ]
    },
    {
     "name": "stderr",
     "output_type": "stream",
     "text": [
      "[pool-1-thread-2] INFO CoreNLP - [/127.0.0.1:58224] API call w/annotators tokenize,pos,lemma,ner,parse,depparse,coref\n",
      " 25%|███████████████▉                                                | 370/1488 [00:41<02:06,  8.82it/s][pool-1-thread-1] INFO CoreNLP - [/127.0.0.1:58244] API call w/annotators tokenize,pos,lemma,ner,parse,depparse,coref\n",
      " 25%|███████████████▉                                                | 371/1488 [00:41<02:03,  9.07it/s]"
     ]
    },
    {
     "name": "stdout",
     "output_type": "stream",
     "text": [
      "Man in black shirt wake boarding over a rail.\n",
      "A small girl is standing holding a black umbrella.\n"
     ]
    },
    {
     "name": "stderr",
     "output_type": "stream",
     "text": [
      "[pool-1-thread-5] INFO CoreNLP - [/127.0.0.1:58258] API call w/annotators tokenize,pos,lemma,ner,parse,depparse,coref\n",
      " 25%|████████████████                                                | 372/1488 [00:41<02:04,  8.96it/s][pool-1-thread-4] INFO CoreNLP - [/127.0.0.1:58286] API call w/annotators tokenize,pos,lemma,ner,parse,depparse,coref\n",
      " 25%|████████████████                                                | 373/1488 [00:42<02:06,  8.85it/s]"
     ]
    },
    {
     "name": "stdout",
     "output_type": "stream",
     "text": [
      "A bear is scratching it's ear with it's foot.\n",
      "A railroad train that has graffiti on the side of it\n"
     ]
    },
    {
     "name": "stderr",
     "output_type": "stream",
     "text": [
      "[pool-1-thread-3] INFO CoreNLP - [/127.0.0.1:58308] API call w/annotators tokenize,pos,lemma,ner,parse,depparse,coref\n",
      " 25%|████████████████                                                | 374/1488 [00:42<02:07,  8.74it/s][pool-1-thread-2] INFO CoreNLP - [/127.0.0.1:58330] API call w/annotators tokenize,pos,lemma,ner,parse,depparse,coref\n",
      " 25%|████████████████▏                                               | 375/1488 [00:42<02:05,  8.86it/s]"
     ]
    },
    {
     "name": "stdout",
     "output_type": "stream",
     "text": [
      "A clock made of stone sits in front of the building.\n",
      "I can see that the hitter just hit the ball.\n"
     ]
    },
    {
     "name": "stderr",
     "output_type": "stream",
     "text": [
      "[pool-1-thread-1] INFO CoreNLP - [/127.0.0.1:58352] API call w/annotators tokenize,pos,lemma,ner,parse,depparse,coref\n",
      " 25%|████████████████▏                                               | 376/1488 [00:42<02:01,  9.13it/s][pool-1-thread-5] INFO CoreNLP - [/127.0.0.1:58366] API call w/annotators tokenize,pos,lemma,ner,parse,depparse,coref\n",
      " 25%|████████████████▏                                               | 377/1488 [00:42<02:03,  9.01it/s]"
     ]
    },
    {
     "name": "stdout",
     "output_type": "stream",
     "text": [
      "a person on a skate board does a trick \n",
      "Celery, tomatoes, crackers and dips upon a white plate.\n"
     ]
    },
    {
     "name": "stderr",
     "output_type": "stream",
     "text": [
      "[pool-1-thread-4] INFO CoreNLP - [/127.0.0.1:58394] API call w/annotators tokenize,pos,lemma,ner,parse,depparse,coref\n",
      " 25%|████████████████▎                                               | 378/1488 [00:42<02:00,  9.23it/s][pool-1-thread-3] INFO CoreNLP - [/127.0.0.1:58412] API call w/annotators tokenize,pos,lemma,ner,parse,depparse,coref\n",
      " 25%|████████████████▎                                               | 379/1488 [00:42<02:01,  9.11it/s]"
     ]
    },
    {
     "name": "stdout",
     "output_type": "stream",
     "text": [
      "A cat sitting on top of a televsion,\n",
      "A clock on a bell tower of an old church.\n"
     ]
    },
    {
     "name": "stderr",
     "output_type": "stream",
     "text": [
      "[pool-1-thread-2] INFO CoreNLP - [/127.0.0.1:58422] API call w/annotators tokenize,pos,lemma,ner,parse,depparse,coref\n"
     ]
    },
    {
     "name": "stdout",
     "output_type": "stream",
     "text": [
      "A man smiling and sitting in front of a plate of with a halved sandwich, fries and ketchup, on a table with salt and pepper shakers, and glass of dark beer.\n"
     ]
    },
    {
     "name": "stderr",
     "output_type": "stream",
     "text": [
      " 26%|████████████████▎                                               | 380/1488 [00:43<04:01,  4.59it/s][pool-1-thread-1] INFO CoreNLP - [/127.0.0.1:58442] API call w/annotators tokenize,pos,lemma,ner,parse,depparse,coref\n",
      " 26%|████████████████▍                                               | 381/1488 [00:43<03:26,  5.37it/s][pool-1-thread-5] INFO CoreNLP - [/127.0.0.1:58470] API call w/annotators tokenize,pos,lemma,ner,parse,depparse,coref\n",
      " 26%|████████████████▍                                               | 382/1488 [00:43<02:59,  6.15it/s]"
     ]
    },
    {
     "name": "stdout",
     "output_type": "stream",
     "text": [
      "A group of zebras that is standing in the grass.\n",
      "A plane that is flying in a clear blue sky.\n"
     ]
    },
    {
     "name": "stderr",
     "output_type": "stream",
     "text": [
      "[pool-1-thread-4] INFO CoreNLP - [/127.0.0.1:58498] API call w/annotators tokenize,pos,lemma,ner,parse,depparse,coref\n",
      " 26%|████████████████▍                                               | 383/1488 [00:43<02:42,  6.81it/s][pool-1-thread-3] INFO CoreNLP - [/127.0.0.1:58516] API call w/annotators tokenize,pos,lemma,ner,parse,depparse,coref\n",
      " 26%|████████████████▌                                               | 384/1488 [00:43<02:28,  7.41it/s]"
     ]
    },
    {
     "name": "stdout",
     "output_type": "stream",
     "text": [
      "two women in swimsuits riding horses in the water\n",
      "A view of a city from a clock tower.\n"
     ]
    },
    {
     "name": "stderr",
     "output_type": "stream",
     "text": [
      "[pool-1-thread-2] INFO CoreNLP - [/127.0.0.1:58540] API call w/annotators tokenize,pos,lemma,ner,parse,depparse,coref\n",
      " 26%|████████████████▌                                               | 385/1488 [00:43<02:18,  7.95it/s][pool-1-thread-1] INFO CoreNLP - [/127.0.0.1:58550] API call w/annotators tokenize,pos,lemma,ner,parse,depparse,coref\n",
      " 26%|████████████████▌                                               | 386/1488 [00:43<02:11,  8.39it/s]"
     ]
    },
    {
     "name": "stdout",
     "output_type": "stream",
     "text": [
      "Several men and women gather near a parked bus.\n",
      "A dog driving a blue vehicle down a street.\n"
     ]
    },
    {
     "name": "stderr",
     "output_type": "stream",
     "text": [
      "[pool-1-thread-5] INFO CoreNLP - [/127.0.0.1:58566] API call w/annotators tokenize,pos,lemma,ner,parse,depparse,coref\n",
      " 26%|████████████████▋                                               | 387/1488 [00:43<02:08,  8.59it/s][pool-1-thread-4] INFO CoreNLP - [/127.0.0.1:58578] API call w/annotators tokenize,pos,lemma,ner,parse,depparse,coref\n",
      " 26%|████████████████▋                                               | 388/1488 [00:44<02:05,  8.74it/s]"
     ]
    },
    {
     "name": "stdout",
     "output_type": "stream",
     "text": [
      "A green and black train sitting on top of snow.\n",
      "A person that is doing a trick in the air.\n"
     ]
    },
    {
     "name": "stderr",
     "output_type": "stream",
     "text": [
      "[pool-1-thread-3] INFO CoreNLP - [/127.0.0.1:58602] API call w/annotators tokenize,pos,lemma,ner,parse,depparse,coref\n",
      "[pool-1-thread-2] INFO CoreNLP - [/127.0.0.1:58622] API call w/annotators tokenize,pos,lemma,ner,parse,depparse,coref\n",
      " 26%|████████████████▊                                               | 390/1488 [00:44<02:04,  8.84it/s]"
     ]
    },
    {
     "name": "stdout",
     "output_type": "stream",
     "text": [
      "a man and a woman are playing outside.\n",
      "A decorative vase with a branch inside and a handmade deer decoration.\n"
     ]
    },
    {
     "name": "stderr",
     "output_type": "stream",
     "text": [
      "[pool-1-thread-1] INFO CoreNLP - [/127.0.0.1:58646] API call w/annotators tokenize,pos,lemma,ner,parse,depparse,coref\n",
      " 26%|████████████████▊                                               | 391/1488 [00:44<02:01,  9.05it/s][pool-1-thread-5] INFO CoreNLP - [/127.0.0.1:58652] API call w/annotators tokenize,pos,lemma,ner,parse,depparse,coref\n",
      " 26%|████████████████▊                                               | 392/1488 [00:44<02:00,  9.08it/s]"
     ]
    },
    {
     "name": "stdout",
     "output_type": "stream",
     "text": [
      "Two small beds with white and red sheets. \n",
      "A few people are walking on the beach carrying surfboards.\n"
     ]
    },
    {
     "name": "stderr",
     "output_type": "stream",
     "text": [
      "[pool-1-thread-4] INFO CoreNLP - [/127.0.0.1:58666] API call w/annotators tokenize,pos,lemma,ner,parse,depparse,coref\n",
      " 26%|████████████████▉                                               | 393/1488 [00:44<01:59,  9.13it/s][pool-1-thread-3] INFO CoreNLP - [/127.0.0.1:58674] API call w/annotators tokenize,pos,lemma,ner,parse,depparse,coref\n",
      " 26%|████████████████▉                                               | 394/1488 [00:44<01:59,  9.17it/s]"
     ]
    },
    {
     "name": "stdout",
     "output_type": "stream",
     "text": [
      "a group of people and their luggage at an airport\n",
      "A motorcycle parked behind a green truck near buildings..\n"
     ]
    },
    {
     "name": "stderr",
     "output_type": "stream",
     "text": [
      "[pool-1-thread-2] INFO CoreNLP - [/127.0.0.1:58694] API call w/annotators tokenize,pos,lemma,ner,parse,depparse,coref\n",
      " 27%|████████████████▉                                               | 395/1488 [00:44<01:58,  9.22it/s][pool-1-thread-1] INFO CoreNLP - [/127.0.0.1:58704] API call w/annotators tokenize,pos,lemma,ner,parse,depparse,coref\n",
      " 27%|█████████████████                                               | 396/1488 [00:44<02:09,  8.40it/s]"
     ]
    },
    {
     "name": "stdout",
     "output_type": "stream",
     "text": [
      "Bathroom vanity with double sinks and large mirrors.\n",
      "A small moving truck with the word \"ARCHIVE\" graffiti'd on the side.\n"
     ]
    },
    {
     "name": "stderr",
     "output_type": "stream",
     "text": [
      "[pool-1-thread-5] INFO CoreNLP - [/127.0.0.1:58726] API call w/annotators tokenize,pos,lemma,ner,parse,depparse,coref\n",
      " 27%|█████████████████                                               | 397/1488 [00:45<02:10,  8.34it/s][pool-1-thread-4] INFO CoreNLP - [/127.0.0.1:58740] API call w/annotators tokenize,pos,lemma,ner,parse,depparse,coref\n",
      " 27%|█████████████████                                               | 398/1488 [00:45<02:13,  8.15it/s]"
     ]
    },
    {
     "name": "stdout",
     "output_type": "stream",
     "text": [
      "A street sign reads \"Hannah-Arendt-Strafze\" on the corner.\n",
      "A remote is sitting on a tabletop in clear view of the television.\n"
     ]
    },
    {
     "name": "stderr",
     "output_type": "stream",
     "text": [
      "[pool-1-thread-3] INFO CoreNLP - [/127.0.0.1:58764] API call w/annotators tokenize,pos,lemma,ner,parse,depparse,coref\n",
      " 27%|█████████████████▏                                              | 399/1488 [00:45<02:08,  8.48it/s][pool-1-thread-2] INFO CoreNLP - [/127.0.0.1:58788] API call w/annotators tokenize,pos,lemma,ner,parse,depparse,coref\n"
     ]
    },
    {
     "name": "stdout",
     "output_type": "stream",
     "text": [
      "A golden stoned elevator has a clock above it. \n",
      "a stop sign has some graffiti on it \n"
     ]
    },
    {
     "name": "stderr",
     "output_type": "stream",
     "text": [
      "[pool-1-thread-1] INFO CoreNLP - [/127.0.0.1:58802] API call w/annotators tokenize,pos,lemma,ner,parse,depparse,coref\n",
      " 27%|█████████████████▏                                              | 401/1488 [00:45<02:00,  9.03it/s][pool-1-thread-5] INFO CoreNLP - [/127.0.0.1:58812] API call w/annotators tokenize,pos,lemma,ner,parse,depparse,coref\n",
      " 27%|█████████████████▎                                              | 402/1488 [00:45<01:58,  9.13it/s]"
     ]
    },
    {
     "name": "stdout",
     "output_type": "stream",
     "text": [
      "a tennis court that has a man with a racket\n",
      "A bear is playing with a ball in the zoo\n"
     ]
    },
    {
     "name": "stderr",
     "output_type": "stream",
     "text": [
      "[pool-1-thread-4] INFO CoreNLP - [/127.0.0.1:58838] API call w/annotators tokenize,pos,lemma,ner,parse,depparse,coref\n",
      " 27%|█████████████████▎                                              | 403/1488 [00:45<02:00,  9.03it/s][pool-1-thread-3] INFO CoreNLP - [/127.0.0.1:58854] API call w/annotators tokenize,pos,lemma,ner,parse,depparse,coref\n"
     ]
    },
    {
     "name": "stdout",
     "output_type": "stream",
     "text": [
      "A bird is sitting on the top of a leafy branch.\n",
      "Airport workers putting luggage into an airplane. \n"
     ]
    },
    {
     "name": "stderr",
     "output_type": "stream",
     "text": [
      "[pool-1-thread-2] INFO CoreNLP - [/127.0.0.1:58866] API call w/annotators tokenize,pos,lemma,ner,parse,depparse,coref\n",
      " 27%|█████████████████▍                                              | 405/1488 [00:45<01:58,  9.10it/s][pool-1-thread-1] INFO CoreNLP - [/127.0.0.1:58886] API call w/annotators tokenize,pos,lemma,ner,parse,depparse,coref\n",
      " 27%|█████████████████▍                                              | 406/1488 [00:46<02:02,  8.83it/s]"
     ]
    },
    {
     "name": "stdout",
     "output_type": "stream",
     "text": [
      "there are a few people standing on a dock next to a building\n",
      "A computer desk with a laptop, desktop monitors and a television.\n"
     ]
    },
    {
     "name": "stderr",
     "output_type": "stream",
     "text": [
      "[pool-1-thread-5] INFO CoreNLP - [/127.0.0.1:58892] API call w/annotators tokenize,pos,lemma,ner,parse,depparse,coref\n",
      " 27%|█████████████████▌                                              | 407/1488 [00:46<02:19,  7.74it/s][pool-1-thread-4] INFO CoreNLP - [/127.0.0.1:58896] API call w/annotators tokenize,pos,lemma,ner,parse,depparse,coref\n"
     ]
    },
    {
     "name": "stdout",
     "output_type": "stream",
     "text": [
      "A bronze statue of two swans and a clock on the face of a building in the background\n",
      "A haw sits perched on top of a bench in the woods\n"
     ]
    },
    {
     "name": "stderr",
     "output_type": "stream",
     "text": [
      " 27%|█████████████████▌                                              | 408/1488 [00:46<02:16,  7.92it/s][pool-1-thread-3] INFO CoreNLP - [/127.0.0.1:58924] API call w/annotators tokenize,pos,lemma,ner,parse,depparse,coref\n",
      " 27%|█████████████████▌                                              | 409/1488 [00:46<02:13,  8.09it/s][pool-1-thread-2] INFO CoreNLP - [/127.0.0.1:58936] API call w/annotators tokenize,pos,lemma,ner,parse,depparse,coref\n",
      " 28%|█████████████████▋                                              | 410/1488 [00:46<02:08,  8.41it/s]"
     ]
    },
    {
     "name": "stdout",
     "output_type": "stream",
     "text": [
      "A stone church with a blue clock on the outside wall. \n",
      "A large cat is laying belly up on the bed\n"
     ]
    },
    {
     "name": "stderr",
     "output_type": "stream",
     "text": [
      "[pool-1-thread-1] INFO CoreNLP - [/127.0.0.1:58946] API call w/annotators tokenize,pos,lemma,ner,parse,depparse,coref\n",
      " 28%|█████████████████▋                                              | 411/1488 [00:46<02:02,  8.78it/s][pool-1-thread-5] INFO CoreNLP - [/127.0.0.1:58954] API call w/annotators tokenize,pos,lemma,ner,parse,depparse,coref\n",
      " 28%|█████████████████▋                                              | 412/1488 [00:46<02:01,  8.87it/s]"
     ]
    },
    {
     "name": "stdout",
     "output_type": "stream",
     "text": [
      "People flying different kites at around the same area\n",
      "The pizza is on the plate and ready to be eaten\n"
     ]
    },
    {
     "name": "stderr",
     "output_type": "stream",
     "text": [
      "[pool-1-thread-4] INFO CoreNLP - [/127.0.0.1:58958] API call w/annotators tokenize,pos,lemma,ner,parse,depparse,coref\n",
      " 28%|█████████████████▊                                              | 413/1488 [00:46<02:04,  8.65it/s][pool-1-thread-3] INFO CoreNLP - [/127.0.0.1:58972] API call w/annotators tokenize,pos,lemma,ner,parse,depparse,coref\n",
      " 28%|█████████████████▊                                              | 414/1488 [00:47<02:03,  8.69it/s]"
     ]
    },
    {
     "name": "stdout",
     "output_type": "stream",
     "text": [
      "A red stop sign with the word \" Hammer Time \". written on it.\n",
      "A plate topped with two grilled sandwiches and a knife.\n"
     ]
    },
    {
     "name": "stderr",
     "output_type": "stream",
     "text": [
      "[pool-1-thread-2] INFO CoreNLP - [/127.0.0.1:58992] API call w/annotators tokenize,pos,lemma,ner,parse,depparse,coref\n",
      " 28%|█████████████████▊                                              | 415/1488 [00:47<02:04,  8.65it/s][pool-1-thread-1] INFO CoreNLP - [/127.0.0.1:59002] API call w/annotators tokenize,pos,lemma,ner,parse,depparse,coref\n",
      " 28%|█████████████████▉                                              | 416/1488 [00:47<02:04,  8.64it/s]"
     ]
    },
    {
     "name": "stdout",
     "output_type": "stream",
     "text": [
      "a man that is standing up with a cord in his hand\n",
      "A welcome mat and a yellow vase outside apartment 407.\n"
     ]
    },
    {
     "name": "stderr",
     "output_type": "stream",
     "text": [
      "[pool-1-thread-5] INFO CoreNLP - [/127.0.0.1:59012] API call w/annotators tokenize,pos,lemma,ner,parse,depparse,coref\n",
      " 28%|█████████████████▉                                              | 417/1488 [00:47<02:03,  8.65it/s][pool-1-thread-4] INFO CoreNLP - [/127.0.0.1:59030] API call w/annotators tokenize,pos,lemma,ner,parse,depparse,coref\n",
      " 28%|█████████████████▉                                              | 418/1488 [00:47<02:04,  8.58it/s]"
     ]
    },
    {
     "name": "stdout",
     "output_type": "stream",
     "text": [
      "A man holding a racket with a banner written underneath him.\n",
      "A plate that has a loaves of bread on it.\n"
     ]
    },
    {
     "name": "stderr",
     "output_type": "stream",
     "text": [
      "[pool-1-thread-3] INFO CoreNLP - [/127.0.0.1:59058] API call w/annotators tokenize,pos,lemma,ner,parse,depparse,coref\n",
      " 28%|██████████████████                                              | 419/1488 [00:47<02:12,  8.07it/s][pool-1-thread-2] INFO CoreNLP - [/127.0.0.1:59078] API call w/annotators tokenize,pos,lemma,ner,parse,depparse,coref\n",
      " 28%|██████████████████                                              | 420/1488 [00:47<02:08,  8.33it/s]"
     ]
    },
    {
     "name": "stdout",
     "output_type": "stream",
     "text": [
      "Two pictures one with a police officer and the other with a drag queen.\n",
      "a pizza being cooked in an oven with a clear door\n"
     ]
    },
    {
     "name": "stderr",
     "output_type": "stream",
     "text": [
      "[pool-1-thread-1] INFO CoreNLP - [/127.0.0.1:59090] API call w/annotators tokenize,pos,lemma,ner,parse,depparse,coref\n",
      " 28%|██████████████████                                              | 421/1488 [00:47<02:03,  8.63it/s][pool-1-thread-5] INFO CoreNLP - [/127.0.0.1:59120] API call w/annotators tokenize,pos,lemma,ner,parse,depparse,coref\n",
      " 28%|██████████████████▏                                             | 422/1488 [00:47<01:58,  8.98it/s]"
     ]
    },
    {
     "name": "stdout",
     "output_type": "stream",
     "text": [
      "A school bus on the road behind a truck.\n",
      "A traffic sign with multiple stickers on it. \n"
     ]
    },
    {
     "name": "stderr",
     "output_type": "stream",
     "text": [
      "[pool-1-thread-4] INFO CoreNLP - [/127.0.0.1:59140] API call w/annotators tokenize,pos,lemma,ner,parse,depparse,coref\n",
      " 28%|██████████████████▏                                             | 423/1488 [00:48<02:06,  8.45it/s][pool-1-thread-3] INFO CoreNLP - [/127.0.0.1:59144] API call w/annotators tokenize,pos,lemma,ner,parse,depparse,coref\n"
     ]
    },
    {
     "name": "stdout",
     "output_type": "stream",
     "text": [
      "A close-up of a man on a motorcycle pointing out the camera.\n",
      "An older person lays in bed with a small dog and large cat cuddled up.\n"
     ]
    },
    {
     "name": "stderr",
     "output_type": "stream",
     "text": [
      " 28%|██████████████████▏                                             | 424/1488 [00:48<02:13,  7.97it/s][pool-1-thread-2] INFO CoreNLP - [/127.0.0.1:59170] API call w/annotators tokenize,pos,lemma,ner,parse,depparse,coref\n",
      " 29%|██████████████████▎                                             | 425/1488 [00:48<02:11,  8.08it/s][pool-1-thread-1] INFO CoreNLP - [/127.0.0.1:59198] API call w/annotators tokenize,pos,lemma,ner,parse,depparse,coref\n",
      " 29%|██████████████████▎                                             | 426/1488 [00:48<02:05,  8.46it/s]"
     ]
    },
    {
     "name": "stdout",
     "output_type": "stream",
     "text": [
      "A dog laying on something while looking at himself in a mirror. \n",
      "Tennis player posed and ready to hit the ball.\n"
     ]
    },
    {
     "name": "stderr",
     "output_type": "stream",
     "text": [
      "[pool-1-thread-5] INFO CoreNLP - [/127.0.0.1:59222] API call w/annotators tokenize,pos,lemma,ner,parse,depparse,coref\n",
      " 29%|██████████████████▎                                             | 427/1488 [00:48<02:02,  8.70it/s][pool-1-thread-4] INFO CoreNLP - [/127.0.0.1:59242] API call w/annotators tokenize,pos,lemma,ner,parse,depparse,coref\n",
      " 29%|██████████████████▍                                             | 428/1488 [00:48<02:00,  8.80it/s]"
     ]
    },
    {
     "name": "stdout",
     "output_type": "stream",
     "text": [
      "a baby girl with a tooth brush in her mouth\n",
      "A man standing next to two black cows in a field\n"
     ]
    },
    {
     "name": "stderr",
     "output_type": "stream",
     "text": [
      "[pool-1-thread-3] INFO CoreNLP - [/127.0.0.1:59264] API call w/annotators tokenize,pos,lemma,ner,parse,depparse,coref\n",
      " 29%|██████████████████▍                                             | 429/1488 [00:48<01:56,  9.06it/s][pool-1-thread-2] INFO CoreNLP - [/127.0.0.1:59286] API call w/annotators tokenize,pos,lemma,ner,parse,depparse,coref\n",
      " 29%|██████████████████▍                                             | 430/1488 [00:48<02:00,  8.80it/s]"
     ]
    },
    {
     "name": "stdout",
     "output_type": "stream",
     "text": [
      "A loft bed with a dresser underneath it.\n",
      "The batter is is at bat and is tracking the pitch.\n"
     ]
    },
    {
     "name": "stderr",
     "output_type": "stream",
     "text": [
      "[pool-1-thread-1] INFO CoreNLP - [/127.0.0.1:59300] API call w/annotators tokenize,pos,lemma,ner,parse,depparse,coref\n",
      " 29%|██████████████████▌                                             | 431/1488 [00:49<01:59,  8.82it/s][pool-1-thread-5] INFO CoreNLP - [/127.0.0.1:59316] API call w/annotators tokenize,pos,lemma,ner,parse,depparse,coref\n",
      " 29%|██████████████████▌                                             | 432/1488 [00:49<01:57,  9.00it/s]"
     ]
    },
    {
     "name": "stdout",
     "output_type": "stream",
     "text": [
      "Seven giraffe are standing around a bush in a field.\n",
      "A male tennis player engaged in a competitive match.\n"
     ]
    },
    {
     "name": "stderr",
     "output_type": "stream",
     "text": [
      "[pool-1-thread-4] INFO CoreNLP - [/127.0.0.1:59334] API call w/annotators tokenize,pos,lemma,ner,parse,depparse,coref\n",
      " 29%|██████████████████▌                                             | 433/1488 [00:49<01:57,  8.94it/s][pool-1-thread-3] INFO CoreNLP - [/127.0.0.1:59350] API call w/annotators tokenize,pos,lemma,ner,parse,depparse,coref\n",
      " 29%|██████████████████▋                                             | 434/1488 [00:49<01:57,  9.00it/s]"
     ]
    },
    {
     "name": "stdout",
     "output_type": "stream",
     "text": [
      "A person petting a dog in front of a bookshelf.\n",
      "some one in the bath room laying in the bath\n"
     ]
    },
    {
     "name": "stderr",
     "output_type": "stream",
     "text": [
      "[pool-1-thread-2] INFO CoreNLP - [/127.0.0.1:59370] API call w/annotators tokenize,pos,lemma,ner,parse,depparse,coref\n",
      " 29%|██████████████████▋                                             | 435/1488 [00:49<02:01,  8.69it/s][pool-1-thread-1] INFO CoreNLP - [/127.0.0.1:37434] API call w/annotators tokenize,pos,lemma,ner,parse,depparse,coref\n",
      " 29%|██████████████████▊                                             | 436/1488 [00:49<02:08,  8.18it/s]"
     ]
    },
    {
     "name": "stdout",
     "output_type": "stream",
     "text": [
      "A feet of a person with blue slippers standing next to a toilet\n",
      "a black couch a green chair a red chair a mirror and a ceiling fan\n"
     ]
    },
    {
     "name": "stderr",
     "output_type": "stream",
     "text": [
      "[pool-1-thread-5] INFO CoreNLP - [/127.0.0.1:37442] API call w/annotators tokenize,pos,lemma,ner,parse,depparse,coref\n",
      " 29%|██████████████████▊                                             | 437/1488 [00:49<02:01,  8.64it/s][pool-1-thread-4] INFO CoreNLP - [/127.0.0.1:37464] API call w/annotators tokenize,pos,lemma,ner,parse,depparse,coref\n",
      " 29%|██████████████████▊                                             | 438/1488 [00:49<01:59,  8.82it/s]"
     ]
    },
    {
     "name": "stdout",
     "output_type": "stream",
     "text": [
      "a person sitting on a bench reading a book\n",
      "A car with open doors is towing boating equipment.\n"
     ]
    },
    {
     "name": "stderr",
     "output_type": "stream",
     "text": [
      "[pool-1-thread-3] INFO CoreNLP - [/127.0.0.1:37490] API call w/annotators tokenize,pos,lemma,ner,parse,depparse,coref\n",
      " 30%|██████████████████▉                                             | 439/1488 [00:49<01:56,  9.02it/s][pool-1-thread-2] INFO CoreNLP - [/127.0.0.1:37508] API call w/annotators tokenize,pos,lemma,ner,parse,depparse,coref\n",
      " 30%|██████████████████▉                                             | 440/1488 [00:50<01:54,  9.11it/s]"
     ]
    },
    {
     "name": "stdout",
     "output_type": "stream",
     "text": [
      "A big yellow furniture truck driving down the street.\n",
      "A boy performs a skateboarding stunt in a skate park\n"
     ]
    },
    {
     "name": "stderr",
     "output_type": "stream",
     "text": [
      "[pool-1-thread-1] INFO CoreNLP - [/127.0.0.1:37526] API call w/annotators tokenize,pos,lemma,ner,parse,depparse,coref\n",
      " 30%|██████████████████▉                                             | 441/1488 [00:50<02:04,  8.44it/s][pool-1-thread-5] INFO CoreNLP - [/127.0.0.1:37550] API call w/annotators tokenize,pos,lemma,ner,parse,depparse,coref\n",
      " 30%|███████████████████                                             | 442/1488 [00:50<02:02,  8.54it/s]"
     ]
    },
    {
     "name": "stdout",
     "output_type": "stream",
     "text": [
      "a white dog wal,ing across the grass while holding onto a red frisbee \n",
      "An Apple iPhone in the back pocket of beaded jeans.\n"
     ]
    },
    {
     "name": "stderr",
     "output_type": "stream",
     "text": [
      "[pool-1-thread-4] INFO CoreNLP - [/127.0.0.1:37560] API call w/annotators tokenize,pos,lemma,ner,parse,depparse,coref\n",
      " 30%|███████████████████                                             | 443/1488 [00:50<01:57,  8.87it/s][pool-1-thread-3] INFO CoreNLP - [/127.0.0.1:37582] API call w/annotators tokenize,pos,lemma,ner,parse,depparse,coref\n",
      " 30%|███████████████████                                             | 444/1488 [00:50<01:55,  9.04it/s]"
     ]
    },
    {
     "name": "stdout",
     "output_type": "stream",
     "text": [
      "The kitchen has dark colored cabinets but clean. \n",
      "Two light brown cows standing inside of gated corral.\n"
     ]
    },
    {
     "name": "stderr",
     "output_type": "stream",
     "text": [
      "[pool-1-thread-2] INFO CoreNLP - [/127.0.0.1:37604] API call w/annotators tokenize,pos,lemma,ner,parse,depparse,coref\n",
      " 30%|███████████████████▏                                            | 445/1488 [00:50<01:53,  9.17it/s][pool-1-thread-1] INFO CoreNLP - [/127.0.0.1:37622] API call w/annotators tokenize,pos,lemma,ner,parse,depparse,coref\n",
      " 30%|███████████████████▏                                            | 446/1488 [00:50<01:52,  9.27it/s]"
     ]
    },
    {
     "name": "stdout",
     "output_type": "stream",
     "text": [
      "a meat ball and cheese sub on toasted bread \n",
      "A horse standing in a field by a fence.\n"
     ]
    },
    {
     "name": "stderr",
     "output_type": "stream",
     "text": [
      "[pool-1-thread-5] INFO CoreNLP - [/127.0.0.1:37636] API call w/annotators tokenize,pos,lemma,ner,parse,depparse,coref\n",
      " 30%|███████████████████▏                                            | 447/1488 [00:50<01:53,  9.17it/s][pool-1-thread-4] INFO CoreNLP - [/127.0.0.1:37648] API call w/annotators tokenize,pos,lemma,ner,parse,depparse,coref\n"
     ]
    },
    {
     "name": "stdout",
     "output_type": "stream",
     "text": [
      "two people playing with a frisbee in a green yard.\n",
      "A sink with some dishes to the side\n"
     ]
    },
    {
     "name": "stderr",
     "output_type": "stream",
     "text": [
      "[pool-1-thread-3] INFO CoreNLP - [/127.0.0.1:37660] API call w/annotators tokenize,pos,lemma,ner,parse,depparse,coref\n",
      " 30%|███████████████████▎                                            | 449/1488 [00:51<01:50,  9.41it/s][pool-1-thread-2] INFO CoreNLP - [/127.0.0.1:37680] API call w/annotators tokenize,pos,lemma,ner,parse,depparse,coref\n",
      " 30%|███████████████████▎                                            | 450/1488 [00:51<01:50,  9.40it/s]"
     ]
    },
    {
     "name": "stdout",
     "output_type": "stream",
     "text": [
      "Soccer player wearing red and black kicking at a ball. \n",
      "A man with a tie jumping in the air.\n"
     ]
    },
    {
     "name": "stderr",
     "output_type": "stream",
     "text": [
      "[pool-1-thread-1] INFO CoreNLP - [/127.0.0.1:37694] API call w/annotators tokenize,pos,lemma,ner,parse,depparse,coref\n",
      " 30%|███████████████████▍                                            | 451/1488 [00:51<01:53,  9.14it/s][pool-1-thread-5] INFO CoreNLP - [/127.0.0.1:37714] API call w/annotators tokenize,pos,lemma,ner,parse,depparse,coref\n",
      " 30%|███████████████████▍                                            | 452/1488 [00:51<01:51,  9.31it/s]"
     ]
    },
    {
     "name": "stdout",
     "output_type": "stream",
     "text": [
      "A small dog sitting on a car seat next to a window.\n",
      "A grey fighter jet in blue cloudy sky.\n"
     ]
    },
    {
     "name": "stderr",
     "output_type": "stream",
     "text": [
      "[pool-1-thread-4] INFO CoreNLP - [/127.0.0.1:37742] API call w/annotators tokenize,pos,lemma,ner,parse,depparse,coref\n",
      " 30%|███████████████████▍                                            | 453/1488 [00:51<02:01,  8.55it/s][pool-1-thread-3] INFO CoreNLP - [/127.0.0.1:37766] API call w/annotators tokenize,pos,lemma,ner,parse,depparse,coref\n",
      " 31%|███████████████████▌                                            | 454/1488 [00:51<02:02,  8.47it/s]"
     ]
    },
    {
     "name": "stdout",
     "output_type": "stream",
     "text": [
      "a mother and little girl standing next to a bench with two bears sitting on it\n",
      "A book case with a white and black clock above it.\n"
     ]
    },
    {
     "name": "stderr",
     "output_type": "stream",
     "text": [
      "[pool-1-thread-2] INFO CoreNLP - [/127.0.0.1:37780] API call w/annotators tokenize,pos,lemma,ner,parse,depparse,coref\n",
      " 31%|███████████████████▌                                            | 455/1488 [00:51<01:59,  8.63it/s][pool-1-thread-1] INFO CoreNLP - [/127.0.0.1:37794] API call w/annotators tokenize,pos,lemma,ner,parse,depparse,coref\n",
      " 31%|███████████████████▌                                            | 456/1488 [00:51<02:03,  8.39it/s]"
     ]
    },
    {
     "name": "stdout",
     "output_type": "stream",
     "text": [
      "A bus travelling on a street next to a car. \n",
      "A gigantic size pizza on a table in front of a woman. \n"
     ]
    },
    {
     "name": "stderr",
     "output_type": "stream",
     "text": [
      "[pool-1-thread-5] INFO CoreNLP - [/127.0.0.1:37820] API call w/annotators tokenize,pos,lemma,ner,parse,depparse,coref\n",
      " 31%|███████████████████▋                                            | 457/1488 [00:51<02:00,  8.57it/s][pool-1-thread-4] INFO CoreNLP - [/127.0.0.1:37848] API call w/annotators tokenize,pos,lemma,ner,parse,depparse,coref\n",
      " 31%|███████████████████▋                                            | 458/1488 [00:52<01:56,  8.82it/s]"
     ]
    },
    {
     "name": "stdout",
     "output_type": "stream",
     "text": [
      "Man driving a fire truck with two women as passengers.\n",
      "A fire hydrant on the side of the road.\n"
     ]
    },
    {
     "name": "stderr",
     "output_type": "stream",
     "text": [
      "[pool-1-thread-3] INFO CoreNLP - [/127.0.0.1:37876] API call w/annotators tokenize,pos,lemma,ner,parse,depparse,coref\n",
      " 31%|███████████████████▋                                            | 459/1488 [00:52<01:56,  8.83it/s][pool-1-thread-2] INFO CoreNLP - [/127.0.0.1:37902] API call w/annotators tokenize,pos,lemma,ner,parse,depparse,coref\n",
      " 31%|███████████████████▊                                            | 460/1488 [00:52<01:55,  8.90it/s]"
     ]
    },
    {
     "name": "stdout",
     "output_type": "stream",
     "text": [
      "Men with helmets on motorcycles driving on a hilly road. \n",
      "A baby blue refrigerator, or perhaps a pizza oven.\n"
     ]
    },
    {
     "name": "stderr",
     "output_type": "stream",
     "text": [
      "[pool-1-thread-1] INFO CoreNLP - [/127.0.0.1:37918] API call w/annotators tokenize,pos,lemma,ner,parse,depparse,coref\n",
      " 31%|███████████████████▊                                            | 461/1488 [00:52<02:02,  8.38it/s][pool-1-thread-5] INFO CoreNLP - [/127.0.0.1:37932] API call w/annotators tokenize,pos,lemma,ner,parse,depparse,coref\n",
      " 31%|███████████████████▊                                            | 462/1488 [00:52<02:06,  8.09it/s]"
     ]
    },
    {
     "name": "stdout",
     "output_type": "stream",
     "text": [
      "A woman laying on a couch with a white cat on top of her.\n",
      "A couple sitting on a bench by a tree in front of a building.\n"
     ]
    },
    {
     "name": "stderr",
     "output_type": "stream",
     "text": [
      "[pool-1-thread-4] INFO CoreNLP - [/127.0.0.1:37956] API call w/annotators tokenize,pos,lemma,ner,parse,depparse,coref\n",
      " 31%|███████████████████▉                                            | 463/1488 [00:52<02:05,  8.16it/s][pool-1-thread-3] INFO CoreNLP - [/127.0.0.1:37974] API call w/annotators tokenize,pos,lemma,ner,parse,depparse,coref\n",
      " 31%|███████████████████▉                                            | 464/1488 [00:52<02:04,  8.23it/s]"
     ]
    },
    {
     "name": "stdout",
     "output_type": "stream",
     "text": [
      "There are two pizzas sitting atop wide racks on a counter top.\n",
      "A couple of doughnuts on a napkin on a table.\n"
     ]
    },
    {
     "name": "stderr",
     "output_type": "stream",
     "text": [
      "[pool-1-thread-2] INFO CoreNLP - [/127.0.0.1:37988] API call w/annotators tokenize,pos,lemma,ner,parse,depparse,coref\n",
      " 31%|████████████████████                                            | 465/1488 [00:52<02:04,  8.22it/s][pool-1-thread-1] INFO CoreNLP - [/127.0.0.1:38004] API call w/annotators tokenize,pos,lemma,ner,parse,depparse,coref\n",
      " 31%|████████████████████                                            | 466/1488 [00:53<02:02,  8.35it/s]"
     ]
    },
    {
     "name": "stdout",
     "output_type": "stream",
     "text": [
      "The tray has two large hot dogs and one regular hot dog. \n",
      "A kitten peeking out from behind a tablecloth on a chair.\n"
     ]
    },
    {
     "name": "stderr",
     "output_type": "stream",
     "text": [
      "[pool-1-thread-5] INFO CoreNLP - [/127.0.0.1:38022] API call w/annotators tokenize,pos,lemma,ner,parse,depparse,coref\n",
      " 31%|████████████████████                                            | 467/1488 [00:53<02:03,  8.28it/s][pool-1-thread-4] INFO CoreNLP - [/127.0.0.1:38038] API call w/annotators tokenize,pos,lemma,ner,parse,depparse,coref\n",
      " 31%|████████████████████▏                                           | 468/1488 [00:53<01:57,  8.70it/s]"
     ]
    },
    {
     "name": "stdout",
     "output_type": "stream",
     "text": [
      "an odd looking fire  hydrant with a pair of gloves on the ground\n",
      "A airplane that is flying in the sky.\n"
     ]
    },
    {
     "name": "stderr",
     "output_type": "stream",
     "text": [
      "[pool-1-thread-3] INFO CoreNLP - [/127.0.0.1:38062] API call w/annotators tokenize,pos,lemma,ner,parse,depparse,coref\n",
      " 32%|████████████████████▏                                           | 469/1488 [00:53<01:55,  8.79it/s][pool-1-thread-2] INFO CoreNLP - [/127.0.0.1:38078] API call w/annotators tokenize,pos,lemma,ner,parse,depparse,coref\n",
      " 32%|████████████████████▏                                           | 470/1488 [00:53<01:59,  8.53it/s]"
     ]
    },
    {
     "name": "stdout",
     "output_type": "stream",
     "text": [
      "A little girl taking a bite out of a apple. \n",
      "A sailboat in a river with people and a dog on it. \n"
     ]
    },
    {
     "name": "stderr",
     "output_type": "stream",
     "text": [
      "[pool-1-thread-1] INFO CoreNLP - [/127.0.0.1:38092] API call w/annotators tokenize,pos,lemma,ner,parse,depparse,coref\n",
      " 32%|████████████████████▎                                           | 471/1488 [00:53<02:07,  7.98it/s][pool-1-thread-5] INFO CoreNLP - [/127.0.0.1:38124] API call w/annotators tokenize,pos,lemma,ner,parse,depparse,coref\n",
      " 32%|████████████████████▎                                           | 472/1488 [00:53<02:03,  8.24it/s]"
     ]
    },
    {
     "name": "stdout",
     "output_type": "stream",
     "text": [
      "A donut with captain crunch cereal on it, and a cup of coffee.\n",
      "Pink flowers sitting in a flower pot full of water. \n"
     ]
    },
    {
     "name": "stderr",
     "output_type": "stream",
     "text": [
      "[pool-1-thread-4] INFO CoreNLP - [/127.0.0.1:38148] API call w/annotators tokenize,pos,lemma,ner,parse,depparse,coref\n",
      " 32%|████████████████████▎                                           | 473/1488 [00:53<01:59,  8.50it/s][pool-1-thread-3] INFO CoreNLP - [/127.0.0.1:38158] API call w/annotators tokenize,pos,lemma,ner,parse,depparse,coref\n",
      " 32%|████████████████████▍                                           | 474/1488 [00:54<01:58,  8.55it/s]"
     ]
    },
    {
     "name": "stdout",
     "output_type": "stream",
     "text": [
      "A person performs snowboard tricks while a crowd looks on.\n",
      "The bus driver is picking up people to bring to their destination\n"
     ]
    },
    {
     "name": "stderr",
     "output_type": "stream",
     "text": [
      "[pool-1-thread-2] INFO CoreNLP - [/127.0.0.1:38180] API call w/annotators tokenize,pos,lemma,ner,parse,depparse,coref\n",
      " 32%|████████████████████▍                                           | 475/1488 [00:54<01:55,  8.75it/s][pool-1-thread-1] INFO CoreNLP - [/127.0.0.1:38192] API call w/annotators tokenize,pos,lemma,ner,parse,depparse,coref\n",
      " 32%|████████████████████▍                                           | 476/1488 [00:54<01:54,  8.87it/s]"
     ]
    },
    {
     "name": "stdout",
     "output_type": "stream",
     "text": [
      "A man surfing a small wave with a paddle\n",
      "an image of a bowl of tomatoes and a flower\n"
     ]
    },
    {
     "name": "stderr",
     "output_type": "stream",
     "text": [
      "[pool-1-thread-5] INFO CoreNLP - [/127.0.0.1:38204] API call w/annotators tokenize,pos,lemma,ner,parse,depparse,coref\n",
      " 32%|████████████████████▌                                           | 477/1488 [00:54<01:50,  9.11it/s][pool-1-thread-4] INFO CoreNLP - [/127.0.0.1:38226] API call w/annotators tokenize,pos,lemma,ner,parse,depparse,coref\n",
      " 32%|████████████████████▌                                           | 478/1488 [00:54<01:48,  9.34it/s]"
     ]
    },
    {
     "name": "stdout",
     "output_type": "stream",
     "text": [
      "a herd of zebras together in a savannah.\n",
      "People are lounging on the beach under umbrellas.\n"
     ]
    },
    {
     "name": "stderr",
     "output_type": "stream",
     "text": [
      "[pool-1-thread-3] INFO CoreNLP - [/127.0.0.1:38246] API call w/annotators tokenize,pos,lemma,ner,parse,depparse,coref\n",
      " 32%|████████████████████▌                                           | 479/1488 [00:54<01:51,  9.09it/s][pool-1-thread-2] INFO CoreNLP - [/127.0.0.1:38256] API call w/annotators tokenize,pos,lemma,ner,parse,depparse,coref\n",
      " 32%|████████████████████▋                                           | 480/1488 [00:54<01:50,  9.12it/s]"
     ]
    },
    {
     "name": "stdout",
     "output_type": "stream",
     "text": [
      "A tennis player serves the ball in front of an audience. \n",
      "A motorcycle is parked on a road by a beach.\n"
     ]
    },
    {
     "name": "stderr",
     "output_type": "stream",
     "text": [
      "[pool-1-thread-1] INFO CoreNLP - [/127.0.0.1:38266] API call w/annotators tokenize,pos,lemma,ner,parse,depparse,coref\n",
      " 32%|████████████████████▋                                           | 481/1488 [00:54<01:50,  9.11it/s][pool-1-thread-5] INFO CoreNLP - [/127.0.0.1:38282] API call w/annotators tokenize,pos,lemma,ner,parse,depparse,coref\n",
      " 32%|████████████████████▋                                           | 482/1488 [00:54<01:52,  8.98it/s]"
     ]
    },
    {
     "name": "stdout",
     "output_type": "stream",
     "text": [
      "The empty bench is sitting next to the potted tree.\n",
      "A pizza cut up in different sized pieces on a plate.\n"
     ]
    },
    {
     "name": "stderr",
     "output_type": "stream",
     "text": [
      "[pool-1-thread-4] INFO CoreNLP - [/127.0.0.1:38298] API call w/annotators tokenize,pos,lemma,ner,parse,depparse,coref\n",
      " 32%|████████████████████▊                                           | 483/1488 [00:54<01:48,  9.23it/s][pool-1-thread-3] INFO CoreNLP - [/127.0.0.1:38310] API call w/annotators tokenize,pos,lemma,ner,parse,depparse,coref\n",
      " 33%|████████████████████▊                                           | 484/1488 [00:55<01:54,  8.80it/s]"
     ]
    },
    {
     "name": "stdout",
     "output_type": "stream",
     "text": [
      "A woman flying a kite on the beach.\n",
      "Girl in black jacket holding up skis in front of a lodge.\n"
     ]
    },
    {
     "name": "stderr",
     "output_type": "stream",
     "text": [
      "[pool-1-thread-2] INFO CoreNLP - [/127.0.0.1:38338] API call w/annotators tokenize,pos,lemma,ner,parse,depparse,coref\n",
      " 33%|████████████████████▊                                           | 485/1488 [00:55<02:01,  8.24it/s][pool-1-thread-1] INFO CoreNLP - [/127.0.0.1:38348] API call w/annotators tokenize,pos,lemma,ner,parse,depparse,coref\n",
      " 33%|████████████████████▉                                           | 486/1488 [00:55<02:00,  8.34it/s]"
     ]
    },
    {
     "name": "stdout",
     "output_type": "stream",
     "text": [
      "A goose, a water bird and goslings on the shore near a pond.\n",
      "A skier does a tick after jumping off a ski jump.\n"
     ]
    },
    {
     "name": "stderr",
     "output_type": "stream",
     "text": [
      "[pool-1-thread-5] INFO CoreNLP - [/127.0.0.1:38358] API call w/annotators tokenize,pos,lemma,ner,parse,depparse,coref\n",
      " 33%|████████████████████▉                                           | 487/1488 [00:55<02:01,  8.23it/s][pool-1-thread-4] INFO CoreNLP - [/127.0.0.1:38372] API call w/annotators tokenize,pos,lemma,ner,parse,depparse,coref\n",
      " 33%|████████████████████▉                                           | 488/1488 [00:55<02:07,  7.87it/s]"
     ]
    },
    {
     "name": "stdout",
     "output_type": "stream",
     "text": [
      "A man in a black shirt pouring water at a table.\n",
      "A clean living room with a blanket on the couch and the drapes drawn.\n"
     ]
    },
    {
     "name": "stderr",
     "output_type": "stream",
     "text": [
      "[pool-1-thread-3] INFO CoreNLP - [/127.0.0.1:38388] API call w/annotators tokenize,pos,lemma,ner,parse,depparse,coref\n",
      "[pool-1-thread-2] INFO CoreNLP - [/127.0.0.1:38408] API call w/annotators tokenize,pos,lemma,ner,parse,depparse,coref\n",
      " 33%|█████████████████████                                           | 490/1488 [00:55<01:54,  8.74it/s][pool-1-thread-1] INFO CoreNLP - [/127.0.0.1:38436] API call w/annotators tokenize,pos,lemma,ner,parse,depparse,coref\n"
     ]
    },
    {
     "name": "stdout",
     "output_type": "stream",
     "text": [
      "A calico kitten sitting on a cozy bed\n",
      "A male tennis player is hitting the ball. \n",
      "The cat is on the other side of a window pane.\n"
     ]
    },
    {
     "name": "stderr",
     "output_type": "stream",
     "text": [
      " 33%|█████████████████████                                           | 491/1488 [00:55<01:54,  8.71it/s][pool-1-thread-5] INFO CoreNLP - [/127.0.0.1:38442] API call w/annotators tokenize,pos,lemma,ner,parse,depparse,coref\n",
      " 33%|█████████████████████▏                                          | 492/1488 [00:56<01:52,  8.86it/s][pool-1-thread-4] INFO CoreNLP - [/127.0.0.1:38464] API call w/annotators tokenize,pos,lemma,ner,parse,depparse,coref\n",
      " 33%|█████████████████████▏                                          | 493/1488 [00:56<01:49,  9.10it/s]"
     ]
    },
    {
     "name": "stdout",
     "output_type": "stream",
     "text": [
      "A stuffed bear laying in a bed under the blankets.\n",
      "A person in glasses holding large transparent scissors.\n"
     ]
    },
    {
     "name": "stderr",
     "output_type": "stream",
     "text": [
      "[pool-1-thread-3] INFO CoreNLP - [/127.0.0.1:38490] API call w/annotators tokenize,pos,lemma,ner,parse,depparse,coref\n",
      " 33%|█████████████████████▏                                          | 494/1488 [00:56<01:52,  8.82it/s][pool-1-thread-2] INFO CoreNLP - [/127.0.0.1:38512] API call w/annotators tokenize,pos,lemma,ner,parse,depparse,coref\n",
      " 33%|█████████████████████▎                                          | 495/1488 [00:56<01:54,  8.66it/s]"
     ]
    },
    {
     "name": "stdout",
     "output_type": "stream",
     "text": [
      "In portions of the thermos various foods can make a complete meal. \n",
      "A man driving a horse drawn wagon next to a red bus.\n"
     ]
    },
    {
     "name": "stderr",
     "output_type": "stream",
     "text": [
      "[pool-1-thread-1] INFO CoreNLP - [/127.0.0.1:38534] API call w/annotators tokenize,pos,lemma,ner,parse,depparse,coref\n",
      " 33%|█████████████████████▎                                          | 496/1488 [00:56<01:52,  8.79it/s][pool-1-thread-5] INFO CoreNLP - [/127.0.0.1:38550] API call w/annotators tokenize,pos,lemma,ner,parse,depparse,coref\n",
      " 33%|█████████████████████▍                                          | 497/1488 [00:56<01:53,  8.72it/s]"
     ]
    },
    {
     "name": "stdout",
     "output_type": "stream",
     "text": [
      "Two stuffed animals laying under a blanket on the floor. \n",
      "A smiling man is next to an open oven with a pan.\n"
     ]
    },
    {
     "name": "stderr",
     "output_type": "stream",
     "text": [
      "[pool-1-thread-4] INFO CoreNLP - [/127.0.0.1:38564] API call w/annotators tokenize,pos,lemma,ner,parse,depparse,coref\n",
      " 33%|█████████████████████▍                                          | 498/1488 [00:56<01:56,  8.48it/s][pool-1-thread-3] INFO CoreNLP - [/127.0.0.1:38584] API call w/annotators tokenize,pos,lemma,ner,parse,depparse,coref\n",
      " 34%|█████████████████████▍                                          | 499/1488 [00:56<02:00,  8.21it/s]"
     ]
    },
    {
     "name": "stdout",
     "output_type": "stream",
     "text": [
      "A woman on railroad tracks watching a train in the distance.\n",
      "A kitchen with a wooden counter next to an oven with a stove.\n"
     ]
    },
    {
     "name": "stderr",
     "output_type": "stream",
     "text": [
      "[pool-1-thread-2] INFO CoreNLP - [/127.0.0.1:38606] API call w/annotators tokenize,pos,lemma,ner,parse,depparse,coref\n",
      " 34%|█████████████████████▌                                          | 500/1488 [00:56<01:56,  8.46it/s][pool-1-thread-1] INFO CoreNLP - [/127.0.0.1:38626] API call w/annotators tokenize,pos,lemma,ner,parse,depparse,coref\n",
      " 34%|█████████████████████▌                                          | 501/1488 [00:57<01:57,  8.41it/s]"
     ]
    },
    {
     "name": "stdout",
     "output_type": "stream",
     "text": [
      "An animal that is on a tree eating some food.\n",
      "A woman is holding a bowl of food to feed the giraffe.\n"
     ]
    },
    {
     "name": "stderr",
     "output_type": "stream",
     "text": [
      "[pool-1-thread-5] INFO CoreNLP - [/127.0.0.1:38640] API call w/annotators tokenize,pos,lemma,ner,parse,depparse,coref\n",
      " 34%|█████████████████████▌                                          | 502/1488 [00:57<01:54,  8.61it/s][pool-1-thread-4] INFO CoreNLP - [/127.0.0.1:38662] API call w/annotators tokenize,pos,lemma,ner,parse,depparse,coref\n",
      " 34%|█████████████████████▋                                          | 503/1488 [00:57<01:54,  8.59it/s]"
     ]
    },
    {
     "name": "stdout",
     "output_type": "stream",
     "text": [
      "A swan in the water being followed by its babies.\n",
      "An adult zebra with the baby zebra in an open field.\n"
     ]
    },
    {
     "name": "stderr",
     "output_type": "stream",
     "text": [
      "[pool-1-thread-3] INFO CoreNLP - [/127.0.0.1:38674] API call w/annotators tokenize,pos,lemma,ner,parse,depparse,coref\n",
      " 34%|█████████████████████▋                                          | 504/1488 [00:57<01:50,  8.93it/s][pool-1-thread-2] INFO CoreNLP - [/127.0.0.1:38692] API call w/annotators tokenize,pos,lemma,ner,parse,depparse,coref\n",
      " 34%|█████████████████████▋                                          | 505/1488 [00:57<01:51,  8.84it/s]"
     ]
    },
    {
     "name": "stdout",
     "output_type": "stream",
     "text": [
      "A person on a surfboard in the water.\n",
      "A tiled bathroom with a single vanity, toilet and shower.\n"
     ]
    },
    {
     "name": "stderr",
     "output_type": "stream",
     "text": [
      "[pool-1-thread-1] INFO CoreNLP - [/127.0.0.1:38710] API call w/annotators tokenize,pos,lemma,ner,parse,depparse,coref\n",
      " 34%|█████████████████████▊                                          | 506/1488 [00:57<01:48,  9.01it/s][pool-1-thread-5] INFO CoreNLP - [/127.0.0.1:38730] API call w/annotators tokenize,pos,lemma,ner,parse,depparse,coref\n",
      " 34%|█████████████████████▊                                          | 507/1488 [00:57<01:50,  8.91it/s]"
     ]
    },
    {
     "name": "stdout",
     "output_type": "stream",
     "text": [
      "A famers market filled with lots of fresh produce.\n",
      "A person sits at a computer workstation with a keyboard tray.\n"
     ]
    },
    {
     "name": "stderr",
     "output_type": "stream",
     "text": [
      "[pool-1-thread-4] INFO CoreNLP - [/127.0.0.1:38742] API call w/annotators tokenize,pos,lemma,ner,parse,depparse,coref\n",
      " 34%|█████████████████████▊                                          | 508/1488 [00:57<01:50,  8.91it/s][pool-1-thread-3] INFO CoreNLP - [/127.0.0.1:38766] API call w/annotators tokenize,pos,lemma,ner,parse,depparse,coref\n",
      " 34%|█████████████████████▉                                          | 509/1488 [00:57<01:48,  8.99it/s]"
     ]
    },
    {
     "name": "stdout",
     "output_type": "stream",
     "text": [
      "A lone man cross country skiing in a desolate landscape. \n",
      "A bathroom shower with towel hanging from the door.\n"
     ]
    },
    {
     "name": "stderr",
     "output_type": "stream",
     "text": [
      "[pool-1-thread-2] INFO CoreNLP - [/127.0.0.1:38790] API call w/annotators tokenize,pos,lemma,ner,parse,depparse,coref\n",
      " 34%|█████████████████████▉                                          | 510/1488 [00:58<01:49,  8.91it/s][pool-1-thread-1] INFO CoreNLP - [/127.0.0.1:38796] API call w/annotators tokenize,pos,lemma,ner,parse,depparse,coref\n",
      " 34%|█████████████████████▉                                          | 511/1488 [00:58<01:48,  9.01it/s]"
     ]
    },
    {
     "name": "stdout",
     "output_type": "stream",
     "text": [
      "A nasty run down bathroom with a leaky toilet.\n",
      "Closeup of pieces of broccoli on a cutting board.\n"
     ]
    },
    {
     "name": "stderr",
     "output_type": "stream",
     "text": [
      "[pool-1-thread-5] INFO CoreNLP - [/127.0.0.1:38816] API call w/annotators tokenize,pos,lemma,ner,parse,depparse,coref\n",
      " 34%|██████████████████████                                          | 512/1488 [00:58<01:46,  9.18it/s][pool-1-thread-4] INFO CoreNLP - [/127.0.0.1:38836] API call w/annotators tokenize,pos,lemma,ner,parse,depparse,coref\n",
      " 34%|██████████████████████                                          | 513/1488 [00:58<01:55,  8.43it/s]"
     ]
    },
    {
     "name": "stdout",
     "output_type": "stream",
     "text": [
      "A skier is going down a snow covered hill.\n",
      "A pair of orange and white Vans steps upon the underside of a skateboard.\n"
     ]
    },
    {
     "name": "stderr",
     "output_type": "stream",
     "text": [
      "[pool-1-thread-3] INFO CoreNLP - [/127.0.0.1:38854] API call w/annotators tokenize,pos,lemma,ner,parse,depparse,coref\n",
      " 35%|██████████████████████                                          | 514/1488 [00:58<01:56,  8.39it/s][pool-1-thread-2] INFO CoreNLP - [/127.0.0.1:38872] API call w/annotators tokenize,pos,lemma,ner,parse,depparse,coref\n"
     ]
    },
    {
     "name": "stdout",
     "output_type": "stream",
     "text": [
      "A refrigerators' top shelf is filled with various kinds of wine.\n",
      "A white dish with a tomato based casserole\n"
     ]
    },
    {
     "name": "stderr",
     "output_type": "stream",
     "text": [
      "[pool-1-thread-1] INFO CoreNLP - [/127.0.0.1:38890] API call w/annotators tokenize,pos,lemma,ner,parse,depparse,coref\n",
      " 35%|██████████████████████▏                                         | 516/1488 [00:58<01:48,  8.92it/s][pool-1-thread-5] INFO CoreNLP - [/127.0.0.1:38916] API call w/annotators tokenize,pos,lemma,ner,parse,depparse,coref\n"
     ]
    },
    {
     "name": "stdout",
     "output_type": "stream",
     "text": [
      "an old fashion double oven cook stove with a griddle \n",
      "A kite that is hanging in a tree.\n"
     ]
    },
    {
     "name": "stderr",
     "output_type": "stream",
     "text": [
      "[pool-1-thread-4] INFO CoreNLP - [/127.0.0.1:38942] API call w/annotators tokenize,pos,lemma,ner,parse,depparse,coref\n",
      " 35%|██████████████████████▎                                         | 518/1488 [00:58<01:43,  9.38it/s][pool-1-thread-3] INFO CoreNLP - [/127.0.0.1:38958] API call w/annotators tokenize,pos,lemma,ner,parse,depparse,coref\n",
      " 35%|██████████████████████▎                                         | 519/1488 [00:59<01:43,  9.37it/s]"
     ]
    },
    {
     "name": "stdout",
     "output_type": "stream",
     "text": [
      "some sandwiches and fries on a black plate\n",
      "A plate with vegetables and meat on a table.\n"
     ]
    },
    {
     "name": "stderr",
     "output_type": "stream",
     "text": [
      "[pool-1-thread-2] INFO CoreNLP - [/127.0.0.1:38976] API call w/annotators tokenize,pos,lemma,ner,parse,depparse,coref\n",
      " 35%|██████████████████████▎                                         | 520/1488 [00:59<01:42,  9.41it/s][pool-1-thread-1] INFO CoreNLP - [/127.0.0.1:38992] API call w/annotators tokenize,pos,lemma,ner,parse,depparse,coref\n",
      " 35%|██████████████████████▍                                         | 521/1488 [00:59<01:44,  9.24it/s]"
     ]
    },
    {
     "name": "stdout",
     "output_type": "stream",
     "text": [
      "An old red fire truck parked in rural area.\n",
      "A man sitting on a bench talking on a cell phone.\n"
     ]
    },
    {
     "name": "stderr",
     "output_type": "stream",
     "text": [
      "[pool-1-thread-5] INFO CoreNLP - [/127.0.0.1:39008] API call w/annotators tokenize,pos,lemma,ner,parse,depparse,coref\n",
      " 35%|██████████████████████▍                                         | 522/1488 [00:59<01:46,  9.08it/s][pool-1-thread-4] INFO CoreNLP - [/127.0.0.1:41566] API call w/annotators tokenize,pos,lemma,ner,parse,depparse,coref\n",
      " 35%|██████████████████████▍                                         | 523/1488 [00:59<01:47,  8.98it/s]"
     ]
    },
    {
     "name": "stdout",
     "output_type": "stream",
     "text": [
      "Two small toys on top of a flip mobile phone.\n",
      "A man and a woman are outside with two dogs.\n"
     ]
    },
    {
     "name": "stderr",
     "output_type": "stream",
     "text": [
      "[pool-1-thread-3] INFO CoreNLP - [/127.0.0.1:41580] API call w/annotators tokenize,pos,lemma,ner,parse,depparse,coref\n",
      " 35%|██████████████████████▌                                         | 524/1488 [00:59<01:55,  8.33it/s][pool-1-thread-2] INFO CoreNLP - [/127.0.0.1:41604] API call w/annotators tokenize,pos,lemma,ner,parse,depparse,coref\n",
      " 35%|██████████████████████▌                                         | 525/1488 [00:59<01:57,  8.17it/s]"
     ]
    },
    {
     "name": "stdout",
     "output_type": "stream",
     "text": [
      "A blond girl holding a baseball bat and smiling with her hand over her mouth.\n",
      "The woman has her arms outstretched with the frisbee in front of her. \n"
     ]
    },
    {
     "name": "stderr",
     "output_type": "stream",
     "text": [
      "[pool-1-thread-1] INFO CoreNLP - [/127.0.0.1:41632] API call w/annotators tokenize,pos,lemma,ner,parse,depparse,coref\n",
      " 35%|██████████████████████▌                                         | 526/1488 [00:59<01:51,  8.61it/s][pool-1-thread-5] INFO CoreNLP - [/127.0.0.1:41660] API call w/annotators tokenize,pos,lemma,ner,parse,depparse,coref\n",
      " 35%|██████████████████████▋                                         | 527/1488 [01:00<01:48,  8.86it/s]"
     ]
    },
    {
     "name": "stdout",
     "output_type": "stream",
     "text": [
      "Black car sitting at a red light intersection.\n",
      "A black and yellow train traveling down train tracks.\n"
     ]
    },
    {
     "name": "stderr",
     "output_type": "stream",
     "text": [
      "[pool-1-thread-4] INFO CoreNLP - [/127.0.0.1:41676] API call w/annotators tokenize,pos,lemma,ner,parse,depparse,coref\n",
      " 35%|██████████████████████▋                                         | 528/1488 [01:00<01:46,  9.00it/s][pool-1-thread-3] INFO CoreNLP - [/127.0.0.1:41702] API call w/annotators tokenize,pos,lemma,ner,parse,depparse,coref\n",
      " 36%|██████████████████████▊                                         | 529/1488 [01:00<01:46,  8.99it/s]"
     ]
    },
    {
     "name": "stdout",
     "output_type": "stream",
     "text": [
      "A bunch of folks standing by a food truck.\n",
      "An angled view from the kitchen of an unfurnished home.\n"
     ]
    },
    {
     "name": "stderr",
     "output_type": "stream",
     "text": [
      "[pool-1-thread-2] INFO CoreNLP - [/127.0.0.1:41710] API call w/annotators tokenize,pos,lemma,ner,parse,depparse,coref\n",
      " 36%|██████████████████████▊                                         | 530/1488 [01:00<01:43,  9.27it/s][pool-1-thread-1] INFO CoreNLP - [/127.0.0.1:41732] API call w/annotators tokenize,pos,lemma,ner,parse,depparse,coref\n",
      " 36%|██████████████████████▊                                         | 531/1488 [01:00<01:41,  9.43it/s][pool-1-thread-5] INFO CoreNLP - [/127.0.0.1:41754] API call w/annotators tokenize,pos,lemma,ner,parse,depparse,coref\n"
     ]
    },
    {
     "name": "stdout",
     "output_type": "stream",
     "text": [
      "People in Oriental country selling food on raft\n",
      "A corner of a street next to a building \n",
      "A girl holding a cellphone squatting down on the corner of a street.\n"
     ]
    },
    {
     "name": "stderr",
     "output_type": "stream",
     "text": [
      " 36%|██████████████████████▉                                         | 532/1488 [01:00<01:47,  8.93it/s][pool-1-thread-4] INFO CoreNLP - [/127.0.0.1:41774] API call w/annotators tokenize,pos,lemma,ner,parse,depparse,coref\n",
      "[pool-1-thread-3] INFO CoreNLP - [/127.0.0.1:41782] API call w/annotators tokenize,pos,lemma,ner,parse,depparse,coref\n",
      " 36%|██████████████████████▉                                         | 534/1488 [01:00<01:47,  8.84it/s]"
     ]
    },
    {
     "name": "stdout",
     "output_type": "stream",
     "text": [
      "The giraffe is a truly majestic tall animal. \n",
      "A man with a piece of flat bread sticking out of his mouth.\n"
     ]
    },
    {
     "name": "stderr",
     "output_type": "stream",
     "text": [
      "[pool-1-thread-2] INFO CoreNLP - [/127.0.0.1:41796] API call w/annotators tokenize,pos,lemma,ner,parse,depparse,coref\n",
      " 36%|███████████████████████                                         | 535/1488 [01:00<01:50,  8.59it/s][pool-1-thread-1] INFO CoreNLP - [/127.0.0.1:41816] API call w/annotators tokenize,pos,lemma,ner,parse,depparse,coref\n",
      " 36%|███████████████████████                                         | 536/1488 [01:01<01:51,  8.57it/s]"
     ]
    },
    {
     "name": "stdout",
     "output_type": "stream",
     "text": [
      "Cows and a sheep go about their business in a grassy field.\n",
      "A man cutting a cold coconut on the back of a truck\n"
     ]
    },
    {
     "name": "stderr",
     "output_type": "stream",
     "text": [
      "[pool-1-thread-5] INFO CoreNLP - [/127.0.0.1:41834] API call w/annotators tokenize,pos,lemma,ner,parse,depparse,coref\n",
      " 36%|███████████████████████                                         | 537/1488 [01:01<01:48,  8.76it/s][pool-1-thread-4] INFO CoreNLP - [/127.0.0.1:41852] API call w/annotators tokenize,pos,lemma,ner,parse,depparse,coref\n",
      " 36%|███████████████████████▏                                        | 538/1488 [01:01<01:49,  8.71it/s]"
     ]
    },
    {
     "name": "stdout",
     "output_type": "stream",
     "text": [
      "A cat on a stool with something on its head\n",
      "A dog holding a Frisbee in the middle of a beach.\n"
     ]
    },
    {
     "name": "stderr",
     "output_type": "stream",
     "text": [
      "[pool-1-thread-3] INFO CoreNLP - [/127.0.0.1:41872] API call w/annotators tokenize,pos,lemma,ner,parse,depparse,coref\n",
      " 36%|███████████████████████▏                                        | 539/1488 [01:01<02:02,  7.78it/s][pool-1-thread-2] INFO CoreNLP - [/127.0.0.1:41892] API call w/annotators tokenize,pos,lemma,ner,parse,depparse,coref\n"
     ]
    },
    {
     "name": "stdout",
     "output_type": "stream",
     "text": [
      "View at an intersection with a Phillips 66 on one corner and mountains in the distance.\n",
      "Banana on a paper towel behind a banana shaped paper towel.\n"
     ]
    },
    {
     "name": "stderr",
     "output_type": "stream",
     "text": [
      " 36%|███████████████████████▏                                        | 540/1488 [01:01<01:58,  7.97it/s][pool-1-thread-1] INFO CoreNLP - [/127.0.0.1:41920] API call w/annotators tokenize,pos,lemma,ner,parse,depparse,coref\n",
      " 36%|███████████████████████▎                                        | 541/1488 [01:01<01:55,  8.17it/s][pool-1-thread-5] INFO CoreNLP - [/127.0.0.1:41938] API call w/annotators tokenize,pos,lemma,ner,parse,depparse,coref\n",
      " 36%|███████████████████████▎                                        | 542/1488 [01:01<01:51,  8.49it/s]"
     ]
    },
    {
     "name": "stdout",
     "output_type": "stream",
     "text": [
      "A giraffe meets a young girl standing outside an enclosure.\n",
      "A large giraffe standing in a dry brush field.\n"
     ]
    },
    {
     "name": "stderr",
     "output_type": "stream",
     "text": [
      "[pool-1-thread-4] INFO CoreNLP - [/127.0.0.1:41950] API call w/annotators tokenize,pos,lemma,ner,parse,depparse,coref\n",
      " 36%|███████████████████████▎                                        | 543/1488 [01:01<01:49,  8.63it/s][pool-1-thread-3] INFO CoreNLP - [/127.0.0.1:41968] API call w/annotators tokenize,pos,lemma,ner,parse,depparse,coref\n"
     ]
    },
    {
     "name": "stdout",
     "output_type": "stream",
     "text": [
      "A cat sits on a counter, surrounded by knives.\n",
      "2 people (a very tall person in a jacket and kilt and a short old man) standing in the rain under a very small black umbrella on a city corner \n"
     ]
    },
    {
     "name": "stderr",
     "output_type": "stream",
     "text": [
      " 37%|███████████████████████▍                                        | 544/1488 [01:02<02:51,  5.51it/s][pool-1-thread-2] INFO CoreNLP - [/127.0.0.1:41982] API call w/annotators tokenize,pos,lemma,ner,parse,depparse,coref\n",
      " 37%|███████████████████████▍                                        | 545/1488 [01:02<02:32,  6.17it/s][pool-1-thread-1] INFO CoreNLP - [/127.0.0.1:42006] API call w/annotators tokenize,pos,lemma,ner,parse,depparse,coref\n",
      " 37%|███████████████████████▍                                        | 546/1488 [01:02<02:23,  6.55it/s]"
     ]
    },
    {
     "name": "stdout",
     "output_type": "stream",
     "text": [
      "A person is trying to hit a ball with a tennis racket.\n",
      "A bathroom rack is standing haphazardly on the outside of a shower stall.\n"
     ]
    },
    {
     "name": "stderr",
     "output_type": "stream",
     "text": [
      "[pool-1-thread-5] INFO CoreNLP - [/127.0.0.1:42026] API call w/annotators tokenize,pos,lemma,ner,parse,depparse,coref\n",
      " 37%|███████████████████████▌                                        | 547/1488 [01:02<02:15,  6.95it/s][pool-1-thread-4] INFO CoreNLP - [/127.0.0.1:42040] API call w/annotators tokenize,pos,lemma,ner,parse,depparse,coref\n",
      " 37%|███████████████████████▌                                        | 548/1488 [01:02<02:09,  7.26it/s]"
     ]
    },
    {
     "name": "stdout",
     "output_type": "stream",
     "text": [
      "A meal containing soda, salad pizza and rice on a table.\n",
      "A green haired lady with a heart shaped sunglasses petting a horse.\n"
     ]
    },
    {
     "name": "stderr",
     "output_type": "stream",
     "text": [
      "[pool-1-thread-3] INFO CoreNLP - [/127.0.0.1:42058] API call w/annotators tokenize,pos,lemma,ner,parse,depparse,coref\n",
      " 37%|███████████████████████▌                                        | 549/1488 [01:02<02:04,  7.56it/s][pool-1-thread-2] INFO CoreNLP - [/127.0.0.1:42078] API call w/annotators tokenize,pos,lemma,ner,parse,depparse,coref\n",
      " 37%|███████████████████████▋                                        | 550/1488 [01:02<01:59,  7.84it/s]"
     ]
    },
    {
     "name": "stdout",
     "output_type": "stream",
     "text": [
      "a women that is sitting on a brick wall with a cell phone\n",
      "A man riding on a skateboard up on to a ledge.\n"
     ]
    },
    {
     "name": "stderr",
     "output_type": "stream",
     "text": [
      "[pool-1-thread-1] INFO CoreNLP - [/127.0.0.1:42088] API call w/annotators tokenize,pos,lemma,ner,parse,depparse,coref\n",
      " 37%|███████████████████████▋                                        | 551/1488 [01:03<02:02,  7.66it/s][pool-1-thread-5] INFO CoreNLP - [/127.0.0.1:42098] API call w/annotators tokenize,pos,lemma,ner,parse,depparse,coref\n",
      " 37%|███████████████████████▋                                        | 552/1488 [01:03<01:55,  8.08it/s]"
     ]
    },
    {
     "name": "stdout",
     "output_type": "stream",
     "text": [
      "A boxer dog sitting in the grass with a chew toy in its mouth.\n",
      "A woman in purple coat pouring glass of wine.\n"
     ]
    },
    {
     "name": "stderr",
     "output_type": "stream",
     "text": [
      "[pool-1-thread-4] INFO CoreNLP - [/127.0.0.1:42118] API call w/annotators tokenize,pos,lemma,ner,parse,depparse,coref\n",
      " 37%|███████████████████████▊                                        | 553/1488 [01:03<01:53,  8.23it/s][pool-1-thread-3] INFO CoreNLP - [/127.0.0.1:42144] API call w/annotators tokenize,pos,lemma,ner,parse,depparse,coref\n",
      " 37%|███████████████████████▊                                        | 554/1488 [01:03<01:55,  8.09it/s]"
     ]
    },
    {
     "name": "stdout",
     "output_type": "stream",
     "text": [
      "Elephants eat fruit, a baby elephant rummaging in the food.\n",
      "A train turning a corner around a hill outside of an ocean.\n"
     ]
    },
    {
     "name": "stderr",
     "output_type": "stream",
     "text": [
      "[pool-1-thread-2] INFO CoreNLP - [/127.0.0.1:42162] API call w/annotators tokenize,pos,lemma,ner,parse,depparse,coref\n",
      " 37%|███████████████████████▊                                        | 555/1488 [01:03<01:50,  8.44it/s][pool-1-thread-1] INFO CoreNLP - [/127.0.0.1:42184] API call w/annotators tokenize,pos,lemma,ner,parse,depparse,coref\n",
      " 37%|███████████████████████▉                                        | 556/1488 [01:03<01:56,  7.98it/s]"
     ]
    },
    {
     "name": "stdout",
     "output_type": "stream",
     "text": [
      " A train travels through a rural area of a town\n",
      "A woman hitting a tennis ball up against a brick wall with a tennis racket.\n"
     ]
    },
    {
     "name": "stderr",
     "output_type": "stream",
     "text": [
      "[pool-1-thread-5] INFO CoreNLP - [/127.0.0.1:42202] API call w/annotators tokenize,pos,lemma,ner,parse,depparse,coref\n",
      " 37%|███████████████████████▉                                        | 557/1488 [01:03<01:55,  8.07it/s][pool-1-thread-4] INFO CoreNLP - [/127.0.0.1:42226] API call w/annotators tokenize,pos,lemma,ner,parse,depparse,coref\n",
      " 38%|████████████████████████                                        | 558/1488 [01:03<01:50,  8.44it/s]"
     ]
    },
    {
     "name": "stdout",
     "output_type": "stream",
     "text": [
      "A person is standing on a beach with a lot of birds.\n",
      "A guy is posing with a plate of food. \n"
     ]
    },
    {
     "name": "stderr",
     "output_type": "stream",
     "text": [
      "[pool-1-thread-3] INFO CoreNLP - [/127.0.0.1:42246] API call w/annotators tokenize,pos,lemma,ner,parse,depparse,coref\n",
      " 38%|████████████████████████                                        | 559/1488 [01:04<01:46,  8.76it/s][pool-1-thread-2] INFO CoreNLP - [/127.0.0.1:42260] API call w/annotators tokenize,pos,lemma,ner,parse,depparse,coref\n",
      " 38%|████████████████████████                                        | 560/1488 [01:04<01:48,  8.59it/s]"
     ]
    },
    {
     "name": "stdout",
     "output_type": "stream",
     "text": [
      "Two dogs are looking out a car door window.\n",
      "a female in a black top and a child in a green shirt\n"
     ]
    },
    {
     "name": "stderr",
     "output_type": "stream",
     "text": [
      "[pool-1-thread-1] INFO CoreNLP - [/127.0.0.1:42280] API call w/annotators tokenize,pos,lemma,ner,parse,depparse,coref\n",
      " 38%|████████████████████████▏                                       | 561/1488 [01:04<01:45,  8.79it/s][pool-1-thread-5] INFO CoreNLP - [/127.0.0.1:42302] API call w/annotators tokenize,pos,lemma,ner,parse,depparse,coref\n",
      " 38%|████████████████████████▏                                       | 562/1488 [01:04<01:42,  9.07it/s]"
     ]
    },
    {
     "name": "stdout",
     "output_type": "stream",
     "text": [
      "A pizza topped with lots of veggies and cheese.\n",
      "A cubicle desk with two laptops on it. \n"
     ]
    },
    {
     "name": "stderr",
     "output_type": "stream",
     "text": [
      "[pool-1-thread-4] INFO CoreNLP - [/127.0.0.1:42314] API call w/annotators tokenize,pos,lemma,ner,parse,depparse,coref\n",
      " 38%|████████████████████████▏                                       | 563/1488 [01:04<01:42,  9.05it/s][pool-1-thread-3] INFO CoreNLP - [/127.0.0.1:42326] API call w/annotators tokenize,pos,lemma,ner,parse,depparse,coref\n",
      " 38%|████████████████████████▎                                       | 564/1488 [01:04<01:41,  9.14it/s]"
     ]
    },
    {
     "name": "stdout",
     "output_type": "stream",
     "text": [
      "The sink is on the island of a large kitchen.\n",
      "The snowboarder is posing for a picture at twilight.\n"
     ]
    },
    {
     "name": "stderr",
     "output_type": "stream",
     "text": [
      "[pool-1-thread-2] INFO CoreNLP - [/127.0.0.1:42340] API call w/annotators tokenize,pos,lemma,ner,parse,depparse,coref\n",
      " 38%|████████████████████████▎                                       | 565/1488 [01:04<01:38,  9.34it/s][pool-1-thread-1] INFO CoreNLP - [/127.0.0.1:42352] API call w/annotators tokenize,pos,lemma,ner,parse,depparse,coref\n",
      " 38%|████████████████████████▎                                       | 566/1488 [01:04<01:42,  9.01it/s]"
     ]
    },
    {
     "name": "stdout",
     "output_type": "stream",
     "text": [
      "A butterfly that is sitting on a orange.\n",
      "A man riding a horse next to a herd of sheep.\n"
     ]
    },
    {
     "name": "stderr",
     "output_type": "stream",
     "text": [
      "[pool-1-thread-5] INFO CoreNLP - [/127.0.0.1:42364] API call w/annotators tokenize,pos,lemma,ner,parse,depparse,coref\n",
      " 38%|████████████████████████▍                                       | 567/1488 [01:04<01:39,  9.26it/s][pool-1-thread-4] INFO CoreNLP - [/127.0.0.1:42386] API call w/annotators tokenize,pos,lemma,ner,parse,depparse,coref\n",
      " 38%|████████████████████████▍                                       | 568/1488 [01:05<01:41,  9.03it/s]"
     ]
    },
    {
     "name": "stdout",
     "output_type": "stream",
     "text": [
      "A man wearing a mask holding a sander.\n",
      "A mother giraffe and her baby are touching nose to nose.    \n"
     ]
    },
    {
     "name": "stderr",
     "output_type": "stream",
     "text": [
      "[pool-1-thread-3] INFO CoreNLP - [/127.0.0.1:42412] API call w/annotators tokenize,pos,lemma,ner,parse,depparse,coref\n",
      " 38%|████████████████████████▍                                       | 569/1488 [01:05<01:42,  8.98it/s][pool-1-thread-2] INFO CoreNLP - [/127.0.0.1:42418] API call w/annotators tokenize,pos,lemma,ner,parse,depparse,coref\n",
      " 38%|████████████████████████▌                                       | 570/1488 [01:05<01:45,  8.67it/s]"
     ]
    },
    {
     "name": "stdout",
     "output_type": "stream",
     "text": [
      "A picture of a TV on top of another TV.\n",
      "A giraffe has it's eyes open and is next to a tree.  \n"
     ]
    },
    {
     "name": "stderr",
     "output_type": "stream",
     "text": [
      "[pool-1-thread-1] INFO CoreNLP - [/127.0.0.1:42432] API call w/annotators tokenize,pos,lemma,ner,parse,depparse,coref\n",
      " 38%|████████████████████████▌                                       | 571/1488 [01:05<01:47,  8.54it/s][pool-1-thread-5] INFO CoreNLP - [/127.0.0.1:42458] API call w/annotators tokenize,pos,lemma,ner,parse,depparse,coref\n",
      " 38%|████████████████████████▌                                       | 572/1488 [01:05<01:45,  8.66it/s]"
     ]
    },
    {
     "name": "stdout",
     "output_type": "stream",
     "text": [
      "Two baskets filled with blueberries sitting next to other fruit and vegetables.\n",
      "Several ingredients and tools for cooking sit on a counter.\n"
     ]
    },
    {
     "name": "stderr",
     "output_type": "stream",
     "text": [
      "[pool-1-thread-4] INFO CoreNLP - [/127.0.0.1:42464] API call w/annotators tokenize,pos,lemma,ner,parse,depparse,coref\n",
      " 39%|████████████████████████▋                                       | 573/1488 [01:05<01:45,  8.69it/s][pool-1-thread-3] INFO CoreNLP - [/127.0.0.1:42488] API call w/annotators tokenize,pos,lemma,ner,parse,depparse,coref\n",
      " 39%|████████████████████████▋                                       | 574/1488 [01:05<01:43,  8.86it/s]"
     ]
    },
    {
     "name": "stdout",
     "output_type": "stream",
     "text": [
      "A window that looks out onto an intersection with several shops.\n",
      "A motorcyclist wearing helmet and goggles on his motorcycle. \n"
     ]
    },
    {
     "name": "stderr",
     "output_type": "stream",
     "text": [
      "[pool-1-thread-2] INFO CoreNLP - [/127.0.0.1:42504] API call w/annotators tokenize,pos,lemma,ner,parse,depparse,coref\n",
      " 39%|████████████████████████▋                                       | 575/1488 [01:05<01:42,  8.88it/s][pool-1-thread-1] INFO CoreNLP - [/127.0.0.1:42516] API call w/annotators tokenize,pos,lemma,ner,parse,depparse,coref\n",
      " 39%|████████████████████████▊                                       | 576/1488 [01:05<01:44,  8.71it/s]"
     ]
    },
    {
     "name": "stdout",
     "output_type": "stream",
     "text": [
      "some white cabinets a fireplace a television set and a lamp\n",
      "Half a dozen donuts from Krispy Kreme of various different flavors.\n"
     ]
    },
    {
     "name": "stderr",
     "output_type": "stream",
     "text": [
      "[pool-1-thread-5] INFO CoreNLP - [/127.0.0.1:42532] API call w/annotators tokenize,pos,lemma,ner,parse,depparse,coref\n",
      " 39%|████████████████████████▊                                       | 577/1488 [01:06<01:49,  8.34it/s][pool-1-thread-4] INFO CoreNLP - [/127.0.0.1:42552] API call w/annotators tokenize,pos,lemma,ner,parse,depparse,coref\n",
      " 39%|████████████████████████▊                                       | 578/1488 [01:06<01:44,  8.72it/s]"
     ]
    },
    {
     "name": "stdout",
     "output_type": "stream",
     "text": [
      "A light-colored cat is looking at something possibly a computer monitor.\n",
      "Guy pulls the protective wrapping off a new tv\n"
     ]
    },
    {
     "name": "stderr",
     "output_type": "stream",
     "text": [
      "[pool-1-thread-3] INFO CoreNLP - [/127.0.0.1:42562] API call w/annotators tokenize,pos,lemma,ner,parse,depparse,coref\n",
      " 39%|████████████████████████▉                                       | 579/1488 [01:06<01:41,  8.94it/s][pool-1-thread-2] INFO CoreNLP - [/127.0.0.1:42572] API call w/annotators tokenize,pos,lemma,ner,parse,depparse,coref\n",
      " 39%|████████████████████████▉                                       | 580/1488 [01:06<01:48,  8.36it/s]"
     ]
    },
    {
     "name": "stdout",
     "output_type": "stream",
     "text": [
      "A vase filled with flowers on a counter top.\n",
      "A table with a beverage and a donut with a fork next to it. \n"
     ]
    },
    {
     "name": "stderr",
     "output_type": "stream",
     "text": [
      "[pool-1-thread-1] INFO CoreNLP - [/127.0.0.1:42590] API call w/annotators tokenize,pos,lemma,ner,parse,depparse,coref\n",
      " 39%|████████████████████████▉                                       | 581/1488 [01:06<01:49,  8.31it/s][pool-1-thread-5] INFO CoreNLP - [/127.0.0.1:42596] API call w/annotators tokenize,pos,lemma,ner,parse,depparse,coref\n",
      " 39%|█████████████████████████                                       | 582/1488 [01:06<01:52,  8.07it/s]"
     ]
    },
    {
     "name": "stdout",
     "output_type": "stream",
     "text": [
      "two people standing close to one another holding a bottle and a cup\n",
      "A young man on a skate board high in the air near some steps.\n"
     ]
    },
    {
     "name": "stderr",
     "output_type": "stream",
     "text": [
      "[pool-1-thread-4] INFO CoreNLP - [/127.0.0.1:42616] API call w/annotators tokenize,pos,lemma,ner,parse,depparse,coref\n",
      " 39%|█████████████████████████                                       | 583/1488 [01:06<01:47,  8.44it/s][pool-1-thread-3] INFO CoreNLP - [/127.0.0.1:42624] API call w/annotators tokenize,pos,lemma,ner,parse,depparse,coref\n",
      " 39%|█████████████████████████                                       | 584/1488 [01:06<01:46,  8.46it/s]"
     ]
    },
    {
     "name": "stdout",
     "output_type": "stream",
     "text": [
      "Some motorcyclists getting off their street bikes at a gathering\n",
      "A herd of zebra walking across a dry grass covered field.\n"
     ]
    },
    {
     "name": "stderr",
     "output_type": "stream",
     "text": [
      "[pool-1-thread-2] INFO CoreNLP - [/127.0.0.1:42646] API call w/annotators tokenize,pos,lemma,ner,parse,depparse,coref\n",
      " 39%|█████████████████████████▏                                      | 585/1488 [01:07<01:52,  8.05it/s][pool-1-thread-1] INFO CoreNLP - [/127.0.0.1:42672] API call w/annotators tokenize,pos,lemma,ner,parse,depparse,coref\n",
      " 39%|█████████████████████████▏                                      | 586/1488 [01:07<01:49,  8.25it/s]"
     ]
    },
    {
     "name": "stdout",
     "output_type": "stream",
     "text": [
      "The catcher has taken the field, fully outfitted in his professional baseball uniform and gear \n",
      "Man in jeans and red sweater flying a shark kite.\n"
     ]
    },
    {
     "name": "stderr",
     "output_type": "stream",
     "text": [
      "[pool-1-thread-5] INFO CoreNLP - [/127.0.0.1:42686] API call w/annotators tokenize,pos,lemma,ner,parse,depparse,coref\n",
      "[pool-1-thread-4] INFO CoreNLP - [/127.0.0.1:42704] API call w/annotators tokenize,pos,lemma,ner,parse,depparse,coref\n",
      " 40%|█████████████████████████▎                                      | 588/1488 [01:07<01:43,  8.74it/s]"
     ]
    },
    {
     "name": "stdout",
     "output_type": "stream",
     "text": [
      "a man is skateboarding across a city street\n",
      "A zebra that is walking in an enclosure.\n"
     ]
    },
    {
     "name": "stderr",
     "output_type": "stream",
     "text": [
      "[pool-1-thread-3] INFO CoreNLP - [/127.0.0.1:42724] API call w/annotators tokenize,pos,lemma,ner,parse,depparse,coref\n",
      " 40%|█████████████████████████▎                                      | 589/1488 [01:07<01:44,  8.57it/s][pool-1-thread-2] INFO CoreNLP - [/127.0.0.1:42752] API call w/annotators tokenize,pos,lemma,ner,parse,depparse,coref\n",
      " 40%|█████████████████████████▍                                      | 590/1488 [01:07<01:44,  8.62it/s]"
     ]
    },
    {
     "name": "stdout",
     "output_type": "stream",
     "text": [
      "A young girl washing her hands at a sink while someone watches.\n",
      "A street sign \"Prince\" is pictured in this photo.\n"
     ]
    },
    {
     "name": "stderr",
     "output_type": "stream",
     "text": [
      "[pool-1-thread-1] INFO CoreNLP - [/127.0.0.1:42770] API call w/annotators tokenize,pos,lemma,ner,parse,depparse,coref\n",
      " 40%|█████████████████████████▍                                      | 591/1488 [01:07<01:42,  8.72it/s][pool-1-thread-5] INFO CoreNLP - [/127.0.0.1:42786] API call w/annotators tokenize,pos,lemma,ner,parse,depparse,coref\n",
      " 40%|█████████████████████████▍                                      | 592/1488 [01:07<01:44,  8.57it/s]"
     ]
    },
    {
     "name": "stdout",
     "output_type": "stream",
     "text": [
      "A couple posing on a horse statue in a courtyard.\n",
      "A stop sign and a steel post with a flier glued to it\n"
     ]
    },
    {
     "name": "stderr",
     "output_type": "stream",
     "text": [
      "[pool-1-thread-4] INFO CoreNLP - [/127.0.0.1:42804] API call w/annotators tokenize,pos,lemma,ner,parse,depparse,coref\n",
      " 40%|█████████████████████████▌                                      | 593/1488 [01:07<01:49,  8.18it/s][pool-1-thread-3] INFO CoreNLP - [/127.0.0.1:42832] API call w/annotators tokenize,pos,lemma,ner,parse,depparse,coref\n"
     ]
    },
    {
     "name": "stdout",
     "output_type": "stream",
     "text": [
      "A large pair of old scissors sits on a table near a wooden box.\n",
      "Picture of two pizza pies on a date\n"
     ]
    },
    {
     "name": "stderr",
     "output_type": "stream",
     "text": [
      "[pool-1-thread-2] INFO CoreNLP - [/127.0.0.1:42850] API call w/annotators tokenize,pos,lemma,ner,parse,depparse,coref\n",
      " 40%|█████████████████████████▌                                      | 595/1488 [01:08<01:39,  8.94it/s][pool-1-thread-1] INFO CoreNLP - [/127.0.0.1:42868] API call w/annotators tokenize,pos,lemma,ner,parse,depparse,coref\n",
      " 40%|█████████████████████████▋                                      | 596/1488 [01:08<01:37,  9.16it/s][pool-1-thread-5] INFO CoreNLP - [/127.0.0.1:42886] API call w/annotators tokenize,pos,lemma,ner,parse,depparse,coref\n"
     ]
    },
    {
     "name": "stdout",
     "output_type": "stream",
     "text": [
      "a photograph of an old school looking liqour \n",
      "Two black cats sitting in a window ledge. \n",
      "A well lit clock on a building at night\n"
     ]
    },
    {
     "name": "stderr",
     "output_type": "stream",
     "text": [
      " 40%|█████████████████████████▋                                      | 597/1488 [01:08<01:35,  9.34it/s][pool-1-thread-4] INFO CoreNLP - [/127.0.0.1:42890] API call w/annotators tokenize,pos,lemma,ner,parse,depparse,coref\n",
      " 40%|█████████████████████████▋                                      | 598/1488 [01:08<01:36,  9.23it/s][pool-1-thread-3] INFO CoreNLP - [/127.0.0.1:42916] API call w/annotators tokenize,pos,lemma,ner,parse,depparse,coref\n",
      " 40%|█████████████████████████▊                                      | 599/1488 [01:08<01:39,  8.96it/s]"
     ]
    },
    {
     "name": "stdout",
     "output_type": "stream",
     "text": [
      "An old rusty fire hydrant standing on a cracked sidewalk.\n",
      "A dog has crazy eyes as he tries to keep the frisbee.\n"
     ]
    },
    {
     "name": "stderr",
     "output_type": "stream",
     "text": [
      "[pool-1-thread-2] INFO CoreNLP - [/127.0.0.1:42942] API call w/annotators tokenize,pos,lemma,ner,parse,depparse,coref\n",
      " 40%|█████████████████████████▊                                      | 600/1488 [01:08<01:51,  7.94it/s][pool-1-thread-1] INFO CoreNLP - [/127.0.0.1:42966] API call w/annotators tokenize,pos,lemma,ner,parse,depparse,coref\n"
     ]
    },
    {
     "name": "stdout",
     "output_type": "stream",
     "text": [
      "A plate of meat and vegetables and a glass of wine on a wooden dining table.\n",
      "A couple of people are riding a motorcycle\n"
     ]
    },
    {
     "name": "stderr",
     "output_type": "stream",
     "text": [
      "[pool-1-thread-5] INFO CoreNLP - [/127.0.0.1:42986] API call w/annotators tokenize,pos,lemma,ner,parse,depparse,coref\n",
      " 40%|█████████████████████████▉                                      | 602/1488 [01:08<01:41,  8.77it/s][pool-1-thread-4] INFO CoreNLP - [/127.0.0.1:42998] API call w/annotators tokenize,pos,lemma,ner,parse,depparse,coref\n",
      "[pool-1-thread-3] INFO CoreNLP - [/127.0.0.1:43016] API call w/annotators tokenize,pos,lemma,ner,parse,depparse,coref\n"
     ]
    },
    {
     "name": "stdout",
     "output_type": "stream",
     "text": [
      "Many horses stand in a field and eat grass\n",
      "a stop sign most the way covered with water \n",
      "Double decker buses pass Big Ben in London.\n"
     ]
    },
    {
     "name": "stderr",
     "output_type": "stream",
     "text": [
      " 41%|█████████████████████████▉                                      | 604/1488 [01:09<01:36,  9.18it/s][pool-1-thread-2] INFO CoreNLP - [/127.0.0.1:43038] API call w/annotators tokenize,pos,lemma,ner,parse,depparse,coref\n",
      " 41%|██████████████████████████                                      | 605/1488 [01:09<01:43,  8.51it/s][pool-1-thread-1] INFO CoreNLP - [/127.0.0.1:43064] API call w/annotators tokenize,pos,lemma,ner,parse,depparse,coref\n",
      " 41%|██████████████████████████                                      | 606/1488 [01:09<01:41,  8.72it/s]"
     ]
    },
    {
     "name": "stdout",
     "output_type": "stream",
     "text": [
      "A bathroom with several urinals separated by privacy dividers with a central muti-use sink.\n",
      "a horse with a long mane looking at the camera \n"
     ]
    },
    {
     "name": "stderr",
     "output_type": "stream",
     "text": [
      "[pool-1-thread-5] INFO CoreNLP - [/127.0.0.1:34730] API call w/annotators tokenize,pos,lemma,ner,parse,depparse,coref\n",
      " 41%|██████████████████████████                                      | 607/1488 [01:09<01:38,  8.98it/s][pool-1-thread-4] INFO CoreNLP - [/127.0.0.1:34750] API call w/annotators tokenize,pos,lemma,ner,parse,depparse,coref\n",
      "[pool-1-thread-3] INFO CoreNLP - [/127.0.0.1:34770] API call w/annotators tokenize,pos,lemma,ner,parse,depparse,coref\n"
     ]
    },
    {
     "name": "stdout",
     "output_type": "stream",
     "text": [
      "a woman standing with an umbrella over her head \n",
      "A group of people sitting at a table.\n",
      "A woman sitting at a table with a coffee cup and a Halloween Decoration.\n"
     ]
    },
    {
     "name": "stderr",
     "output_type": "stream",
     "text": [
      " 41%|██████████████████████████▏                                     | 609/1488 [01:09<01:39,  8.83it/s][pool-1-thread-2] INFO CoreNLP - [/127.0.0.1:34774] API call w/annotators tokenize,pos,lemma,ner,parse,depparse,coref\n",
      " 41%|██████████████████████████▏                                     | 610/1488 [01:09<01:37,  8.97it/s][pool-1-thread-1] INFO CoreNLP - [/127.0.0.1:34796] API call w/annotators tokenize,pos,lemma,ner,parse,depparse,coref\n",
      " 41%|██████████████████████████▎                                     | 611/1488 [01:09<01:38,  8.94it/s]"
     ]
    },
    {
     "name": "stdout",
     "output_type": "stream",
     "text": [
      "a young baseball player throwing a baseball on a field\n",
      "A small cat sleeping in the sunlight on a couch.\n"
     ]
    },
    {
     "name": "stderr",
     "output_type": "stream",
     "text": [
      "[pool-1-thread-5] INFO CoreNLP - [/127.0.0.1:34812] API call w/annotators tokenize,pos,lemma,ner,parse,depparse,coref\n",
      " 41%|██████████████████████████▎                                     | 612/1488 [01:10<01:37,  8.99it/s][pool-1-thread-4] INFO CoreNLP - [/127.0.0.1:34836] API call w/annotators tokenize,pos,lemma,ner,parse,depparse,coref\n",
      " 41%|██████████████████████████▎                                     | 613/1488 [01:10<01:37,  9.00it/s]"
     ]
    },
    {
     "name": "stdout",
     "output_type": "stream",
     "text": [
      "Several people looking at books displayed on a table.\n",
      "A man with a skateboard poses near an outdoor stairwell.\n"
     ]
    },
    {
     "name": "stderr",
     "output_type": "stream",
     "text": [
      "[pool-1-thread-3] INFO CoreNLP - [/127.0.0.1:34856] API call w/annotators tokenize,pos,lemma,ner,parse,depparse,coref\n",
      " 41%|██████████████████████████▍                                     | 614/1488 [01:10<01:44,  8.34it/s][pool-1-thread-2] INFO CoreNLP - [/127.0.0.1:34870] API call w/annotators tokenize,pos,lemma,ner,parse,depparse,coref\n",
      " 41%|██████████████████████████▍                                     | 615/1488 [01:10<01:40,  8.68it/s]"
     ]
    },
    {
     "name": "stdout",
     "output_type": "stream",
     "text": [
      "a woman on skis smiles while standing in the snow \n",
      "a couple of deers sanding on a rocky terrain \n"
     ]
    },
    {
     "name": "stderr",
     "output_type": "stream",
     "text": [
      "[pool-1-thread-1] INFO CoreNLP - [/127.0.0.1:34902] API call w/annotators tokenize,pos,lemma,ner,parse,depparse,coref\n",
      " 41%|██████████████████████████▍                                     | 616/1488 [01:10<01:41,  8.62it/s][pool-1-thread-5] INFO CoreNLP - [/127.0.0.1:34912] API call w/annotators tokenize,pos,lemma,ner,parse,depparse,coref\n",
      " 41%|██████████████████████████▌                                     | 617/1488 [01:10<01:41,  8.61it/s]"
     ]
    },
    {
     "name": "stdout",
     "output_type": "stream",
     "text": [
      "young girl wearing a lime green outfit laying on a hospital bed\n",
      "a person in a field with a dog jumping in the air\n"
     ]
    },
    {
     "name": "stderr",
     "output_type": "stream",
     "text": [
      "[pool-1-thread-4] INFO CoreNLP - [/127.0.0.1:34920] API call w/annotators tokenize,pos,lemma,ner,parse,depparse,coref\n",
      " 42%|██████████████████████████▌                                     | 618/1488 [01:10<01:40,  8.66it/s][pool-1-thread-3] INFO CoreNLP - [/127.0.0.1:34940] API call w/annotators tokenize,pos,lemma,ner,parse,depparse,coref\n",
      " 42%|██████████████████████████▌                                     | 619/1488 [01:10<01:43,  8.38it/s]"
     ]
    },
    {
     "name": "stdout",
     "output_type": "stream",
     "text": [
      "A baseball player holding a bat standing next to home plate.\n",
      "An elephant with a red drape used for a  seat on its back.\n"
     ]
    },
    {
     "name": "stderr",
     "output_type": "stream",
     "text": [
      "[pool-1-thread-2] INFO CoreNLP - [/127.0.0.1:34950] API call w/annotators tokenize,pos,lemma,ner,parse,depparse,coref\n",
      " 42%|██████████████████████████▋                                     | 620/1488 [01:11<01:40,  8.63it/s][pool-1-thread-1] INFO CoreNLP - [/127.0.0.1:34968] API call w/annotators tokenize,pos,lemma,ner,parse,depparse,coref\n",
      " 42%|██████████████████████████▋                                     | 621/1488 [01:11<01:39,  8.72it/s]"
     ]
    },
    {
     "name": "stdout",
     "output_type": "stream",
     "text": [
      "a street image with parked vehicles along side the curb \n",
      "a person riding a bike on a grass field with rocks\n"
     ]
    },
    {
     "name": "stderr",
     "output_type": "stream",
     "text": [
      "[pool-1-thread-5] INFO CoreNLP - [/127.0.0.1:34972] API call w/annotators tokenize,pos,lemma,ner,parse,depparse,coref\n",
      " 42%|██████████████████████████▊                                     | 622/1488 [01:11<01:44,  8.28it/s][pool-1-thread-4] INFO CoreNLP - [/127.0.0.1:34990] API call w/annotators tokenize,pos,lemma,ner,parse,depparse,coref\n",
      " 42%|██████████████████████████▊                                     | 623/1488 [01:11<01:46,  8.15it/s]"
     ]
    },
    {
     "name": "stdout",
     "output_type": "stream",
     "text": [
      "A group of people standing on top of a beach next to the ocean.\n",
      "A bird perched on top of a sign next to a river.\n"
     ]
    },
    {
     "name": "stderr",
     "output_type": "stream",
     "text": [
      "[pool-1-thread-3] INFO CoreNLP - [/127.0.0.1:35008] API call w/annotators tokenize,pos,lemma,ner,parse,depparse,coref\n",
      " 42%|██████████████████████████▊                                     | 624/1488 [01:11<01:43,  8.33it/s][pool-1-thread-2] INFO CoreNLP - [/127.0.0.1:35018] API call w/annotators tokenize,pos,lemma,ner,parse,depparse,coref\n",
      " 42%|██████████████████████████▉                                     | 625/1488 [01:11<01:39,  8.71it/s]"
     ]
    },
    {
     "name": "stdout",
     "output_type": "stream",
     "text": [
      "A brown clock tower with a gold and black clock.\n",
      "Two girls on a soccer field playing soccer.\n"
     ]
    },
    {
     "name": "stderr",
     "output_type": "stream",
     "text": [
      "[pool-1-thread-1] INFO CoreNLP - [/127.0.0.1:35036] API call w/annotators tokenize,pos,lemma,ner,parse,depparse,coref\n",
      " 42%|██████████████████████████▉                                     | 626/1488 [01:11<01:37,  8.83it/s][pool-1-thread-5] INFO CoreNLP - [/127.0.0.1:35054] API call w/annotators tokenize,pos,lemma,ner,parse,depparse,coref\n",
      " 42%|██████████████████████████▉                                     | 627/1488 [01:11<01:35,  9.01it/s]"
     ]
    },
    {
     "name": "stdout",
     "output_type": "stream",
     "text": [
      "A single surfer is riding a surfboard on a wave.\n",
      "Two green signs that are on a metal pole.\n"
     ]
    },
    {
     "name": "stderr",
     "output_type": "stream",
     "text": [
      "[pool-1-thread-4] INFO CoreNLP - [/127.0.0.1:35086] API call w/annotators tokenize,pos,lemma,ner,parse,depparse,coref\n",
      " 42%|███████████████████████████                                     | 628/1488 [01:11<01:34,  9.06it/s][pool-1-thread-3] INFO CoreNLP - [/127.0.0.1:35104] API call w/annotators tokenize,pos,lemma,ner,parse,depparse,coref\n"
     ]
    },
    {
     "name": "stdout",
     "output_type": "stream",
     "text": [
      "A train driving on the tracks near a platform.\n",
      "A man carrying a surfboard across the beach \n"
     ]
    },
    {
     "name": "stderr",
     "output_type": "stream",
     "text": [
      "[pool-1-thread-2] INFO CoreNLP - [/127.0.0.1:35122] API call w/annotators tokenize,pos,lemma,ner,parse,depparse,coref\n",
      " 42%|███████████████████████████                                     | 630/1488 [01:12<01:31,  9.36it/s][pool-1-thread-1] INFO CoreNLP - [/127.0.0.1:35146] API call w/annotators tokenize,pos,lemma,ner,parse,depparse,coref\n",
      " 42%|███████████████████████████▏                                    | 631/1488 [01:12<01:31,  9.35it/s]"
     ]
    },
    {
     "name": "stdout",
     "output_type": "stream",
     "text": [
      "A woman holding an umbrella is walking on the sidewalk.\n",
      "A herd at of zebras are grazing in the field \n"
     ]
    },
    {
     "name": "stderr",
     "output_type": "stream",
     "text": [
      "[pool-1-thread-5] INFO CoreNLP - [/127.0.0.1:35168] API call w/annotators tokenize,pos,lemma,ner,parse,depparse,coref\n",
      " 42%|███████████████████████████▏                                    | 632/1488 [01:12<01:32,  9.25it/s][pool-1-thread-4] INFO CoreNLP - [/127.0.0.1:35190] API call w/annotators tokenize,pos,lemma,ner,parse,depparse,coref\n"
     ]
    },
    {
     "name": "stdout",
     "output_type": "stream",
     "text": [
      "A train traveling down railroad tracks next to a grassy hillside\n",
      "A woman working on a laptop computer \n"
     ]
    },
    {
     "name": "stderr",
     "output_type": "stream",
     "text": [
      "[pool-1-thread-3] INFO CoreNLP - [/127.0.0.1:35202] API call w/annotators tokenize,pos,lemma,ner,parse,depparse,coref\n",
      "\r",
      " 43%|███████████████████████████▎                                    | 634/1488 [01:12<01:32,  9.22it/s]"
     ]
    },
    {
     "name": "stdout",
     "output_type": "stream",
     "text": [
      "A group of horses racing down a track next to a green field.\n",
      "a sofa two ottomans and a dinette set\n"
     ]
    },
    {
     "name": "stderr",
     "output_type": "stream",
     "text": [
      "[pool-1-thread-2] INFO CoreNLP - [/127.0.0.1:35224] API call w/annotators tokenize,pos,lemma,ner,parse,depparse,coref\n",
      "[pool-1-thread-1] INFO CoreNLP - [/127.0.0.1:35248] API call w/annotators tokenize,pos,lemma,ner,parse,depparse,coref\n",
      " 43%|███████████████████████████▎                                    | 636/1488 [01:12<01:29,  9.56it/s][pool-1-thread-5] INFO CoreNLP - [/127.0.0.1:35264] API call w/annotators tokenize,pos,lemma,ner,parse,depparse,coref\n",
      " 43%|███████████████████████████▍                                    | 637/1488 [01:12<01:31,  9.34it/s]"
     ]
    },
    {
     "name": "stdout",
     "output_type": "stream",
     "text": [
      "an open purple umbrella laying in the water \n",
      "A banana split with spoons in a glass bowl.\n"
     ]
    },
    {
     "name": "stderr",
     "output_type": "stream",
     "text": [
      "[pool-1-thread-4] INFO CoreNLP - [/127.0.0.1:35288] API call w/annotators tokenize,pos,lemma,ner,parse,depparse,coref\n",
      " 43%|███████████████████████████▍                                    | 638/1488 [01:12<01:32,  9.14it/s][pool-1-thread-3] INFO CoreNLP - [/127.0.0.1:35298] API call w/annotators tokenize,pos,lemma,ner,parse,depparse,coref\n",
      " 43%|███████████████████████████▍                                    | 639/1488 [01:13<01:32,  9.22it/s]"
     ]
    },
    {
     "name": "stdout",
     "output_type": "stream",
     "text": [
      "An adult and young horse interacting in a field of grass.\n",
      "Two men are talking around a counter at a store\n"
     ]
    },
    {
     "name": "stderr",
     "output_type": "stream",
     "text": [
      "[pool-1-thread-2] INFO CoreNLP - [/127.0.0.1:35326] API call w/annotators tokenize,pos,lemma,ner,parse,depparse,coref\n",
      " 43%|███████████████████████████▌                                    | 640/1488 [01:13<01:33,  9.10it/s][pool-1-thread-1] INFO CoreNLP - [/127.0.0.1:35344] API call w/annotators tokenize,pos,lemma,ner,parse,depparse,coref\n",
      " 43%|███████████████████████████▌                                    | 641/1488 [01:13<01:33,  9.07it/s]"
     ]
    },
    {
     "name": "stdout",
     "output_type": "stream",
     "text": [
      "A banana dessert with caramel sauce on a white plate.\n",
      "A skateboarder is balancing on the rim of a bowl.\n"
     ]
    },
    {
     "name": "stderr",
     "output_type": "stream",
     "text": [
      "[pool-1-thread-5] INFO CoreNLP - [/127.0.0.1:35366] API call w/annotators tokenize,pos,lemma,ner,parse,depparse,coref\n",
      " 43%|███████████████████████████▌                                    | 642/1488 [01:13<01:35,  8.87it/s][pool-1-thread-4] INFO CoreNLP - [/127.0.0.1:35380] API call w/annotators tokenize,pos,lemma,ner,parse,depparse,coref\n",
      " 43%|███████████████████████████▋                                    | 643/1488 [01:13<01:35,  8.89it/s]"
     ]
    },
    {
     "name": "stdout",
     "output_type": "stream",
     "text": [
      "A cat sleeping on top of a stereo by a plastic clock\n",
      "A cat standing on a toilet seat in a bathroom.\n"
     ]
    },
    {
     "name": "stderr",
     "output_type": "stream",
     "text": [
      "[pool-1-thread-3] INFO CoreNLP - [/127.0.0.1:35396] API call w/annotators tokenize,pos,lemma,ner,parse,depparse,coref\n",
      " 43%|███████████████████████████▋                                    | 644/1488 [01:13<01:37,  8.68it/s][pool-1-thread-2] INFO CoreNLP - [/127.0.0.1:35400] API call w/annotators tokenize,pos,lemma,ner,parse,depparse,coref\n",
      " 43%|███████████████████████████▋                                    | 645/1488 [01:13<01:34,  8.89it/s]"
     ]
    },
    {
     "name": "stdout",
     "output_type": "stream",
     "text": [
      "A crowd of people walk along a sidewalk near a busy road.\n",
      "A parrot sitting on top of someone's fingers.\n"
     ]
    },
    {
     "name": "stderr",
     "output_type": "stream",
     "text": [
      "[pool-1-thread-1] INFO CoreNLP - [/127.0.0.1:35418] API call w/annotators tokenize,pos,lemma,ner,parse,depparse,coref\n",
      "[pool-1-thread-5] INFO CoreNLP - [/127.0.0.1:35428] API call w/annotators tokenize,pos,lemma,ner,parse,depparse,coref\n",
      " 43%|███████████████████████████▊                                    | 647/1488 [01:13<01:30,  9.30it/s][pool-1-thread-4] INFO CoreNLP - [/127.0.0.1:35452] API call w/annotators tokenize,pos,lemma,ner,parse,depparse,coref\n"
     ]
    },
    {
     "name": "stdout",
     "output_type": "stream",
     "text": [
      "Black and white photo of an industrial train\n",
      "A person does a trick in a body of water\n",
      "A group of people are sitting around a slice of pizza in a restaurant.\n"
     ]
    },
    {
     "name": "stderr",
     "output_type": "stream",
     "text": [
      " 44%|███████████████████████████▊                                    | 648/1488 [01:14<01:37,  8.61it/s][pool-1-thread-3] INFO CoreNLP - [/127.0.0.1:35466] API call w/annotators tokenize,pos,lemma,ner,parse,depparse,coref\n",
      " 44%|███████████████████████████▉                                    | 649/1488 [01:14<01:37,  8.64it/s][pool-1-thread-2] INFO CoreNLP - [/127.0.0.1:35482] API call w/annotators tokenize,pos,lemma,ner,parse,depparse,coref\n",
      " 44%|███████████████████████████▉                                    | 650/1488 [01:14<01:37,  8.59it/s]"
     ]
    },
    {
     "name": "stdout",
     "output_type": "stream",
     "text": [
      "two babies play and talk with each other in their strollers.\n",
      "A skate boarder wearing a helmet is going up the slope.\n"
     ]
    },
    {
     "name": "stderr",
     "output_type": "stream",
     "text": [
      "[pool-1-thread-1] INFO CoreNLP - [/127.0.0.1:35488] API call w/annotators tokenize,pos,lemma,ner,parse,depparse,coref\n",
      " 44%|████████████████████████████                                    | 651/1488 [01:14<01:34,  8.89it/s][pool-1-thread-5] INFO CoreNLP - [/127.0.0.1:35510] API call w/annotators tokenize,pos,lemma,ner,parse,depparse,coref\n",
      "[pool-1-thread-4] INFO CoreNLP - [/127.0.0.1:35518] API call w/annotators tokenize,pos,lemma,ner,parse,depparse,coref\n"
     ]
    },
    {
     "name": "stdout",
     "output_type": "stream",
     "text": [
      "A woman putting icing on a homemade cake.\n",
      "A man standing next to a docked ferry.\n",
      "a surfer riding small waves in the ocean\n"
     ]
    },
    {
     "name": "stderr",
     "output_type": "stream",
     "text": [
      " 44%|████████████████████████████                                    | 653/1488 [01:14<01:28,  9.39it/s][pool-1-thread-3] INFO CoreNLP - [/127.0.0.1:35530] API call w/annotators tokenize,pos,lemma,ner,parse,depparse,coref\n",
      " 44%|████████████████████████████▏                                   | 654/1488 [01:14<01:27,  9.50it/s][pool-1-thread-2] INFO CoreNLP - [/127.0.0.1:35562] API call w/annotators tokenize,pos,lemma,ner,parse,depparse,coref\n",
      " 44%|████████████████████████████▏                                   | 655/1488 [01:14<01:29,  9.28it/s]"
     ]
    },
    {
     "name": "stdout",
     "output_type": "stream",
     "text": [
      "A car accident between a car and a bus\n",
      "A cat standing on a kitchen counter looking into a cupboard.\n"
     ]
    },
    {
     "name": "stderr",
     "output_type": "stream",
     "text": [
      "[pool-1-thread-1] INFO CoreNLP - [/127.0.0.1:35576] API call w/annotators tokenize,pos,lemma,ner,parse,depparse,coref\n",
      " 44%|████████████████████████████▏                                   | 656/1488 [01:14<01:33,  8.94it/s][pool-1-thread-5] INFO CoreNLP - [/127.0.0.1:35598] API call w/annotators tokenize,pos,lemma,ner,parse,depparse,coref\n",
      " 44%|████████████████████████████▎                                   | 657/1488 [01:15<01:31,  9.05it/s]"
     ]
    },
    {
     "name": "stdout",
     "output_type": "stream",
     "text": [
      "Parents at a chain link fence watch a Little League baseball game.\n",
      "Three cows grazing on a hill overlooking a harbor.\n"
     ]
    },
    {
     "name": "stderr",
     "output_type": "stream",
     "text": [
      "[pool-1-thread-4] INFO CoreNLP - [/127.0.0.1:35618] API call w/annotators tokenize,pos,lemma,ner,parse,depparse,coref\n",
      " 44%|████████████████████████████▎                                   | 658/1488 [01:15<01:30,  9.15it/s][pool-1-thread-3] INFO CoreNLP - [/127.0.0.1:35630] API call w/annotators tokenize,pos,lemma,ner,parse,depparse,coref\n",
      " 44%|████████████████████████████▎                                   | 659/1488 [01:15<01:29,  9.22it/s]"
     ]
    },
    {
     "name": "stdout",
     "output_type": "stream",
     "text": [
      "An object is shown on top of white surface.\n",
      "A snake crawling on the ground amid some leaves.\n"
     ]
    },
    {
     "name": "stderr",
     "output_type": "stream",
     "text": [
      "[pool-1-thread-2] INFO CoreNLP - [/127.0.0.1:35636] API call w/annotators tokenize,pos,lemma,ner,parse,depparse,coref\n",
      " 44%|████████████████████████████▍                                   | 660/1488 [01:15<01:29,  9.29it/s][pool-1-thread-1] INFO CoreNLP - [/127.0.0.1:35658] API call w/annotators tokenize,pos,lemma,ner,parse,depparse,coref\n",
      " 44%|████████████████████████████▍                                   | 661/1488 [01:15<01:30,  9.17it/s]"
     ]
    },
    {
     "name": "stdout",
     "output_type": "stream",
     "text": [
      "A very long busy city street with some cars.\n",
      "A person holding a piece of partially eaten food. \n"
     ]
    },
    {
     "name": "stderr",
     "output_type": "stream",
     "text": [
      "[pool-1-thread-5] INFO CoreNLP - [/127.0.0.1:35666] API call w/annotators tokenize,pos,lemma,ner,parse,depparse,coref\n",
      " 44%|████████████████████████████▍                                   | 662/1488 [01:15<01:29,  9.24it/s][pool-1-thread-4] INFO CoreNLP - [/127.0.0.1:35684] API call w/annotators tokenize,pos,lemma,ner,parse,depparse,coref\n",
      " 45%|████████████████████████████▌                                   | 663/1488 [01:15<01:28,  9.28it/s]"
     ]
    },
    {
     "name": "stdout",
     "output_type": "stream",
     "text": [
      "The skateboarder flips his board on a colorful ramp.\n",
      "a couple of trains that are on some train tracks\n"
     ]
    },
    {
     "name": "stderr",
     "output_type": "stream",
     "text": [
      "[pool-1-thread-3] INFO CoreNLP - [/127.0.0.1:35704] API call w/annotators tokenize,pos,lemma,ner,parse,depparse,coref\n",
      " 45%|████████████████████████████▌                                   | 664/1488 [01:15<01:35,  8.66it/s][pool-1-thread-2] INFO CoreNLP - [/127.0.0.1:35708] API call w/annotators tokenize,pos,lemma,ner,parse,depparse,coref\n",
      " 45%|████████████████████████████▌                                   | 665/1488 [01:15<01:34,  8.75it/s]"
     ]
    },
    {
     "name": "stdout",
     "output_type": "stream",
     "text": [
      "The head and neck of a giraffe with bare tree branches behind it.\n",
      "A duck and two ducklings are sitting on the water.\n"
     ]
    },
    {
     "name": "stderr",
     "output_type": "stream",
     "text": [
      "[pool-1-thread-1] INFO CoreNLP - [/127.0.0.1:35734] API call w/annotators tokenize,pos,lemma,ner,parse,depparse,coref\n",
      " 45%|████████████████████████████▋                                   | 666/1488 [01:16<01:38,  8.33it/s][pool-1-thread-5] INFO CoreNLP - [/127.0.0.1:35756] API call w/annotators tokenize,pos,lemma,ner,parse,depparse,coref\n",
      " 45%|████████████████████████████▋                                   | 667/1488 [01:16<01:38,  8.37it/s]"
     ]
    },
    {
     "name": "stdout",
     "output_type": "stream",
     "text": [
      "A dog that was asleep on a couch is being bothered by the photographer. \n",
      "A young boy playing in a living room with a large window.\n"
     ]
    },
    {
     "name": "stderr",
     "output_type": "stream",
     "text": [
      "[pool-1-thread-4] INFO CoreNLP - [/127.0.0.1:35782] API call w/annotators tokenize,pos,lemma,ner,parse,depparse,coref\n",
      " 45%|████████████████████████████▋                                   | 668/1488 [01:16<01:35,  8.62it/s][pool-1-thread-3] INFO CoreNLP - [/127.0.0.1:35800] API call w/annotators tokenize,pos,lemma,ner,parse,depparse,coref\n",
      " 45%|████████████████████████████▊                                   | 669/1488 [01:16<01:32,  8.82it/s]"
     ]
    },
    {
     "name": "stdout",
     "output_type": "stream",
     "text": [
      "A quiet intersection devoid of pedestrian or motor traffic.\n",
      "An old lady stands in the middle of a kitchen\n"
     ]
    },
    {
     "name": "stderr",
     "output_type": "stream",
     "text": [
      "[pool-1-thread-2] INFO CoreNLP - [/127.0.0.1:35816] API call w/annotators tokenize,pos,lemma,ner,parse,depparse,coref\n",
      " 45%|████████████████████████████▊                                   | 670/1488 [01:16<01:34,  8.68it/s][pool-1-thread-1] INFO CoreNLP - [/127.0.0.1:35826] API call w/annotators tokenize,pos,lemma,ner,parse,depparse,coref\n",
      " 45%|████████████████████████████▊                                   | 671/1488 [01:16<01:34,  8.62it/s]"
     ]
    },
    {
     "name": "stdout",
     "output_type": "stream",
     "text": [
      "A herder in white walking on a road with his cattle.\n",
      "A rainy day makes the pavement shiny on a city street.\n"
     ]
    },
    {
     "name": "stderr",
     "output_type": "stream",
     "text": [
      "[pool-1-thread-5] INFO CoreNLP - [/127.0.0.1:35848] API call w/annotators tokenize,pos,lemma,ner,parse,depparse,coref\n",
      " 45%|████████████████████████████▉                                   | 672/1488 [01:16<01:36,  8.47it/s][pool-1-thread-4] INFO CoreNLP - [/127.0.0.1:35874] API call w/annotators tokenize,pos,lemma,ner,parse,depparse,coref\n",
      " 45%|████████████████████████████▉                                   | 673/1488 [01:16<01:40,  8.12it/s]"
     ]
    },
    {
     "name": "stdout",
     "output_type": "stream",
     "text": [
      "A bathroom with a stall shower and a white sink basin.\n",
      "A dog sleeping between a book bag and a shredder, underneath a computer desk \n"
     ]
    },
    {
     "name": "stderr",
     "output_type": "stream",
     "text": [
      "[pool-1-thread-3] INFO CoreNLP - [/127.0.0.1:35888] API call w/annotators tokenize,pos,lemma,ner,parse,depparse,coref\n",
      " 45%|████████████████████████████▉                                   | 674/1488 [01:17<01:40,  8.08it/s][pool-1-thread-2] INFO CoreNLP - [/127.0.0.1:35910] API call w/annotators tokenize,pos,lemma,ner,parse,depparse,coref\n",
      " 45%|█████████████████████████████                                   | 675/1488 [01:17<01:35,  8.55it/s]"
     ]
    },
    {
     "name": "stdout",
     "output_type": "stream",
     "text": [
      "A number of speed boats in the water anchored on a bay\n",
      "A black and white cat sitting on a windowsill \n"
     ]
    },
    {
     "name": "stderr",
     "output_type": "stream",
     "text": [
      "[pool-1-thread-1] INFO CoreNLP - [/127.0.0.1:35920] API call w/annotators tokenize,pos,lemma,ner,parse,depparse,coref\n",
      " 45%|█████████████████████████████                                   | 676/1488 [01:17<01:33,  8.68it/s][pool-1-thread-5] INFO CoreNLP - [/127.0.0.1:35938] API call w/annotators tokenize,pos,lemma,ner,parse,depparse,coref\n",
      " 45%|█████████████████████████████                                   | 677/1488 [01:17<01:35,  8.52it/s]"
     ]
    },
    {
     "name": "stdout",
     "output_type": "stream",
     "text": [
      "This is an interesting view of someone riding a skateboard.\n",
      "A snowboarder mid flight doing a trick with clouds in the background.\n"
     ]
    },
    {
     "name": "stderr",
     "output_type": "stream",
     "text": [
      "[pool-1-thread-4] INFO CoreNLP - [/127.0.0.1:35968] API call w/annotators tokenize,pos,lemma,ner,parse,depparse,coref\n",
      "[pool-1-thread-3] INFO CoreNLP - [/127.0.0.1:35980] API call w/annotators tokenize,pos,lemma,ner,parse,depparse,coref\n",
      " 46%|█████████████████████████████▏                                  | 679/1488 [01:17<01:28,  9.09it/s]"
     ]
    },
    {
     "name": "stdout",
     "output_type": "stream",
     "text": [
      "This cake is being doused in liquid chocolate\n",
      "The yellow fire hydrant is rusted on the sidewalk. \n"
     ]
    },
    {
     "name": "stderr",
     "output_type": "stream",
     "text": [
      "[pool-1-thread-2] INFO CoreNLP - [/127.0.0.1:36002] API call w/annotators tokenize,pos,lemma,ner,parse,depparse,coref\n",
      " 46%|█████████████████████████████▏                                  | 680/1488 [01:17<01:26,  9.29it/s][pool-1-thread-1] INFO CoreNLP - [/127.0.0.1:36010] API call w/annotators tokenize,pos,lemma,ner,parse,depparse,coref\n",
      " 46%|█████████████████████████████▎                                  | 681/1488 [01:17<01:25,  9.46it/s][pool-1-thread-5] INFO CoreNLP - [/127.0.0.1:36032] API call w/annotators tokenize,pos,lemma,ner,parse,depparse,coref\n"
     ]
    },
    {
     "name": "stdout",
     "output_type": "stream",
     "text": [
      "A setup a model village and train set.\n",
      "A tour bus sits outside an old building.\n"
     ]
    },
    {
     "name": "stderr",
     "output_type": "stream",
     "text": [
      " 46%|█████████████████████████████▎                                  | 682/1488 [01:17<01:28,  9.06it/s][pool-1-thread-4] INFO CoreNLP - [/127.0.0.1:36054] API call w/annotators tokenize,pos,lemma,ner,parse,depparse,coref\n",
      " 46%|█████████████████████████████▍                                  | 683/1488 [01:18<01:27,  9.16it/s]"
     ]
    },
    {
     "name": "stdout",
     "output_type": "stream",
     "text": [
      "A baseball catcher catching a baseball while a batter swings a bat.\n",
      "A white refrigerator freezer sitting inside of a kitchen.\n"
     ]
    },
    {
     "name": "stderr",
     "output_type": "stream",
     "text": [
      "[pool-1-thread-3] INFO CoreNLP - [/127.0.0.1:36070] API call w/annotators tokenize,pos,lemma,ner,parse,depparse,coref\n",
      " 46%|█████████████████████████████▍                                  | 684/1488 [01:18<01:29,  8.96it/s][pool-1-thread-2] INFO CoreNLP - [/127.0.0.1:36092] API call w/annotators tokenize,pos,lemma,ner,parse,depparse,coref\n"
     ]
    },
    {
     "name": "stdout",
     "output_type": "stream",
     "text": [
      "A man that is standing up and has a tennis racquet.\n",
      "A large room features a wall shelf with drawers and a brown sofa and wood coffee table.\n"
     ]
    },
    {
     "name": "stderr",
     "output_type": "stream",
     "text": [
      " 46%|█████████████████████████████▍                                  | 685/1488 [01:18<01:41,  7.95it/s][pool-1-thread-1] INFO CoreNLP - [/127.0.0.1:36106] API call w/annotators tokenize,pos,lemma,ner,parse,depparse,coref\n",
      " 46%|█████████████████████████████▌                                  | 686/1488 [01:18<01:36,  8.32it/s][pool-1-thread-5] INFO CoreNLP - [/127.0.0.1:36136] API call w/annotators tokenize,pos,lemma,ner,parse,depparse,coref\n",
      " 46%|█████████████████████████████▌                                  | 687/1488 [01:18<01:32,  8.69it/s]"
     ]
    },
    {
     "name": "stdout",
     "output_type": "stream",
     "text": [
      "A giraffe strolls through a grassy area between trees.\n",
      "Stuffed animals left out on the bench at the beach\n"
     ]
    },
    {
     "name": "stderr",
     "output_type": "stream",
     "text": [
      "[pool-1-thread-4] INFO CoreNLP - [/127.0.0.1:36148] API call w/annotators tokenize,pos,lemma,ner,parse,depparse,coref\n",
      " 46%|█████████████████████████████▌                                  | 688/1488 [01:18<01:31,  8.73it/s][pool-1-thread-3] INFO CoreNLP - [/127.0.0.1:36158] API call w/annotators tokenize,pos,lemma,ner,parse,depparse,coref\n",
      " 46%|█████████████████████████████▋                                  | 689/1488 [01:18<01:32,  8.64it/s]"
     ]
    },
    {
     "name": "stdout",
     "output_type": "stream",
     "text": [
      "The man is in his living room playing a video game.\n",
      "A building clock with military time and a bell above it.\n"
     ]
    },
    {
     "name": "stderr",
     "output_type": "stream",
     "text": [
      "[pool-1-thread-2] INFO CoreNLP - [/127.0.0.1:36170] API call w/annotators tokenize,pos,lemma,ner,parse,depparse,coref\n",
      " 46%|█████████████████████████████▋                                  | 690/1488 [01:18<01:29,  8.87it/s][pool-1-thread-1] INFO CoreNLP - [/127.0.0.1:36178] API call w/annotators tokenize,pos,lemma,ner,parse,depparse,coref\n",
      " 46%|█████████████████████████████▋                                  | 691/1488 [01:18<01:31,  8.72it/s]"
     ]
    },
    {
     "name": "stdout",
     "output_type": "stream",
     "text": [
      "A white toilet on the ground by some junk.\n",
      "A brown, black and white bird resting on a tree branch.\n"
     ]
    },
    {
     "name": "stderr",
     "output_type": "stream",
     "text": [
      "[pool-1-thread-5] INFO CoreNLP - [/127.0.0.1:36204] API call w/annotators tokenize,pos,lemma,ner,parse,depparse,coref\n",
      " 47%|█████████████████████████████▊                                  | 692/1488 [01:19<01:28,  9.00it/s][pool-1-thread-4] INFO CoreNLP - [/127.0.0.1:36226] API call w/annotators tokenize,pos,lemma,ner,parse,depparse,coref\n",
      " 47%|█████████████████████████████▊                                  | 693/1488 [01:19<01:33,  8.50it/s]"
     ]
    },
    {
     "name": "stdout",
     "output_type": "stream",
     "text": [
      "A bedroom with wooden floors in an apartment. \n",
      "A stop sign at the end of paved road by a chain link fence\n"
     ]
    },
    {
     "name": "stderr",
     "output_type": "stream",
     "text": [
      "[pool-1-thread-3] INFO CoreNLP - [/127.0.0.1:36238] API call w/annotators tokenize,pos,lemma,ner,parse,depparse,coref\n",
      " 47%|█████████████████████████████▊                                  | 694/1488 [01:19<01:35,  8.34it/s][pool-1-thread-2] INFO CoreNLP - [/127.0.0.1:36250] API call w/annotators tokenize,pos,lemma,ner,parse,depparse,coref\n",
      " 47%|█████████████████████████████▉                                  | 695/1488 [01:19<01:37,  8.17it/s]"
     ]
    },
    {
     "name": "stdout",
     "output_type": "stream",
     "text": [
      "A train is running down a track in the middle of the country.\n",
      "a professional pitcher on the mound getting ready to throw the ball\n"
     ]
    },
    {
     "name": "stderr",
     "output_type": "stream",
     "text": [
      "[pool-1-thread-1] INFO CoreNLP - [/127.0.0.1:34158] API call w/annotators tokenize,pos,lemma,ner,parse,depparse,coref\n",
      " 47%|█████████████████████████████▉                                  | 696/1488 [01:19<01:32,  8.53it/s][pool-1-thread-5] INFO CoreNLP - [/127.0.0.1:34162] API call w/annotators tokenize,pos,lemma,ner,parse,depparse,coref\n",
      " 47%|█████████████████████████████▉                                  | 697/1488 [01:19<01:33,  8.48it/s]"
     ]
    },
    {
     "name": "stdout",
     "output_type": "stream",
     "text": [
      "A large bus and some people on a street.\n",
      "a zebra in a field of grass with trees in the background\n"
     ]
    },
    {
     "name": "stderr",
     "output_type": "stream",
     "text": [
      "[pool-1-thread-4] INFO CoreNLP - [/127.0.0.1:34184] API call w/annotators tokenize,pos,lemma,ner,parse,depparse,coref\n",
      " 47%|██████████████████████████████                                  | 698/1488 [01:19<01:31,  8.64it/s][pool-1-thread-3] INFO CoreNLP - [/127.0.0.1:34194] API call w/annotators tokenize,pos,lemma,ner,parse,depparse,coref\n",
      " 47%|██████████████████████████████                                  | 699/1488 [01:19<01:28,  8.88it/s]"
     ]
    },
    {
     "name": "stdout",
     "output_type": "stream",
     "text": [
      "this is a bus on a road with a big building \n",
      "there is a cat that is laying on a napkin\n"
     ]
    },
    {
     "name": "stderr",
     "output_type": "stream",
     "text": [
      "[pool-1-thread-2] INFO CoreNLP - [/127.0.0.1:34210] API call w/annotators tokenize,pos,lemma,ner,parse,depparse,coref\n",
      " 47%|██████████████████████████████                                  | 700/1488 [01:20<01:27,  9.05it/s][pool-1-thread-1] INFO CoreNLP - [/127.0.0.1:34228] API call w/annotators tokenize,pos,lemma,ner,parse,depparse,coref\n",
      " 47%|██████████████████████████████▏                                 | 701/1488 [01:20<01:30,  8.69it/s]"
     ]
    },
    {
     "name": "stdout",
     "output_type": "stream",
     "text": [
      "A taxi cab parked next to a fire hydrant.\n",
      "A skate boarder is doing a jump over a patch in side walk.\n"
     ]
    },
    {
     "name": "stderr",
     "output_type": "stream",
     "text": [
      "[pool-1-thread-5] INFO CoreNLP - [/127.0.0.1:34248] API call w/annotators tokenize,pos,lemma,ner,parse,depparse,coref\n",
      " 47%|██████████████████████████████▏                                 | 702/1488 [01:20<01:27,  9.03it/s][pool-1-thread-4] INFO CoreNLP - [/127.0.0.1:34276] API call w/annotators tokenize,pos,lemma,ner,parse,depparse,coref\n",
      "[pool-1-thread-3] INFO CoreNLP - [/127.0.0.1:34290] API call w/annotators tokenize,pos,lemma,ner,parse,depparse,coref\n"
     ]
    },
    {
     "name": "stdout",
     "output_type": "stream",
     "text": [
      "a close up of a vase with decorations \n",
      "A car is parked alongside a muddy canal.\n",
      "A small boy pushes a pizza into an oven.\n"
     ]
    },
    {
     "name": "stderr",
     "output_type": "stream",
     "text": [
      " 47%|██████████████████████████████▎                                 | 704/1488 [01:20<01:23,  9.37it/s][pool-1-thread-2] INFO CoreNLP - [/127.0.0.1:34306] API call w/annotators tokenize,pos,lemma,ner,parse,depparse,coref\n",
      " 47%|██████████████████████████████▎                                 | 705/1488 [01:20<01:23,  9.39it/s][pool-1-thread-1] INFO CoreNLP - [/127.0.0.1:34324] API call w/annotators tokenize,pos,lemma,ner,parse,depparse,coref\n",
      " 47%|██████████████████████████████▎                                 | 706/1488 [01:20<01:24,  9.28it/s]"
     ]
    },
    {
     "name": "stdout",
     "output_type": "stream",
     "text": [
      "A table with books, a vase and flowers.\n",
      "Two trains traveling down train tracks next to a forest.\n"
     ]
    },
    {
     "name": "stderr",
     "output_type": "stream",
     "text": [
      "[pool-1-thread-5] INFO CoreNLP - [/127.0.0.1:34338] API call w/annotators tokenize,pos,lemma,ner,parse,depparse,coref\n",
      " 48%|██████████████████████████████▍                                 | 707/1488 [01:20<01:24,  9.29it/s][pool-1-thread-4] INFO CoreNLP - [/127.0.0.1:34350] API call w/annotators tokenize,pos,lemma,ner,parse,depparse,coref\n",
      " 48%|██████████████████████████████▍                                 | 708/1488 [01:20<01:29,  8.75it/s]"
     ]
    },
    {
     "name": "stdout",
     "output_type": "stream",
     "text": [
      "a bathroom with a toilet and tub inside of it \n",
      "A laptop, phone, keys and other accessories sitting on a table.\n"
     ]
    },
    {
     "name": "stderr",
     "output_type": "stream",
     "text": [
      "[pool-1-thread-3] INFO CoreNLP - [/127.0.0.1:34380] API call w/annotators tokenize,pos,lemma,ner,parse,depparse,coref\n",
      " 48%|██████████████████████████████▍                                 | 709/1488 [01:21<01:26,  8.97it/s][pool-1-thread-2] INFO CoreNLP - [/127.0.0.1:34388] API call w/annotators tokenize,pos,lemma,ner,parse,depparse,coref\n",
      " 48%|██████████████████████████████▌                                 | 710/1488 [01:21<01:27,  8.94it/s]"
     ]
    },
    {
     "name": "stdout",
     "output_type": "stream",
     "text": [
      "two little boys playing soccer ball on a field \n",
      "A flock of birds walking along a beach near water.\n"
     ]
    },
    {
     "name": "stderr",
     "output_type": "stream",
     "text": [
      "[pool-1-thread-1] INFO CoreNLP - [/127.0.0.1:34394] API call w/annotators tokenize,pos,lemma,ner,parse,depparse,coref\n",
      " 48%|██████████████████████████████▌                                 | 711/1488 [01:21<01:29,  8.66it/s][pool-1-thread-5] INFO CoreNLP - [/127.0.0.1:34410] API call w/annotators tokenize,pos,lemma,ner,parse,depparse,coref\n",
      " 48%|██████████████████████████████▌                                 | 712/1488 [01:21<01:26,  8.95it/s]"
     ]
    },
    {
     "name": "stdout",
     "output_type": "stream",
     "text": [
      "A welcome cake for someone on a green table of some sort.\n",
      "A baseball player standing next to to home plate.\n"
     ]
    },
    {
     "name": "stderr",
     "output_type": "stream",
     "text": [
      "[pool-1-thread-4] INFO CoreNLP - [/127.0.0.1:34426] API call w/annotators tokenize,pos,lemma,ner,parse,depparse,coref\n",
      " 48%|██████████████████████████████▋                                 | 713/1488 [01:21<01:32,  8.41it/s][pool-1-thread-3] INFO CoreNLP - [/127.0.0.1:34436] API call w/annotators tokenize,pos,lemma,ner,parse,depparse,coref\n",
      " 48%|██████████████████████████████▋                                 | 714/1488 [01:21<01:33,  8.29it/s]"
     ]
    },
    {
     "name": "stdout",
     "output_type": "stream",
     "text": [
      "Closeup of a button in front of the Louisville Slugger factory in KY.\n",
      "A red teddy bear with a crown is nailed to a pole.\n"
     ]
    },
    {
     "name": "stderr",
     "output_type": "stream",
     "text": [
      "[pool-1-thread-2] INFO CoreNLP - [/127.0.0.1:34446] API call w/annotators tokenize,pos,lemma,ner,parse,depparse,coref\n",
      " 48%|██████████████████████████████▊                                 | 715/1488 [01:21<01:47,  7.16it/s][pool-1-thread-1] INFO CoreNLP - [/127.0.0.1:34466] API call w/annotators tokenize,pos,lemma,ner,parse,depparse,coref\n"
     ]
    },
    {
     "name": "stdout",
     "output_type": "stream",
     "text": [
      "Riding his snowboard, a man has a full snow suit on and is riding on a snow covered hill.\n",
      "a girl wearing all black sitting on suitcases on the road\n"
     ]
    },
    {
     "name": "stderr",
     "output_type": "stream",
     "text": [
      " 48%|██████████████████████████████▊                                 | 716/1488 [01:21<01:41,  7.63it/s][pool-1-thread-5] INFO CoreNLP - [/127.0.0.1:34490] API call w/annotators tokenize,pos,lemma,ner,parse,depparse,coref\n",
      " 48%|██████████████████████████████▊                                 | 717/1488 [01:22<01:34,  8.16it/s][pool-1-thread-4] INFO CoreNLP - [/127.0.0.1:34502] API call w/annotators tokenize,pos,lemma,ner,parse,depparse,coref\n",
      " 48%|██████████████████████████████▉                                 | 718/1488 [01:22<01:32,  8.37it/s]"
     ]
    },
    {
     "name": "stdout",
     "output_type": "stream",
     "text": [
      "A hotdog on a bun with a few chips\n",
      "LOTS OF PEOPLE WITH UMBRELLA'S GATHERED ON THE BEACH \n"
     ]
    },
    {
     "name": "stderr",
     "output_type": "stream",
     "text": [
      "[pool-1-thread-3] INFO CoreNLP - [/127.0.0.1:34532] API call w/annotators tokenize,pos,lemma,ner,parse,depparse,coref\n",
      "[pool-1-thread-2] INFO CoreNLP - [/127.0.0.1:34544] API call w/annotators tokenize,pos,lemma,ner,parse,depparse,coref\n",
      " 48%|██████████████████████████████▉                                 | 720/1488 [01:22<01:27,  8.76it/s]"
     ]
    },
    {
     "name": "stdout",
     "output_type": "stream",
     "text": [
      "a large field of grass and cows \n",
      "A woman sits on a bed and holds a book.\n"
     ]
    },
    {
     "name": "stderr",
     "output_type": "stream",
     "text": [
      "[pool-1-thread-1] INFO CoreNLP - [/127.0.0.1:34564] API call w/annotators tokenize,pos,lemma,ner,parse,depparse,coref\n",
      " 48%|███████████████████████████████                                 | 721/1488 [01:22<01:25,  8.93it/s][pool-1-thread-5] INFO CoreNLP - [/127.0.0.1:34576] API call w/annotators tokenize,pos,lemma,ner,parse,depparse,coref\n",
      " 49%|███████████████████████████████                                 | 722/1488 [01:22<01:24,  9.10it/s]"
     ]
    },
    {
     "name": "stdout",
     "output_type": "stream",
     "text": [
      "A man holding an umbrella under a fat bride. \n",
      "an old black and white photo of an air plane\n"
     ]
    },
    {
     "name": "stderr",
     "output_type": "stream",
     "text": [
      "[pool-1-thread-4] INFO CoreNLP - [/127.0.0.1:34586] API call w/annotators tokenize,pos,lemma,ner,parse,depparse,coref\n",
      " 49%|███████████████████████████████                                 | 723/1488 [01:22<01:24,  9.04it/s][pool-1-thread-3] INFO CoreNLP - [/127.0.0.1:34610] API call w/annotators tokenize,pos,lemma,ner,parse,depparse,coref\n",
      " 49%|███████████████████████████████▏                                | 724/1488 [01:22<01:22,  9.28it/s]"
     ]
    },
    {
     "name": "stdout",
     "output_type": "stream",
     "text": [
      "A woman sitting with another woman behind her with a computer. \n",
      "I really cant see this image very well.\n"
     ]
    },
    {
     "name": "stderr",
     "output_type": "stream",
     "text": [
      "[pool-1-thread-2] INFO CoreNLP - [/127.0.0.1:34622] API call w/annotators tokenize,pos,lemma,ner,parse,depparse,coref\n",
      " 49%|███████████████████████████████▏                                | 725/1488 [01:22<01:31,  8.31it/s][pool-1-thread-1] INFO CoreNLP - [/127.0.0.1:34644] API call w/annotators tokenize,pos,lemma,ner,parse,depparse,coref\n"
     ]
    },
    {
     "name": "stdout",
     "output_type": "stream",
     "text": [
      "A giraffe walks in the tall grass as a rainbow shines in the sky behind it.\n",
      "Three young children who appear to be impoverished stand together in the street.\n"
     ]
    },
    {
     "name": "stderr",
     "output_type": "stream",
     "text": [
      " 49%|███████████████████████████████▏                                | 726/1488 [01:23<01:33,  8.18it/s][pool-1-thread-5] INFO CoreNLP - [/127.0.0.1:34656] API call w/annotators tokenize,pos,lemma,ner,parse,depparse,coref\n",
      " 49%|███████████████████████████████▎                                | 727/1488 [01:23<01:31,  8.34it/s][pool-1-thread-4] INFO CoreNLP - [/127.0.0.1:34672] API call w/annotators tokenize,pos,lemma,ner,parse,depparse,coref\n",
      " 49%|███████████████████████████████▎                                | 728/1488 [01:23<01:30,  8.44it/s]"
     ]
    },
    {
     "name": "stdout",
     "output_type": "stream",
     "text": [
      "An assortment of women's toiletries layed out on a bed. \n",
      "A man working on a Suzuki motor cycle at a station.\n"
     ]
    },
    {
     "name": "stderr",
     "output_type": "stream",
     "text": [
      "[pool-1-thread-3] INFO CoreNLP - [/127.0.0.1:34696] API call w/annotators tokenize,pos,lemma,ner,parse,depparse,coref\n",
      " 49%|███████████████████████████████▎                                | 729/1488 [01:23<01:27,  8.66it/s][pool-1-thread-2] INFO CoreNLP - [/127.0.0.1:34714] API call w/annotators tokenize,pos,lemma,ner,parse,depparse,coref\n",
      " 49%|███████████████████████████████▍                                | 730/1488 [01:23<01:27,  8.61it/s]"
     ]
    },
    {
     "name": "stdout",
     "output_type": "stream",
     "text": [
      "A person standing next to some trees taking a picture.\n",
      "A male is navigating his boat through goose in pond.\n"
     ]
    },
    {
     "name": "stderr",
     "output_type": "stream",
     "text": [
      "[pool-1-thread-1] INFO CoreNLP - [/127.0.0.1:34732] API call w/annotators tokenize,pos,lemma,ner,parse,depparse,coref\n",
      " 49%|███████████████████████████████▍                                | 731/1488 [01:23<01:26,  8.73it/s][pool-1-thread-5] INFO CoreNLP - [/127.0.0.1:34738] API call w/annotators tokenize,pos,lemma,ner,parse,depparse,coref\n",
      " 49%|███████████████████████████████▍                                | 732/1488 [01:23<01:24,  8.91it/s]"
     ]
    },
    {
     "name": "stdout",
     "output_type": "stream",
     "text": [
      "A little boy holding a baseball bat getting ready to swing\n",
      "A view of three plane tails on an airport tarmac\n"
     ]
    },
    {
     "name": "stderr",
     "output_type": "stream",
     "text": [
      "[pool-1-thread-4] INFO CoreNLP - [/127.0.0.1:34760] API call w/annotators tokenize,pos,lemma,ner,parse,depparse,coref\n",
      " 49%|███████████████████████████████▌                                | 733/1488 [01:23<01:22,  9.16it/s][pool-1-thread-3] INFO CoreNLP - [/127.0.0.1:34776] API call w/annotators tokenize,pos,lemma,ner,parse,depparse,coref\n",
      " 49%|███████████████████████████████▌                                | 734/1488 [01:23<01:23,  9.02it/s]"
     ]
    },
    {
     "name": "stdout",
     "output_type": "stream",
     "text": [
      "A long black and silver train on tracks.\n",
      "Man in winter clothing delivering hit with bat to ball.\n"
     ]
    },
    {
     "name": "stderr",
     "output_type": "stream",
     "text": [
      "[pool-1-thread-2] INFO CoreNLP - [/127.0.0.1:34782] API call w/annotators tokenize,pos,lemma,ner,parse,depparse,coref\n",
      " 49%|███████████████████████████████▌                                | 735/1488 [01:24<01:24,  8.94it/s][pool-1-thread-1] INFO CoreNLP - [/127.0.0.1:34804] API call w/annotators tokenize,pos,lemma,ner,parse,depparse,coref\n",
      " 49%|███████████████████████████████▋                                | 736/1488 [01:24<01:21,  9.23it/s]"
     ]
    },
    {
     "name": "stdout",
     "output_type": "stream",
     "text": [
      "a white pillow white sheets and an orange and tan bedspread\n",
      "A bed sitting on a hard wood floor.\n"
     ]
    },
    {
     "name": "stderr",
     "output_type": "stream",
     "text": [
      "[pool-1-thread-5] INFO CoreNLP - [/127.0.0.1:34822] API call w/annotators tokenize,pos,lemma,ner,parse,depparse,coref\n",
      " 50%|███████████████████████████████▋                                | 737/1488 [01:24<01:23,  9.03it/s][pool-1-thread-4] INFO CoreNLP - [/127.0.0.1:34836] API call w/annotators tokenize,pos,lemma,ner,parse,depparse,coref\n",
      " 50%|███████████████████████████████▋                                | 738/1488 [01:24<01:22,  9.11it/s]"
     ]
    },
    {
     "name": "stdout",
     "output_type": "stream",
     "text": [
      "A downhill skier doing a trick in front of the camera.\n",
      "Someone prepares salads as part of a healthy meal.\n"
     ]
    },
    {
     "name": "stderr",
     "output_type": "stream",
     "text": [
      "[pool-1-thread-3] INFO CoreNLP - [/127.0.0.1:34856] API call w/annotators tokenize,pos,lemma,ner,parse,depparse,coref\n",
      " 50%|███████████████████████████████▊                                | 739/1488 [01:24<01:21,  9.23it/s][pool-1-thread-2] INFO CoreNLP - [/127.0.0.1:34870] API call w/annotators tokenize,pos,lemma,ner,parse,depparse,coref\n",
      " 50%|███████████████████████████████▊                                | 740/1488 [01:24<01:20,  9.28it/s]"
     ]
    },
    {
     "name": "stdout",
     "output_type": "stream",
     "text": [
      "A baby is having fun playing with his food.\n",
      "men playing Frisbee on the field with their hands up\n"
     ]
    },
    {
     "name": "stderr",
     "output_type": "stream",
     "text": [
      "[pool-1-thread-1] INFO CoreNLP - [/127.0.0.1:34886] API call w/annotators tokenize,pos,lemma,ner,parse,depparse,coref\n",
      " 50%|███████████████████████████████▊                                | 741/1488 [01:24<01:20,  9.32it/s][pool-1-thread-5] INFO CoreNLP - [/127.0.0.1:34910] API call w/annotators tokenize,pos,lemma,ner,parse,depparse,coref\n",
      " 50%|███████████████████████████████▉                                | 742/1488 [01:24<01:22,  9.10it/s]"
     ]
    },
    {
     "name": "stdout",
     "output_type": "stream",
     "text": [
      "a boat sitting next to a dock and a building \n",
      "A horse is looking over a bush in a meadow.\n"
     ]
    },
    {
     "name": "stderr",
     "output_type": "stream",
     "text": [
      "[pool-1-thread-4] INFO CoreNLP - [/127.0.0.1:34930] API call w/annotators tokenize,pos,lemma,ner,parse,depparse,coref\n",
      " 50%|███████████████████████████████▉                                | 743/1488 [01:24<01:20,  9.27it/s][pool-1-thread-3] INFO CoreNLP - [/127.0.0.1:34948] API call w/annotators tokenize,pos,lemma,ner,parse,depparse,coref\n",
      " 50%|████████████████████████████████                                | 744/1488 [01:25<01:18,  9.45it/s]"
     ]
    },
    {
     "name": "stdout",
     "output_type": "stream",
     "text": [
      "A couple of bowls in a large bathroom.\n",
      "A woman and children surfing in the ocean.\n"
     ]
    },
    {
     "name": "stderr",
     "output_type": "stream",
     "text": [
      "[pool-1-thread-2] INFO CoreNLP - [/127.0.0.1:34966] API call w/annotators tokenize,pos,lemma,ner,parse,depparse,coref\n",
      " 50%|████████████████████████████████                                | 745/1488 [01:25<01:18,  9.43it/s][pool-1-thread-1] INFO CoreNLP - [/127.0.0.1:34992] API call w/annotators tokenize,pos,lemma,ner,parse,depparse,coref\n",
      " 50%|████████████████████████████████                                | 746/1488 [01:25<01:17,  9.54it/s]"
     ]
    },
    {
     "name": "stdout",
     "output_type": "stream",
     "text": [
      "A small refrigerator with lots of food packed inside. \n",
      "Three skiers are skiing down the snowy mountain.\n"
     ]
    },
    {
     "name": "stderr",
     "output_type": "stream",
     "text": [
      "[pool-1-thread-5] INFO CoreNLP - [/127.0.0.1:35012] API call w/annotators tokenize,pos,lemma,ner,parse,depparse,coref\n",
      " 50%|████████████████████████████████▏                               | 747/1488 [01:25<01:18,  9.44it/s][pool-1-thread-4] INFO CoreNLP - [/127.0.0.1:35030] API call w/annotators tokenize,pos,lemma,ner,parse,depparse,coref\n"
     ]
    },
    {
     "name": "stdout",
     "output_type": "stream",
     "text": [
      "A man walking on a sidewalk while holding an umbrella.\n",
      "Two teddy bears are sitting on a couch.\n"
     ]
    },
    {
     "name": "stderr",
     "output_type": "stream",
     "text": [
      "[pool-1-thread-3] INFO CoreNLP - [/127.0.0.1:35052] API call w/annotators tokenize,pos,lemma,ner,parse,depparse,coref\n",
      " 50%|████████████████████████████████▏                               | 749/1488 [01:25<01:16,  9.62it/s][pool-1-thread-2] INFO CoreNLP - [/127.0.0.1:35072] API call w/annotators tokenize,pos,lemma,ner,parse,depparse,coref\n",
      " 50%|████████████████████████████████▎                               | 750/1488 [01:25<01:16,  9.61it/s]"
     ]
    },
    {
     "name": "stdout",
     "output_type": "stream",
     "text": [
      "Large pasta plate with meat sauce and vegetables. \n",
      "this van is being towed by a tow truck\n"
     ]
    },
    {
     "name": "stderr",
     "output_type": "stream",
     "text": [
      "[pool-1-thread-1] INFO CoreNLP - [/127.0.0.1:35090] API call w/annotators tokenize,pos,lemma,ner,parse,depparse,coref\n",
      " 50%|████████████████████████████████▎                               | 751/1488 [01:25<01:18,  9.36it/s][pool-1-thread-5] INFO CoreNLP - [/127.0.0.1:35100] API call w/annotators tokenize,pos,lemma,ner,parse,depparse,coref\n",
      " 51%|████████████████████████████████▎                               | 752/1488 [01:25<01:21,  9.07it/s]"
     ]
    },
    {
     "name": "stdout",
     "output_type": "stream",
     "text": [
      "Group of people out in the snow on skis and snowboards\n",
      "A building with a lot of windows and large clock outside.\n"
     ]
    },
    {
     "name": "stderr",
     "output_type": "stream",
     "text": [
      "[pool-1-thread-4] INFO CoreNLP - [/127.0.0.1:35118] API call w/annotators tokenize,pos,lemma,ner,parse,depparse,coref\n",
      " 51%|████████████████████████████████▍                               | 753/1488 [01:25<01:20,  9.16it/s][pool-1-thread-3] INFO CoreNLP - [/127.0.0.1:35138] API call w/annotators tokenize,pos,lemma,ner,parse,depparse,coref\n",
      " 51%|████████████████████████████████▍                               | 754/1488 [01:26<01:25,  8.55it/s]"
     ]
    },
    {
     "name": "stdout",
     "output_type": "stream",
     "text": [
      "Startled cat lying on the windshield of a car.\n",
      "A man in a green shirt holds a large pizza with lettuce on it.\n"
     ]
    },
    {
     "name": "stderr",
     "output_type": "stream",
     "text": [
      "[pool-1-thread-2] INFO CoreNLP - [/127.0.0.1:35168] API call w/annotators tokenize,pos,lemma,ner,parse,depparse,coref\n",
      " 51%|████████████████████████████████▍                               | 755/1488 [01:26<01:28,  8.27it/s][pool-1-thread-1] INFO CoreNLP - [/127.0.0.1:35180] API call w/annotators tokenize,pos,lemma,ner,parse,depparse,coref\n",
      " 51%|████████████████████████████████▌                               | 756/1488 [01:26<01:25,  8.57it/s]"
     ]
    },
    {
     "name": "stdout",
     "output_type": "stream",
     "text": [
      "A cat that is looking at the screen to a laptop.\n",
      "A girl in pajamas stands underneath her purple sheets.\n"
     ]
    },
    {
     "name": "stderr",
     "output_type": "stream",
     "text": [
      "[pool-1-thread-5] INFO CoreNLP - [/127.0.0.1:35190] API call w/annotators tokenize,pos,lemma,ner,parse,depparse,coref\n",
      " 51%|████████████████████████████████▌                               | 757/1488 [01:26<01:25,  8.59it/s][pool-1-thread-4] INFO CoreNLP - [/127.0.0.1:35202] API call w/annotators tokenize,pos,lemma,ner,parse,depparse,coref\n",
      " 51%|████████████████████████████████▌                               | 758/1488 [01:26<01:28,  8.28it/s]"
     ]
    },
    {
     "name": "stdout",
     "output_type": "stream",
     "text": [
      "A picture of a street sign with various posts on it.\n",
      "A man and woman singing into a blow dryer attached to a bathroom wall.\n"
     ]
    },
    {
     "name": "stderr",
     "output_type": "stream",
     "text": [
      "[pool-1-thread-3] INFO CoreNLP - [/127.0.0.1:35212] API call w/annotators tokenize,pos,lemma,ner,parse,depparse,coref\n",
      " 51%|████████████████████████████████▋                               | 759/1488 [01:26<01:27,  8.34it/s][pool-1-thread-2] INFO CoreNLP - [/127.0.0.1:35238] API call w/annotators tokenize,pos,lemma,ner,parse,depparse,coref\n"
     ]
    },
    {
     "name": "stdout",
     "output_type": "stream",
     "text": [
      "Three men prepare an outdoor feast while a woman pours wine.\n",
      "A brown teddy bear with a black staff\n"
     ]
    },
    {
     "name": "stderr",
     "output_type": "stream",
     "text": [
      "[pool-1-thread-1] INFO CoreNLP - [/127.0.0.1:35258] API call w/annotators tokenize,pos,lemma,ner,parse,depparse,coref\n",
      " 51%|████████████████████████████████▋                               | 761/1488 [01:26<01:21,  8.96it/s][pool-1-thread-5] INFO CoreNLP - [/127.0.0.1:35272] API call w/annotators tokenize,pos,lemma,ner,parse,depparse,coref\n",
      " 51%|████████████████████████████████▊                               | 762/1488 [01:27<01:19,  9.16it/s]"
     ]
    },
    {
     "name": "stdout",
     "output_type": "stream",
     "text": [
      "A man on a surfboard jumping over a wave.\n",
      "Four colorful kites laid out on the beach.\n"
     ]
    },
    {
     "name": "stderr",
     "output_type": "stream",
     "text": [
      "[pool-1-thread-4] INFO CoreNLP - [/127.0.0.1:35290] API call w/annotators tokenize,pos,lemma,ner,parse,depparse,coref\n",
      " 51%|████████████████████████████████▊                               | 763/1488 [01:27<01:18,  9.26it/s][pool-1-thread-3] INFO CoreNLP - [/127.0.0.1:35308] API call w/annotators tokenize,pos,lemma,ner,parse,depparse,coref\n",
      " 51%|████████████████████████████████▊                               | 764/1488 [01:27<01:23,  8.70it/s]"
     ]
    },
    {
     "name": "stdout",
     "output_type": "stream",
     "text": [
      "An airplane is flying in the clear blue skies.\n",
      "A room with a couch, chairs, a television and a television stand.\n"
     ]
    },
    {
     "name": "stderr",
     "output_type": "stream",
     "text": [
      "[pool-1-thread-2] INFO CoreNLP - [/127.0.0.1:35334] API call w/annotators tokenize,pos,lemma,ner,parse,depparse,coref\n",
      " 51%|████████████████████████████████▉                               | 765/1488 [01:27<01:20,  8.99it/s][pool-1-thread-1] INFO CoreNLP - [/127.0.0.1:35358] API call w/annotators tokenize,pos,lemma,ner,parse,depparse,coref\n",
      " 51%|████████████████████████████████▉                               | 766/1488 [01:27<01:22,  8.72it/s]"
     ]
    },
    {
     "name": "stdout",
     "output_type": "stream",
     "text": [
      "There are many oranges inside of the containers.\n",
      "A half of a sandwich sitting on top of a white plate.\n"
     ]
    },
    {
     "name": "stderr",
     "output_type": "stream",
     "text": [
      "[pool-1-thread-5] INFO CoreNLP - [/127.0.0.1:35384] API call w/annotators tokenize,pos,lemma,ner,parse,depparse,coref\n",
      " 52%|████████████████████████████████▉                               | 767/1488 [01:27<01:24,  8.53it/s][pool-1-thread-4] INFO CoreNLP - [/127.0.0.1:35406] API call w/annotators tokenize,pos,lemma,ner,parse,depparse,coref\n",
      " 52%|█████████████████████████████████                               | 768/1488 [01:27<01:24,  8.50it/s]"
     ]
    },
    {
     "name": "stdout",
     "output_type": "stream",
     "text": [
      "Snacks and cold drinks are kept on the table.\n",
      "Three cows standing at a watering hole with birds flying overhead.\n"
     ]
    },
    {
     "name": "stderr",
     "output_type": "stream",
     "text": [
      "[pool-1-thread-3] INFO CoreNLP - [/127.0.0.1:35420] API call w/annotators tokenize,pos,lemma,ner,parse,depparse,coref\n",
      " 52%|█████████████████████████████████                               | 769/1488 [01:27<01:23,  8.62it/s][pool-1-thread-2] INFO CoreNLP - [/127.0.0.1:35428] API call w/annotators tokenize,pos,lemma,ner,parse,depparse,coref\n",
      " 52%|█████████████████████████████████                               | 770/1488 [01:27<01:20,  8.95it/s]"
     ]
    },
    {
     "name": "stdout",
     "output_type": "stream",
     "text": [
      "A plate topped with potatoes pan cakes and other foods.\n",
      "A person on a skateboard near a building. \n"
     ]
    },
    {
     "name": "stderr",
     "output_type": "stream",
     "text": [
      "[pool-1-thread-1] INFO CoreNLP - [/127.0.0.1:35444] API call w/annotators tokenize,pos,lemma,ner,parse,depparse,coref\n",
      " 52%|█████████████████████████████████▏                              | 771/1488 [01:28<01:18,  9.14it/s][pool-1-thread-5] INFO CoreNLP - [/127.0.0.1:35466] API call w/annotators tokenize,pos,lemma,ner,parse,depparse,coref\n",
      " 52%|█████████████████████████████████▏                              | 772/1488 [01:28<01:19,  9.06it/s]"
     ]
    },
    {
     "name": "stdout",
     "output_type": "stream",
     "text": [
      "A clock tower stands stately in an afternoon sky\n",
      "A photo of a hot dog with ketchup and mustard.\n"
     ]
    },
    {
     "name": "stderr",
     "output_type": "stream",
     "text": [
      "[pool-1-thread-4] INFO CoreNLP - [/127.0.0.1:35480] API call w/annotators tokenize,pos,lemma,ner,parse,depparse,coref\n",
      " 52%|█████████████████████████████████▏                              | 773/1488 [01:28<01:16,  9.29it/s][pool-1-thread-3] INFO CoreNLP - [/127.0.0.1:35496] API call w/annotators tokenize,pos,lemma,ner,parse,depparse,coref\n",
      " 52%|█████████████████████████████████▎                              | 774/1488 [01:28<01:17,  9.18it/s]"
     ]
    },
    {
     "name": "stdout",
     "output_type": "stream",
     "text": [
      "a couple of people that are on a bed\n",
      "A cat sits in the shadow of a blue doorway.\n"
     ]
    },
    {
     "name": "stderr",
     "output_type": "stream",
     "text": [
      "[pool-1-thread-2] INFO CoreNLP - [/127.0.0.1:35518] API call w/annotators tokenize,pos,lemma,ner,parse,depparse,coref\n",
      " 52%|█████████████████████████████████▎                              | 775/1488 [01:28<01:18,  9.07it/s][pool-1-thread-1] INFO CoreNLP - [/127.0.0.1:35540] API call w/annotators tokenize,pos,lemma,ner,parse,depparse,coref\n",
      " 52%|█████████████████████████████████▍                              | 776/1488 [01:28<01:18,  9.10it/s]"
     ]
    },
    {
     "name": "stdout",
     "output_type": "stream",
     "text": [
      "A black vase on display with lights in the background.\n",
      "Two trains in an urban station with people waiting.  \n"
     ]
    },
    {
     "name": "stderr",
     "output_type": "stream",
     "text": [
      "[pool-1-thread-5] INFO CoreNLP - [/127.0.0.1:35566] API call w/annotators tokenize,pos,lemma,ner,parse,depparse,coref\n",
      " 52%|█████████████████████████████████▍                              | 777/1488 [01:28<01:27,  8.11it/s][pool-1-thread-4] INFO CoreNLP - [/127.0.0.1:35580] API call w/annotators tokenize,pos,lemma,ner,parse,depparse,coref\n",
      " 52%|█████████████████████████████████▍                              | 778/1488 [01:28<01:25,  8.33it/s]"
     ]
    },
    {
     "name": "stdout",
     "output_type": "stream",
     "text": [
      "An orange tabby cat is sitting on top of a pillow that is sitting in a couch.\n",
      "Bathroom with white fixtures, tiles and corner shower.\n"
     ]
    },
    {
     "name": "stderr",
     "output_type": "stream",
     "text": [
      "[pool-1-thread-3] INFO CoreNLP - [/127.0.0.1:35598] API call w/annotators tokenize,pos,lemma,ner,parse,depparse,coref\n",
      " 52%|█████████████████████████████████▌                              | 779/1488 [01:28<01:28,  8.03it/s][pool-1-thread-2] INFO CoreNLP - [/127.0.0.1:35614] API call w/annotators tokenize,pos,lemma,ner,parse,depparse,coref\n",
      " 52%|█████████████████████████████████▌                              | 780/1488 [01:29<01:23,  8.49it/s]"
     ]
    },
    {
     "name": "stdout",
     "output_type": "stream",
     "text": [
      "A sausage, egg, and english muffin sandwich next to a coffee cup.\n",
      "Some airplanes are parked on the big airway. \n"
     ]
    },
    {
     "name": "stderr",
     "output_type": "stream",
     "text": [
      "[pool-1-thread-1] INFO CoreNLP - [/127.0.0.1:35638] API call w/annotators tokenize,pos,lemma,ner,parse,depparse,coref\n",
      " 52%|█████████████████████████████████▌                              | 781/1488 [01:29<01:23,  8.42it/s][pool-1-thread-5] INFO CoreNLP - [/127.0.0.1:35652] API call w/annotators tokenize,pos,lemma,ner,parse,depparse,coref\n",
      " 53%|█████████████████████████████████▋                              | 782/1488 [01:29<01:20,  8.76it/s]"
     ]
    },
    {
     "name": "stdout",
     "output_type": "stream",
     "text": [
      "a guy  hunkered down in front of a yellow and blue fire hydrant  \n",
      "A person that is about to fly a kite.\n"
     ]
    },
    {
     "name": "stderr",
     "output_type": "stream",
     "text": [
      "[pool-1-thread-4] INFO CoreNLP - [/127.0.0.1:35678] API call w/annotators tokenize,pos,lemma,ner,parse,depparse,coref\n",
      " 53%|█████████████████████████████████▋                              | 783/1488 [01:29<01:21,  8.69it/s][pool-1-thread-3] INFO CoreNLP - [/127.0.0.1:47182] API call w/annotators tokenize,pos,lemma,ner,parse,depparse,coref\n",
      " 53%|█████████████████████████████████▋                              | 784/1488 [01:29<01:19,  8.91it/s]"
     ]
    },
    {
     "name": "stdout",
     "output_type": "stream",
     "text": [
      "A white cat inside of a black bag by a hamper.\n",
      "A small dog sitting next to a parking meter.\n"
     ]
    },
    {
     "name": "stderr",
     "output_type": "stream",
     "text": [
      "[pool-1-thread-2] INFO CoreNLP - [/127.0.0.1:47202] API call w/annotators tokenize,pos,lemma,ner,parse,depparse,coref\n",
      " 53%|█████████████████████████████████▊                              | 785/1488 [01:29<01:20,  8.76it/s][pool-1-thread-1] INFO CoreNLP - [/127.0.0.1:47218] API call w/annotators tokenize,pos,lemma,ner,parse,depparse,coref\n"
     ]
    },
    {
     "name": "stdout",
     "output_type": "stream",
     "text": [
      "Plane parked on tarmac at small airport with service personnel nearby.\n",
      "Three kids are trying to fly their kites.\n"
     ]
    },
    {
     "name": "stderr",
     "output_type": "stream",
     "text": [
      "[pool-1-thread-5] INFO CoreNLP - [/127.0.0.1:47234] API call w/annotators tokenize,pos,lemma,ner,parse,depparse,coref\n",
      " 53%|█████████████████████████████████▊                              | 787/1488 [01:29<01:16,  9.13it/s][pool-1-thread-4] INFO CoreNLP - [/127.0.0.1:47262] API call w/annotators tokenize,pos,lemma,ner,parse,depparse,coref\n",
      " 53%|█████████████████████████████████▉                              | 788/1488 [01:29<01:17,  9.07it/s]"
     ]
    },
    {
     "name": "stdout",
     "output_type": "stream",
     "text": [
      "A red bus parked in front of a large building.\n",
      "A bedroom and bathroom with various furniture and a mirror.\n"
     ]
    },
    {
     "name": "stderr",
     "output_type": "stream",
     "text": [
      "[pool-1-thread-3] INFO CoreNLP - [/127.0.0.1:47280] API call w/annotators tokenize,pos,lemma,ner,parse,depparse,coref\n",
      " 53%|█████████████████████████████████▉                              | 789/1488 [01:30<01:17,  9.04it/s][pool-1-thread-2] INFO CoreNLP - [/127.0.0.1:47292] API call w/annotators tokenize,pos,lemma,ner,parse,depparse,coref\n",
      " 53%|█████████████████████████████████▉                              | 790/1488 [01:30<01:20,  8.65it/s]"
     ]
    },
    {
     "name": "stdout",
     "output_type": "stream",
     "text": [
      "A man in a wetsuit surfing a large ocean wave.\n",
      "A motorcycle is parked in front of a tower viewer overlooking water.\n"
     ]
    },
    {
     "name": "stderr",
     "output_type": "stream",
     "text": [
      "[pool-1-thread-1] INFO CoreNLP - [/127.0.0.1:47314] API call w/annotators tokenize,pos,lemma,ner,parse,depparse,coref\n",
      " 53%|██████████████████████████████████                              | 791/1488 [01:30<01:20,  8.63it/s][pool-1-thread-5] INFO CoreNLP - [/127.0.0.1:47332] API call w/annotators tokenize,pos,lemma,ner,parse,depparse,coref\n",
      " 53%|██████████████████████████████████                              | 792/1488 [01:30<01:17,  8.97it/s]"
     ]
    },
    {
     "name": "stdout",
     "output_type": "stream",
     "text": [
      "A man stands in front of a display of fruit bunches.\n",
      "Man and woman polishing surf board near tree.\n"
     ]
    },
    {
     "name": "stderr",
     "output_type": "stream",
     "text": [
      "[pool-1-thread-4] INFO CoreNLP - [/127.0.0.1:47352] API call w/annotators tokenize,pos,lemma,ner,parse,depparse,coref\n",
      " 53%|██████████████████████████████████                              | 793/1488 [01:30<01:17,  8.99it/s][pool-1-thread-3] INFO CoreNLP - [/127.0.0.1:47370] API call w/annotators tokenize,pos,lemma,ner,parse,depparse,coref\n",
      " 53%|██████████████████████████████████▏                             | 794/1488 [01:30<01:15,  9.24it/s]"
     ]
    },
    {
     "name": "stdout",
     "output_type": "stream",
     "text": [
      "A large van features an ad for a television show.\n",
      "A kitchen that has various stainless steel appliances.\n"
     ]
    },
    {
     "name": "stderr",
     "output_type": "stream",
     "text": [
      "[pool-1-thread-2] INFO CoreNLP - [/127.0.0.1:47396] API call w/annotators tokenize,pos,lemma,ner,parse,depparse,coref\n",
      " 53%|██████████████████████████████████▏                             | 795/1488 [01:30<01:16,  9.03it/s][pool-1-thread-1] INFO CoreNLP - [/127.0.0.1:47406] API call w/annotators tokenize,pos,lemma,ner,parse,depparse,coref\n",
      " 53%|██████████████████████████████████▏                             | 796/1488 [01:30<01:15,  9.18it/s]"
     ]
    },
    {
     "name": "stdout",
     "output_type": "stream",
     "text": [
      "A bathroom with a large green plant growing on the wall.\n",
      "A field completely covered with leaves near the road.\n"
     ]
    },
    {
     "name": "stderr",
     "output_type": "stream",
     "text": [
      "[pool-1-thread-5] INFO CoreNLP - [/127.0.0.1:47432] API call w/annotators tokenize,pos,lemma,ner,parse,depparse,coref\n",
      " 54%|██████████████████████████████████▎                             | 797/1488 [01:30<01:16,  9.01it/s][pool-1-thread-4] INFO CoreNLP - [/127.0.0.1:47458] API call w/annotators tokenize,pos,lemma,ner,parse,depparse,coref\n",
      " 54%|██████████████████████████████████▎                             | 798/1488 [01:31<01:14,  9.26it/s]"
     ]
    },
    {
     "name": "stdout",
     "output_type": "stream",
     "text": [
      "A kitchen sink and counter with brown and tan wall tiles.\n",
      "a group of people waiting for the metro bus\n"
     ]
    },
    {
     "name": "stderr",
     "output_type": "stream",
     "text": [
      "[pool-1-thread-3] INFO CoreNLP - [/127.0.0.1:47476] API call w/annotators tokenize,pos,lemma,ner,parse,depparse,coref\n",
      " 54%|██████████████████████████████████▎                             | 799/1488 [01:31<01:13,  9.40it/s][pool-1-thread-2] INFO CoreNLP - [/127.0.0.1:47490] API call w/annotators tokenize,pos,lemma,ner,parse,depparse,coref\n",
      " 54%|██████████████████████████████████▍                             | 800/1488 [01:31<01:12,  9.48it/s]"
     ]
    },
    {
     "name": "stdout",
     "output_type": "stream",
     "text": [
      "A person performing a trick on a snowboard. \n",
      "Two people on a screen with captioned text.\n"
     ]
    },
    {
     "name": "stderr",
     "output_type": "stream",
     "text": [
      "[pool-1-thread-1] INFO CoreNLP - [/127.0.0.1:47500] API call w/annotators tokenize,pos,lemma,ner,parse,depparse,coref\n",
      "[pool-1-thread-5] INFO CoreNLP - [/127.0.0.1:47504] API call w/annotators tokenize,pos,lemma,ner,parse,depparse,coref\n",
      " 54%|██████████████████████████████████▍                             | 802/1488 [01:31<01:13,  9.35it/s]"
     ]
    },
    {
     "name": "stdout",
     "output_type": "stream",
     "text": [
      "some greens and fish on a white plate\n",
      "A group of people walking down a rain soaked street holding umbrellas.\n"
     ]
    },
    {
     "name": "stderr",
     "output_type": "stream",
     "text": [
      "[pool-1-thread-4] INFO CoreNLP - [/127.0.0.1:47524] API call w/annotators tokenize,pos,lemma,ner,parse,depparse,coref\n",
      " 54%|██████████████████████████████████▌                             | 803/1488 [01:31<01:16,  9.01it/s][pool-1-thread-3] INFO CoreNLP - [/127.0.0.1:47548] API call w/annotators tokenize,pos,lemma,ner,parse,depparse,coref\n",
      " 54%|██████████████████████████████████▌                             | 804/1488 [01:31<01:15,  9.02it/s]"
     ]
    },
    {
     "name": "stdout",
     "output_type": "stream",
     "text": [
      "Various office supplies like scissors and thumb tacks.\n",
      "A horse being ridden in the middle of the grass.\n"
     ]
    },
    {
     "name": "stderr",
     "output_type": "stream",
     "text": [
      "[pool-1-thread-2] INFO CoreNLP - [/127.0.0.1:47578] API call w/annotators tokenize,pos,lemma,ner,parse,depparse,coref\n",
      " 54%|██████████████████████████████████▌                             | 805/1488 [01:31<01:15,  9.01it/s][pool-1-thread-1] INFO CoreNLP - [/127.0.0.1:47592] API call w/annotators tokenize,pos,lemma,ner,parse,depparse,coref\n",
      " 54%|██████████████████████████████████▋                             | 806/1488 [01:31<01:13,  9.23it/s]"
     ]
    },
    {
     "name": "stdout",
     "output_type": "stream",
     "text": [
      "A green dump truck sitting next to a yellow tractor.\n",
      "A group of zebras standing in the dirt.\n"
     ]
    },
    {
     "name": "stderr",
     "output_type": "stream",
     "text": [
      "[pool-1-thread-5] INFO CoreNLP - [/127.0.0.1:47610] API call w/annotators tokenize,pos,lemma,ner,parse,depparse,coref\n",
      " 54%|██████████████████████████████████▋                             | 807/1488 [01:32<01:13,  9.21it/s][pool-1-thread-4] INFO CoreNLP - [/127.0.0.1:47620] API call w/annotators tokenize,pos,lemma,ner,parse,depparse,coref\n",
      " 54%|██████████████████████████████████▊                             | 808/1488 [01:32<01:12,  9.41it/s]"
     ]
    },
    {
     "name": "stdout",
     "output_type": "stream",
     "text": [
      "A bunch of bananas very close up on a table.\n",
      "A commuter train parked at a train station.\n"
     ]
    },
    {
     "name": "stderr",
     "output_type": "stream",
     "text": [
      "[pool-1-thread-3] INFO CoreNLP - [/127.0.0.1:47640] API call w/annotators tokenize,pos,lemma,ner,parse,depparse,coref\n",
      " 54%|██████████████████████████████████▊                             | 809/1488 [01:32<01:12,  9.39it/s][pool-1-thread-2] INFO CoreNLP - [/127.0.0.1:47658] API call w/annotators tokenize,pos,lemma,ner,parse,depparse,coref\n",
      " 54%|██████████████████████████████████▊                             | 810/1488 [01:32<01:11,  9.50it/s]"
     ]
    },
    {
     "name": "stdout",
     "output_type": "stream",
     "text": [
      "A computer desk has a laptop and two monitors.\n",
      "A calf laying in front of a cow.\n"
     ]
    },
    {
     "name": "stderr",
     "output_type": "stream",
     "text": [
      "[pool-1-thread-1] INFO CoreNLP - [/127.0.0.1:47676] API call w/annotators tokenize,pos,lemma,ner,parse,depparse,coref\n",
      " 55%|██████████████████████████████████▉                             | 811/1488 [01:32<01:15,  9.02it/s][pool-1-thread-5] INFO CoreNLP - [/127.0.0.1:47692] API call w/annotators tokenize,pos,lemma,ner,parse,depparse,coref\n",
      " 55%|██████████████████████████████████▉                             | 812/1488 [01:32<01:16,  8.85it/s]"
     ]
    },
    {
     "name": "stdout",
     "output_type": "stream",
     "text": [
      "A plate has a small piece of meat and lots of broccoli. \n",
      "A very big building with a tall clock tower on it.\n"
     ]
    },
    {
     "name": "stderr",
     "output_type": "stream",
     "text": [
      "[pool-1-thread-4] INFO CoreNLP - [/127.0.0.1:47704] API call w/annotators tokenize,pos,lemma,ner,parse,depparse,coref\n",
      " 55%|██████████████████████████████████▉                             | 813/1488 [01:32<01:17,  8.72it/s][pool-1-thread-3] INFO CoreNLP - [/127.0.0.1:47722] API call w/annotators tokenize,pos,lemma,ner,parse,depparse,coref\n",
      " 55%|███████████████████████████████████                             | 814/1488 [01:32<01:16,  8.85it/s]"
     ]
    },
    {
     "name": "stdout",
     "output_type": "stream",
     "text": [
      "A young boy standing up in the stands at a baseball game.\n",
      "A bright green train is pulled up for awaiting customers.\n"
     ]
    },
    {
     "name": "stderr",
     "output_type": "stream",
     "text": [
      "[pool-1-thread-2] INFO CoreNLP - [/127.0.0.1:47740] API call w/annotators tokenize,pos,lemma,ner,parse,depparse,coref\n",
      " 55%|███████████████████████████████████                             | 815/1488 [01:32<01:15,  8.96it/s][pool-1-thread-1] INFO CoreNLP - [/127.0.0.1:47758] API call w/annotators tokenize,pos,lemma,ner,parse,depparse,coref\n",
      " 55%|███████████████████████████████████                             | 816/1488 [01:33<01:13,  9.20it/s]"
     ]
    },
    {
     "name": "stdout",
     "output_type": "stream",
     "text": [
      "there is a woman that is cutting a white cake\n",
      "A skateboarder riding the board at a skate park \n"
     ]
    },
    {
     "name": "stderr",
     "output_type": "stream",
     "text": [
      "[pool-1-thread-5] INFO CoreNLP - [/127.0.0.1:47786] API call w/annotators tokenize,pos,lemma,ner,parse,depparse,coref\n",
      " 55%|███████████████████████████████████▏                            | 817/1488 [01:33<01:13,  9.14it/s][pool-1-thread-4] INFO CoreNLP - [/127.0.0.1:47800] API call w/annotators tokenize,pos,lemma,ner,parse,depparse,coref\n",
      " 55%|███████████████████████████████████▏                            | 818/1488 [01:33<01:11,  9.34it/s]"
     ]
    },
    {
     "name": "stdout",
     "output_type": "stream",
     "text": [
      "a man falls off his skateboard in a skate park.\n",
      "An inside of a bathroom inside an enclosed space\n"
     ]
    },
    {
     "name": "stderr",
     "output_type": "stream",
     "text": [
      "[pool-1-thread-3] INFO CoreNLP - [/127.0.0.1:47812] API call w/annotators tokenize,pos,lemma,ner,parse,depparse,coref\n",
      " 55%|███████████████████████████████████▏                            | 819/1488 [01:33<01:14,  9.03it/s][pool-1-thread-2] INFO CoreNLP - [/127.0.0.1:47820] API call w/annotators tokenize,pos,lemma,ner,parse,depparse,coref\n",
      " 55%|███████████████████████████████████▎                            | 820/1488 [01:33<01:13,  9.13it/s]"
     ]
    },
    {
     "name": "stdout",
     "output_type": "stream",
     "text": [
      "There are cars and buildings from a city in the 50 's.\n",
      "A herd of hordes run through the green field.\n"
     ]
    },
    {
     "name": "stderr",
     "output_type": "stream",
     "text": [
      "[pool-1-thread-1] INFO CoreNLP - [/127.0.0.1:47834] API call w/annotators tokenize,pos,lemma,ner,parse,depparse,coref\n",
      " 55%|███████████████████████████████████▎                            | 821/1488 [01:33<01:13,  9.11it/s][pool-1-thread-5] INFO CoreNLP - [/127.0.0.1:47854] API call w/annotators tokenize,pos,lemma,ner,parse,depparse,coref\n",
      " 55%|███████████████████████████████████▎                            | 822/1488 [01:33<01:18,  8.43it/s]"
     ]
    },
    {
     "name": "stdout",
     "output_type": "stream",
     "text": [
      "Many trucks and city buses drive down the crowded street.\n",
      "A den with a couch, table, monitor and television with a rug.\n"
     ]
    },
    {
     "name": "stderr",
     "output_type": "stream",
     "text": [
      "[pool-1-thread-4] INFO CoreNLP - [/127.0.0.1:47886] API call w/annotators tokenize,pos,lemma,ner,parse,depparse,coref\n",
      " 55%|███████████████████████████████████▍                            | 823/1488 [01:33<01:17,  8.59it/s][pool-1-thread-3] INFO CoreNLP - [/127.0.0.1:47902] API call w/annotators tokenize,pos,lemma,ner,parse,depparse,coref\n",
      " 55%|███████████████████████████████████▍                            | 824/1488 [01:33<01:16,  8.72it/s]"
     ]
    },
    {
     "name": "stdout",
     "output_type": "stream",
     "text": [
      "Two large row boats filled with people in the water.\n",
      "A wooden shelf filled with stuffed teddy bears and treats.\n"
     ]
    },
    {
     "name": "stderr",
     "output_type": "stream",
     "text": [
      "[pool-1-thread-2] INFO CoreNLP - [/127.0.0.1:47924] API call w/annotators tokenize,pos,lemma,ner,parse,depparse,coref\n",
      "[pool-1-thread-1] INFO CoreNLP - [/127.0.0.1:47938] API call w/annotators tokenize,pos,lemma,ner,parse,depparse,coref\n",
      " 56%|███████████████████████████████████▌                            | 826/1488 [01:34<01:11,  9.22it/s]"
     ]
    },
    {
     "name": "stdout",
     "output_type": "stream",
     "text": [
      "A man standing in a dry baseball field.\n",
      "An older man sitting on a park bench.\n"
     ]
    },
    {
     "name": "stderr",
     "output_type": "stream",
     "text": [
      "[pool-1-thread-5] INFO CoreNLP - [/127.0.0.1:47946] API call w/annotators tokenize,pos,lemma,ner,parse,depparse,coref\n",
      " 56%|███████████████████████████████████▌                            | 827/1488 [01:34<01:13,  9.05it/s][pool-1-thread-4] INFO CoreNLP - [/127.0.0.1:47970] API call w/annotators tokenize,pos,lemma,ner,parse,depparse,coref\n",
      " 56%|███████████████████████████████████▌                            | 828/1488 [01:34<01:12,  9.06it/s]"
     ]
    },
    {
     "name": "stdout",
     "output_type": "stream",
     "text": [
      "a passangers bus moving on the opposite side with the car\n",
      "there are three different lights that show if u can walk\n"
     ]
    },
    {
     "name": "stderr",
     "output_type": "stream",
     "text": [
      "[pool-1-thread-3] INFO CoreNLP - [/127.0.0.1:47978] API call w/annotators tokenize,pos,lemma,ner,parse,depparse,coref\n",
      " 56%|███████████████████████████████████▋                            | 829/1488 [01:34<01:11,  9.19it/s][pool-1-thread-2] INFO CoreNLP - [/127.0.0.1:47994] API call w/annotators tokenize,pos,lemma,ner,parse,depparse,coref\n"
     ]
    },
    {
     "name": "stdout",
     "output_type": "stream",
     "text": [
      "The woman and boy are playing video games together. \n",
      "Plate with vegetables and open book on stand\n"
     ]
    },
    {
     "name": "stderr",
     "output_type": "stream",
     "text": [
      "[pool-1-thread-1] INFO CoreNLP - [/127.0.0.1:48022] API call w/annotators tokenize,pos,lemma,ner,parse,depparse,coref\n",
      " 56%|███████████████████████████████████▋                            | 831/1488 [01:34<01:11,  9.24it/s][pool-1-thread-5] INFO CoreNLP - [/127.0.0.1:48036] API call w/annotators tokenize,pos,lemma,ner,parse,depparse,coref\n",
      " 56%|███████████████████████████████████▊                            | 832/1488 [01:34<01:10,  9.29it/s]"
     ]
    },
    {
     "name": "stdout",
     "output_type": "stream",
     "text": [
      "A dimly lit bathroom just has a toilet and dirty sink.\n",
      "White people looking ridiculous playing wii and drinking beer.\n"
     ]
    },
    {
     "name": "stderr",
     "output_type": "stream",
     "text": [
      "[pool-1-thread-4] INFO CoreNLP - [/127.0.0.1:48068] API call w/annotators tokenize,pos,lemma,ner,parse,depparse,coref\n",
      " 56%|███████████████████████████████████▊                            | 833/1488 [01:34<01:09,  9.44it/s][pool-1-thread-3] INFO CoreNLP - [/127.0.0.1:48082] API call w/annotators tokenize,pos,lemma,ner,parse,depparse,coref\n",
      " 56%|███████████████████████████████████▊                            | 834/1488 [01:35<01:10,  9.29it/s]"
     ]
    },
    {
     "name": "stdout",
     "output_type": "stream",
     "text": [
      "A black cat laying on a closed suitcase.\n",
      "Three elephants standing in their pen are looking all around. \n"
     ]
    },
    {
     "name": "stderr",
     "output_type": "stream",
     "text": [
      "[pool-1-thread-2] INFO CoreNLP - [/127.0.0.1:48096] API call w/annotators tokenize,pos,lemma,ner,parse,depparse,coref\n",
      " 56%|███████████████████████████████████▉                            | 835/1488 [01:35<01:14,  8.74it/s][pool-1-thread-1] INFO CoreNLP - [/127.0.0.1:48114] API call w/annotators tokenize,pos,lemma,ner,parse,depparse,coref\n",
      " 56%|███████████████████████████████████▉                            | 836/1488 [01:35<01:12,  9.04it/s]"
     ]
    },
    {
     "name": "stdout",
     "output_type": "stream",
     "text": [
      "A simple bathroom features standard toilet and tan sink with dark wood cabinet. \n",
      "A red and yellow bus next to some bikes\n"
     ]
    },
    {
     "name": "stderr",
     "output_type": "stream",
     "text": [
      "[pool-1-thread-5] INFO CoreNLP - [/127.0.0.1:48122] API call w/annotators tokenize,pos,lemma,ner,parse,depparse,coref\n",
      " 56%|████████████████████████████████████                            | 837/1488 [01:35<01:14,  8.79it/s][pool-1-thread-4] INFO CoreNLP - [/127.0.0.1:48150] API call w/annotators tokenize,pos,lemma,ner,parse,depparse,coref\n",
      " 56%|████████████████████████████████████                            | 838/1488 [01:35<01:11,  9.05it/s]"
     ]
    },
    {
     "name": "stdout",
     "output_type": "stream",
     "text": [
      "Buses and cars sitting beside of each other on a busy street.\n",
      "There is a man who is holding a banana.\n"
     ]
    },
    {
     "name": "stderr",
     "output_type": "stream",
     "text": [
      "[pool-1-thread-3] INFO CoreNLP - [/127.0.0.1:48164] API call w/annotators tokenize,pos,lemma,ner,parse,depparse,coref\n",
      " 56%|████████████████████████████████████                            | 839/1488 [01:35<01:14,  8.69it/s][pool-1-thread-2] INFO CoreNLP - [/127.0.0.1:48178] API call w/annotators tokenize,pos,lemma,ner,parse,depparse,coref\n",
      " 56%|████████████████████████████████████▏                           | 840/1488 [01:35<01:13,  8.80it/s]"
     ]
    },
    {
     "name": "stdout",
     "output_type": "stream",
     "text": [
      "A living room is fully equipped with 80's style furniture and decor.\n",
      "a man standing next to a kitchen counter preparing food.\n"
     ]
    },
    {
     "name": "stderr",
     "output_type": "stream",
     "text": [
      "[pool-1-thread-1] INFO CoreNLP - [/127.0.0.1:48190] API call w/annotators tokenize,pos,lemma,ner,parse,depparse,coref\n",
      " 57%|████████████████████████████████████▏                           | 841/1488 [01:35<01:26,  7.52it/s][pool-1-thread-5] INFO CoreNLP - [/127.0.0.1:48212] API call w/annotators tokenize,pos,lemma,ner,parse,depparse,coref\n"
     ]
    },
    {
     "name": "stdout",
     "output_type": "stream",
     "text": [
      "Looking down a street in New York City with Central Park on the right and buildings on the left.\n",
      "Men and boys are posed for a group photo.\n"
     ]
    },
    {
     "name": "stderr",
     "output_type": "stream",
     "text": [
      " 57%|████████████████████████████████████▏                           | 842/1488 [01:36<01:20,  8.02it/s][pool-1-thread-4] INFO CoreNLP - [/127.0.0.1:48222] API call w/annotators tokenize,pos,lemma,ner,parse,depparse,coref\n",
      " 57%|████████████████████████████████████▎                           | 843/1488 [01:36<01:17,  8.28it/s][pool-1-thread-3] INFO CoreNLP - [/127.0.0.1:48244] API call w/annotators tokenize,pos,lemma,ner,parse,depparse,coref\n",
      " 57%|████████████████████████████████████▎                           | 844/1488 [01:36<01:17,  8.29it/s]"
     ]
    },
    {
     "name": "stdout",
     "output_type": "stream",
     "text": [
      "a fire hydrant in the middle of a large paved area\n",
      "A man riding a bike next to a bus down a street.\n"
     ]
    },
    {
     "name": "stderr",
     "output_type": "stream",
     "text": [
      "[pool-1-thread-2] INFO CoreNLP - [/127.0.0.1:48254] API call w/annotators tokenize,pos,lemma,ner,parse,depparse,coref\n",
      " 57%|████████████████████████████████████▎                           | 845/1488 [01:36<01:14,  8.63it/s][pool-1-thread-1] INFO CoreNLP - [/127.0.0.1:48268] API call w/annotators tokenize,pos,lemma,ner,parse,depparse,coref\n",
      " 57%|████████████████████████████████████▍                           | 846/1488 [01:36<01:17,  8.32it/s]"
     ]
    },
    {
     "name": "stdout",
     "output_type": "stream",
     "text": [
      "Two riders on horseback are roping a cow.\n",
      "There are three pictures of a clock and one picture of a woman. \n"
     ]
    },
    {
     "name": "stderr",
     "output_type": "stream",
     "text": [
      "[pool-1-thread-5] INFO CoreNLP - [/127.0.0.1:48278] API call w/annotators tokenize,pos,lemma,ner,parse,depparse,coref\n",
      " 57%|████████████████████████████████████▍                           | 847/1488 [01:36<01:16,  8.38it/s][pool-1-thread-4] INFO CoreNLP - [/127.0.0.1:48306] API call w/annotators tokenize,pos,lemma,ner,parse,depparse,coref\n",
      " 57%|████████████████████████████████████▍                           | 848/1488 [01:36<01:16,  8.41it/s]"
     ]
    },
    {
     "name": "stdout",
     "output_type": "stream",
     "text": [
      "a woman with a tennis racket gets ready to hit a ball \n",
      "A group of four surfboards laying on top of a beach.\n"
     ]
    },
    {
     "name": "stderr",
     "output_type": "stream",
     "text": [
      "[pool-1-thread-3] INFO CoreNLP - [/127.0.0.1:48326] API call w/annotators tokenize,pos,lemma,ner,parse,depparse,coref\n",
      " 57%|████████████████████████████████████▌                           | 849/1488 [01:36<01:19,  8.05it/s][pool-1-thread-2] INFO CoreNLP - [/127.0.0.1:48348] API call w/annotators tokenize,pos,lemma,ner,parse,depparse,coref\n",
      " 57%|████████████████████████████████████▌                           | 850/1488 [01:36<01:16,  8.35it/s]"
     ]
    },
    {
     "name": "stdout",
     "output_type": "stream",
     "text": [
      "He wants everyone to know that he has serious intentions for the tennis game.\n",
      "The man is sitting in a chair holding a dog. \n"
     ]
    },
    {
     "name": "stderr",
     "output_type": "stream",
     "text": [
      "[pool-1-thread-1] INFO CoreNLP - [/127.0.0.1:48356] API call w/annotators tokenize,pos,lemma,ner,parse,depparse,coref\n",
      " 57%|████████████████████████████████████▌                           | 851/1488 [01:37<01:17,  8.20it/s][pool-1-thread-5] INFO CoreNLP - [/127.0.0.1:48372] API call w/annotators tokenize,pos,lemma,ner,parse,depparse,coref\n",
      " 57%|████████████████████████████████████▋                           | 852/1488 [01:37<01:15,  8.45it/s]"
     ]
    },
    {
     "name": "stdout",
     "output_type": "stream",
     "text": [
      "Group of white sheep standing next to each other in a holding pen. \n",
      "A child eats food from a bowl at a table. \n"
     ]
    },
    {
     "name": "stderr",
     "output_type": "stream",
     "text": [
      "[pool-1-thread-4] INFO CoreNLP - [/127.0.0.1:48394] API call w/annotators tokenize,pos,lemma,ner,parse,depparse,coref\n",
      " 57%|████████████████████████████████████▋                           | 853/1488 [01:37<01:11,  8.84it/s][pool-1-thread-3] INFO CoreNLP - [/127.0.0.1:48414] API call w/annotators tokenize,pos,lemma,ner,parse,depparse,coref\n",
      " 57%|████████████████████████████████████▋                           | 854/1488 [01:37<01:10,  9.02it/s]"
     ]
    },
    {
     "name": "stdout",
     "output_type": "stream",
     "text": [
      "a teddy hear sitting on top of a sign\n",
      "A Pico Bl street sign tilting to the left.\n"
     ]
    },
    {
     "name": "stderr",
     "output_type": "stream",
     "text": [
      "[pool-1-thread-2] INFO CoreNLP - [/127.0.0.1:48432] API call w/annotators tokenize,pos,lemma,ner,parse,depparse,coref\n",
      "[pool-1-thread-1] INFO CoreNLP - [/127.0.0.1:48448] API call w/annotators tokenize,pos,lemma,ner,parse,depparse,coref\n",
      " 58%|████████████████████████████████████▊                           | 856/1488 [01:37<01:08,  9.29it/s]"
     ]
    },
    {
     "name": "stdout",
     "output_type": "stream",
     "text": [
      "Cat messing around in the white bathtub. \n",
      "Why is it that cats insist on squeezing into boxes?\n"
     ]
    },
    {
     "name": "stderr",
     "output_type": "stream",
     "text": [
      "[pool-1-thread-5] INFO CoreNLP - [/127.0.0.1:48466] API call w/annotators tokenize,pos,lemma,ner,parse,depparse,coref\n",
      " 58%|████████████████████████████████████▊                           | 857/1488 [01:37<01:07,  9.40it/s][pool-1-thread-4] INFO CoreNLP - [/127.0.0.1:48478] API call w/annotators tokenize,pos,lemma,ner,parse,depparse,coref\n",
      " 58%|████████████████████████████████████▉                           | 858/1488 [01:37<01:06,  9.43it/s]"
     ]
    },
    {
     "name": "stdout",
     "output_type": "stream",
     "text": [
      "a family with some rackets posing for a picture\n",
      "A slice is cut from an oreo cookie cake.\n"
     ]
    },
    {
     "name": "stderr",
     "output_type": "stream",
     "text": [
      "[pool-1-thread-3] INFO CoreNLP - [/127.0.0.1:48488] API call w/annotators tokenize,pos,lemma,ner,parse,depparse,coref\n",
      " 58%|████████████████████████████████████▉                           | 859/1488 [01:37<01:07,  9.31it/s][pool-1-thread-2] INFO CoreNLP - [/127.0.0.1:48500] API call w/annotators tokenize,pos,lemma,ner,parse,depparse,coref\n",
      " 58%|████████████████████████████████████▉                           | 860/1488 [01:38<01:09,  9.08it/s]"
     ]
    },
    {
     "name": "stdout",
     "output_type": "stream",
     "text": [
      "A table with food and a glass of red wine.\n",
      "A man riding a bike with a cell phone at his ear\n"
     ]
    },
    {
     "name": "stderr",
     "output_type": "stream",
     "text": [
      "[pool-1-thread-1] INFO CoreNLP - [/127.0.0.1:48520] API call w/annotators tokenize,pos,lemma,ner,parse,depparse,coref\n",
      " 58%|█████████████████████████████████████                           | 861/1488 [01:38<01:20,  7.75it/s][pool-1-thread-5] INFO CoreNLP - [/127.0.0.1:48536] API call w/annotators tokenize,pos,lemma,ner,parse,depparse,coref\n"
     ]
    },
    {
     "name": "stdout",
     "output_type": "stream",
     "text": [
      "A city bus that has advertising on the side and it is parked on the side of a street.\n",
      "Three people riding horses on a beach next to the ocean..\n"
     ]
    },
    {
     "name": "stderr",
     "output_type": "stream",
     "text": [
      " 58%|█████████████████████████████████████                           | 862/1488 [01:38<01:19,  7.92it/s][pool-1-thread-4] INFO CoreNLP - [/127.0.0.1:48560] API call w/annotators tokenize,pos,lemma,ner,parse,depparse,coref\n",
      " 58%|█████████████████████████████████████                           | 863/1488 [01:38<01:15,  8.32it/s][pool-1-thread-3] INFO CoreNLP - [/127.0.0.1:48568] API call w/annotators tokenize,pos,lemma,ner,parse,depparse,coref\n",
      " 58%|█████████████████████████████████████▏                          | 864/1488 [01:38<01:12,  8.61it/s]"
     ]
    },
    {
     "name": "stdout",
     "output_type": "stream",
     "text": [
      "A group of young people holding a pizza party.\n",
      "A girl that is sitting on a white horse.\n"
     ]
    },
    {
     "name": "stderr",
     "output_type": "stream",
     "text": [
      "[pool-1-thread-2] INFO CoreNLP - [/127.0.0.1:48580] API call w/annotators tokenize,pos,lemma,ner,parse,depparse,coref\n",
      " 58%|█████████████████████████████████████▏                          | 865/1488 [01:38<01:10,  8.83it/s][pool-1-thread-1] INFO CoreNLP - [/127.0.0.1:48590] API call w/annotators tokenize,pos,lemma,ner,parse,depparse,coref\n",
      " 58%|█████████████████████████████████████▏                          | 866/1488 [01:38<01:11,  8.70it/s]"
     ]
    },
    {
     "name": "stdout",
     "output_type": "stream",
     "text": [
      "A person is holding a pair of green scissors. \n",
      "A man petting a cat that is sleeping on a shelf.\n"
     ]
    },
    {
     "name": "stderr",
     "output_type": "stream",
     "text": [
      "[pool-1-thread-5] INFO CoreNLP - [/127.0.0.1:48608] API call w/annotators tokenize,pos,lemma,ner,parse,depparse,coref\n"
     ]
    },
    {
     "name": "stdout",
     "output_type": "stream",
     "text": [
      "Close up of a street pole with a stop sign with graffiti under a one way sign under two street signs with low buildings, telephone poles and wires behind and a blue sky with clouds.\n"
     ]
    },
    {
     "name": "stderr",
     "output_type": "stream",
     "text": [
      " 58%|█████████████████████████████████████▎                          | 867/1488 [01:39<02:27,  4.20it/s][pool-1-thread-4] INFO CoreNLP - [/127.0.0.1:48618] API call w/annotators tokenize,pos,lemma,ner,parse,depparse,coref\n",
      " 58%|█████████████████████████████████████▎                          | 868/1488 [01:39<02:05,  4.92it/s][pool-1-thread-3] INFO CoreNLP - [/127.0.0.1:51002] API call w/annotators tokenize,pos,lemma,ner,parse,depparse,coref\n",
      " 58%|█████████████████████████████████████▍                          | 869/1488 [01:39<01:48,  5.70it/s]"
     ]
    },
    {
     "name": "stdout",
     "output_type": "stream",
     "text": [
      "A large passenger jet flying over the space needle in Washington.\n",
      "A door is opened to a small clean bathroom.\n"
     ]
    },
    {
     "name": "stderr",
     "output_type": "stream",
     "text": [
      "[pool-1-thread-2] INFO CoreNLP - [/127.0.0.1:51008] API call w/annotators tokenize,pos,lemma,ner,parse,depparse,coref\n",
      " 58%|█████████████████████████████████████▍                          | 870/1488 [01:39<01:35,  6.48it/s][pool-1-thread-1] INFO CoreNLP - [/127.0.0.1:51038] API call w/annotators tokenize,pos,lemma,ner,parse,depparse,coref\n"
     ]
    },
    {
     "name": "stdout",
     "output_type": "stream",
     "text": [
      "A woman sitting on a chair under an umbrella.\n",
      "A \"one-Way\" street sign in front of a concrete wall at a street corner.\n"
     ]
    },
    {
     "name": "stderr",
     "output_type": "stream",
     "text": [
      " 59%|█████████████████████████████████████▍                          | 871/1488 [01:39<01:37,  6.31it/s][pool-1-thread-5] INFO CoreNLP - [/127.0.0.1:51054] API call w/annotators tokenize,pos,lemma,ner,parse,depparse,coref\n",
      " 59%|█████████████████████████████████████▌                          | 872/1488 [01:39<01:28,  6.94it/s][pool-1-thread-4] INFO CoreNLP - [/127.0.0.1:51076] API call w/annotators tokenize,pos,lemma,ner,parse,depparse,coref\n",
      " 59%|█████████████████████████████████████▌                          | 873/1488 [01:40<01:28,  6.92it/s]"
     ]
    },
    {
     "name": "stdout",
     "output_type": "stream",
     "text": [
      "A tall vase with red and white tulips in water.\n",
      "A girl prepares to a hit a ball with her tennis racket on a tennis court. \n"
     ]
    },
    {
     "name": "stderr",
     "output_type": "stream",
     "text": [
      "[pool-1-thread-3] INFO CoreNLP - [/127.0.0.1:51086] API call w/annotators tokenize,pos,lemma,ner,parse,depparse,coref\n",
      " 59%|█████████████████████████████████████▌                          | 874/1488 [01:40<01:20,  7.60it/s][pool-1-thread-2] INFO CoreNLP - [/127.0.0.1:51102] API call w/annotators tokenize,pos,lemma,ner,parse,depparse,coref\n",
      " 59%|█████████████████████████████████████▋                          | 875/1488 [01:40<01:15,  8.09it/s]"
     ]
    },
    {
     "name": "stdout",
     "output_type": "stream",
     "text": [
      "A man standing in the rain at night.\n",
      "A large building with people gathered in front.\n"
     ]
    },
    {
     "name": "stderr",
     "output_type": "stream",
     "text": [
      "[pool-1-thread-1] INFO CoreNLP - [/127.0.0.1:51112] API call w/annotators tokenize,pos,lemma,ner,parse,depparse,coref\n",
      " 59%|█████████████████████████████████████▋                          | 876/1488 [01:40<01:11,  8.50it/s][pool-1-thread-5] INFO CoreNLP - [/127.0.0.1:51122] API call w/annotators tokenize,pos,lemma,ner,parse,depparse,coref\n",
      " 59%|█████████████████████████████████████▋                          | 877/1488 [01:40<01:11,  8.54it/s]"
     ]
    },
    {
     "name": "stdout",
     "output_type": "stream",
     "text": [
      "A man is playing tennis on a tennis court.\n",
      "A surfer rides a wave in the ocean on his surfboard. \n"
     ]
    },
    {
     "name": "stderr",
     "output_type": "stream",
     "text": [
      "[pool-1-thread-4] INFO CoreNLP - [/127.0.0.1:51126] API call w/annotators tokenize,pos,lemma,ner,parse,depparse,coref\n",
      " 59%|█████████████████████████████████████▊                          | 878/1488 [01:40<01:09,  8.79it/s][pool-1-thread-3] INFO CoreNLP - [/127.0.0.1:51146] API call w/annotators tokenize,pos,lemma,ner,parse,depparse,coref\n",
      " 59%|█████████████████████████████████████▊                          | 879/1488 [01:40<01:12,  8.45it/s]"
     ]
    },
    {
     "name": "stdout",
     "output_type": "stream",
     "text": [
      "A man pulls muffins out of the industrial oven.\n",
      "Man playing game with Nintendo Wii control next to kid carrying a cup.\n"
     ]
    },
    {
     "name": "stderr",
     "output_type": "stream",
     "text": [
      "[pool-1-thread-2] INFO CoreNLP - [/127.0.0.1:51164] API call w/annotators tokenize,pos,lemma,ner,parse,depparse,coref\n",
      "[pool-1-thread-1] INFO CoreNLP - [/127.0.0.1:51174] API call w/annotators tokenize,pos,lemma,ner,parse,depparse,coref\n",
      " 59%|█████████████████████████████████████▉                          | 881/1488 [01:40<01:07,  9.02it/s]"
     ]
    },
    {
     "name": "stdout",
     "output_type": "stream",
     "text": [
      " directing signs in front of a parking garage\n",
      "a person standing on a robotic surf board\n"
     ]
    },
    {
     "name": "stderr",
     "output_type": "stream",
     "text": [
      "[pool-1-thread-5] INFO CoreNLP - [/127.0.0.1:51192] API call w/annotators tokenize,pos,lemma,ner,parse,depparse,coref\n",
      " 59%|█████████████████████████████████████▉                          | 882/1488 [01:41<01:07,  9.04it/s][pool-1-thread-4] INFO CoreNLP - [/127.0.0.1:51216] API call w/annotators tokenize,pos,lemma,ner,parse,depparse,coref\n",
      " 59%|█████████████████████████████████████▉                          | 883/1488 [01:41<01:06,  9.06it/s]"
     ]
    },
    {
     "name": "stdout",
     "output_type": "stream",
     "text": [
      "A man is smoking a cigarette and giving a thumbs up\n",
      "A black and white cat stands on a bathroom sink.\n"
     ]
    },
    {
     "name": "stderr",
     "output_type": "stream",
     "text": [
      "[pool-1-thread-3] INFO CoreNLP - [/127.0.0.1:51240] API call w/annotators tokenize,pos,lemma,ner,parse,depparse,coref\n",
      " 59%|██████████████████████████████████████                          | 884/1488 [01:41<01:05,  9.29it/s][pool-1-thread-2] INFO CoreNLP - [/127.0.0.1:51258] API call w/annotators tokenize,pos,lemma,ner,parse,depparse,coref\n",
      " 59%|██████████████████████████████████████                          | 885/1488 [01:41<01:06,  9.05it/s]"
     ]
    },
    {
     "name": "stdout",
     "output_type": "stream",
     "text": [
      "The young man is pointing to a laptop.\n",
      "A truck with a number of people and things in the back\n"
     ]
    },
    {
     "name": "stderr",
     "output_type": "stream",
     "text": [
      "[pool-1-thread-1] INFO CoreNLP - [/127.0.0.1:51284] API call w/annotators tokenize,pos,lemma,ner,parse,depparse,coref\n",
      " 60%|██████████████████████████████████████                          | 886/1488 [01:41<01:07,  8.90it/s][pool-1-thread-5] INFO CoreNLP - [/127.0.0.1:51296] API call w/annotators tokenize,pos,lemma,ner,parse,depparse,coref\n",
      " 60%|██████████████████████████████████████▏                         | 887/1488 [01:41<01:08,  8.72it/s]"
     ]
    },
    {
     "name": "stdout",
     "output_type": "stream",
     "text": [
      "A boy with a large umbrella stands upon a wooden deck.\n",
      "A guy carrying a red and white surfboard runs down the beach.\n"
     ]
    },
    {
     "name": "stderr",
     "output_type": "stream",
     "text": [
      "[pool-1-thread-4] INFO CoreNLP - [/127.0.0.1:51310] API call w/annotators tokenize,pos,lemma,ner,parse,depparse,coref\n",
      " 60%|██████████████████████████████████████▏                         | 888/1488 [01:41<01:06,  9.02it/s][pool-1-thread-3] INFO CoreNLP - [/127.0.0.1:51326] API call w/annotators tokenize,pos,lemma,ner,parse,depparse,coref\n",
      " 60%|██████████████████████████████████████▏                         | 889/1488 [01:41<01:08,  8.73it/s]"
     ]
    },
    {
     "name": "stdout",
     "output_type": "stream",
     "text": [
      "A bus window with finger writing on it.\n",
      "A herd of white sheep standing on top of a green field.\n"
     ]
    },
    {
     "name": "stderr",
     "output_type": "stream",
     "text": [
      "[pool-1-thread-2] INFO CoreNLP - [/127.0.0.1:51334] API call w/annotators tokenize,pos,lemma,ner,parse,depparse,coref\n",
      " 60%|██████████████████████████████████████▎                         | 890/1488 [01:41<01:09,  8.57it/s][pool-1-thread-1] INFO CoreNLP - [/127.0.0.1:51346] API call w/annotators tokenize,pos,lemma,ner,parse,depparse,coref\n",
      " 60%|██████████████████████████████████████▎                         | 891/1488 [01:42<01:13,  8.13it/s]"
     ]
    },
    {
     "name": "stdout",
     "output_type": "stream",
     "text": [
      "Guy wearing outdoor gear and riding a bike in a forest area. \n",
      "a person sitting on an elephant that squirts water from its trunk over a fence\n"
     ]
    },
    {
     "name": "stderr",
     "output_type": "stream",
     "text": [
      "[pool-1-thread-5] INFO CoreNLP - [/127.0.0.1:51368] API call w/annotators tokenize,pos,lemma,ner,parse,depparse,coref\n",
      " 60%|██████████████████████████████████████▎                         | 892/1488 [01:42<01:12,  8.25it/s][pool-1-thread-4] INFO CoreNLP - [/127.0.0.1:51380] API call w/annotators tokenize,pos,lemma,ner,parse,depparse,coref\n",
      " 60%|██████████████████████████████████████▍                         | 893/1488 [01:42<01:10,  8.45it/s]"
     ]
    },
    {
     "name": "stdout",
     "output_type": "stream",
     "text": [
      "A white church has a decorative window and gold clock.\n",
      "a woman holding onto a colorful kte on a sunny day\n"
     ]
    },
    {
     "name": "stderr",
     "output_type": "stream",
     "text": [
      "[pool-1-thread-3] INFO CoreNLP - [/127.0.0.1:51402] API call w/annotators tokenize,pos,lemma,ner,parse,depparse,coref\n",
      " 60%|██████████████████████████████████████▍                         | 894/1488 [01:42<01:08,  8.68it/s][pool-1-thread-2] INFO CoreNLP - [/127.0.0.1:51410] API call w/annotators tokenize,pos,lemma,ner,parse,depparse,coref\n",
      " 60%|██████████████████████████████████████▍                         | 895/1488 [01:42<01:07,  8.74it/s]"
     ]
    },
    {
     "name": "stdout",
     "output_type": "stream",
     "text": [
      "A black refrigerator with both of its doors open. \n",
      "A cat in a kitchen on top of a refrigerator.\n"
     ]
    },
    {
     "name": "stderr",
     "output_type": "stream",
     "text": [
      "[pool-1-thread-1] INFO CoreNLP - [/127.0.0.1:51422] API call w/annotators tokenize,pos,lemma,ner,parse,depparse,coref\n",
      " 60%|██████████████████████████████████████▌                         | 896/1488 [01:42<01:07,  8.82it/s][pool-1-thread-5] INFO CoreNLP - [/127.0.0.1:51442] API call w/annotators tokenize,pos,lemma,ner,parse,depparse,coref\n"
     ]
    },
    {
     "name": "stdout",
     "output_type": "stream",
     "text": [
      "A box of oranges sitting inside of a grocery store.\n",
      "A bed in a small and empty white room\n"
     ]
    },
    {
     "name": "stderr",
     "output_type": "stream",
     "text": [
      "[pool-1-thread-4] INFO CoreNLP - [/127.0.0.1:51464] API call w/annotators tokenize,pos,lemma,ner,parse,depparse,coref\n",
      " 60%|██████████████████████████████████████▌                         | 898/1488 [01:42<01:08,  8.62it/s][pool-1-thread-3] INFO CoreNLP - [/127.0.0.1:51482] API call w/annotators tokenize,pos,lemma,ner,parse,depparse,coref\n",
      " 60%|██████████████████████████████████████▋                         | 899/1488 [01:43<01:07,  8.67it/s]"
     ]
    },
    {
     "name": "stdout",
     "output_type": "stream",
     "text": [
      "An elderly lady holding a bin full of donuts next to two other women.\n",
      "a close up of a plate of doughnuts on a table\n"
     ]
    },
    {
     "name": "stderr",
     "output_type": "stream",
     "text": [
      "[pool-1-thread-2] INFO CoreNLP - [/127.0.0.1:51502] API call w/annotators tokenize,pos,lemma,ner,parse,depparse,coref\n",
      " 60%|██████████████████████████████████████▋                         | 900/1488 [01:43<01:05,  8.93it/s][pool-1-thread-1] INFO CoreNLP - [/127.0.0.1:51516] API call w/annotators tokenize,pos,lemma,ner,parse,depparse,coref\n",
      " 61%|██████████████████████████████████████▊                         | 901/1488 [01:43<01:06,  8.79it/s]"
     ]
    },
    {
     "name": "stdout",
     "output_type": "stream",
     "text": [
      "A red plate that had green veggies and it\n",
      "A bed that has been made and has several pillows on it.\n"
     ]
    },
    {
     "name": "stderr",
     "output_type": "stream",
     "text": [
      "[pool-1-thread-5] INFO CoreNLP - [/127.0.0.1:51528] API call w/annotators tokenize,pos,lemma,ner,parse,depparse,coref\n",
      " 61%|██████████████████████████████████████▊                         | 902/1488 [01:43<01:06,  8.80it/s][pool-1-thread-4] INFO CoreNLP - [/127.0.0.1:51554] API call w/annotators tokenize,pos,lemma,ner,parse,depparse,coref\n",
      " 61%|██████████████████████████████████████▊                         | 903/1488 [01:43<01:04,  9.01it/s]"
     ]
    },
    {
     "name": "stdout",
     "output_type": "stream",
     "text": [
      "A bathroom with a toilet and a floral shower curtain.\n",
      "A book shelf filled with lots of colorful books.\n"
     ]
    },
    {
     "name": "stderr",
     "output_type": "stream",
     "text": [
      "[pool-1-thread-3] INFO CoreNLP - [/127.0.0.1:51578] API call w/annotators tokenize,pos,lemma,ner,parse,depparse,coref\n",
      " 61%|██████████████████████████████████████▉                         | 904/1488 [01:43<01:09,  8.44it/s][pool-1-thread-2] INFO CoreNLP - [/127.0.0.1:51592] API call w/annotators tokenize,pos,lemma,ner,parse,depparse,coref\n",
      " 61%|██████████████████████████████████████▉                         | 905/1488 [01:43<01:07,  8.68it/s]"
     ]
    },
    {
     "name": "stdout",
     "output_type": "stream",
     "text": [
      "Woman in big hoop dress sitting down at a chair with a clock. \n",
      "A mini train about to go through a tunnel.\n"
     ]
    },
    {
     "name": "stderr",
     "output_type": "stream",
     "text": [
      "[pool-1-thread-1] INFO CoreNLP - [/127.0.0.1:51606] API call w/annotators tokenize,pos,lemma,ner,parse,depparse,coref\n",
      " 61%|██████████████████████████████████████▉                         | 906/1488 [01:43<01:07,  8.67it/s][pool-1-thread-5] INFO CoreNLP - [/127.0.0.1:51622] API call w/annotators tokenize,pos,lemma,ner,parse,depparse,coref\n",
      " 61%|███████████████████████████████████████                         | 907/1488 [01:43<01:07,  8.59it/s]"
     ]
    },
    {
     "name": "stdout",
     "output_type": "stream",
     "text": [
      "A man and woman playing the WII together while friends watch. \n",
      "a bath room with a toilet a bath tub and a sink\n"
     ]
    },
    {
     "name": "stderr",
     "output_type": "stream",
     "text": [
      "[pool-1-thread-4] INFO CoreNLP - [/127.0.0.1:51636] API call w/annotators tokenize,pos,lemma,ner,parse,depparse,coref\n",
      "[pool-1-thread-3] INFO CoreNLP - [/127.0.0.1:51654] API call w/annotators tokenize,pos,lemma,ner,parse,depparse,coref\n",
      " 61%|███████████████████████████████████████                         | 909/1488 [01:44<01:03,  9.14it/s]"
     ]
    },
    {
     "name": "stdout",
     "output_type": "stream",
     "text": [
      "A simple white residential kitchen with breakfast bar\n",
      "Several people are lining the streets watching a parade.\n"
     ]
    },
    {
     "name": "stderr",
     "output_type": "stream",
     "text": [
      "[pool-1-thread-2] INFO CoreNLP - [/127.0.0.1:51674] API call w/annotators tokenize,pos,lemma,ner,parse,depparse,coref\n",
      "[pool-1-thread-1] INFO CoreNLP - [/127.0.0.1:51698] API call w/annotators tokenize,pos,lemma,ner,parse,depparse,coref\n",
      " 61%|███████████████████████████████████████▏                        | 911/1488 [01:44<01:00,  9.55it/s][pool-1-thread-5] INFO CoreNLP - [/127.0.0.1:51714] API call w/annotators tokenize,pos,lemma,ner,parse,depparse,coref\n"
     ]
    },
    {
     "name": "stdout",
     "output_type": "stream",
     "text": [
      "A cross country skier on a snowy course\n",
      "a batter getting ready to hit the baseball\n",
      "A very pretty kitchen with a small wooden dining table.\n"
     ]
    },
    {
     "name": "stderr",
     "output_type": "stream",
     "text": [
      " 61%|███████████████████████████████████████▏                        | 912/1488 [01:44<01:01,  9.43it/s][pool-1-thread-4] INFO CoreNLP - [/127.0.0.1:51720] API call w/annotators tokenize,pos,lemma,ner,parse,depparse,coref\n",
      " 61%|███████████████████████████████████████▎                        | 913/1488 [01:44<01:00,  9.56it/s][pool-1-thread-3] INFO CoreNLP - [/127.0.0.1:51728] API call w/annotators tokenize,pos,lemma,ner,parse,depparse,coref\n",
      " 61%|███████████████████████████████████████▎                        | 914/1488 [01:44<00:59,  9.64it/s]"
     ]
    },
    {
     "name": "stdout",
     "output_type": "stream",
     "text": [
      "Two ladies are standing near a few toilets. \n",
      "A baseball player holds his bat ready to swing\n"
     ]
    },
    {
     "name": "stderr",
     "output_type": "stream",
     "text": [
      "[pool-1-thread-2] INFO CoreNLP - [/127.0.0.1:51742] API call w/annotators tokenize,pos,lemma,ner,parse,depparse,coref\n",
      " 61%|███████████████████████████████████████▎                        | 915/1488 [01:44<01:02,  9.24it/s][pool-1-thread-1] INFO CoreNLP - [/127.0.0.1:51756] API call w/annotators tokenize,pos,lemma,ner,parse,depparse,coref\n",
      " 62%|███████████████████████████████████████▍                        | 916/1488 [01:44<01:03,  8.98it/s]"
     ]
    },
    {
     "name": "stdout",
     "output_type": "stream",
     "text": [
      "A group of people, wearing hats, posing for a picture.\n",
      "A small train on one of several sets of tracks.\n"
     ]
    },
    {
     "name": "stderr",
     "output_type": "stream",
     "text": [
      "[pool-1-thread-5] INFO CoreNLP - [/127.0.0.1:51782] API call w/annotators tokenize,pos,lemma,ner,parse,depparse,coref\n",
      "[pool-1-thread-4] INFO CoreNLP - [/127.0.0.1:51790] API call w/annotators tokenize,pos,lemma,ner,parse,depparse,coref\n",
      " 62%|███████████████████████████████████████▍                        | 918/1488 [01:45<01:02,  9.07it/s]"
     ]
    },
    {
     "name": "stdout",
     "output_type": "stream",
     "text": [
      "A women who is flying a kite outside.\n",
      "A black and white photograph of a sidewalk and fire extinguisher.\n"
     ]
    },
    {
     "name": "stderr",
     "output_type": "stream",
     "text": [
      "[pool-1-thread-3] INFO CoreNLP - [/127.0.0.1:51820] API call w/annotators tokenize,pos,lemma,ner,parse,depparse,coref\n",
      " 62%|███████████████████████████████████████▌                        | 919/1488 [01:45<01:02,  9.10it/s][pool-1-thread-2] INFO CoreNLP - [/127.0.0.1:51830] API call w/annotators tokenize,pos,lemma,ner,parse,depparse,coref\n",
      " 62%|███████████████████████████████████████▌                        | 920/1488 [01:45<01:03,  8.91it/s]"
     ]
    },
    {
     "name": "stdout",
     "output_type": "stream",
     "text": [
      "A person is sitting by themselves on a park bench.\n",
      "Two young people on ski mountain looking unenthused about the sport.\n"
     ]
    },
    {
     "name": "stderr",
     "output_type": "stream",
     "text": [
      "[pool-1-thread-1] INFO CoreNLP - [/127.0.0.1:51840] API call w/annotators tokenize,pos,lemma,ner,parse,depparse,coref\n",
      " 62%|███████████████████████████████████████▌                        | 921/1488 [01:45<01:05,  8.68it/s][pool-1-thread-5] INFO CoreNLP - [/127.0.0.1:51854] API call w/annotators tokenize,pos,lemma,ner,parse,depparse,coref\n"
     ]
    },
    {
     "name": "stdout",
     "output_type": "stream",
     "text": [
      "Man in air with board in ocean and waves with background swimmer\n",
      "Two People wearing hats writing on an elephant.\n"
     ]
    },
    {
     "name": "stderr",
     "output_type": "stream",
     "text": [
      "[pool-1-thread-4] INFO CoreNLP - [/127.0.0.1:51858] API call w/annotators tokenize,pos,lemma,ner,parse,depparse,coref\n",
      " 62%|███████████████████████████████████████▋                        | 923/1488 [01:45<01:02,  9.06it/s][pool-1-thread-3] INFO CoreNLP - [/127.0.0.1:51884] API call w/annotators tokenize,pos,lemma,ner,parse,depparse,coref\n",
      " 62%|███████████████████████████████████████▋                        | 924/1488 [01:45<01:02,  9.00it/s]"
     ]
    },
    {
     "name": "stdout",
     "output_type": "stream",
     "text": [
      "A man holding a cell phone up to his ear.\n",
      " A formal white cake on a table next to pink roses\n"
     ]
    },
    {
     "name": "stderr",
     "output_type": "stream",
     "text": [
      "[pool-1-thread-2] INFO CoreNLP - [/127.0.0.1:51900] API call w/annotators tokenize,pos,lemma,ner,parse,depparse,coref\n",
      " 62%|███████████████████████████████████████▊                        | 925/1488 [01:45<01:03,  8.86it/s][pool-1-thread-1] INFO CoreNLP - [/127.0.0.1:51918] API call w/annotators tokenize,pos,lemma,ner,parse,depparse,coref\n",
      " 62%|███████████████████████████████████████▊                        | 926/1488 [01:45<01:01,  9.09it/s]"
     ]
    },
    {
     "name": "stdout",
     "output_type": "stream",
     "text": [
      "Small boy playing near a group of surfboards in the sand. \n",
      "A cat that is staring at the camera.\n"
     ]
    },
    {
     "name": "stderr",
     "output_type": "stream",
     "text": [
      "[pool-1-thread-5] INFO CoreNLP - [/127.0.0.1:51942] API call w/annotators tokenize,pos,lemma,ner,parse,depparse,coref\n",
      " 62%|███████████████████████████████████████▊                        | 927/1488 [01:46<01:02,  8.97it/s][pool-1-thread-4] INFO CoreNLP - [/127.0.0.1:51952] API call w/annotators tokenize,pos,lemma,ner,parse,depparse,coref\n",
      " 62%|███████████████████████████████████████▉                        | 928/1488 [01:46<01:04,  8.71it/s]"
     ]
    },
    {
     "name": "stdout",
     "output_type": "stream",
     "text": [
      "a close up of a young person holding a baseball bat\n",
      "A jet sitting on an airfield awaiting taxi to the runway.\n"
     ]
    },
    {
     "name": "stderr",
     "output_type": "stream",
     "text": [
      "[pool-1-thread-3] INFO CoreNLP - [/127.0.0.1:51974] API call w/annotators tokenize,pos,lemma,ner,parse,depparse,coref\n",
      " 62%|███████████████████████████████████████▉                        | 929/1488 [01:46<01:03,  8.83it/s][pool-1-thread-2] INFO CoreNLP - [/127.0.0.1:52004] API call w/annotators tokenize,pos,lemma,ner,parse,depparse,coref\n",
      " 62%|████████████████████████████████████████                        | 930/1488 [01:46<01:01,  9.00it/s]"
     ]
    },
    {
     "name": "stdout",
     "output_type": "stream",
     "text": [
      "a skillet with a bunch of food inside of it \n",
      "A close up of a black and white design.\n"
     ]
    },
    {
     "name": "stderr",
     "output_type": "stream",
     "text": [
      "[pool-1-thread-1] INFO CoreNLP - [/127.0.0.1:52022] API call w/annotators tokenize,pos,lemma,ner,parse,depparse,coref\n",
      " 63%|████████████████████████████████████████                        | 931/1488 [01:46<01:02,  8.97it/s][pool-1-thread-5] INFO CoreNLP - [/127.0.0.1:52042] API call w/annotators tokenize,pos,lemma,ner,parse,depparse,coref\n",
      " 63%|████████████████████████████████████████                        | 932/1488 [01:46<01:05,  8.44it/s]"
     ]
    },
    {
     "name": "stdout",
     "output_type": "stream",
     "text": [
      "A person on a surfboard riding it in the water.\n",
      "A stop sign and a view of a crossroads with several utility poles around.\n"
     ]
    },
    {
     "name": "stderr",
     "output_type": "stream",
     "text": [
      "[pool-1-thread-4] INFO CoreNLP - [/127.0.0.1:52050] API call w/annotators tokenize,pos,lemma,ner,parse,depparse,coref\n",
      " 63%|████████████████████████████████████████▏                       | 933/1488 [01:46<01:06,  8.30it/s][pool-1-thread-3] INFO CoreNLP - [/127.0.0.1:52062] API call w/annotators tokenize,pos,lemma,ner,parse,depparse,coref\n",
      " 63%|████████████████████████████████████████▏                       | 934/1488 [01:46<01:05,  8.42it/s]"
     ]
    },
    {
     "name": "stdout",
     "output_type": "stream",
     "text": [
      "A woman sitting on the tailgate of her car talking to her dog.\n",
      "A black and blue colored bird sitting in an exotic tree. \n"
     ]
    },
    {
     "name": "stderr",
     "output_type": "stream",
     "text": [
      "[pool-1-thread-2] INFO CoreNLP - [/127.0.0.1:52068] API call w/annotators tokenize,pos,lemma,ner,parse,depparse,coref\n",
      " 63%|████████████████████████████████████████▏                       | 935/1488 [01:47<01:05,  8.49it/s][pool-1-thread-1] INFO CoreNLP - [/127.0.0.1:52092] API call w/annotators tokenize,pos,lemma,ner,parse,depparse,coref\n",
      " 63%|████████████████████████████████████████▎                       | 936/1488 [01:47<01:03,  8.75it/s]"
     ]
    },
    {
     "name": "stdout",
     "output_type": "stream",
     "text": [
      "A man and woman brushing test with window in the background.\n",
      "Half of a cake is sitting on the counter.\n"
     ]
    },
    {
     "name": "stderr",
     "output_type": "stream",
     "text": [
      "[pool-1-thread-5] INFO CoreNLP - [/127.0.0.1:52118] API call w/annotators tokenize,pos,lemma,ner,parse,depparse,coref\n",
      " 63%|████████████████████████████████████████▎                       | 937/1488 [01:47<01:06,  8.34it/s][pool-1-thread-4] INFO CoreNLP - [/127.0.0.1:52142] API call w/annotators tokenize,pos,lemma,ner,parse,depparse,coref\n",
      " 63%|████████████████████████████████████████▎                       | 938/1488 [01:47<01:06,  8.22it/s]"
     ]
    },
    {
     "name": "stdout",
     "output_type": "stream",
     "text": [
      "A woman stands near a brick wall with a cellphone up to her ear.\n",
      "A man in a blue hat on a bike behind a train. \n"
     ]
    },
    {
     "name": "stderr",
     "output_type": "stream",
     "text": [
      "[pool-1-thread-3] INFO CoreNLP - [/127.0.0.1:52150] API call w/annotators tokenize,pos,lemma,ner,parse,depparse,coref\n",
      " 63%|████████████████████████████████████████▍                       | 939/1488 [01:47<01:06,  8.29it/s][pool-1-thread-2] INFO CoreNLP - [/127.0.0.1:52162] API call w/annotators tokenize,pos,lemma,ner,parse,depparse,coref\n",
      " 63%|████████████████████████████████████████▍                       | 940/1488 [01:47<01:03,  8.58it/s]"
     ]
    },
    {
     "name": "stdout",
     "output_type": "stream",
     "text": [
      "A woman holding a couple of bags and an umbrella.\n",
      "A black and white kitchen has red and white lights.\n"
     ]
    },
    {
     "name": "stderr",
     "output_type": "stream",
     "text": [
      "[pool-1-thread-1] INFO CoreNLP - [/127.0.0.1:52182] API call w/annotators tokenize,pos,lemma,ner,parse,depparse,coref\n",
      " 63%|████████████████████████████████████████▍                       | 941/1488 [01:47<01:01,  8.93it/s][pool-1-thread-5] INFO CoreNLP - [/127.0.0.1:52208] API call w/annotators tokenize,pos,lemma,ner,parse,depparse,coref\n",
      " 63%|████████████████████████████████████████▌                       | 942/1488 [01:47<00:59,  9.15it/s]"
     ]
    },
    {
     "name": "stdout",
     "output_type": "stream",
     "text": [
      "There are some people gathered for a kite festival\n",
      "a giraffe in its pen trees bushes and dirt\n"
     ]
    },
    {
     "name": "stderr",
     "output_type": "stream",
     "text": [
      "[pool-1-thread-4] INFO CoreNLP - [/127.0.0.1:52234] API call w/annotators tokenize,pos,lemma,ner,parse,depparse,coref\n",
      " 63%|████████████████████████████████████████▌                       | 943/1488 [01:47<01:01,  8.82it/s][pool-1-thread-3] INFO CoreNLP - [/127.0.0.1:52254] API call w/annotators tokenize,pos,lemma,ner,parse,depparse,coref\n",
      " 63%|████████████████████████████████████████▌                       | 944/1488 [01:48<01:05,  8.35it/s]"
     ]
    },
    {
     "name": "stdout",
     "output_type": "stream",
     "text": [
      "The shades are partly drawn on this black and white motif room.\n",
      "A man wearing sunglasses, a black shirt, purple tie and grey pants.\n"
     ]
    },
    {
     "name": "stderr",
     "output_type": "stream",
     "text": [
      "[pool-1-thread-2] INFO CoreNLP - [/127.0.0.1:52268] API call w/annotators tokenize,pos,lemma,ner,parse,depparse,coref\n",
      " 64%|████████████████████████████████████████▋                       | 945/1488 [01:48<01:03,  8.50it/s][pool-1-thread-1] INFO CoreNLP - [/127.0.0.1:52300] API call w/annotators tokenize,pos,lemma,ner,parse,depparse,coref\n",
      " 64%|████████████████████████████████████████▋                       | 946/1488 [01:48<01:01,  8.86it/s]"
     ]
    },
    {
     "name": "stdout",
     "output_type": "stream",
     "text": [
      "This sub sandwich came wrapped in paper from the deli.\n",
      "Newly constructed kitchen missing a sink and refrigerator.\n"
     ]
    },
    {
     "name": "stderr",
     "output_type": "stream",
     "text": [
      "[pool-1-thread-5] INFO CoreNLP - [/127.0.0.1:52324] API call w/annotators tokenize,pos,lemma,ner,parse,depparse,coref\n",
      " 64%|████████████████████████████████████████▋                       | 947/1488 [01:48<01:00,  8.91it/s][pool-1-thread-4] INFO CoreNLP - [/127.0.0.1:52332] API call w/annotators tokenize,pos,lemma,ner,parse,depparse,coref\n",
      " 64%|████████████████████████████████████████▊                       | 948/1488 [01:48<00:59,  9.05it/s]"
     ]
    },
    {
     "name": "stdout",
     "output_type": "stream",
     "text": [
      "Two elephants in the field moving along during the day.\n",
      "A bunch of very green broccoli cut into spears.\n"
     ]
    },
    {
     "name": "stderr",
     "output_type": "stream",
     "text": [
      "[pool-1-thread-3] INFO CoreNLP - [/127.0.0.1:52350] API call w/annotators tokenize,pos,lemma,ner,parse,depparse,coref\n",
      " 64%|████████████████████████████████████████▊                       | 949/1488 [01:48<00:59,  9.00it/s][pool-1-thread-2] INFO CoreNLP - [/127.0.0.1:52364] API call w/annotators tokenize,pos,lemma,ner,parse,depparse,coref\n",
      " 64%|████████████████████████████████████████▊                       | 950/1488 [01:48<00:59,  9.06it/s]"
     ]
    },
    {
     "name": "stdout",
     "output_type": "stream",
     "text": [
      "Canning tongs lifting a jar out of the water bath.\n",
      "A rustic pizza topped with melted cheese and roasted vegetables\n"
     ]
    },
    {
     "name": "stderr",
     "output_type": "stream",
     "text": [
      "[pool-1-thread-1] INFO CoreNLP - [/127.0.0.1:52378] API call w/annotators tokenize,pos,lemma,ner,parse,depparse,coref\n",
      " 64%|████████████████████████████████████████▉                       | 951/1488 [01:48<01:00,  8.91it/s][pool-1-thread-5] INFO CoreNLP - [/127.0.0.1:52406] API call w/annotators tokenize,pos,lemma,ner,parse,depparse,coref\n",
      " 64%|████████████████████████████████████████▉                       | 952/1488 [01:48<00:58,  9.09it/s]"
     ]
    },
    {
     "name": "stdout",
     "output_type": "stream",
     "text": [
      "People on motorbikes driving down a road during a sunset.\n",
      "Four giraffes are standing in front of some trees.\n"
     ]
    },
    {
     "name": "stderr",
     "output_type": "stream",
     "text": [
      "[pool-1-thread-4] INFO CoreNLP - [/127.0.0.1:52424] API call w/annotators tokenize,pos,lemma,ner,parse,depparse,coref\n",
      " 64%|████████████████████████████████████████▉                       | 953/1488 [01:49<00:58,  9.11it/s][pool-1-thread-3] INFO CoreNLP - [/127.0.0.1:52438] API call w/annotators tokenize,pos,lemma,ner,parse,depparse,coref\n",
      " 64%|█████████████████████████████████████████                       | 954/1488 [01:49<00:59,  8.92it/s]"
     ]
    },
    {
     "name": "stdout",
     "output_type": "stream",
     "text": [
      "A woman blow drying her hair with a blow dryer.\n",
      "A bedroom with a bed that has white and turquoise sheets.\n"
     ]
    },
    {
     "name": "stderr",
     "output_type": "stream",
     "text": [
      "[pool-1-thread-2] INFO CoreNLP - [/127.0.0.1:52454] API call w/annotators tokenize,pos,lemma,ner,parse,depparse,coref\n",
      " 64%|█████████████████████████████████████████                       | 955/1488 [01:49<01:03,  8.43it/s][pool-1-thread-1] INFO CoreNLP - [/127.0.0.1:52474] API call w/annotators tokenize,pos,lemma,ner,parse,depparse,coref\n",
      " 64%|█████████████████████████████████████████                       | 956/1488 [01:49<01:00,  8.77it/s]"
     ]
    },
    {
     "name": "stdout",
     "output_type": "stream",
     "text": [
      "A woman sitting in front of a pizza covered in toppings on a table.\n",
      "A woman stands on her snowboard inside a house.\n"
     ]
    },
    {
     "name": "stderr",
     "output_type": "stream",
     "text": [
      "[pool-1-thread-5] INFO CoreNLP - [/127.0.0.1:58572] API call w/annotators tokenize,pos,lemma,ner,parse,depparse,coref\n",
      " 64%|█████████████████████████████████████████▏                      | 957/1488 [01:49<00:59,  8.95it/s][pool-1-thread-4] INFO CoreNLP - [/127.0.0.1:58586] API call w/annotators tokenize,pos,lemma,ner,parse,depparse,coref\n",
      " 64%|█████████████████████████████████████████▏                      | 958/1488 [01:49<00:59,  8.93it/s]"
     ]
    },
    {
     "name": "stdout",
     "output_type": "stream",
     "text": [
      "The young woman admires herself in the bathroom mirror.\n",
      "A pie with lots of raspberries and flowers on top.\n"
     ]
    },
    {
     "name": "stderr",
     "output_type": "stream",
     "text": [
      "[pool-1-thread-3] INFO CoreNLP - [/127.0.0.1:58604] API call w/annotators tokenize,pos,lemma,ner,parse,depparse,coref\n",
      "[pool-1-thread-2] INFO CoreNLP - [/127.0.0.1:58634] API call w/annotators tokenize,pos,lemma,ner,parse,depparse,coref\n",
      " 65%|█████████████████████████████████████████▎                      | 960/1488 [01:49<00:57,  9.15it/s]"
     ]
    },
    {
     "name": "stdout",
     "output_type": "stream",
     "text": [
      "a green bus is driving down the street\n",
      "a person on a small boat with another boat in the background\n"
     ]
    },
    {
     "name": "stderr",
     "output_type": "stream",
     "text": [
      "[pool-1-thread-1] INFO CoreNLP - [/127.0.0.1:58654] API call w/annotators tokenize,pos,lemma,ner,parse,depparse,coref\n",
      " 65%|█████████████████████████████████████████▎                      | 961/1488 [01:49<00:58,  9.03it/s][pool-1-thread-5] INFO CoreNLP - [/127.0.0.1:58668] API call w/annotators tokenize,pos,lemma,ner,parse,depparse,coref\n",
      " 65%|█████████████████████████████████████████▍                      | 962/1488 [01:50<00:58,  9.01it/s]"
     ]
    },
    {
     "name": "stdout",
     "output_type": "stream",
     "text": [
      "An airplane takes off from a runway of a city airport.\n",
      "Group of sheep and mountain out front of old house.\n"
     ]
    },
    {
     "name": "stderr",
     "output_type": "stream",
     "text": [
      "[pool-1-thread-4] INFO CoreNLP - [/127.0.0.1:58676] API call w/annotators tokenize,pos,lemma,ner,parse,depparse,coref\n",
      " 65%|█████████████████████████████████████████▍                      | 963/1488 [01:50<01:00,  8.75it/s][pool-1-thread-3] INFO CoreNLP - [/127.0.0.1:58702] API call w/annotators tokenize,pos,lemma,ner,parse,depparse,coref\n",
      " 65%|█████████████████████████████████████████▍                      | 964/1488 [01:50<00:58,  8.95it/s]"
     ]
    },
    {
     "name": "stdout",
     "output_type": "stream",
     "text": [
      "A person displaying a refrigerator full of beers.\n",
      "A fighter jet flying low over a mountainous region.\n"
     ]
    },
    {
     "name": "stderr",
     "output_type": "stream",
     "text": [
      "[pool-1-thread-2] INFO CoreNLP - [/127.0.0.1:58720] API call w/annotators tokenize,pos,lemma,ner,parse,depparse,coref\n",
      " 65%|█████████████████████████████████████████▌                      | 965/1488 [01:50<00:57,  9.09it/s][pool-1-thread-1] INFO CoreNLP - [/127.0.0.1:58728] API call w/annotators tokenize,pos,lemma,ner,parse,depparse,coref\n",
      " 65%|█████████████████████████████████████████▌                      | 966/1488 [01:50<00:56,  9.31it/s]"
     ]
    },
    {
     "name": "stdout",
     "output_type": "stream",
     "text": [
      "A man on a snowboard posing for a picture. \n",
      "A desktop and laptop computer on a desk. \n"
     ]
    },
    {
     "name": "stderr",
     "output_type": "stream",
     "text": [
      "[pool-1-thread-5] INFO CoreNLP - [/127.0.0.1:58754] API call w/annotators tokenize,pos,lemma,ner,parse,depparse,coref\n",
      " 65%|█████████████████████████████████████████▌                      | 967/1488 [01:50<00:57,  9.12it/s][pool-1-thread-4] INFO CoreNLP - [/127.0.0.1:58764] API call w/annotators tokenize,pos,lemma,ner,parse,depparse,coref\n",
      " 65%|█████████████████████████████████████████▋                      | 968/1488 [01:50<00:58,  8.89it/s]"
     ]
    },
    {
     "name": "stdout",
     "output_type": "stream",
     "text": [
      "Two people sitting at a desk on a net book computer.\n",
      "A woman is lying on a couch with several dogs.on a couch.\n"
     ]
    },
    {
     "name": "stderr",
     "output_type": "stream",
     "text": [
      "[pool-1-thread-3] INFO CoreNLP - [/127.0.0.1:58788] API call w/annotators tokenize,pos,lemma,ner,parse,depparse,coref\n",
      " 65%|█████████████████████████████████████████▋                      | 969/1488 [01:50<00:58,  8.91it/s][pool-1-thread-2] INFO CoreNLP - [/127.0.0.1:58806] API call w/annotators tokenize,pos,lemma,ner,parse,depparse,coref\n",
      " 65%|█████████████████████████████████████████▋                      | 970/1488 [01:50<00:56,  9.12it/s]"
     ]
    },
    {
     "name": "stdout",
     "output_type": "stream",
     "text": [
      "A person wearing cold weather clothing posing in the snow.\n",
      "two dogs a horse two males and a girl\n"
     ]
    },
    {
     "name": "stderr",
     "output_type": "stream",
     "text": [
      "[pool-1-thread-1] INFO CoreNLP - [/127.0.0.1:58826] API call w/annotators tokenize,pos,lemma,ner,parse,depparse,coref\n",
      " 65%|█████████████████████████████████████████▊                      | 971/1488 [01:51<01:01,  8.37it/s][pool-1-thread-5] INFO CoreNLP - [/127.0.0.1:58844] API call w/annotators tokenize,pos,lemma,ner,parse,depparse,coref\n",
      " 65%|█████████████████████████████████████████▊                      | 972/1488 [01:51<01:00,  8.51it/s]"
     ]
    },
    {
     "name": "stdout",
     "output_type": "stream",
     "text": [
      "a cat licking its lips while holding onto a toy in the shape of an elephant\n",
      "an image of a cake next to a stack of plates\n"
     ]
    },
    {
     "name": "stderr",
     "output_type": "stream",
     "text": [
      "[pool-1-thread-4] INFO CoreNLP - [/127.0.0.1:58868] API call w/annotators tokenize,pos,lemma,ner,parse,depparse,coref\n",
      " 65%|█████████████████████████████████████████▊                      | 973/1488 [01:51<00:57,  8.90it/s][pool-1-thread-3] INFO CoreNLP - [/127.0.0.1:58888] API call w/annotators tokenize,pos,lemma,ner,parse,depparse,coref\n",
      " 65%|█████████████████████████████████████████▉                      | 974/1488 [01:51<00:55,  9.19it/s][pool-1-thread-2] INFO CoreNLP - [/127.0.0.1:58898] API call w/annotators tokenize,pos,lemma,ner,parse,depparse,coref\n"
     ]
    },
    {
     "name": "stdout",
     "output_type": "stream",
     "text": [
      "A woman is playing with a Nintendo Wii.\n",
      "A plane that is flying in the sky.\n",
      "A boy getting ready to blow out birthday candles with a girl watching.\n"
     ]
    },
    {
     "name": "stderr",
     "output_type": "stream",
     "text": [
      " 66%|█████████████████████████████████████████▉                      | 975/1488 [01:51<00:59,  8.68it/s][pool-1-thread-1] INFO CoreNLP - [/127.0.0.1:58906] API call w/annotators tokenize,pos,lemma,ner,parse,depparse,coref\n",
      " 66%|█████████████████████████████████████████▉                      | 976/1488 [01:51<00:57,  8.88it/s][pool-1-thread-5] INFO CoreNLP - [/127.0.0.1:58928] API call w/annotators tokenize,pos,lemma,ner,parse,depparse,coref\n",
      " 66%|██████████████████████████████████████████                      | 977/1488 [01:51<00:58,  8.75it/s]"
     ]
    },
    {
     "name": "stdout",
     "output_type": "stream",
     "text": [
      "A baseball player is getting ready to hit a ball.\n",
      " group of men attacking an innocent bull on a dirt arena.\n"
     ]
    },
    {
     "name": "stderr",
     "output_type": "stream",
     "text": [
      "[pool-1-thread-4] INFO CoreNLP - [/127.0.0.1:58942] API call w/annotators tokenize,pos,lemma,ner,parse,depparse,coref\n",
      "[pool-1-thread-3] INFO CoreNLP - [/127.0.0.1:58954] API call w/annotators tokenize,pos,lemma,ner,parse,depparse,coref\n",
      " 66%|██████████████████████████████████████████                      | 979/1488 [01:51<00:55,  9.25it/s]"
     ]
    },
    {
     "name": "stdout",
     "output_type": "stream",
     "text": [
      "a white sink and mirror in a bathroom\n",
      "a close up of tooth brush and tooth paste\n"
     ]
    },
    {
     "name": "stderr",
     "output_type": "stream",
     "text": [
      "[pool-1-thread-2] INFO CoreNLP - [/127.0.0.1:58972] API call w/annotators tokenize,pos,lemma,ner,parse,depparse,coref\n",
      " 66%|██████████████████████████████████████████▏                     | 980/1488 [01:52<00:58,  8.70it/s][pool-1-thread-1] INFO CoreNLP - [/127.0.0.1:58988] API call w/annotators tokenize,pos,lemma,ner,parse,depparse,coref\n",
      " 66%|██████████████████████████████████████████▏                     | 981/1488 [01:52<00:57,  8.81it/s]"
     ]
    },
    {
     "name": "stdout",
     "output_type": "stream",
     "text": [
      "There is a laptop computer in a room with a couch and a bookcase.\n",
      "A child and a skateboard are captured in stop-motion\n"
     ]
    },
    {
     "name": "stderr",
     "output_type": "stream",
     "text": [
      "[pool-1-thread-5] INFO CoreNLP - [/127.0.0.1:59006] API call w/annotators tokenize,pos,lemma,ner,parse,depparse,coref\n",
      " 66%|██████████████████████████████████████████▏                     | 982/1488 [01:52<00:57,  8.84it/s][pool-1-thread-4] INFO CoreNLP - [/127.0.0.1:59028] API call w/annotators tokenize,pos,lemma,ner,parse,depparse,coref\n",
      " 66%|██████████████████████████████████████████▎                     | 983/1488 [01:52<00:58,  8.69it/s]"
     ]
    },
    {
     "name": "stdout",
     "output_type": "stream",
     "text": [
      "A man grins while resting in legs on a kayak.\n",
      "A baseball player throwing a baseball while people watch from the stands.\n"
     ]
    },
    {
     "name": "stderr",
     "output_type": "stream",
     "text": [
      "[pool-1-thread-3] INFO CoreNLP - [/127.0.0.1:59046] API call w/annotators tokenize,pos,lemma,ner,parse,depparse,coref\n",
      " 66%|██████████████████████████████████████████▎                     | 984/1488 [01:52<00:56,  8.93it/s][pool-1-thread-2] INFO CoreNLP - [/127.0.0.1:59066] API call w/annotators tokenize,pos,lemma,ner,parse,depparse,coref\n",
      " 66%|██████████████████████████████████████████▎                     | 985/1488 [01:52<00:54,  9.15it/s]"
     ]
    },
    {
     "name": "stdout",
     "output_type": "stream",
     "text": [
      "A cow standing next to a body of water. \n",
      "a little back kitten standing in a designer purse\n"
     ]
    },
    {
     "name": "stderr",
     "output_type": "stream",
     "text": [
      "[pool-1-thread-1] INFO CoreNLP - [/127.0.0.1:59090] API call w/annotators tokenize,pos,lemma,ner,parse,depparse,coref\n",
      " 66%|██████████████████████████████████████████▍                     | 986/1488 [01:52<00:53,  9.32it/s][pool-1-thread-5] INFO CoreNLP - [/127.0.0.1:59116] API call w/annotators tokenize,pos,lemma,ner,parse,depparse,coref\n",
      " 66%|██████████████████████████████████████████▍                     | 987/1488 [01:52<00:55,  8.97it/s]"
     ]
    },
    {
     "name": "stdout",
     "output_type": "stream",
     "text": [
      "Two young men are skateboarding on the street.\n",
      "A baby sitting in a bamboo chair holding a teddy bear.\n"
     ]
    },
    {
     "name": "stderr",
     "output_type": "stream",
     "text": [
      "[pool-1-thread-4] INFO CoreNLP - [/127.0.0.1:59148] API call w/annotators tokenize,pos,lemma,ner,parse,depparse,coref\n",
      " 66%|██████████████████████████████████████████▍                     | 988/1488 [01:53<00:56,  8.79it/s][pool-1-thread-3] INFO CoreNLP - [/127.0.0.1:59158] API call w/annotators tokenize,pos,lemma,ner,parse,depparse,coref\n",
      " 66%|██████████████████████████████████████████▌                     | 989/1488 [01:53<00:55,  8.98it/s]"
     ]
    },
    {
     "name": "stdout",
     "output_type": "stream",
     "text": [
      "Three dogs of different colors laying on top of the sofa. \n",
      "A baseball pitcher delivering a pitch to a batter.\n"
     ]
    },
    {
     "name": "stderr",
     "output_type": "stream",
     "text": [
      "[pool-1-thread-2] INFO CoreNLP - [/127.0.0.1:59182] API call w/annotators tokenize,pos,lemma,ner,parse,depparse,coref\n",
      " 67%|██████████████████████████████████████████▌                     | 990/1488 [01:53<00:54,  9.10it/s][pool-1-thread-1] INFO CoreNLP - [/127.0.0.1:59190] API call w/annotators tokenize,pos,lemma,ner,parse,depparse,coref\n",
      " 67%|██████████████████████████████████████████▌                     | 991/1488 [01:53<00:54,  9.20it/s]"
     ]
    },
    {
     "name": "stdout",
     "output_type": "stream",
     "text": [
      "A kid train going around a track at a park\n",
      "A trolley stops at a stop to let passengers board\n"
     ]
    },
    {
     "name": "stderr",
     "output_type": "stream",
     "text": [
      "[pool-1-thread-5] INFO CoreNLP - [/127.0.0.1:59212] API call w/annotators tokenize,pos,lemma,ner,parse,depparse,coref\n",
      " 67%|██████████████████████████████████████████▋                     | 992/1488 [01:53<01:00,  8.19it/s][pool-1-thread-4] INFO CoreNLP - [/127.0.0.1:59234] API call w/annotators tokenize,pos,lemma,ner,parse,depparse,coref\n"
     ]
    },
    {
     "name": "stdout",
     "output_type": "stream",
     "text": [
      "Several people are at a podium holding a frame while a man in a suit looks on.\n",
      "This kitchen has a white tile back splash, white cabinets, and a white refrigerator.\n"
     ]
    },
    {
     "name": "stderr",
     "output_type": "stream",
     "text": [
      " 67%|██████████████████████████████████████████▋                     | 993/1488 [01:53<01:04,  7.64it/s][pool-1-thread-3] INFO CoreNLP - [/127.0.0.1:59242] API call w/annotators tokenize,pos,lemma,ner,parse,depparse,coref\n",
      " 67%|██████████████████████████████████████████▊                     | 994/1488 [01:53<01:01,  8.05it/s][pool-1-thread-2] INFO CoreNLP - [/127.0.0.1:59250] API call w/annotators tokenize,pos,lemma,ner,parse,depparse,coref\n",
      " 67%|██████████████████████████████████████████▊                     | 995/1488 [01:53<01:01,  7.98it/s]"
     ]
    },
    {
     "name": "stdout",
     "output_type": "stream",
     "text": [
      "A man kisses the top of a woman's head.\n",
      "A red car driving past a red fire hydrant on a curvy street.\n"
     ]
    },
    {
     "name": "stderr",
     "output_type": "stream",
     "text": [
      "[pool-1-thread-1] INFO CoreNLP - [/127.0.0.1:59258] API call w/annotators tokenize,pos,lemma,ner,parse,depparse,coref\n",
      " 67%|██████████████████████████████████████████▊                     | 996/1488 [01:54<01:03,  7.69it/s][pool-1-thread-5] INFO CoreNLP - [/127.0.0.1:59280] API call w/annotators tokenize,pos,lemma,ner,parse,depparse,coref\n",
      " 67%|██████████████████████████████████████████▉                     | 997/1488 [01:54<01:01,  7.99it/s]"
     ]
    },
    {
     "name": "stdout",
     "output_type": "stream",
     "text": [
      "A woman talking a microphone while holding un umbrella next to a bunch of balloons.\n",
      "Several people on the beach with their surf boards.\n"
     ]
    },
    {
     "name": "stderr",
     "output_type": "stream",
     "text": [
      "[pool-1-thread-4] INFO CoreNLP - [/127.0.0.1:59298] API call w/annotators tokenize,pos,lemma,ner,parse,depparse,coref\n",
      " 67%|██████████████████████████████████████████▉                     | 998/1488 [01:54<00:59,  8.29it/s][pool-1-thread-3] INFO CoreNLP - [/127.0.0.1:59312] API call w/annotators tokenize,pos,lemma,ner,parse,depparse,coref\n",
      " 67%|██████████████████████████████████████████▉                     | 999/1488 [01:54<00:58,  8.40it/s]"
     ]
    },
    {
     "name": "stdout",
     "output_type": "stream",
     "text": [
      "A snowboarder with black and white clothes finishing a run.\n",
      "A sign that is in the sky next to a wire.\n"
     ]
    },
    {
     "name": "stderr",
     "output_type": "stream",
     "text": [
      "[pool-1-thread-2] INFO CoreNLP - [/127.0.0.1:59322] API call w/annotators tokenize,pos,lemma,ner,parse,depparse,coref\n",
      " 67%|██████████████████████████████████████████▎                    | 1000/1488 [01:54<00:55,  8.82it/s][pool-1-thread-1] INFO CoreNLP - [/127.0.0.1:59352] API call w/annotators tokenize,pos,lemma,ner,parse,depparse,coref\n",
      "[pool-1-thread-5] INFO CoreNLP - [/127.0.0.1:59376] API call w/annotators tokenize,pos,lemma,ner,parse,depparse,coref\n"
     ]
    },
    {
     "name": "stdout",
     "output_type": "stream",
     "text": [
      "A man is standing near a canopy bed.\n",
      "A large long train on a steel track.\n",
      "a bunch of food sit inside of dish ware \n"
     ]
    },
    {
     "name": "stderr",
     "output_type": "stream",
     "text": [
      " 67%|██████████████████████████████████████████▍                    | 1002/1488 [01:54<00:52,  9.30it/s][pool-1-thread-4] INFO CoreNLP - [/127.0.0.1:59406] API call w/annotators tokenize,pos,lemma,ner,parse,depparse,coref\n",
      " 67%|██████████████████████████████████████████▍                    | 1003/1488 [01:54<00:54,  8.86it/s][pool-1-thread-3] INFO CoreNLP - [/127.0.0.1:59420] API call w/annotators tokenize,pos,lemma,ner,parse,depparse,coref\n",
      " 67%|██████████████████████████████████████████▌                    | 1004/1488 [01:54<00:55,  8.66it/s]"
     ]
    },
    {
     "name": "stdout",
     "output_type": "stream",
     "text": [
      "A pug standing with his front paws on the edge of a table.\n",
      "A man pulling himself out of a mirror by his own tie.\n"
     ]
    },
    {
     "name": "stderr",
     "output_type": "stream",
     "text": [
      "[pool-1-thread-2] INFO CoreNLP - [/127.0.0.1:59428] API call w/annotators tokenize,pos,lemma,ner,parse,depparse,coref\n",
      " 68%|██████████████████████████████████████████▌                    | 1005/1488 [01:55<00:55,  8.77it/s][pool-1-thread-1] INFO CoreNLP - [/127.0.0.1:59440] API call w/annotators tokenize,pos,lemma,ner,parse,depparse,coref\n",
      " 68%|██████████████████████████████████████████▌                    | 1006/1488 [01:55<00:54,  8.84it/s]"
     ]
    },
    {
     "name": "stdout",
     "output_type": "stream",
     "text": [
      "A person high up in the air over the water.\n",
      "Vehicles parked under an overpass near a train and boat.\n"
     ]
    },
    {
     "name": "stderr",
     "output_type": "stream",
     "text": [
      "[pool-1-thread-5] INFO CoreNLP - [/127.0.0.1:59454] API call w/annotators tokenize,pos,lemma,ner,parse,depparse,coref\n",
      " 68%|██████████████████████████████████████████▋                    | 1007/1488 [01:55<00:56,  8.46it/s][pool-1-thread-4] INFO CoreNLP - [/127.0.0.1:59476] API call w/annotators tokenize,pos,lemma,ner,parse,depparse,coref\n",
      " 68%|██████████████████████████████████████████▋                    | 1008/1488 [01:55<00:56,  8.47it/s]"
     ]
    },
    {
     "name": "stdout",
     "output_type": "stream",
     "text": [
      "A child beside a stack of parmesan cheese containers and a sippy cup.\n",
      "A man riding a wave on top of a surfboard.\n"
     ]
    },
    {
     "name": "stderr",
     "output_type": "stream",
     "text": [
      "[pool-1-thread-3] INFO CoreNLP - [/127.0.0.1:59508] API call w/annotators tokenize,pos,lemma,ner,parse,depparse,coref\n",
      " 68%|██████████████████████████████████████████▋                    | 1009/1488 [01:55<00:54,  8.71it/s][pool-1-thread-2] INFO CoreNLP - [/127.0.0.1:59530] API call w/annotators tokenize,pos,lemma,ner,parse,depparse,coref\n",
      " 68%|██████████████████████████████████████████▊                    | 1010/1488 [01:55<00:55,  8.61it/s]"
     ]
    },
    {
     "name": "stdout",
     "output_type": "stream",
     "text": [
      "A giraffe eating food from a very large rock.\n",
      "Passengers getting on and off of a tram at the station. \n"
     ]
    },
    {
     "name": "stderr",
     "output_type": "stream",
     "text": [
      "[pool-1-thread-1] INFO CoreNLP - [/127.0.0.1:59546] API call w/annotators tokenize,pos,lemma,ner,parse,depparse,coref\n",
      " 68%|██████████████████████████████████████████▊                    | 1011/1488 [01:55<00:57,  8.36it/s][pool-1-thread-5] INFO CoreNLP - [/127.0.0.1:59554] API call w/annotators tokenize,pos,lemma,ner,parse,depparse,coref\n",
      " 68%|██████████████████████████████████████████▊                    | 1012/1488 [01:55<00:54,  8.67it/s]"
     ]
    },
    {
     "name": "stdout",
     "output_type": "stream",
     "text": [
      "Little girl holding up a big stuffed animal with other children in background.\n",
      "A group of people playing frisbee in a field.\n"
     ]
    },
    {
     "name": "stderr",
     "output_type": "stream",
     "text": [
      "[pool-1-thread-4] INFO CoreNLP - [/127.0.0.1:59570] API call w/annotators tokenize,pos,lemma,ner,parse,depparse,coref\n",
      " 68%|██████████████████████████████████████████▉                    | 1013/1488 [01:55<00:53,  8.88it/s][pool-1-thread-3] INFO CoreNLP - [/127.0.0.1:59590] API call w/annotators tokenize,pos,lemma,ner,parse,depparse,coref\n",
      " 68%|██████████████████████████████████████████▉                    | 1014/1488 [01:56<00:53,  8.90it/s]"
     ]
    },
    {
     "name": "stdout",
     "output_type": "stream",
     "text": [
      "A walk sign shows a stop hand in orange.\n",
      "A green heron perches on a stump in a swamp.\n"
     ]
    },
    {
     "name": "stderr",
     "output_type": "stream",
     "text": [
      "[pool-1-thread-2] INFO CoreNLP - [/127.0.0.1:59614] API call w/annotators tokenize,pos,lemma,ner,parse,depparse,coref\n",
      " 68%|██████████████████████████████████████████▉                    | 1015/1488 [01:56<00:51,  9.20it/s][pool-1-thread-1] INFO CoreNLP - [/127.0.0.1:59628] API call w/annotators tokenize,pos,lemma,ner,parse,depparse,coref\n",
      " 68%|███████████████████████████████████████████                    | 1016/1488 [01:56<00:51,  9.08it/s]"
     ]
    },
    {
     "name": "stdout",
     "output_type": "stream",
     "text": [
      "a living room with couches and a lamp\n",
      "A red double decker bus on street next to buildings.\n"
     ]
    },
    {
     "name": "stderr",
     "output_type": "stream",
     "text": [
      "[pool-1-thread-5] INFO CoreNLP - [/127.0.0.1:59660] API call w/annotators tokenize,pos,lemma,ner,parse,depparse,coref\n",
      "[pool-1-thread-4] INFO CoreNLP - [/127.0.0.1:59682] API call w/annotators tokenize,pos,lemma,ner,parse,depparse,coref\n",
      " 68%|███████████████████████████████████████████                    | 1018/1488 [01:56<00:49,  9.57it/s][pool-1-thread-3] INFO CoreNLP - [/127.0.0.1:59698] API call w/annotators tokenize,pos,lemma,ner,parse,depparse,coref\n"
     ]
    },
    {
     "name": "stdout",
     "output_type": "stream",
     "text": [
      "Men sitting outside drinking beverages and smiling. \n",
      "A remote control is resting on a table.\n",
      "Two large slices of pizza on a tray.\n"
     ]
    },
    {
     "name": "stderr",
     "output_type": "stream",
     "text": [
      " 68%|███████████████████████████████████████████▏                   | 1019/1488 [01:56<00:49,  9.56it/s][pool-1-thread-2] INFO CoreNLP - [/127.0.0.1:59718] API call w/annotators tokenize,pos,lemma,ner,parse,depparse,coref\n",
      " 69%|███████████████████████████████████████████▏                   | 1020/1488 [01:56<00:50,  9.21it/s][pool-1-thread-1] INFO CoreNLP - [/127.0.0.1:59740] API call w/annotators tokenize,pos,lemma,ner,parse,depparse,coref\n",
      " 69%|███████████████████████████████████████████▏                   | 1021/1488 [01:56<00:50,  9.19it/s]"
     ]
    },
    {
     "name": "stdout",
     "output_type": "stream",
     "text": [
      "a little boy that is on a skateboard that is on the floor\n",
      "A man on a snowboard walls in the snow\n"
     ]
    },
    {
     "name": "stderr",
     "output_type": "stream",
     "text": [
      "[pool-1-thread-5] INFO CoreNLP - [/127.0.0.1:59764] API call w/annotators tokenize,pos,lemma,ner,parse,depparse,coref\n",
      " 69%|███████████████████████████████████████████▎                   | 1022/1488 [01:56<00:50,  9.23it/s][pool-1-thread-4] INFO CoreNLP - [/127.0.0.1:59780] API call w/annotators tokenize,pos,lemma,ner,parse,depparse,coref\n",
      " 69%|███████████████████████████████████████████▎                   | 1023/1488 [01:57<00:50,  9.25it/s]"
     ]
    },
    {
     "name": "stdout",
     "output_type": "stream",
     "text": [
      "a boy attempting to hit a frisbee witha golf club\n",
      "A clock in a tower shines in the night.\n"
     ]
    },
    {
     "name": "stderr",
     "output_type": "stream",
     "text": [
      "[pool-1-thread-3] INFO CoreNLP - [/127.0.0.1:59802] API call w/annotators tokenize,pos,lemma,ner,parse,depparse,coref\n",
      " 69%|███████████████████████████████████████████▎                   | 1024/1488 [01:57<00:50,  9.25it/s][pool-1-thread-2] INFO CoreNLP - [/127.0.0.1:59818] API call w/annotators tokenize,pos,lemma,ner,parse,depparse,coref\n",
      " 69%|███████████████████████████████████████████▍                   | 1025/1488 [01:57<00:49,  9.42it/s]"
     ]
    },
    {
     "name": "stdout",
     "output_type": "stream",
     "text": [
      "A cat on a bed partially inside a canvas bag\n",
      "An old fashioned train traveling down some tracks.\n"
     ]
    },
    {
     "name": "stderr",
     "output_type": "stream",
     "text": [
      "[pool-1-thread-1] INFO CoreNLP - [/127.0.0.1:59834] API call w/annotators tokenize,pos,lemma,ner,parse,depparse,coref\n",
      " 69%|███████████████████████████████████████████▍                   | 1026/1488 [01:57<00:51,  9.01it/s][pool-1-thread-5] INFO CoreNLP - [/127.0.0.1:59856] API call w/annotators tokenize,pos,lemma,ner,parse,depparse,coref\n",
      " 69%|███████████████████████████████████████████▍                   | 1027/1488 [01:57<00:50,  9.14it/s]"
     ]
    },
    {
     "name": "stdout",
     "output_type": "stream",
     "text": [
      "A cat standing on a bicycle that is leaning against a bench.\n",
      "A person with a painted face is riding a motorcycle\n"
     ]
    },
    {
     "name": "stderr",
     "output_type": "stream",
     "text": [
      "[pool-1-thread-4] INFO CoreNLP - [/127.0.0.1:59868] API call w/annotators tokenize,pos,lemma,ner,parse,depparse,coref\n",
      " 69%|███████████████████████████████████████████▌                   | 1028/1488 [01:57<00:51,  8.93it/s][pool-1-thread-3] INFO CoreNLP - [/127.0.0.1:59890] API call w/annotators tokenize,pos,lemma,ner,parse,depparse,coref\n",
      " 69%|███████████████████████████████████████████▌                   | 1029/1488 [01:57<00:51,  8.96it/s]"
     ]
    },
    {
     "name": "stdout",
     "output_type": "stream",
     "text": [
      "Small black object sitting on the inside of a toilet bowl. \n",
      "The table has a vase with a white floral centerpiece.\n"
     ]
    },
    {
     "name": "stderr",
     "output_type": "stream",
     "text": [
      "[pool-1-thread-2] INFO CoreNLP - [/127.0.0.1:59904] API call w/annotators tokenize,pos,lemma,ner,parse,depparse,coref\n",
      " 69%|███████████████████████████████████████████▌                   | 1030/1488 [01:57<00:50,  9.06it/s][pool-1-thread-1] INFO CoreNLP - [/127.0.0.1:59916] API call w/annotators tokenize,pos,lemma,ner,parse,depparse,coref\n"
     ]
    },
    {
     "name": "stdout",
     "output_type": "stream",
     "text": [
      "A flock of white sheep is on the road.\n",
      "a picture of a polka dot pattern tie\n"
     ]
    },
    {
     "name": "stderr",
     "output_type": "stream",
     "text": [
      "[pool-1-thread-5] INFO CoreNLP - [/127.0.0.1:59930] API call w/annotators tokenize,pos,lemma,ner,parse,depparse,coref\n",
      " 69%|███████████████████████████████████████████▋                   | 1032/1488 [01:58<00:50,  9.12it/s][pool-1-thread-4] INFO CoreNLP - [/127.0.0.1:59946] API call w/annotators tokenize,pos,lemma,ner,parse,depparse,coref\n",
      " 69%|███████████████████████████████████████████▋                   | 1033/1488 [01:58<00:49,  9.11it/s]"
     ]
    },
    {
     "name": "stdout",
     "output_type": "stream",
     "text": [
      "A building is shown with a sign \"Union Station\" on top.\n",
      "A man holding a cheeseburger made out of donuts.\n"
     ]
    },
    {
     "name": "stderr",
     "output_type": "stream",
     "text": [
      "[pool-1-thread-3] INFO CoreNLP - [/127.0.0.1:59972] API call w/annotators tokenize,pos,lemma,ner,parse,depparse,coref\n",
      " 69%|███████████████████████████████████████████▊                   | 1034/1488 [01:58<00:50,  9.03it/s][pool-1-thread-2] INFO CoreNLP - [/127.0.0.1:59998] API call w/annotators tokenize,pos,lemma,ner,parse,depparse,coref\n",
      " 70%|███████████████████████████████████████████▊                   | 1035/1488 [01:58<00:51,  8.79it/s]"
     ]
    },
    {
     "name": "stdout",
     "output_type": "stream",
     "text": [
      "A desk has many photographs and other items on it.\n",
      "A small group of bears walk around the banks of the river.\n"
     ]
    },
    {
     "name": "stderr",
     "output_type": "stream",
     "text": [
      "[pool-1-thread-1] INFO CoreNLP - [/127.0.0.1:60018] API call w/annotators tokenize,pos,lemma,ner,parse,depparse,coref\n",
      " 70%|███████████████████████████████████████████▊                   | 1036/1488 [01:58<00:51,  8.81it/s][pool-1-thread-5] INFO CoreNLP - [/127.0.0.1:60034] API call w/annotators tokenize,pos,lemma,ner,parse,depparse,coref\n",
      " 70%|███████████████████████████████████████████▉                   | 1037/1488 [01:58<00:49,  9.09it/s]"
     ]
    },
    {
     "name": "stdout",
     "output_type": "stream",
     "text": [
      "A car is driving down the street next to a sidewalk. \n",
      "Closeup of a yellow fire hydrant on sidewalk.\n"
     ]
    },
    {
     "name": "stderr",
     "output_type": "stream",
     "text": [
      "[pool-1-thread-4] INFO CoreNLP - [/127.0.0.1:60054] API call w/annotators tokenize,pos,lemma,ner,parse,depparse,coref\n",
      " 70%|███████████████████████████████████████████▉                   | 1038/1488 [01:58<00:48,  9.30it/s][pool-1-thread-3] INFO CoreNLP - [/127.0.0.1:60074] API call w/annotators tokenize,pos,lemma,ner,parse,depparse,coref\n",
      " 70%|███████████████████████████████████████████▉                   | 1039/1488 [01:58<00:48,  9.30it/s]"
     ]
    },
    {
     "name": "stdout",
     "output_type": "stream",
     "text": [
      "A man and woman reacting to a motorcycle. \n",
      "A living room/dining room where a family would sit\n"
     ]
    },
    {
     "name": "stderr",
     "output_type": "stream",
     "text": [
      "[pool-1-thread-2] INFO CoreNLP - [/127.0.0.1:60092] API call w/annotators tokenize,pos,lemma,ner,parse,depparse,coref\n",
      " 70%|████████████████████████████████████████████                   | 1040/1488 [01:58<00:48,  9.25it/s][pool-1-thread-1] INFO CoreNLP - [/127.0.0.1:60106] API call w/annotators tokenize,pos,lemma,ner,parse,depparse,coref\n",
      " 70%|████████████████████████████████████████████                   | 1041/1488 [01:59<00:55,  8.13it/s]"
     ]
    },
    {
     "name": "stdout",
     "output_type": "stream",
     "text": [
      "A man holding a tennis racquet no a tennis court.\n",
      "A plate of food with some rice, meat, broccoli, and an egg roll.\n"
     ]
    },
    {
     "name": "stderr",
     "output_type": "stream",
     "text": [
      "[pool-1-thread-5] INFO CoreNLP - [/127.0.0.1:60124] API call w/annotators tokenize,pos,lemma,ner,parse,depparse,coref\n",
      " 70%|████████████████████████████████████████████                   | 1042/1488 [01:59<00:54,  8.26it/s][pool-1-thread-4] INFO CoreNLP - [/127.0.0.1:60146] API call w/annotators tokenize,pos,lemma,ner,parse,depparse,coref\n"
     ]
    },
    {
     "name": "stdout",
     "output_type": "stream",
     "text": [
      "A glass of beer that is sitting next to a laptop.\n",
      "A white laptop and computer on a desk\n"
     ]
    },
    {
     "name": "stderr",
     "output_type": "stream",
     "text": [
      "[pool-1-thread-3] INFO CoreNLP - [/127.0.0.1:60160] API call w/annotators tokenize,pos,lemma,ner,parse,depparse,coref\n",
      " 70%|████████████████████████████████████████████▏                  | 1044/1488 [01:59<00:51,  8.63it/s][pool-1-thread-2] INFO CoreNLP - [/127.0.0.1:60178] API call w/annotators tokenize,pos,lemma,ner,parse,depparse,coref\n",
      " 70%|████████████████████████████████████████████▏                  | 1045/1488 [01:59<00:51,  8.58it/s]"
     ]
    },
    {
     "name": "stdout",
     "output_type": "stream",
     "text": [
      "Man catching a frisbee on a beach in front of a house\n",
      "a red city work truck with red emergency lights on the top\n"
     ]
    },
    {
     "name": "stderr",
     "output_type": "stream",
     "text": [
      "[pool-1-thread-1] INFO CoreNLP - [/127.0.0.1:44186] API call w/annotators tokenize,pos,lemma,ner,parse,depparse,coref\n",
      " 70%|████████████████████████████████████████████▎                  | 1046/1488 [01:59<01:04,  6.89it/s]"
     ]
    },
    {
     "name": "stdout",
     "output_type": "stream",
     "text": [
      "A dog laying down by a cat, both are curled up in a ball, the cat is laying on the dogs bed.\n"
     ]
    },
    {
     "name": "stderr",
     "output_type": "stream",
     "text": [
      "[pool-1-thread-5] INFO CoreNLP - [/127.0.0.1:44212] API call w/annotators tokenize,pos,lemma,ner,parse,depparse,coref\n",
      " 70%|████████████████████████████████████████████▎                  | 1047/1488 [01:59<01:01,  7.20it/s][pool-1-thread-4] INFO CoreNLP - [/127.0.0.1:44226] API call w/annotators tokenize,pos,lemma,ner,parse,depparse,coref\n",
      " 70%|████████████████████████████████████████████▎                  | 1048/1488 [01:59<00:57,  7.70it/s]"
     ]
    },
    {
     "name": "stdout",
     "output_type": "stream",
     "text": [
      "A gold and black clock sitting on a cloth on a shelf.\n",
      "A polar bear taking a swim in the water.\n"
     ]
    },
    {
     "name": "stderr",
     "output_type": "stream",
     "text": [
      "[pool-1-thread-3] INFO CoreNLP - [/127.0.0.1:44244] API call w/annotators tokenize,pos,lemma,ner,parse,depparse,coref\n",
      " 70%|████████████████████████████████████████████▍                  | 1049/1488 [02:00<00:53,  8.14it/s][pool-1-thread-2] INFO CoreNLP - [/127.0.0.1:44256] API call w/annotators tokenize,pos,lemma,ner,parse,depparse,coref\n",
      " 71%|████████████████████████████████████████████▍                  | 1050/1488 [02:00<00:50,  8.60it/s]"
     ]
    },
    {
     "name": "stdout",
     "output_type": "stream",
     "text": [
      "A boat glides along the water of a lake.\n",
      "A train that is sitting on the tracks.\n"
     ]
    },
    {
     "name": "stderr",
     "output_type": "stream",
     "text": [
      "[pool-1-thread-1] INFO CoreNLP - [/127.0.0.1:44268] API call w/annotators tokenize,pos,lemma,ner,parse,depparse,coref\n",
      " 71%|████████████████████████████████████████████▍                  | 1051/1488 [02:00<00:51,  8.49it/s][pool-1-thread-5] INFO CoreNLP - [/127.0.0.1:44276] API call w/annotators tokenize,pos,lemma,ner,parse,depparse,coref\n",
      " 71%|████████████████████████████████████████████▌                  | 1052/1488 [02:00<00:49,  8.76it/s]"
     ]
    },
    {
     "name": "stdout",
     "output_type": "stream",
     "text": [
      "A young man standing in front of a fence holding a skateboard.\n",
      "A telephone has it receiver replaced with a banana.\n"
     ]
    },
    {
     "name": "stderr",
     "output_type": "stream",
     "text": [
      "[pool-1-thread-4] INFO CoreNLP - [/127.0.0.1:44304] API call w/annotators tokenize,pos,lemma,ner,parse,depparse,coref\n",
      "[pool-1-thread-3] INFO CoreNLP - [/127.0.0.1:44324] API call w/annotators tokenize,pos,lemma,ner,parse,depparse,coref\n",
      " 71%|████████████████████████████████████████████▋                  | 1054/1488 [02:00<00:46,  9.32it/s]"
     ]
    },
    {
     "name": "stdout",
     "output_type": "stream",
     "text": [
      "a double door refrigerator has the freezer open\n",
      "People sitting next to surfboards on a beach\n",
      "a female in a white shirt  is playing tennis \n"
     ]
    },
    {
     "name": "stderr",
     "output_type": "stream",
     "text": [
      "[pool-1-thread-2] INFO CoreNLP - [/127.0.0.1:44340] API call w/annotators tokenize,pos,lemma,ner,parse,depparse,coref\n",
      " 71%|████████████████████████████████████████████▋                  | 1055/1488 [02:00<00:45,  9.42it/s][pool-1-thread-1] INFO CoreNLP - [/127.0.0.1:44346] API call w/annotators tokenize,pos,lemma,ner,parse,depparse,coref\n",
      " 71%|████████████████████████████████████████████▋                  | 1056/1488 [02:00<00:47,  9.15it/s][pool-1-thread-5] INFO CoreNLP - [/127.0.0.1:44356] API call w/annotators tokenize,pos,lemma,ner,parse,depparse,coref\n",
      " 71%|████████████████████████████████████████████▊                  | 1057/1488 [02:00<00:46,  9.19it/s]"
     ]
    },
    {
     "name": "stdout",
     "output_type": "stream",
     "text": [
      "A little cat is sitting on the table and watching TV.\n",
      "an image of a plantation of bananas on vine\n"
     ]
    },
    {
     "name": "stderr",
     "output_type": "stream",
     "text": [
      "[pool-1-thread-4] INFO CoreNLP - [/127.0.0.1:44376] API call w/annotators tokenize,pos,lemma,ner,parse,depparse,coref\n",
      " 71%|████████████████████████████████████████████▊                  | 1058/1488 [02:01<00:47,  9.13it/s][pool-1-thread-3] INFO CoreNLP - [/127.0.0.1:44400] API call w/annotators tokenize,pos,lemma,ner,parse,depparse,coref\n",
      " 71%|████████████████████████████████████████████▊                  | 1059/1488 [02:01<00:47,  8.97it/s]"
     ]
    },
    {
     "name": "stdout",
     "output_type": "stream",
     "text": [
      "A man holding a tennis racquet on a tennis court.\n",
      "Young child in grassy field with ball and flying disc.\n"
     ]
    },
    {
     "name": "stderr",
     "output_type": "stream",
     "text": [
      "[pool-1-thread-2] INFO CoreNLP - [/127.0.0.1:44424] API call w/annotators tokenize,pos,lemma,ner,parse,depparse,coref\n",
      " 71%|████████████████████████████████████████████▉                  | 1060/1488 [02:01<00:48,  8.80it/s][pool-1-thread-1] INFO CoreNLP - [/127.0.0.1:44442] API call w/annotators tokenize,pos,lemma,ner,parse,depparse,coref\n",
      " 71%|████████████████████████████████████████████▉                  | 1061/1488 [02:01<00:47,  8.94it/s]"
     ]
    },
    {
     "name": "stdout",
     "output_type": "stream",
     "text": [
      "a bunch of fruit sit piled up on top of each other \n",
      "A man on a skatboard jumping a traffic cone.\n"
     ]
    },
    {
     "name": "stderr",
     "output_type": "stream",
     "text": [
      "[pool-1-thread-5] INFO CoreNLP - [/127.0.0.1:44452] API call w/annotators tokenize,pos,lemma,ner,parse,depparse,coref\n",
      " 71%|████████████████████████████████████████████▉                  | 1062/1488 [02:01<00:46,  9.09it/s][pool-1-thread-4] INFO CoreNLP - [/127.0.0.1:44466] API call w/annotators tokenize,pos,lemma,ner,parse,depparse,coref\n",
      " 71%|█████████████████████████████████████████████                  | 1063/1488 [02:01<00:48,  8.79it/s]"
     ]
    },
    {
     "name": "stdout",
     "output_type": "stream",
     "text": [
      "Prepared food with a drink on a white plate.\n",
      "there is a black bird standing in a flower pot eating an apple\n"
     ]
    },
    {
     "name": "stderr",
     "output_type": "stream",
     "text": [
      "[pool-1-thread-3] INFO CoreNLP - [/127.0.0.1:44486] API call w/annotators tokenize,pos,lemma,ner,parse,depparse,coref\n",
      "[pool-1-thread-2] INFO CoreNLP - [/127.0.0.1:44504] API call w/annotators tokenize,pos,lemma,ner,parse,depparse,coref\n",
      " 72%|█████████████████████████████████████████████                  | 1065/1488 [02:01<00:45,  9.21it/s]"
     ]
    },
    {
     "name": "stdout",
     "output_type": "stream",
     "text": [
      "efficiency space possibly inside of a commuter train\n",
      "A man with a cream suit sitting on a bench\n"
     ]
    },
    {
     "name": "stderr",
     "output_type": "stream",
     "text": [
      "[pool-1-thread-1] INFO CoreNLP - [/127.0.0.1:44528] API call w/annotators tokenize,pos,lemma,ner,parse,depparse,coref\n",
      " 72%|█████████████████████████████████████████████▏                 | 1066/1488 [02:01<00:46,  9.14it/s][pool-1-thread-5] INFO CoreNLP - [/127.0.0.1:44536] API call w/annotators tokenize,pos,lemma,ner,parse,depparse,coref\n",
      " 72%|█████████████████████████████████████████████▏                 | 1067/1488 [02:02<00:47,  8.89it/s]"
     ]
    },
    {
     "name": "stdout",
     "output_type": "stream",
     "text": [
      "An object sitting in the middle of a paved road.\n",
      "A skateboard turned upside down in a street with shoes hovering over it \n"
     ]
    },
    {
     "name": "stderr",
     "output_type": "stream",
     "text": [
      "[pool-1-thread-4] INFO CoreNLP - [/127.0.0.1:44544] API call w/annotators tokenize,pos,lemma,ner,parse,depparse,coref\n",
      " 72%|█████████████████████████████████████████████▏                 | 1068/1488 [02:02<00:46,  9.11it/s][pool-1-thread-3] INFO CoreNLP - [/127.0.0.1:44564] API call w/annotators tokenize,pos,lemma,ner,parse,depparse,coref\n",
      " 72%|█████████████████████████████████████████████▎                 | 1069/1488 [02:02<00:46,  8.92it/s]"
     ]
    },
    {
     "name": "stdout",
     "output_type": "stream",
     "text": [
      "food in a bowl sitting on a table\n",
      "A small metal bowl holding an orange flower on purple sheet.\n"
     ]
    },
    {
     "name": "stderr",
     "output_type": "stream",
     "text": [
      "[pool-1-thread-2] INFO CoreNLP - [/127.0.0.1:44584] API call w/annotators tokenize,pos,lemma,ner,parse,depparse,coref\n",
      " 72%|█████████████████████████████████████████████▎                 | 1070/1488 [02:02<00:48,  8.69it/s][pool-1-thread-1] INFO CoreNLP - [/127.0.0.1:44594] API call w/annotators tokenize,pos,lemma,ner,parse,depparse,coref\n",
      " 72%|█████████████████████████████████████████████▎                 | 1071/1488 [02:02<00:47,  8.86it/s]"
     ]
    },
    {
     "name": "stdout",
     "output_type": "stream",
     "text": [
      "A man in a suit and a tie with a cell phone.\n",
      "A group of young men playing basketball in gymnasium.\n"
     ]
    },
    {
     "name": "stderr",
     "output_type": "stream",
     "text": [
      "[pool-1-thread-5] INFO CoreNLP - [/127.0.0.1:44602] API call w/annotators tokenize,pos,lemma,ner,parse,depparse,coref\n",
      " 72%|█████████████████████████████████████████████▍                 | 1072/1488 [02:02<00:46,  9.00it/s][pool-1-thread-4] INFO CoreNLP - [/127.0.0.1:44616] API call w/annotators tokenize,pos,lemma,ner,parse,depparse,coref\n",
      " 72%|█████████████████████████████████████████████▍                 | 1073/1488 [02:02<00:45,  9.15it/s]"
     ]
    },
    {
     "name": "stdout",
     "output_type": "stream",
     "text": [
      "An outdoor cage with tall, thin colorful birds.\n",
      "Two elephants are walking through trees side by side.\n"
     ]
    },
    {
     "name": "stderr",
     "output_type": "stream",
     "text": [
      "[pool-1-thread-3] INFO CoreNLP - [/127.0.0.1:44622] API call w/annotators tokenize,pos,lemma,ner,parse,depparse,coref\n",
      " 72%|█████████████████████████████████████████████▍                 | 1074/1488 [02:02<00:44,  9.24it/s][pool-1-thread-2] INFO CoreNLP - [/127.0.0.1:44644] API call w/annotators tokenize,pos,lemma,ner,parse,depparse,coref\n",
      " 72%|█████████████████████████████████████████████▌                 | 1075/1488 [02:02<00:43,  9.43it/s]"
     ]
    },
    {
     "name": "stdout",
     "output_type": "stream",
     "text": [
      "A group of people standing in some small boats.\n",
      "A bathroom sink that is under a mirror.\n"
     ]
    },
    {
     "name": "stderr",
     "output_type": "stream",
     "text": [
      "[pool-1-thread-1] INFO CoreNLP - [/127.0.0.1:44668] API call w/annotators tokenize,pos,lemma,ner,parse,depparse,coref\n",
      " 72%|█████████████████████████████████████████████▌                 | 1076/1488 [02:03<00:43,  9.56it/s][pool-1-thread-5] INFO CoreNLP - [/127.0.0.1:44692] API call w/annotators tokenize,pos,lemma,ner,parse,depparse,coref\n",
      " 72%|█████████████████████████████████████████████▌                 | 1077/1488 [02:03<00:43,  9.45it/s]"
     ]
    },
    {
     "name": "stdout",
     "output_type": "stream",
     "text": [
      "The clock is displayed for everyone to see it\n",
      "A giraffe getting off the ground next to a standing giraffe\n"
     ]
    },
    {
     "name": "stderr",
     "output_type": "stream",
     "text": [
      "[pool-1-thread-4] INFO CoreNLP - [/127.0.0.1:44708] API call w/annotators tokenize,pos,lemma,ner,parse,depparse,coref\n",
      " 72%|█████████████████████████████████████████████▋                 | 1078/1488 [02:03<00:42,  9.58it/s][pool-1-thread-3] INFO CoreNLP - [/127.0.0.1:44726] API call w/annotators tokenize,pos,lemma,ner,parse,depparse,coref\n",
      "[pool-1-thread-2] INFO CoreNLP - [/127.0.0.1:44748] API call w/annotators tokenize,pos,lemma,ner,parse,depparse,coref\n"
     ]
    },
    {
     "name": "stdout",
     "output_type": "stream",
     "text": [
      "Two brown teddy bears sitting side by side.\n",
      "A yellow city bus stopped on the street\n",
      "A kitchen showing microwave, sink and refrigerator \n"
     ]
    },
    {
     "name": "stderr",
     "output_type": "stream",
     "text": [
      " 73%|█████████████████████████████████████████████▋                 | 1080/1488 [02:03<00:41,  9.82it/s][pool-1-thread-1] INFO CoreNLP - [/127.0.0.1:44774] API call w/annotators tokenize,pos,lemma,ner,parse,depparse,coref\n",
      " 73%|█████████████████████████████████████████████▊                 | 1081/1488 [02:03<00:43,  9.43it/s][pool-1-thread-5] INFO CoreNLP - [/127.0.0.1:44802] API call w/annotators tokenize,pos,lemma,ner,parse,depparse,coref\n",
      " 73%|█████████████████████████████████████████████▊                 | 1082/1488 [02:03<00:43,  9.33it/s]"
     ]
    },
    {
     "name": "stdout",
     "output_type": "stream",
     "text": [
      "A close up of rice and chicken with broccoli dinner.\n",
      "A white bowl filled with broccoli and a large fork.\n"
     ]
    },
    {
     "name": "stderr",
     "output_type": "stream",
     "text": [
      "[pool-1-thread-4] INFO CoreNLP - [/127.0.0.1:44806] API call w/annotators tokenize,pos,lemma,ner,parse,depparse,coref\n",
      " 73%|█████████████████████████████████████████████▊                 | 1083/1488 [02:03<00:43,  9.34it/s][pool-1-thread-3] INFO CoreNLP - [/127.0.0.1:44828] API call w/annotators tokenize,pos,lemma,ner,parse,depparse,coref\n",
      " 73%|█████████████████████████████████████████████▉                 | 1084/1488 [02:03<00:44,  9.06it/s]"
     ]
    },
    {
     "name": "stdout",
     "output_type": "stream",
     "text": [
      "there are many plates of different foods on this table\n",
      "A vintage motorcycle can be seen in a black and white photo.\n"
     ]
    },
    {
     "name": "stderr",
     "output_type": "stream",
     "text": [
      "[pool-1-thread-2] INFO CoreNLP - [/127.0.0.1:44848] API call w/annotators tokenize,pos,lemma,ner,parse,depparse,coref\n",
      " 73%|█████████████████████████████████████████████▉                 | 1085/1488 [02:03<00:43,  9.24it/s][pool-1-thread-1] INFO CoreNLP - [/127.0.0.1:44854] API call w/annotators tokenize,pos,lemma,ner,parse,depparse,coref\n",
      " 73%|█████████████████████████████████████████████▉                 | 1086/1488 [02:04<00:44,  9.03it/s]"
     ]
    },
    {
     "name": "stdout",
     "output_type": "stream",
     "text": [
      "A clock sits at the top of the ceiling\n",
      "A coo coo clock mounted to the side of a wall.\n"
     ]
    },
    {
     "name": "stderr",
     "output_type": "stream",
     "text": [
      "[pool-1-thread-5] INFO CoreNLP - [/127.0.0.1:44866] API call w/annotators tokenize,pos,lemma,ner,parse,depparse,coref\n",
      " 73%|██████████████████████████████████████████████                 | 1087/1488 [02:04<00:44,  9.05it/s][pool-1-thread-4] INFO CoreNLP - [/127.0.0.1:44884] API call w/annotators tokenize,pos,lemma,ner,parse,depparse,coref\n",
      " 73%|██████████████████████████████████████████████                 | 1088/1488 [02:04<00:43,  9.21it/s]"
     ]
    },
    {
     "name": "stdout",
     "output_type": "stream",
     "text": [
      "A white toilet sitting next to a white bath tub.\n",
      "a table filled with some books and a table cloth\n"
     ]
    },
    {
     "name": "stderr",
     "output_type": "stream",
     "text": [
      "[pool-1-thread-3] INFO CoreNLP - [/127.0.0.1:44908] API call w/annotators tokenize,pos,lemma,ner,parse,depparse,coref\n",
      " 73%|██████████████████████████████████████████████                 | 1089/1488 [02:04<00:42,  9.37it/s][pool-1-thread-2] INFO CoreNLP - [/127.0.0.1:44928] API call w/annotators tokenize,pos,lemma,ner,parse,depparse,coref\n",
      " 73%|██████████████████████████████████████████████▏                | 1090/1488 [02:04<00:42,  9.47it/s]"
     ]
    },
    {
     "name": "stdout",
     "output_type": "stream",
     "text": [
      "People playing with kites outside in the desert.\n",
      "Two skiers getting air time on the slopes. \n"
     ]
    },
    {
     "name": "stderr",
     "output_type": "stream",
     "text": [
      "[pool-1-thread-1] INFO CoreNLP - [/127.0.0.1:44944] API call w/annotators tokenize,pos,lemma,ner,parse,depparse,coref\n",
      " 73%|██████████████████████████████████████████████▏                | 1091/1488 [02:04<00:42,  9.40it/s][pool-1-thread-5] INFO CoreNLP - [/127.0.0.1:44962] API call w/annotators tokenize,pos,lemma,ner,parse,depparse,coref\n",
      " 73%|██████████████████████████████████████████████▏                | 1092/1488 [02:04<00:41,  9.46it/s]"
     ]
    },
    {
     "name": "stdout",
     "output_type": "stream",
     "text": [
      "A living room that is filled with small furniture.\n",
      "A sidewalk sign on the side of the road.\n"
     ]
    },
    {
     "name": "stderr",
     "output_type": "stream",
     "text": [
      "[pool-1-thread-4] INFO CoreNLP - [/127.0.0.1:44976] API call w/annotators tokenize,pos,lemma,ner,parse,depparse,coref\n",
      " 73%|██████████████████████████████████████████████▎                | 1093/1488 [02:04<00:46,  8.53it/s][pool-1-thread-3] INFO CoreNLP - [/127.0.0.1:44990] API call w/annotators tokenize,pos,lemma,ner,parse,depparse,coref\n"
     ]
    },
    {
     "name": "stdout",
     "output_type": "stream",
     "text": [
      "A man swinging a tennis racket at a ball during a tennis game.\n",
      "An old man with eyeglasses seated at a dinner table with wineglass and bottle.\n"
     ]
    },
    {
     "name": "stderr",
     "output_type": "stream",
     "text": [
      " 74%|██████████████████████████████████████████████▎                | 1094/1488 [02:04<00:48,  8.13it/s][pool-1-thread-2] INFO CoreNLP - [/127.0.0.1:45018] API call w/annotators tokenize,pos,lemma,ner,parse,depparse,coref\n",
      " 74%|██████████████████████████████████████████████▎                | 1095/1488 [02:05<00:48,  8.11it/s][pool-1-thread-1] INFO CoreNLP - [/127.0.0.1:45050] API call w/annotators tokenize,pos,lemma,ner,parse,depparse,coref\n",
      " 74%|██████████████████████████████████████████████▍                | 1096/1488 [02:05<00:47,  8.21it/s]"
     ]
    },
    {
     "name": "stdout",
     "output_type": "stream",
     "text": [
      "Several cows on a green hillside that's enclosed by a fence.\n",
      "A large tray is filled with broccoli and chunks of cheese.\n"
     ]
    },
    {
     "name": "stderr",
     "output_type": "stream",
     "text": [
      "[pool-1-thread-5] INFO CoreNLP - [/127.0.0.1:45060] API call w/annotators tokenize,pos,lemma,ner,parse,depparse,coref\n",
      " 74%|██████████████████████████████████████████████▍                | 1097/1488 [02:05<00:54,  7.17it/s][pool-1-thread-4] INFO CoreNLP - [/127.0.0.1:45082] API call w/annotators tokenize,pos,lemma,ner,parse,depparse,coref\n"
     ]
    },
    {
     "name": "stdout",
     "output_type": "stream",
     "text": [
      "A teddy bear with a hood on near cupcakes, and a teddy bear with a cake wrapper.\n",
      "A couple bags of luggage that are on the ground.\n"
     ]
    },
    {
     "name": "stderr",
     "output_type": "stream",
     "text": [
      " 74%|██████████████████████████████████████████████▍                | 1098/1488 [02:05<00:51,  7.59it/s][pool-1-thread-3] INFO CoreNLP - [/127.0.0.1:45104] API call w/annotators tokenize,pos,lemma,ner,parse,depparse,coref\n",
      " 74%|██████████████████████████████████████████████▌                | 1099/1488 [02:05<00:47,  8.11it/s][pool-1-thread-2] INFO CoreNLP - [/127.0.0.1:45126] API call w/annotators tokenize,pos,lemma,ner,parse,depparse,coref\n",
      "[pool-1-thread-1] INFO CoreNLP - [/127.0.0.1:45144] API call w/annotators tokenize,pos,lemma,ner,parse,depparse,coref\n"
     ]
    },
    {
     "name": "stdout",
     "output_type": "stream",
     "text": [
      "A tourist looks at sheep grazing in a yard\n",
      "An apple in front of three oranges. \n",
      "An old man skiing down a path slope\n"
     ]
    },
    {
     "name": "stderr",
     "output_type": "stream",
     "text": [
      " 74%|██████████████████████████████████████████████▌                | 1101/1488 [02:05<00:43,  8.97it/s][pool-1-thread-5] INFO CoreNLP - [/127.0.0.1:45172] API call w/annotators tokenize,pos,lemma,ner,parse,depparse,coref\n",
      " 74%|██████████████████████████████████████████████▋                | 1102/1488 [02:05<00:43,  8.79it/s][pool-1-thread-4] INFO CoreNLP - [/127.0.0.1:45202] API call w/annotators tokenize,pos,lemma,ner,parse,depparse,coref\n",
      " 74%|██████████████████████████████████████████████▋                | 1103/1488 [02:06<00:44,  8.72it/s]"
     ]
    },
    {
     "name": "stdout",
     "output_type": "stream",
     "text": [
      "A urinal in a bathroom with a picture of two clowns.\n",
      "The girl in glasses is holding a banana on a stick.\n"
     ]
    },
    {
     "name": "stderr",
     "output_type": "stream",
     "text": [
      "[pool-1-thread-3] INFO CoreNLP - [/127.0.0.1:45230] API call w/annotators tokenize,pos,lemma,ner,parse,depparse,coref\n",
      " 74%|██████████████████████████████████████████████▋                | 1104/1488 [02:06<00:46,  8.19it/s][pool-1-thread-2] INFO CoreNLP - [/127.0.0.1:45252] API call w/annotators tokenize,pos,lemma,ner,parse,depparse,coref\n",
      " 74%|██████████████████████████████████████████████▊                | 1105/1488 [02:06<00:44,  8.61it/s]"
     ]
    },
    {
     "name": "stdout",
     "output_type": "stream",
     "text": [
      "A row of circus elephants and circus clowns in front of a crowd.\n",
      "A table and a television in a room.\n"
     ]
    },
    {
     "name": "stderr",
     "output_type": "stream",
     "text": [
      "[pool-1-thread-1] INFO CoreNLP - [/127.0.0.1:45262] API call w/annotators tokenize,pos,lemma,ner,parse,depparse,coref\n",
      " 74%|██████████████████████████████████████████████▊                | 1106/1488 [02:06<00:43,  8.83it/s][pool-1-thread-5] INFO CoreNLP - [/127.0.0.1:45280] API call w/annotators tokenize,pos,lemma,ner,parse,depparse,coref\n",
      " 74%|██████████████████████████████████████████████▊                | 1107/1488 [02:06<00:42,  8.94it/s]"
     ]
    },
    {
     "name": "stdout",
     "output_type": "stream",
     "text": [
      "Two briefcases are stacked up on a desk chair.\n",
      "Airplane food sitting on a display with people looking on. \n"
     ]
    },
    {
     "name": "stderr",
     "output_type": "stream",
     "text": [
      "[pool-1-thread-4] INFO CoreNLP - [/127.0.0.1:45300] API call w/annotators tokenize,pos,lemma,ner,parse,depparse,coref\n",
      " 74%|██████████████████████████████████████████████▉                | 1108/1488 [02:06<00:41,  9.21it/s][pool-1-thread-3] INFO CoreNLP - [/127.0.0.1:45310] API call w/annotators tokenize,pos,lemma,ner,parse,depparse,coref\n",
      " 75%|██████████████████████████████████████████████▉                | 1109/1488 [02:06<00:40,  9.35it/s]"
     ]
    },
    {
     "name": "stdout",
     "output_type": "stream",
     "text": [
      "The umbrella is hanging up on the post.\n",
      "Yellow flowers in a vase on a windowsill. \n"
     ]
    },
    {
     "name": "stderr",
     "output_type": "stream",
     "text": [
      "[pool-1-thread-2] INFO CoreNLP - [/127.0.0.1:45332] API call w/annotators tokenize,pos,lemma,ner,parse,depparse,coref\n",
      " 75%|██████████████████████████████████████████████▉                | 1110/1488 [02:06<00:44,  8.44it/s][pool-1-thread-1] INFO CoreNLP - [/127.0.0.1:45350] API call w/annotators tokenize,pos,lemma,ner,parse,depparse,coref\n"
     ]
    },
    {
     "name": "stdout",
     "output_type": "stream",
     "text": [
      "a table on which sits a plate of breakfast, and a glass of orange juice\n",
      "some toilets,some spilled paint, and some hanging objects in a warehouse.\n"
     ]
    },
    {
     "name": "stderr",
     "output_type": "stream",
     "text": [
      " 75%|███████████████████████████████████████████████                | 1111/1488 [02:07<00:46,  8.14it/s][pool-1-thread-5] INFO CoreNLP - [/127.0.0.1:45372] API call w/annotators tokenize,pos,lemma,ner,parse,depparse,coref\n",
      " 75%|███████████████████████████████████████████████                | 1112/1488 [02:07<00:44,  8.54it/s][pool-1-thread-4] INFO CoreNLP - [/127.0.0.1:45392] API call w/annotators tokenize,pos,lemma,ner,parse,depparse,coref\n",
      " 75%|███████████████████████████████████████████████                | 1113/1488 [02:07<00:42,  8.73it/s]"
     ]
    },
    {
     "name": "stdout",
     "output_type": "stream",
     "text": [
      "Boats in a river on a foggy day. \n",
      "A christmas tree in a living room near a tv\n"
     ]
    },
    {
     "name": "stderr",
     "output_type": "stream",
     "text": [
      "[pool-1-thread-3] INFO CoreNLP - [/127.0.0.1:45410] API call w/annotators tokenize,pos,lemma,ner,parse,depparse,coref\n",
      " 75%|███████████████████████████████████████████████▏               | 1114/1488 [02:07<00:43,  8.68it/s][pool-1-thread-2] INFO CoreNLP - [/127.0.0.1:45436] API call w/annotators tokenize,pos,lemma,ner,parse,depparse,coref\n",
      " 75%|███████████████████████████████████████████████▏               | 1115/1488 [02:07<00:45,  8.15it/s]"
     ]
    },
    {
     "name": "stdout",
     "output_type": "stream",
     "text": [
      "A large group of people walking through the rain holding umbrellas. \n",
      "A vintage recipe shows a photo of a table filled with food and dishes.\n"
     ]
    },
    {
     "name": "stderr",
     "output_type": "stream",
     "text": [
      "[pool-1-thread-1] INFO CoreNLP - [/127.0.0.1:45444] API call w/annotators tokenize,pos,lemma,ner,parse,depparse,coref\n",
      " 75%|███████████████████████████████████████████████▎               | 1116/1488 [02:07<00:43,  8.57it/s][pool-1-thread-5] INFO CoreNLP - [/127.0.0.1:45462] API call w/annotators tokenize,pos,lemma,ner,parse,depparse,coref\n",
      "[pool-1-thread-4] INFO CoreNLP - [/127.0.0.1:45468] API call w/annotators tokenize,pos,lemma,ner,parse,depparse,coref\n"
     ]
    },
    {
     "name": "stdout",
     "output_type": "stream",
     "text": [
      "A floor toilet with a very wet floor.\n",
      "A few boats traveling through a foggy lake.\n",
      "A distant shot of a beautiful looking boat area outside of two buildings. \n"
     ]
    },
    {
     "name": "stderr",
     "output_type": "stream",
     "text": [
      " 75%|███████████████████████████████████████████████▎               | 1118/1488 [02:07<00:42,  8.64it/s][pool-1-thread-3] INFO CoreNLP - [/127.0.0.1:45476] API call w/annotators tokenize,pos,lemma,ner,parse,depparse,coref\n",
      " 75%|███████████████████████████████████████████████▍               | 1119/1488 [02:07<00:41,  8.82it/s][pool-1-thread-2] INFO CoreNLP - [/127.0.0.1:45482] API call w/annotators tokenize,pos,lemma,ner,parse,depparse,coref\n",
      " 75%|███████████████████████████████████████████████▍               | 1120/1488 [02:08<00:41,  8.80it/s]"
     ]
    },
    {
     "name": "stdout",
     "output_type": "stream",
     "text": [
      "A snowboarder stands next to a person in skis.\n",
      "A person is standing in front a fence with an umbrella.\n"
     ]
    },
    {
     "name": "stderr",
     "output_type": "stream",
     "text": [
      "[pool-1-thread-1] INFO CoreNLP - [/127.0.0.1:45500] API call w/annotators tokenize,pos,lemma,ner,parse,depparse,coref\n",
      " 75%|███████████████████████████████████████████████▍               | 1121/1488 [02:08<00:41,  8.79it/s][pool-1-thread-5] INFO CoreNLP - [/127.0.0.1:45508] API call w/annotators tokenize,pos,lemma,ner,parse,depparse,coref\n",
      " 75%|███████████████████████████████████████████████▌               | 1122/1488 [02:08<00:42,  8.71it/s]"
     ]
    },
    {
     "name": "stdout",
     "output_type": "stream",
     "text": [
      "Three sets of skis standing in front of a snowboard.\n",
      "Butterflies feast on the nectar of fruit in a glass bowl.\n"
     ]
    },
    {
     "name": "stderr",
     "output_type": "stream",
     "text": [
      "[pool-1-thread-4] INFO CoreNLP - [/127.0.0.1:45526] API call w/annotators tokenize,pos,lemma,ner,parse,depparse,coref\n",
      " 75%|███████████████████████████████████████████████▌               | 1123/1488 [02:08<00:41,  8.85it/s][pool-1-thread-3] INFO CoreNLP - [/127.0.0.1:45552] API call w/annotators tokenize,pos,lemma,ner,parse,depparse,coref\n",
      " 76%|███████████████████████████████████████████████▌               | 1124/1488 [02:08<00:41,  8.83it/s]"
     ]
    },
    {
     "name": "stdout",
     "output_type": "stream",
     "text": [
      "a close up of a plate of food with meat\n",
      "A large and over-sized stuffed teddy bear sitting in a chair.\n"
     ]
    },
    {
     "name": "stderr",
     "output_type": "stream",
     "text": [
      "[pool-1-thread-2] INFO CoreNLP - [/127.0.0.1:45572] API call w/annotators tokenize,pos,lemma,ner,parse,depparse,coref\n",
      " 76%|███████████████████████████████████████████████▋               | 1125/1488 [02:08<00:39,  9.10it/s][pool-1-thread-1] INFO CoreNLP - [/127.0.0.1:45592] API call w/annotators tokenize,pos,lemma,ner,parse,depparse,coref\n",
      " 76%|███████████████████████████████████████████████▋               | 1126/1488 [02:08<00:39,  9.11it/s]"
     ]
    },
    {
     "name": "stdout",
     "output_type": "stream",
     "text": [
      "The parrot is perched on a tree limb.\n",
      "The skater will land on the pavers after his jump.\n"
     ]
    },
    {
     "name": "stderr",
     "output_type": "stream",
     "text": [
      "[pool-1-thread-5] INFO CoreNLP - [/127.0.0.1:45618] API call w/annotators tokenize,pos,lemma,ner,parse,depparse,coref\n",
      " 76%|███████████████████████████████████████████████▋               | 1127/1488 [02:08<00:39,  9.13it/s][pool-1-thread-4] INFO CoreNLP - [/127.0.0.1:45636] API call w/annotators tokenize,pos,lemma,ner,parse,depparse,coref\n",
      " 76%|███████████████████████████████████████████████▊               | 1128/1488 [02:08<00:39,  9.23it/s]"
     ]
    },
    {
     "name": "stdout",
     "output_type": "stream",
     "text": [
      "Several slices of pepperoni pizza sliced into squares.\n",
      "a brown teddy bear is sitting on a green bed\n"
     ]
    },
    {
     "name": "stderr",
     "output_type": "stream",
     "text": [
      "[pool-1-thread-3] INFO CoreNLP - [/127.0.0.1:45656] API call w/annotators tokenize,pos,lemma,ner,parse,depparse,coref\n",
      "[pool-1-thread-2] INFO CoreNLP - [/127.0.0.1:45686] API call w/annotators tokenize,pos,lemma,ner,parse,depparse,coref\n",
      " 76%|███████████████████████████████████████████████▊               | 1130/1488 [02:09<00:38,  9.40it/s]"
     ]
    },
    {
     "name": "stdout",
     "output_type": "stream",
     "text": [
      "A living room for a family with chldren\n",
      "some traffic lights and men in orange vests and a street\n"
     ]
    },
    {
     "name": "stderr",
     "output_type": "stream",
     "text": [
      "[pool-1-thread-1] INFO CoreNLP - [/127.0.0.1:45704] API call w/annotators tokenize,pos,lemma,ner,parse,depparse,coref\n",
      " 76%|███████████████████████████████████████████████▉               | 1131/1488 [02:09<00:38,  9.36it/s][pool-1-thread-5] INFO CoreNLP - [/127.0.0.1:45726] API call w/annotators tokenize,pos,lemma,ner,parse,depparse,coref\n",
      " 76%|███████████████████████████████████████████████▉               | 1132/1488 [02:09<00:39,  9.11it/s]"
     ]
    },
    {
     "name": "stdout",
     "output_type": "stream",
     "text": [
      "A hand holding a sandwich with pickles and cilantro.\n",
      "A baby girl places her hand upon a baby boy's forehead. \n"
     ]
    },
    {
     "name": "stderr",
     "output_type": "stream",
     "text": [
      "[pool-1-thread-4] INFO CoreNLP - [/127.0.0.1:45742] API call w/annotators tokenize,pos,lemma,ner,parse,depparse,coref\n",
      " 76%|███████████████████████████████████████████████▉               | 1133/1488 [02:09<00:39,  9.09it/s][pool-1-thread-3] INFO CoreNLP - [/127.0.0.1:47128] API call w/annotators tokenize,pos,lemma,ner,parse,depparse,coref\n",
      " 76%|████████████████████████████████████████████████               | 1134/1488 [02:09<00:39,  8.92it/s]"
     ]
    },
    {
     "name": "stdout",
     "output_type": "stream",
     "text": [
      "baseball players playing a game of baseball on a open field \n",
      "Flowers sit in a vase with a statuette next to them. \n"
     ]
    },
    {
     "name": "stderr",
     "output_type": "stream",
     "text": [
      "[pool-1-thread-2] INFO CoreNLP - [/127.0.0.1:47150] API call w/annotators tokenize,pos,lemma,ner,parse,depparse,coref\n",
      " 76%|████████████████████████████████████████████████               | 1135/1488 [02:09<00:38,  9.13it/s][pool-1-thread-1] INFO CoreNLP - [/127.0.0.1:47166] API call w/annotators tokenize,pos,lemma,ner,parse,depparse,coref\n",
      " 76%|████████████████████████████████████████████████               | 1136/1488 [02:09<00:37,  9.37it/s]"
     ]
    },
    {
     "name": "stdout",
     "output_type": "stream",
     "text": [
      "A Boston Red Sox player up to bat.\n",
      "The smoothie is being made in the blender.\n"
     ]
    },
    {
     "name": "stderr",
     "output_type": "stream",
     "text": [
      "[pool-1-thread-5] INFO CoreNLP - [/127.0.0.1:47176] API call w/annotators tokenize,pos,lemma,ner,parse,depparse,coref\n",
      " 76%|████████████████████████████████████████████████▏              | 1137/1488 [02:09<00:37,  9.28it/s][pool-1-thread-4] INFO CoreNLP - [/127.0.0.1:47198] API call w/annotators tokenize,pos,lemma,ner,parse,depparse,coref\n",
      " 76%|████████████████████████████████████████████████▏              | 1138/1488 [02:10<00:40,  8.67it/s]"
     ]
    },
    {
     "name": "stdout",
     "output_type": "stream",
     "text": [
      "A train going through the country side on a sunny day\n",
      "A green and red train traveling on an elevated train track above a bridge.\n"
     ]
    },
    {
     "name": "stderr",
     "output_type": "stream",
     "text": [
      "[pool-1-thread-3] INFO CoreNLP - [/127.0.0.1:47212] API call w/annotators tokenize,pos,lemma,ner,parse,depparse,coref\n",
      " 77%|████████████████████████████████████████████████▏              | 1139/1488 [02:10<00:39,  8.91it/s][pool-1-thread-2] INFO CoreNLP - [/127.0.0.1:47228] API call w/annotators tokenize,pos,lemma,ner,parse,depparse,coref\n",
      " 77%|████████████████████████████████████████████████▎              | 1140/1488 [02:10<00:39,  8.75it/s]"
     ]
    },
    {
     "name": "stdout",
     "output_type": "stream",
     "text": [
      "A bunch of animals in a snowy field\n",
      "Employees working at a cafe that has donuts on the counter.\n"
     ]
    },
    {
     "name": "stderr",
     "output_type": "stream",
     "text": [
      "[pool-1-thread-1] INFO CoreNLP - [/127.0.0.1:47258] API call w/annotators tokenize,pos,lemma,ner,parse,depparse,coref\n",
      " 77%|████████████████████████████████████████████████▎              | 1141/1488 [02:10<00:40,  8.61it/s][pool-1-thread-5] INFO CoreNLP - [/127.0.0.1:47278] API call w/annotators tokenize,pos,lemma,ner,parse,depparse,coref\n",
      " 77%|████████████████████████████████████████████████▎              | 1142/1488 [02:10<00:39,  8.84it/s]"
     ]
    },
    {
     "name": "stdout",
     "output_type": "stream",
     "text": [
      "The sandwiches, other food, and drinks are on the table.\n",
      "Pizza that has been cooked is on a pan.\n"
     ]
    },
    {
     "name": "stderr",
     "output_type": "stream",
     "text": [
      "[pool-1-thread-4] INFO CoreNLP - [/127.0.0.1:47298] API call w/annotators tokenize,pos,lemma,ner,parse,depparse,coref\n",
      " 77%|████████████████████████████████████████████████▍              | 1143/1488 [02:10<00:38,  9.03it/s][pool-1-thread-3] INFO CoreNLP - [/127.0.0.1:47308] API call w/annotators tokenize,pos,lemma,ner,parse,depparse,coref\n",
      " 77%|████████████████████████████████████████████████▍              | 1144/1488 [02:10<00:38,  8.88it/s]"
     ]
    },
    {
     "name": "stdout",
     "output_type": "stream",
     "text": [
      "a lady and man standing next to a fire hyrdgen\n",
      "A projector screen with the image of a computer on it.\n"
     ]
    },
    {
     "name": "stderr",
     "output_type": "stream",
     "text": [
      "[pool-1-thread-2] INFO CoreNLP - [/127.0.0.1:47324] API call w/annotators tokenize,pos,lemma,ner,parse,depparse,coref\n",
      " 77%|████████████████████████████████████████████████▍              | 1145/1488 [02:10<00:39,  8.66it/s][pool-1-thread-1] INFO CoreNLP - [/127.0.0.1:47342] API call w/annotators tokenize,pos,lemma,ner,parse,depparse,coref\n",
      " 77%|████████████████████████████████████████████████▌              | 1146/1488 [02:10<00:42,  8.13it/s]"
     ]
    },
    {
     "name": "stdout",
     "output_type": "stream",
     "text": [
      "A person sits on the toilet in a bathroom reading a magazine.\n",
      "A man in a blue shirt, blue hat and gray shorts playing tennis.\n"
     ]
    },
    {
     "name": "stderr",
     "output_type": "stream",
     "text": [
      "[pool-1-thread-5] INFO CoreNLP - [/127.0.0.1:47350] API call w/annotators tokenize,pos,lemma,ner,parse,depparse,coref\n",
      " 77%|████████████████████████████████████████████████▌              | 1147/1488 [02:11<00:40,  8.52it/s][pool-1-thread-4] INFO CoreNLP - [/127.0.0.1:47374] API call w/annotators tokenize,pos,lemma,ner,parse,depparse,coref\n",
      "[pool-1-thread-3] INFO CoreNLP - [/127.0.0.1:47402] API call w/annotators tokenize,pos,lemma,ner,parse,depparse,coref\n"
     ]
    },
    {
     "name": "stdout",
     "output_type": "stream",
     "text": [
      "Young man riding a skateboard on a rail.\n",
      "a couple of kitchen mitts are hanging up\n",
      "Two zebras are standing next to each other in an enclosure.  \n"
     ]
    },
    {
     "name": "stderr",
     "output_type": "stream",
     "text": [
      " 77%|████████████████████████████████████████████████▋              | 1149/1488 [02:11<00:38,  8.91it/s][pool-1-thread-2] INFO CoreNLP - [/127.0.0.1:47426] API call w/annotators tokenize,pos,lemma,ner,parse,depparse,coref\n",
      " 77%|████████████████████████████████████████████████▋              | 1150/1488 [02:11<00:37,  9.04it/s][pool-1-thread-1] INFO CoreNLP - [/127.0.0.1:47446] API call w/annotators tokenize,pos,lemma,ner,parse,depparse,coref\n",
      " 77%|████████████████████████████████████████████████▋              | 1151/1488 [02:11<00:36,  9.19it/s]"
     ]
    },
    {
     "name": "stdout",
     "output_type": "stream",
     "text": [
      "Some cows graze in the grass near a mountain. \n",
      "a white square building  some trees and flowers\n"
     ]
    },
    {
     "name": "stderr",
     "output_type": "stream",
     "text": [
      "[pool-1-thread-5] INFO CoreNLP - [/127.0.0.1:47462] API call w/annotators tokenize,pos,lemma,ner,parse,depparse,coref\n",
      " 77%|████████████████████████████████████████████████▊              | 1152/1488 [02:11<00:36,  9.19it/s][pool-1-thread-4] INFO CoreNLP - [/127.0.0.1:47480] API call w/annotators tokenize,pos,lemma,ner,parse,depparse,coref\n",
      " 77%|████████████████████████████████████████████████▊              | 1153/1488 [02:11<00:36,  9.11it/s]"
     ]
    },
    {
     "name": "stdout",
     "output_type": "stream",
     "text": [
      "A man that is sitting down in a fruit stand.\n",
      "A tray of fruit and a muffin on a table.\n"
     ]
    },
    {
     "name": "stderr",
     "output_type": "stream",
     "text": [
      "[pool-1-thread-3] INFO CoreNLP - [/127.0.0.1:47486] API call w/annotators tokenize,pos,lemma,ner,parse,depparse,coref\n",
      " 78%|████████████████████████████████████████████████▊              | 1154/1488 [02:11<00:37,  8.79it/s][pool-1-thread-2] INFO CoreNLP - [/127.0.0.1:47498] API call w/annotators tokenize,pos,lemma,ner,parse,depparse,coref\n",
      " 78%|████████████████████████████████████████████████▉              | 1155/1488 [02:11<00:37,  8.94it/s]"
     ]
    },
    {
     "name": "stdout",
     "output_type": "stream",
     "text": [
      "A black bear standing in the middle of a river with rocks.\n",
      "A man jumping in the air on a skateboard.\n"
     ]
    },
    {
     "name": "stderr",
     "output_type": "stream",
     "text": [
      "[pool-1-thread-1] INFO CoreNLP - [/127.0.0.1:47518] API call w/annotators tokenize,pos,lemma,ner,parse,depparse,coref\n",
      " 78%|████████████████████████████████████████████████▉              | 1156/1488 [02:12<00:37,  8.80it/s][pool-1-thread-5] INFO CoreNLP - [/127.0.0.1:47544] API call w/annotators tokenize,pos,lemma,ner,parse,depparse,coref\n",
      " 78%|████████████████████████████████████████████████▉              | 1157/1488 [02:12<00:38,  8.66it/s]"
     ]
    },
    {
     "name": "stdout",
     "output_type": "stream",
     "text": [
      "A group of people ride on a boat under an arc.\n",
      "A man sitting on a couch wearing a black jacket and tie.\n"
     ]
    },
    {
     "name": "stderr",
     "output_type": "stream",
     "text": [
      "[pool-1-thread-4] INFO CoreNLP - [/127.0.0.1:47552] API call w/annotators tokenize,pos,lemma,ner,parse,depparse,coref\n",
      " 78%|█████████████████████████████████████████████████              | 1158/1488 [02:12<00:38,  8.60it/s][pool-1-thread-3] INFO CoreNLP - [/127.0.0.1:47562] API call w/annotators tokenize,pos,lemma,ner,parse,depparse,coref\n",
      " 78%|█████████████████████████████████████████████████              | 1159/1488 [02:12<00:39,  8.44it/s]"
     ]
    },
    {
     "name": "stdout",
     "output_type": "stream",
     "text": [
      "a tan stool a white flower and a glass vase and mirror\n",
      "An old toilet with a rotten lid next to a rusted pipe.\n"
     ]
    },
    {
     "name": "stderr",
     "output_type": "stream",
     "text": [
      "[pool-1-thread-2] INFO CoreNLP - [/127.0.0.1:47582] API call w/annotators tokenize,pos,lemma,ner,parse,depparse,coref\n",
      " 78%|█████████████████████████████████████████████████              | 1160/1488 [02:12<00:37,  8.82it/s][pool-1-thread-1] INFO CoreNLP - [/127.0.0.1:47594] API call w/annotators tokenize,pos,lemma,ner,parse,depparse,coref\n",
      " 78%|█████████████████████████████████████████████████▏             | 1161/1488 [02:12<00:39,  8.27it/s]"
     ]
    },
    {
     "name": "stdout",
     "output_type": "stream",
     "text": [
      "A single giraffe standing in a grass field.\n",
      "An open floor plan of a living room and dining room with red walls.\n"
     ]
    },
    {
     "name": "stderr",
     "output_type": "stream",
     "text": [
      "[pool-1-thread-5] INFO CoreNLP - [/127.0.0.1:47606] API call w/annotators tokenize,pos,lemma,ner,parse,depparse,coref\n",
      " 78%|█████████████████████████████████████████████████▏             | 1162/1488 [02:12<00:39,  8.22it/s][pool-1-thread-4] INFO CoreNLP - [/127.0.0.1:47626] API call w/annotators tokenize,pos,lemma,ner,parse,depparse,coref\n",
      " 78%|█████████████████████████████████████████████████▏             | 1163/1488 [02:12<00:39,  8.14it/s]"
     ]
    },
    {
     "name": "stdout",
     "output_type": "stream",
     "text": [
      "Personal care items and jewelry are next to a bathroom sink. \n",
      "A man is riding on a motorcycle down the street and looking sideways.\n"
     ]
    },
    {
     "name": "stderr",
     "output_type": "stream",
     "text": [
      "[pool-1-thread-3] INFO CoreNLP - [/127.0.0.1:47650] API call w/annotators tokenize,pos,lemma,ner,parse,depparse,coref\n",
      " 78%|█████████████████████████████████████████████████▎             | 1164/1488 [02:13<00:39,  8.27it/s][pool-1-thread-2] INFO CoreNLP - [/127.0.0.1:47662] API call w/annotators tokenize,pos,lemma,ner,parse,depparse,coref\n",
      " 78%|█████████████████████████████████████████████████▎             | 1165/1488 [02:13<00:38,  8.48it/s]"
     ]
    },
    {
     "name": "stdout",
     "output_type": "stream",
     "text": [
      "A hand that is holding a doughnut in it's fingers.\n",
      "Two zebras eating some grass together in an open area.\n"
     ]
    },
    {
     "name": "stderr",
     "output_type": "stream",
     "text": [
      "[pool-1-thread-1] INFO CoreNLP - [/127.0.0.1:47688] API call w/annotators tokenize,pos,lemma,ner,parse,depparse,coref\n",
      " 78%|█████████████████████████████████████████████████▎             | 1166/1488 [02:13<00:37,  8.54it/s][pool-1-thread-5] INFO CoreNLP - [/127.0.0.1:47710] API call w/annotators tokenize,pos,lemma,ner,parse,depparse,coref\n"
     ]
    },
    {
     "name": "stdout",
     "output_type": "stream",
     "text": [
      "A man with umbrella is exiting a triple-decker bus.\n",
      "An officer is sitting still on a horse.\n"
     ]
    },
    {
     "name": "stderr",
     "output_type": "stream",
     "text": [
      "[pool-1-thread-4] INFO CoreNLP - [/127.0.0.1:47728] API call w/annotators tokenize,pos,lemma,ner,parse,depparse,coref\n",
      " 78%|█████████████████████████████████████████████████▍             | 1168/1488 [02:13<00:35,  8.97it/s][pool-1-thread-3] INFO CoreNLP - [/127.0.0.1:47736] API call w/annotators tokenize,pos,lemma,ner,parse,depparse,coref\n",
      " 79%|█████████████████████████████████████████████████▍             | 1169/1488 [02:13<00:35,  8.95it/s]"
     ]
    },
    {
     "name": "stdout",
     "output_type": "stream",
     "text": [
      "A picture of a cat watching a cartoon on TV.\n",
      "A young man doing tricks on a skateboard at a park\n"
     ]
    },
    {
     "name": "stderr",
     "output_type": "stream",
     "text": [
      "[pool-1-thread-2] INFO CoreNLP - [/127.0.0.1:47760] API call w/annotators tokenize,pos,lemma,ner,parse,depparse,coref\n",
      " 79%|█████████████████████████████████████████████████▌             | 1170/1488 [02:13<00:34,  9.12it/s][pool-1-thread-1] INFO CoreNLP - [/127.0.0.1:47774] API call w/annotators tokenize,pos,lemma,ner,parse,depparse,coref\n",
      " 79%|█████████████████████████████████████████████████▌             | 1171/1488 [02:13<00:34,  9.11it/s]"
     ]
    },
    {
     "name": "stdout",
     "output_type": "stream",
     "text": [
      "two guys sitting on a crate near a motorcycle\n",
      "Stacked kites with long streamers being flown in grassy field.\n"
     ]
    },
    {
     "name": "stderr",
     "output_type": "stream",
     "text": [
      "[pool-1-thread-5] INFO CoreNLP - [/127.0.0.1:47802] API call w/annotators tokenize,pos,lemma,ner,parse,depparse,coref\n",
      " 79%|█████████████████████████████████████████████████▌             | 1172/1488 [02:13<00:33,  9.31it/s][pool-1-thread-4] INFO CoreNLP - [/127.0.0.1:47818] API call w/annotators tokenize,pos,lemma,ner,parse,depparse,coref\n",
      " 79%|█████████████████████████████████████████████████▋             | 1173/1488 [02:13<00:33,  9.32it/s]"
     ]
    },
    {
     "name": "stdout",
     "output_type": "stream",
     "text": [
      "a pointed clock tower of an investment building\n",
      "A modern living room with a couch and tv.\n"
     ]
    },
    {
     "name": "stderr",
     "output_type": "stream",
     "text": [
      "[pool-1-thread-3] INFO CoreNLP - [/127.0.0.1:47838] API call w/annotators tokenize,pos,lemma,ner,parse,depparse,coref\n",
      " 79%|█████████████████████████████████████████████████▋             | 1174/1488 [02:14<00:34,  8.98it/s][pool-1-thread-2] INFO CoreNLP - [/127.0.0.1:47846] API call w/annotators tokenize,pos,lemma,ner,parse,depparse,coref\n",
      " 79%|█████████████████████████████████████████████████▋             | 1175/1488 [02:14<00:34,  9.02it/s]"
     ]
    },
    {
     "name": "stdout",
     "output_type": "stream",
     "text": [
      "A zebra is standing outside in the grass near a fence.\n",
      "A player throws the baseball as hard as he can.\n"
     ]
    },
    {
     "name": "stderr",
     "output_type": "stream",
     "text": [
      "[pool-1-thread-1] INFO CoreNLP - [/127.0.0.1:47860] API call w/annotators tokenize,pos,lemma,ner,parse,depparse,coref\n",
      " 79%|█████████████████████████████████████████████████▊             | 1176/1488 [02:14<00:33,  9.19it/s][pool-1-thread-5] INFO CoreNLP - [/127.0.0.1:47874] API call w/annotators tokenize,pos,lemma,ner,parse,depparse,coref\n",
      " 79%|█████████████████████████████████████████████████▊             | 1177/1488 [02:14<00:33,  9.33it/s]"
     ]
    },
    {
     "name": "stdout",
     "output_type": "stream",
     "text": [
      "Horses munching in a field underneath rolling hills.\n",
      "people near carts of luggage at an air port\n"
     ]
    },
    {
     "name": "stderr",
     "output_type": "stream",
     "text": [
      "[pool-1-thread-4] INFO CoreNLP - [/127.0.0.1:47888] API call w/annotators tokenize,pos,lemma,ner,parse,depparse,coref\n",
      " 79%|█████████████████████████████████████████████████▉             | 1178/1488 [02:14<00:35,  8.84it/s][pool-1-thread-3] INFO CoreNLP - [/127.0.0.1:47912] API call w/annotators tokenize,pos,lemma,ner,parse,depparse,coref\n",
      " 79%|█████████████████████████████████████████████████▉             | 1179/1488 [02:14<00:34,  8.91it/s]"
     ]
    },
    {
     "name": "stdout",
     "output_type": "stream",
     "text": [
      "a coffee cup with a spoon and a small bike next to it\n",
      "A person riding a very tall bike in the street.\n"
     ]
    },
    {
     "name": "stderr",
     "output_type": "stream",
     "text": [
      "[pool-1-thread-2] INFO CoreNLP - [/127.0.0.1:47926] API call w/annotators tokenize,pos,lemma,ner,parse,depparse,coref\n",
      " 79%|█████████████████████████████████████████████████▉             | 1180/1488 [02:14<00:33,  9.15it/s][pool-1-thread-1] INFO CoreNLP - [/127.0.0.1:47942] API call w/annotators tokenize,pos,lemma,ner,parse,depparse,coref\n",
      " 79%|██████████████████████████████████████████████████             | 1181/1488 [02:14<00:33,  9.29it/s]"
     ]
    },
    {
     "name": "stdout",
     "output_type": "stream",
     "text": [
      "People snowboarding down a hill in the mountains.\n",
      "Sidewalk and nose in street metered parking spots.\n"
     ]
    },
    {
     "name": "stderr",
     "output_type": "stream",
     "text": [
      "[pool-1-thread-5] INFO CoreNLP - [/127.0.0.1:47970] API call w/annotators tokenize,pos,lemma,ner,parse,depparse,coref\n",
      " 79%|██████████████████████████████████████████████████             | 1182/1488 [02:14<00:33,  9.20it/s][pool-1-thread-4] INFO CoreNLP - [/127.0.0.1:47998] API call w/annotators tokenize,pos,lemma,ner,parse,depparse,coref\n",
      " 80%|██████████████████████████████████████████████████             | 1183/1488 [02:15<00:35,  8.69it/s]"
     ]
    },
    {
     "name": "stdout",
     "output_type": "stream",
     "text": [
      "An ornate outdoor clock with streetlamps above and below it.\n",
      "A red tray topped with three chili cheese and bacon covered hot dogs.\n"
     ]
    },
    {
     "name": "stderr",
     "output_type": "stream",
     "text": [
      "[pool-1-thread-3] INFO CoreNLP - [/127.0.0.1:48022] API call w/annotators tokenize,pos,lemma,ner,parse,depparse,coref\n",
      " 80%|██████████████████████████████████████████████████▏            | 1184/1488 [02:15<00:34,  8.83it/s][pool-1-thread-2] INFO CoreNLP - [/127.0.0.1:48026] API call w/annotators tokenize,pos,lemma,ner,parse,depparse,coref\n",
      " 80%|██████████████████████████████████████████████████▏            | 1185/1488 [02:15<00:34,  8.76it/s]"
     ]
    },
    {
     "name": "stdout",
     "output_type": "stream",
     "text": [
      "A person riding on the back of a white horse.\n",
      "A cat laying on a white bedspread reflected in a mirror.\n"
     ]
    },
    {
     "name": "stderr",
     "output_type": "stream",
     "text": [
      "[pool-1-thread-1] INFO CoreNLP - [/127.0.0.1:48042] API call w/annotators tokenize,pos,lemma,ner,parse,depparse,coref\n",
      " 80%|██████████████████████████████████████████████████▏            | 1186/1488 [02:15<00:34,  8.70it/s][pool-1-thread-5] INFO CoreNLP - [/127.0.0.1:48054] API call w/annotators tokenize,pos,lemma,ner,parse,depparse,coref\n",
      " 80%|██████████████████████████████████████████████████▎            | 1187/1488 [02:15<00:33,  9.05it/s]"
     ]
    },
    {
     "name": "stdout",
     "output_type": "stream",
     "text": [
      "This is a great image show of people having fun. \n",
      "A large train moving down the railroad tracks.\n"
     ]
    },
    {
     "name": "stderr",
     "output_type": "stream",
     "text": [
      "[pool-1-thread-4] INFO CoreNLP - [/127.0.0.1:48078] API call w/annotators tokenize,pos,lemma,ner,parse,depparse,coref\n",
      " 80%|██████████████████████████████████████████████████▎            | 1188/1488 [02:15<00:33,  8.93it/s][pool-1-thread-3] INFO CoreNLP - [/127.0.0.1:48086] API call w/annotators tokenize,pos,lemma,ner,parse,depparse,coref\n",
      " 80%|██████████████████████████████████████████████████▎            | 1189/1488 [02:15<00:33,  8.85it/s]"
     ]
    },
    {
     "name": "stdout",
     "output_type": "stream",
     "text": [
      "graffiti and stickers are plastered on the stop sign and street sign\n",
      "A person riding a skateboard up the side of a ramp.\n"
     ]
    },
    {
     "name": "stderr",
     "output_type": "stream",
     "text": [
      "[pool-1-thread-2] INFO CoreNLP - [/127.0.0.1:48094] API call w/annotators tokenize,pos,lemma,ner,parse,depparse,coref\n",
      " 80%|██████████████████████████████████████████████████▍            | 1190/1488 [02:15<00:33,  8.97it/s][pool-1-thread-1] INFO CoreNLP - [/127.0.0.1:48110] API call w/annotators tokenize,pos,lemma,ner,parse,depparse,coref\n",
      " 80%|██████████████████████████████████████████████████▍            | 1191/1488 [02:15<00:32,  9.25it/s]"
     ]
    },
    {
     "name": "stdout",
     "output_type": "stream",
     "text": [
      "a bottle a glass of wine on a brown table\n",
      "A dog that is sitting on a bed.\n"
     ]
    },
    {
     "name": "stderr",
     "output_type": "stream",
     "text": [
      "[pool-1-thread-5] INFO CoreNLP - [/127.0.0.1:48118] API call w/annotators tokenize,pos,lemma,ner,parse,depparse,coref\n",
      "[pool-1-thread-4] INFO CoreNLP - [/127.0.0.1:48138] API call w/annotators tokenize,pos,lemma,ner,parse,depparse,coref\n",
      " 80%|██████████████████████████████████████████████████▌            | 1193/1488 [02:16<00:31,  9.47it/s]"
     ]
    },
    {
     "name": "stdout",
     "output_type": "stream",
     "text": [
      "a small bathroom with a walk in shower \n",
      "A CUTE BEAR WEARING A PINK HEART AND RIBBON\n"
     ]
    },
    {
     "name": "stderr",
     "output_type": "stream",
     "text": [
      "[pool-1-thread-3] INFO CoreNLP - [/127.0.0.1:48158] API call w/annotators tokenize,pos,lemma,ner,parse,depparse,coref\n",
      " 80%|██████████████████████████████████████████████████▌            | 1194/1488 [02:16<00:31,  9.19it/s][pool-1-thread-2] INFO CoreNLP - [/127.0.0.1:48174] API call w/annotators tokenize,pos,lemma,ner,parse,depparse,coref\n",
      " 80%|██████████████████████████████████████████████████▌            | 1195/1488 [02:16<00:32,  9.07it/s]"
     ]
    },
    {
     "name": "stdout",
     "output_type": "stream",
     "text": [
      "A nerd holding a piece of food up to her mouth.\n",
      "A kitchen stove with spices and sauces on a shelf.\n"
     ]
    },
    {
     "name": "stderr",
     "output_type": "stream",
     "text": [
      "[pool-1-thread-1] INFO CoreNLP - [/127.0.0.1:48186] API call w/annotators tokenize,pos,lemma,ner,parse,depparse,coref\n",
      " 80%|██████████████████████████████████████████████████▋            | 1196/1488 [02:16<00:32,  8.85it/s][pool-1-thread-5] INFO CoreNLP - [/127.0.0.1:48198] API call w/annotators tokenize,pos,lemma,ner,parse,depparse,coref\n",
      " 80%|██████████████████████████████████████████████████▋            | 1197/1488 [02:16<00:32,  9.01it/s]"
     ]
    },
    {
     "name": "stdout",
     "output_type": "stream",
     "text": [
      "A bowl of stew with meat, potatoes, and vegetables.\n",
      "This is a bridge that is connecting two buildings. \n"
     ]
    },
    {
     "name": "stderr",
     "output_type": "stream",
     "text": [
      "[pool-1-thread-4] INFO CoreNLP - [/127.0.0.1:48218] API call w/annotators tokenize,pos,lemma,ner,parse,depparse,coref\n",
      " 81%|██████████████████████████████████████████████████▋            | 1198/1488 [02:16<00:31,  9.11it/s][pool-1-thread-3] INFO CoreNLP - [/127.0.0.1:48226] API call w/annotators tokenize,pos,lemma,ner,parse,depparse,coref\n",
      " 81%|██████████████████████████████████████████████████▊            | 1199/1488 [02:16<00:31,  9.22it/s]"
     ]
    },
    {
     "name": "stdout",
     "output_type": "stream",
     "text": [
      "a giraffe on dirt ground next to a tree \n",
      "Skiers stand at hillcrest against a clear blue sky. \n"
     ]
    },
    {
     "name": "stderr",
     "output_type": "stream",
     "text": [
      "[pool-1-thread-2] INFO CoreNLP - [/127.0.0.1:48254] API call w/annotators tokenize,pos,lemma,ner,parse,depparse,coref\n",
      " 81%|██████████████████████████████████████████████████▊            | 1200/1488 [02:16<00:31,  9.07it/s][pool-1-thread-1] INFO CoreNLP - [/127.0.0.1:48278] API call w/annotators tokenize,pos,lemma,ner,parse,depparse,coref\n",
      " 81%|██████████████████████████████████████████████████▊            | 1201/1488 [02:17<00:31,  9.12it/s]"
     ]
    },
    {
     "name": "stdout",
     "output_type": "stream",
     "text": [
      "A large semi truck driving down the middle of a street.\n",
      "A blue and white train is moving on the rails. \n"
     ]
    },
    {
     "name": "stderr",
     "output_type": "stream",
     "text": [
      "[pool-1-thread-5] INFO CoreNLP - [/127.0.0.1:48290] API call w/annotators tokenize,pos,lemma,ner,parse,depparse,coref\n",
      " 81%|██████████████████████████████████████████████████▉            | 1202/1488 [02:17<00:33,  8.60it/s][pool-1-thread-4] INFO CoreNLP - [/127.0.0.1:48318] API call w/annotators tokenize,pos,lemma,ner,parse,depparse,coref\n",
      " 81%|██████████████████████████████████████████████████▉            | 1203/1488 [02:17<00:32,  8.82it/s]"
     ]
    },
    {
     "name": "stdout",
     "output_type": "stream",
     "text": [
      "A lunch box with a sandwich, carrots, salad and a muffin.\n",
      "A couple of zebra standing next to a giraffe.\n"
     ]
    },
    {
     "name": "stderr",
     "output_type": "stream",
     "text": [
      "[pool-1-thread-3] INFO CoreNLP - [/127.0.0.1:48332] API call w/annotators tokenize,pos,lemma,ner,parse,depparse,coref\n",
      " 81%|██████████████████████████████████████████████████▉            | 1204/1488 [02:17<00:31,  9.13it/s][pool-1-thread-2] INFO CoreNLP - [/127.0.0.1:48360] API call w/annotators tokenize,pos,lemma,ner,parse,depparse,coref\n",
      " 81%|███████████████████████████████████████████████████            | 1205/1488 [02:17<00:31,  9.10it/s]"
     ]
    },
    {
     "name": "stdout",
     "output_type": "stream",
     "text": [
      "A heard of adult elephants by the river.\n",
      "A man standing on one leg on a tennis court.\n"
     ]
    },
    {
     "name": "stderr",
     "output_type": "stream",
     "text": [
      "[pool-1-thread-1] INFO CoreNLP - [/127.0.0.1:48384] API call w/annotators tokenize,pos,lemma,ner,parse,depparse,coref\n",
      " 81%|███████████████████████████████████████████████████            | 1206/1488 [02:17<00:32,  8.63it/s][pool-1-thread-5] INFO CoreNLP - [/127.0.0.1:48408] API call w/annotators tokenize,pos,lemma,ner,parse,depparse,coref\n",
      " 81%|███████████████████████████████████████████████████            | 1207/1488 [02:17<00:32,  8.67it/s]"
     ]
    },
    {
     "name": "stdout",
     "output_type": "stream",
     "text": [
      "A bowl of apples is positioned in a bowl next to gas burners.\n",
      "A skier going down a hill, passing a yellow flag.\n"
     ]
    },
    {
     "name": "stderr",
     "output_type": "stream",
     "text": [
      "[pool-1-thread-4] INFO CoreNLP - [/127.0.0.1:48434] API call w/annotators tokenize,pos,lemma,ner,parse,depparse,coref\n",
      " 81%|███████████████████████████████████████████████████▏           | 1208/1488 [02:17<00:32,  8.72it/s][pool-1-thread-3] INFO CoreNLP - [/127.0.0.1:48464] API call w/annotators tokenize,pos,lemma,ner,parse,depparse,coref\n",
      " 81%|███████████████████████████████████████████████████▏           | 1209/1488 [02:18<00:31,  8.74it/s]"
     ]
    },
    {
     "name": "stdout",
     "output_type": "stream",
     "text": [
      "A lone kite flying in a city plaza near people.\n",
      "Two giraffes nudging over a pole in a forested area\n"
     ]
    },
    {
     "name": "stderr",
     "output_type": "stream",
     "text": [
      "[pool-1-thread-2] INFO CoreNLP - [/127.0.0.1:48492] API call w/annotators tokenize,pos,lemma,ner,parse,depparse,coref\n",
      " 81%|███████████████████████████████████████████████████▏           | 1210/1488 [02:18<00:32,  8.63it/s][pool-1-thread-1] INFO CoreNLP - [/127.0.0.1:48512] API call w/annotators tokenize,pos,lemma,ner,parse,depparse,coref\n",
      " 81%|███████████████████████████████████████████████████▎           | 1211/1488 [02:18<00:31,  8.70it/s]"
     ]
    },
    {
     "name": "stdout",
     "output_type": "stream",
     "text": [
      "Two people standing around in a large kitchen.\n",
      "A kitchen stove with a whistling tea pot on top.\n"
     ]
    },
    {
     "name": "stderr",
     "output_type": "stream",
     "text": [
      "[pool-1-thread-5] INFO CoreNLP - [/127.0.0.1:48516] API call w/annotators tokenize,pos,lemma,ner,parse,depparse,coref\n",
      " 81%|███████████████████████████████████████████████████▎           | 1212/1488 [02:18<00:31,  8.82it/s][pool-1-thread-4] INFO CoreNLP - [/127.0.0.1:48532] API call w/annotators tokenize,pos,lemma,ner,parse,depparse,coref\n",
      " 82%|███████████████████████████████████████████████████▎           | 1213/1488 [02:18<00:31,  8.75it/s]"
     ]
    },
    {
     "name": "stdout",
     "output_type": "stream",
     "text": [
      "Rows of motorcycles in parking lot next to buildings.\n",
      "a close up of a sandwich on a wooden cutting board\n"
     ]
    },
    {
     "name": "stderr",
     "output_type": "stream",
     "text": [
      "[pool-1-thread-3] INFO CoreNLP - [/127.0.0.1:48540] API call w/annotators tokenize,pos,lemma,ner,parse,depparse,coref\n",
      " 82%|███████████████████████████████████████████████████▍           | 1214/1488 [02:18<00:30,  8.92it/s][pool-1-thread-2] INFO CoreNLP - [/127.0.0.1:48562] API call w/annotators tokenize,pos,lemma,ner,parse,depparse,coref\n",
      " 82%|███████████████████████████████████████████████████▍           | 1215/1488 [02:18<00:31,  8.55it/s]"
     ]
    },
    {
     "name": "stdout",
     "output_type": "stream",
     "text": [
      "A laboratory with several stand up cabinets and chairs.\n",
      "A plate of broccoli and noodles sits on a surface.\n"
     ]
    },
    {
     "name": "stderr",
     "output_type": "stream",
     "text": [
      "[pool-1-thread-1] INFO CoreNLP - [/127.0.0.1:48592] API call w/annotators tokenize,pos,lemma,ner,parse,depparse,coref\n",
      " 82%|███████████████████████████████████████████████████▍           | 1216/1488 [02:18<00:32,  8.41it/s][pool-1-thread-5] INFO CoreNLP - [/127.0.0.1:48620] API call w/annotators tokenize,pos,lemma,ner,parse,depparse,coref\n",
      " 82%|███████████████████████████████████████████████████▌           | 1217/1488 [02:18<00:30,  8.79it/s]"
     ]
    },
    {
     "name": "stdout",
     "output_type": "stream",
     "text": [
      "Two people waiting on a train platform as a train passes by.\n",
      "A stoplight on yellow during a snowy day.\n"
     ]
    },
    {
     "name": "stderr",
     "output_type": "stream",
     "text": [
      "[pool-1-thread-4] INFO CoreNLP - [/127.0.0.1:48634] API call w/annotators tokenize,pos,lemma,ner,parse,depparse,coref\n",
      " 82%|███████████████████████████████████████████████████▌           | 1218/1488 [02:19<00:30,  8.76it/s][pool-1-thread-3] INFO CoreNLP - [/127.0.0.1:48638] API call w/annotators tokenize,pos,lemma,ner,parse,depparse,coref\n",
      " 82%|███████████████████████████████████████████████████▌           | 1219/1488 [02:19<00:30,  8.83it/s]"
     ]
    },
    {
     "name": "stdout",
     "output_type": "stream",
     "text": [
      "The man is skiing down the hill with his goggles up.\n",
      "A little boy smiling for a picture as he eats.\n"
     ]
    },
    {
     "name": "stderr",
     "output_type": "stream",
     "text": [
      "[pool-1-thread-2] INFO CoreNLP - [/127.0.0.1:48656] API call w/annotators tokenize,pos,lemma,ner,parse,depparse,coref\n",
      " 82%|███████████████████████████████████████████████████▋           | 1220/1488 [02:19<00:29,  8.97it/s][pool-1-thread-1] INFO CoreNLP - [/127.0.0.1:48676] API call w/annotators tokenize,pos,lemma,ner,parse,depparse,coref\n"
     ]
    },
    {
     "name": "stdout",
     "output_type": "stream",
     "text": [
      "A table with an open umbrella on a deck.\n",
      "a traffic light on a street near bushes\n"
     ]
    },
    {
     "name": "stderr",
     "output_type": "stream",
     "text": [
      "[pool-1-thread-5] INFO CoreNLP - [/127.0.0.1:48698] API call w/annotators tokenize,pos,lemma,ner,parse,depparse,coref\n",
      " 82%|███████████████████████████████████████████████████▋           | 1222/1488 [02:19<00:29,  8.95it/s][pool-1-thread-4] INFO CoreNLP - [/127.0.0.1:56320] API call w/annotators tokenize,pos,lemma,ner,parse,depparse,coref\n",
      " 82%|███████████████████████████████████████████████████▊           | 1223/1488 [02:19<00:29,  8.99it/s]"
     ]
    },
    {
     "name": "stdout",
     "output_type": "stream",
     "text": [
      "a table that has a bowl of food and a cup on it\n",
      "A man sitting down with a Frisbee on his face.\n"
     ]
    },
    {
     "name": "stderr",
     "output_type": "stream",
     "text": [
      "[pool-1-thread-3] INFO CoreNLP - [/127.0.0.1:56338] API call w/annotators tokenize,pos,lemma,ner,parse,depparse,coref\n",
      " 82%|███████████████████████████████████████████████████▊           | 1224/1488 [02:19<00:29,  8.89it/s][pool-1-thread-2] INFO CoreNLP - [/127.0.0.1:56348] API call w/annotators tokenize,pos,lemma,ner,parse,depparse,coref\n",
      " 82%|███████████████████████████████████████████████████▊           | 1225/1488 [02:19<00:29,  8.88it/s]"
     ]
    },
    {
     "name": "stdout",
     "output_type": "stream",
     "text": [
      "A group of police officers on motorcycles in a parade.\n",
      "A group of people in a boat while it rains. \n"
     ]
    },
    {
     "name": "stderr",
     "output_type": "stream",
     "text": [
      "[pool-1-thread-1] INFO CoreNLP - [/127.0.0.1:56362] API call w/annotators tokenize,pos,lemma,ner,parse,depparse,coref\n",
      "[pool-1-thread-5] INFO CoreNLP - [/127.0.0.1:56376] API call w/annotators tokenize,pos,lemma,ner,parse,depparse,coref\n",
      " 82%|███████████████████████████████████████████████████▉           | 1227/1488 [02:20<00:27,  9.36it/s][pool-1-thread-4] INFO CoreNLP - [/127.0.0.1:56386] API call w/annotators tokenize,pos,lemma,ner,parse,depparse,coref\n"
     ]
    },
    {
     "name": "stdout",
     "output_type": "stream",
     "text": [
      "Two horses are standing in a snowy pasture\n",
      "Two guys holding wii remotes standing up playing.\n",
      "A shopping cart is full of colorful produce.\n"
     ]
    },
    {
     "name": "stderr",
     "output_type": "stream",
     "text": [
      " 83%|███████████████████████████████████████████████████▉           | 1228/1488 [02:20<00:27,  9.45it/s][pool-1-thread-3] INFO CoreNLP - [/127.0.0.1:56408] API call w/annotators tokenize,pos,lemma,ner,parse,depparse,coref\n",
      " 83%|████████████████████████████████████████████████████           | 1229/1488 [02:20<00:27,  9.56it/s][pool-1-thread-2] INFO CoreNLP - [/127.0.0.1:56422] API call w/annotators tokenize,pos,lemma,ner,parse,depparse,coref\n",
      " 83%|████████████████████████████████████████████████████           | 1230/1488 [02:20<00:27,  9.36it/s]"
     ]
    },
    {
     "name": "stdout",
     "output_type": "stream",
     "text": [
      "The kitchen is has a stainless steal refrigerator. \n",
      "A stop sign with a domed tower in the background.\n"
     ]
    },
    {
     "name": "stderr",
     "output_type": "stream",
     "text": [
      "[pool-1-thread-1] INFO CoreNLP - [/127.0.0.1:56426] API call w/annotators tokenize,pos,lemma,ner,parse,depparse,coref\n",
      " 83%|████████████████████████████████████████████████████           | 1231/1488 [02:20<00:28,  9.15it/s][pool-1-thread-5] INFO CoreNLP - [/127.0.0.1:56440] API call w/annotators tokenize,pos,lemma,ner,parse,depparse,coref\n",
      " 83%|████████████████████████████████████████████████████▏          | 1232/1488 [02:20<00:27,  9.35it/s]"
     ]
    },
    {
     "name": "stdout",
     "output_type": "stream",
     "text": [
      "French fries on a pizza with a bottle of beer.\n",
      "a bunch of sheep are standing in a field\n"
     ]
    },
    {
     "name": "stderr",
     "output_type": "stream",
     "text": [
      "[pool-1-thread-4] INFO CoreNLP - [/127.0.0.1:56452] API call w/annotators tokenize,pos,lemma,ner,parse,depparse,coref\n",
      " 83%|████████████████████████████████████████████████████▏          | 1233/1488 [02:20<00:26,  9.45it/s][pool-1-thread-3] INFO CoreNLP - [/127.0.0.1:56464] API call w/annotators tokenize,pos,lemma,ner,parse,depparse,coref\n",
      " 83%|████████████████████████████████████████████████████▏          | 1234/1488 [02:20<00:26,  9.45it/s]"
     ]
    },
    {
     "name": "stdout",
     "output_type": "stream",
     "text": [
      "A gear is shown up close near other metal.\n",
      "A man rides a surfboard on a large wave.\n"
     ]
    },
    {
     "name": "stderr",
     "output_type": "stream",
     "text": [
      "[pool-1-thread-2] INFO CoreNLP - [/127.0.0.1:56494] API call w/annotators tokenize,pos,lemma,ner,parse,depparse,coref\n",
      " 83%|████████████████████████████████████████████████████▎          | 1235/1488 [02:20<00:27,  9.25it/s][pool-1-thread-1] INFO CoreNLP - [/127.0.0.1:56520] API call w/annotators tokenize,pos,lemma,ner,parse,depparse,coref\n",
      " 83%|████████████████████████████████████████████████████▎          | 1236/1488 [02:20<00:27,  9.24it/s]"
     ]
    },
    {
     "name": "stdout",
     "output_type": "stream",
     "text": [
      "A person on a motor bike on a street.\n",
      "The  brown and white horse is walking in the road.\n"
     ]
    },
    {
     "name": "stderr",
     "output_type": "stream",
     "text": [
      "[pool-1-thread-5] INFO CoreNLP - [/127.0.0.1:56548] API call w/annotators tokenize,pos,lemma,ner,parse,depparse,coref\n",
      " 83%|████████████████████████████████████████████████████▎          | 1237/1488 [02:21<00:29,  8.59it/s][pool-1-thread-4] INFO CoreNLP - [/127.0.0.1:56564] API call w/annotators tokenize,pos,lemma,ner,parse,depparse,coref\n",
      " 83%|████████████████████████████████████████████████████▍          | 1238/1488 [02:21<00:29,  8.42it/s]"
     ]
    },
    {
     "name": "stdout",
     "output_type": "stream",
     "text": [
      "A bottle of wine and a half full glass sit on a paper calendar.\n",
      "A motorcycle is parked with several bicycle tires attached to its rear.\n"
     ]
    },
    {
     "name": "stderr",
     "output_type": "stream",
     "text": [
      "[pool-1-thread-3] INFO CoreNLP - [/127.0.0.1:56584] API call w/annotators tokenize,pos,lemma,ner,parse,depparse,coref\n",
      " 83%|████████████████████████████████████████████████████▍          | 1239/1488 [02:21<00:28,  8.69it/s][pool-1-thread-2] INFO CoreNLP - [/127.0.0.1:56588] API call w/annotators tokenize,pos,lemma,ner,parse,depparse,coref\n",
      " 83%|████████████████████████████████████████████████████▌          | 1240/1488 [02:21<00:28,  8.80it/s]"
     ]
    },
    {
     "name": "stdout",
     "output_type": "stream",
     "text": [
      "A bike parked next to a cluster of trees.\n",
      "The car is parked beside of the building with stairs.\n"
     ]
    },
    {
     "name": "stderr",
     "output_type": "stream",
     "text": [
      "[pool-1-thread-1] INFO CoreNLP - [/127.0.0.1:56614] API call w/annotators tokenize,pos,lemma,ner,parse,depparse,coref\n",
      " 83%|████████████████████████████████████████████████████▌          | 1241/1488 [02:21<00:29,  8.37it/s][pool-1-thread-5] INFO CoreNLP - [/127.0.0.1:56640] API call w/annotators tokenize,pos,lemma,ner,parse,depparse,coref\n",
      " 83%|████████████████████████████████████████████████████▌          | 1242/1488 [02:21<00:28,  8.51it/s]"
     ]
    },
    {
     "name": "stdout",
     "output_type": "stream",
     "text": [
      "A turquoise and orange station wagon with two surf boards on its top.\n",
      "A zebra standing next to a tree on a dirt lot.\n"
     ]
    },
    {
     "name": "stderr",
     "output_type": "stream",
     "text": [
      "[pool-1-thread-4] INFO CoreNLP - [/127.0.0.1:56654] API call w/annotators tokenize,pos,lemma,ner,parse,depparse,coref\n",
      " 84%|████████████████████████████████████████████████████▋          | 1243/1488 [02:21<00:28,  8.53it/s][pool-1-thread-3] INFO CoreNLP - [/127.0.0.1:56674] API call w/annotators tokenize,pos,lemma,ner,parse,depparse,coref\n",
      " 84%|████████████████████████████████████████████████████▋          | 1244/1488 [02:21<00:27,  8.90it/s]"
     ]
    },
    {
     "name": "stdout",
     "output_type": "stream",
     "text": [
      "A baseball player is in the process of swinging a bat.\n",
      "People working at a job site with palates.\n"
     ]
    },
    {
     "name": "stderr",
     "output_type": "stream",
     "text": [
      "[pool-1-thread-2] INFO CoreNLP - [/127.0.0.1:56678] API call w/annotators tokenize,pos,lemma,ner,parse,depparse,coref\n",
      " 84%|████████████████████████████████████████████████████▋          | 1245/1488 [02:22<00:27,  8.78it/s][pool-1-thread-1] INFO CoreNLP - [/127.0.0.1:56708] API call w/annotators tokenize,pos,lemma,ner,parse,depparse,coref\n",
      " 84%|████████████████████████████████████████████████████▊          | 1246/1488 [02:22<00:28,  8.49it/s]"
     ]
    },
    {
     "name": "stdout",
     "output_type": "stream",
     "text": [
      "A small, well organized desk with a computer and books.\n",
      "The two traffic lights are placed on a pole on the road.\n"
     ]
    },
    {
     "name": "stderr",
     "output_type": "stream",
     "text": [
      "[pool-1-thread-5] INFO CoreNLP - [/127.0.0.1:56730] API call w/annotators tokenize,pos,lemma,ner,parse,depparse,coref\n",
      "[pool-1-thread-4] INFO CoreNLP - [/127.0.0.1:56738] API call w/annotators tokenize,pos,lemma,ner,parse,depparse,coref\n",
      " 84%|████████████████████████████████████████████████████▊          | 1248/1488 [02:22<00:26,  8.92it/s]"
     ]
    },
    {
     "name": "stdout",
     "output_type": "stream",
     "text": [
      "Four people carrying luggage turning for a picture\n",
      "A small pickup truck stops at a stop sign intersection.\n"
     ]
    },
    {
     "name": "stderr",
     "output_type": "stream",
     "text": [
      "[pool-1-thread-3] INFO CoreNLP - [/127.0.0.1:56754] API call w/annotators tokenize,pos,lemma,ner,parse,depparse,coref\n",
      " 84%|████████████████████████████████████████████████████▉          | 1249/1488 [02:22<00:26,  9.07it/s][pool-1-thread-2] INFO CoreNLP - [/127.0.0.1:56772] API call w/annotators tokenize,pos,lemma,ner,parse,depparse,coref\n",
      " 84%|████████████████████████████████████████████████████▉          | 1250/1488 [02:22<00:25,  9.17it/s]"
     ]
    },
    {
     "name": "stdout",
     "output_type": "stream",
     "text": [
      "Adult and baby buffalo graze on a plain.\n",
      "A handicap zone is designated in a storage facility.\n"
     ]
    },
    {
     "name": "stderr",
     "output_type": "stream",
     "text": [
      "[pool-1-thread-1] INFO CoreNLP - [/127.0.0.1:56804] API call w/annotators tokenize,pos,lemma,ner,parse,depparse,coref\n",
      " 84%|████████████████████████████████████████████████████▉          | 1251/1488 [02:22<00:26,  9.00it/s][pool-1-thread-5] INFO CoreNLP - [/127.0.0.1:56818] API call w/annotators tokenize,pos,lemma,ner,parse,depparse,coref\n"
     ]
    },
    {
     "name": "stdout",
     "output_type": "stream",
     "text": [
      "A man riding on the back of an orange fork lift.\n",
      "A man stands on a skateboard with an unoccupied skateboard next to him as a younger man looks on with two people on a bench in the background\n"
     ]
    },
    {
     "name": "stderr",
     "output_type": "stream",
     "text": [
      " 84%|█████████████████████████████████████████████████████          | 1252/1488 [02:22<00:36,  6.39it/s][pool-1-thread-4] INFO CoreNLP - [/127.0.0.1:56842] API call w/annotators tokenize,pos,lemma,ner,parse,depparse,coref\n",
      " 84%|█████████████████████████████████████████████████████          | 1253/1488 [02:23<00:36,  6.51it/s][pool-1-thread-3] INFO CoreNLP - [/127.0.0.1:56856] API call w/annotators tokenize,pos,lemma,ner,parse,depparse,coref\n",
      " 84%|█████████████████████████████████████████████████████          | 1254/1488 [02:23<00:33,  7.03it/s]"
     ]
    },
    {
     "name": "stdout",
     "output_type": "stream",
     "text": [
      "A living room with white walls, rectangular windows, and grey and red furniture. \n",
      "A movie featuring a young girl plays on a phone screen. \n"
     ]
    },
    {
     "name": "stderr",
     "output_type": "stream",
     "text": [
      "[pool-1-thread-2] INFO CoreNLP - [/127.0.0.1:56882] API call w/annotators tokenize,pos,lemma,ner,parse,depparse,coref\n",
      " 84%|█████████████████████████████████████████████████████▏         | 1255/1488 [02:23<00:31,  7.35it/s][pool-1-thread-1] INFO CoreNLP - [/127.0.0.1:56890] API call w/annotators tokenize,pos,lemma,ner,parse,depparse,coref\n",
      " 84%|█████████████████████████████████████████████████████▏         | 1256/1488 [02:23<00:29,  7.86it/s]"
     ]
    },
    {
     "name": "stdout",
     "output_type": "stream",
     "text": [
      "A vase filled with assorted color flowers sitting on a table.\n",
      "A woman holding an umbrella sits under a waterfall.\n"
     ]
    },
    {
     "name": "stderr",
     "output_type": "stream",
     "text": [
      "[pool-1-thread-5] INFO CoreNLP - [/127.0.0.1:56916] API call w/annotators tokenize,pos,lemma,ner,parse,depparse,coref\n",
      "[pool-1-thread-4] INFO CoreNLP - [/127.0.0.1:56930] API call w/annotators tokenize,pos,lemma,ner,parse,depparse,coref\n",
      " 85%|█████████████████████████████████████████████████████▎         | 1258/1488 [02:23<00:27,  8.40it/s]"
     ]
    },
    {
     "name": "stdout",
     "output_type": "stream",
     "text": [
      "A catcher getting ready to grab a baseball\n",
      "Two giraffe standing next to each other on top of a field.\n"
     ]
    },
    {
     "name": "stderr",
     "output_type": "stream",
     "text": [
      "[pool-1-thread-3] INFO CoreNLP - [/127.0.0.1:56952] API call w/annotators tokenize,pos,lemma,ner,parse,depparse,coref\n",
      " 85%|█████████████████████████████████████████████████████▎         | 1259/1488 [02:23<00:27,  8.31it/s][pool-1-thread-2] INFO CoreNLP - [/127.0.0.1:56960] API call w/annotators tokenize,pos,lemma,ner,parse,depparse,coref\n",
      " 85%|█████████████████████████████████████████████████████▎         | 1260/1488 [02:23<00:26,  8.51it/s]"
     ]
    },
    {
     "name": "stdout",
     "output_type": "stream",
     "text": [
      "A close up image of a pepperoni broccoli and cucumber pizza. \n",
      "A brown table holding a metal tray and a pizza.\n"
     ]
    },
    {
     "name": "stderr",
     "output_type": "stream",
     "text": [
      "[pool-1-thread-1] INFO CoreNLP - [/127.0.0.1:56986] API call w/annotators tokenize,pos,lemma,ner,parse,depparse,coref\n",
      " 85%|█████████████████████████████████████████████████████▍         | 1261/1488 [02:24<00:25,  8.74it/s][pool-1-thread-5] INFO CoreNLP - [/127.0.0.1:57000] API call w/annotators tokenize,pos,lemma,ner,parse,depparse,coref\n",
      " 85%|█████████████████████████████████████████████████████▍         | 1262/1488 [02:24<00:25,  9.02it/s]"
     ]
    },
    {
     "name": "stdout",
     "output_type": "stream",
     "text": [
      "A zebra standing next to a tall stone structure.\n",
      "Two people standing in the snow using skis.\n"
     ]
    },
    {
     "name": "stderr",
     "output_type": "stream",
     "text": [
      "[pool-1-thread-4] INFO CoreNLP - [/127.0.0.1:57018] API call w/annotators tokenize,pos,lemma,ner,parse,depparse,coref\n",
      " 85%|█████████████████████████████████████████████████████▍         | 1263/1488 [02:24<00:24,  9.11it/s][pool-1-thread-3] INFO CoreNLP - [/127.0.0.1:57026] API call w/annotators tokenize,pos,lemma,ner,parse,depparse,coref\n",
      " 85%|█████████████████████████████████████████████████████▌         | 1264/1488 [02:24<00:24,  9.17it/s]"
     ]
    },
    {
     "name": "stdout",
     "output_type": "stream",
     "text": [
      "There is a keyboard among some supplies on a desk\n",
      "An elephant in dirt area standing over a fence.\n"
     ]
    },
    {
     "name": "stderr",
     "output_type": "stream",
     "text": [
      "[pool-1-thread-2] INFO CoreNLP - [/127.0.0.1:57040] API call w/annotators tokenize,pos,lemma,ner,parse,depparse,coref\n",
      " 85%|█████████████████████████████████████████████████████▌         | 1265/1488 [02:24<00:24,  9.25it/s][pool-1-thread-1] INFO CoreNLP - [/127.0.0.1:57054] API call w/annotators tokenize,pos,lemma,ner,parse,depparse,coref\n",
      " 85%|█████████████████████████████████████████████████████▌         | 1266/1488 [02:24<00:23,  9.29it/s]"
     ]
    },
    {
     "name": "stdout",
     "output_type": "stream",
     "text": [
      "An underground subway car pulling into a subway station.\n",
      "A grass field with animals and buildings behind them.\n"
     ]
    },
    {
     "name": "stderr",
     "output_type": "stream",
     "text": [
      "[pool-1-thread-5] INFO CoreNLP - [/127.0.0.1:57070] API call w/annotators tokenize,pos,lemma,ner,parse,depparse,coref\n",
      " 85%|█████████████████████████████████████████████████████▋         | 1267/1488 [02:24<00:24,  9.03it/s][pool-1-thread-4] INFO CoreNLP - [/127.0.0.1:57090] API call w/annotators tokenize,pos,lemma,ner,parse,depparse,coref\n",
      " 85%|█████████████████████████████████████████████████████▋         | 1268/1488 [02:24<00:24,  8.89it/s]"
     ]
    },
    {
     "name": "stdout",
     "output_type": "stream",
     "text": [
      "A man with a backpack and umbrella walk down a sidewalk.\n",
      "a person operating a marionette teddy bear wearing a green scarf\n"
     ]
    },
    {
     "name": "stderr",
     "output_type": "stream",
     "text": [
      "[pool-1-thread-3] INFO CoreNLP - [/127.0.0.1:57112] API call w/annotators tokenize,pos,lemma,ner,parse,depparse,coref\n",
      " 85%|█████████████████████████████████████████████████████▋         | 1269/1488 [02:24<00:24,  9.01it/s][pool-1-thread-2] INFO CoreNLP - [/127.0.0.1:57122] API call w/annotators tokenize,pos,lemma,ner,parse,depparse,coref\n",
      " 85%|█████████████████████████████████████████████████████▊         | 1270/1488 [02:25<00:24,  8.94it/s]"
     ]
    },
    {
     "name": "stdout",
     "output_type": "stream",
     "text": [
      "This baseball player is swinging his bat at the ball\n",
      "A young man with a snowboard while a crowd looks on\n"
     ]
    },
    {
     "name": "stderr",
     "output_type": "stream",
     "text": [
      "[pool-1-thread-1] INFO CoreNLP - [/127.0.0.1:57146] API call w/annotators tokenize,pos,lemma,ner,parse,depparse,coref\n",
      " 85%|█████████████████████████████████████████████████████▊         | 1271/1488 [02:25<00:24,  8.92it/s][pool-1-thread-5] INFO CoreNLP - [/127.0.0.1:57154] API call w/annotators tokenize,pos,lemma,ner,parse,depparse,coref\n",
      " 85%|█████████████████████████████████████████████████████▊         | 1272/1488 [02:25<00:25,  8.60it/s]"
     ]
    },
    {
     "name": "stdout",
     "output_type": "stream",
     "text": [
      "Woman sitting at table with food items and electronic gadgets.\n",
      "the man is working on his laptop while he waits for the train.\n"
     ]
    },
    {
     "name": "stderr",
     "output_type": "stream",
     "text": [
      "[pool-1-thread-4] INFO CoreNLP - [/127.0.0.1:57182] API call w/annotators tokenize,pos,lemma,ner,parse,depparse,coref\n",
      " 86%|█████████████████████████████████████████████████████▉         | 1273/1488 [02:25<00:24,  8.86it/s][pool-1-thread-3] INFO CoreNLP - [/127.0.0.1:57200] API call w/annotators tokenize,pos,lemma,ner,parse,depparse,coref\n",
      " 86%|█████████████████████████████████████████████████████▉         | 1274/1488 [02:25<00:24,  8.65it/s]"
     ]
    },
    {
     "name": "stdout",
     "output_type": "stream",
     "text": [
      "A woman standing in her living room playing Wii.\n",
      "A student's room with a desk and shelves full of books.\n"
     ]
    },
    {
     "name": "stderr",
     "output_type": "stream",
     "text": [
      "[pool-1-thread-2] INFO CoreNLP - [/127.0.0.1:57216] API call w/annotators tokenize,pos,lemma,ner,parse,depparse,coref\n",
      " 86%|█████████████████████████████████████████████████████▉         | 1275/1488 [02:25<00:25,  8.43it/s][pool-1-thread-1] INFO CoreNLP - [/127.0.0.1:57240] API call w/annotators tokenize,pos,lemma,ner,parse,depparse,coref\n",
      " 86%|██████████████████████████████████████████████████████         | 1276/1488 [02:25<00:24,  8.58it/s]"
     ]
    },
    {
     "name": "stdout",
     "output_type": "stream",
     "text": [
      "Two guys are on a boat, with one's crack being exposed. \n",
      "A group of people stare at a group of elephants.\n"
     ]
    },
    {
     "name": "stderr",
     "output_type": "stream",
     "text": [
      "[pool-1-thread-5] INFO CoreNLP - [/127.0.0.1:57262] API call w/annotators tokenize,pos,lemma,ner,parse,depparse,coref\n",
      " 86%|██████████████████████████████████████████████████████         | 1277/1488 [02:25<00:23,  8.83it/s][pool-1-thread-4] INFO CoreNLP - [/127.0.0.1:57292] API call w/annotators tokenize,pos,lemma,ner,parse,depparse,coref\n",
      " 86%|██████████████████████████████████████████████████████         | 1278/1488 [02:25<00:23,  9.08it/s]"
     ]
    },
    {
     "name": "stdout",
     "output_type": "stream",
     "text": [
      "People sitting poolside in a backyard playing and conversing.\n",
      "Diners at a cafe overlooking a sandy beach.\n"
     ]
    },
    {
     "name": "stderr",
     "output_type": "stream",
     "text": [
      "[pool-1-thread-3] INFO CoreNLP - [/127.0.0.1:57316] API call w/annotators tokenize,pos,lemma,ner,parse,depparse,coref\n",
      " 86%|██████████████████████████████████████████████████████▏        | 1279/1488 [02:26<00:26,  7.95it/s][pool-1-thread-2] INFO CoreNLP - [/127.0.0.1:57334] API call w/annotators tokenize,pos,lemma,ner,parse,depparse,coref\n"
     ]
    },
    {
     "name": "stdout",
     "output_type": "stream",
     "text": [
      "A cat, a bicycle, and a chair are in a yard behind a train track.\n",
      "Three women are walking along a building by the beach.\n"
     ]
    },
    {
     "name": "stderr",
     "output_type": "stream",
     "text": [
      " 86%|██████████████████████████████████████████████████████▏        | 1280/1488 [02:26<00:25,  8.23it/s][pool-1-thread-1] INFO CoreNLP - [/127.0.0.1:57354] API call w/annotators tokenize,pos,lemma,ner,parse,depparse,coref\n",
      " 86%|██████████████████████████████████████████████████████▏        | 1281/1488 [02:26<00:25,  8.10it/s][pool-1-thread-5] INFO CoreNLP - [/127.0.0.1:57368] API call w/annotators tokenize,pos,lemma,ner,parse,depparse,coref\n",
      " 86%|██████████████████████████████████████████████████████▎        | 1282/1488 [02:26<00:26,  7.88it/s]"
     ]
    },
    {
     "name": "stdout",
     "output_type": "stream",
     "text": [
      "An elephant walking down the road, with a car next to it.\n",
      "Scissors are sitting on the table with needles and a pin cushion behind it.\n"
     ]
    },
    {
     "name": "stderr",
     "output_type": "stream",
     "text": [
      "[pool-1-thread-4] INFO CoreNLP - [/127.0.0.1:57378] API call w/annotators tokenize,pos,lemma,ner,parse,depparse,coref\n",
      " 86%|██████████████████████████████████████████████████████▎        | 1283/1488 [02:26<00:24,  8.30it/s][pool-1-thread-3] INFO CoreNLP - [/127.0.0.1:57404] API call w/annotators tokenize,pos,lemma,ner,parse,depparse,coref\n",
      " 86%|██████████████████████████████████████████████████████▎        | 1284/1488 [02:26<00:23,  8.53it/s]"
     ]
    },
    {
     "name": "stdout",
     "output_type": "stream",
     "text": [
      "Two elephants walk around in a large grassy field. \n",
      "A man guiding an elephant holding several kids on it.\n"
     ]
    },
    {
     "name": "stderr",
     "output_type": "stream",
     "text": [
      "[pool-1-thread-2] INFO CoreNLP - [/127.0.0.1:39610] API call w/annotators tokenize,pos,lemma,ner,parse,depparse,coref\n",
      " 86%|██████████████████████████████████████████████████████▍        | 1285/1488 [02:32<06:11,  1.83s/it][pool-1-thread-1] INFO CoreNLP - [/127.0.0.1:39626] API call w/annotators tokenize,pos,lemma,ner,parse,depparse,coref\n",
      " 86%|██████████████████████████████████████████████████████▍        | 1286/1488 [02:32<04:26,  1.32s/it]"
     ]
    },
    {
     "name": "stdout",
     "output_type": "stream",
     "text": [
      "A red vehicle with a bike painted on it\n",
      "Old time photo of a male tennis player, posed with a stare.\n"
     ]
    },
    {
     "name": "stderr",
     "output_type": "stream",
     "text": [
      "[pool-1-thread-5] INFO CoreNLP - [/127.0.0.1:39652] API call w/annotators tokenize,pos,lemma,ner,parse,depparse,coref\n",
      " 86%|██████████████████████████████████████████████████████▍        | 1287/1488 [02:32<03:12,  1.05it/s][pool-1-thread-4] INFO CoreNLP - [/127.0.0.1:39682] API call w/annotators tokenize,pos,lemma,ner,parse,depparse,coref\n",
      " 87%|██████████████████████████████████████████████████████▌        | 1288/1488 [02:32<02:20,  1.42it/s]"
     ]
    },
    {
     "name": "stdout",
     "output_type": "stream",
     "text": [
      "A boy prepares to swing a baseball bat.\n",
      "A dog looking at a statue of a cow.\n"
     ]
    },
    {
     "name": "stderr",
     "output_type": "stream",
     "text": [
      "[pool-1-thread-3] INFO CoreNLP - [/127.0.0.1:39706] API call w/annotators tokenize,pos,lemma,ner,parse,depparse,coref\n",
      "[pool-1-thread-2] INFO CoreNLP - [/127.0.0.1:39736] API call w/annotators tokenize,pos,lemma,ner,parse,depparse,coref\n",
      " 87%|██████████████████████████████████████████████████████▌        | 1290/1488 [02:33<01:25,  2.32it/s]"
     ]
    },
    {
     "name": "stdout",
     "output_type": "stream",
     "text": [
      "A woman poses while skiing down a mountain.\n",
      "Foreign green bus has a picture of a man on the front window.\n"
     ]
    },
    {
     "name": "stderr",
     "output_type": "stream",
     "text": [
      "[pool-1-thread-1] INFO CoreNLP - [/127.0.0.1:39750] API call w/annotators tokenize,pos,lemma,ner,parse,depparse,coref\n",
      " 87%|██████████████████████████████████████████████████████▋        | 1291/1488 [02:33<01:09,  2.85it/s][pool-1-thread-5] INFO CoreNLP - [/127.0.0.1:39776] API call w/annotators tokenize,pos,lemma,ner,parse,depparse,coref\n"
     ]
    },
    {
     "name": "stdout",
     "output_type": "stream",
     "text": [
      "A girl is riding a horse next to a tree.\n",
      "Three horses with three people riding them along a beach with a dog walking off to the side.\n"
     ]
    },
    {
     "name": "stderr",
     "output_type": "stream",
     "text": [
      " 87%|██████████████████████████████████████████████████████▋        | 1292/1488 [02:33<00:59,  3.32it/s][pool-1-thread-4] INFO CoreNLP - [/127.0.0.1:39784] API call w/annotators tokenize,pos,lemma,ner,parse,depparse,coref\n",
      " 87%|██████████████████████████████████████████████████████▋        | 1293/1488 [02:33<00:48,  4.00it/s][pool-1-thread-3] INFO CoreNLP - [/127.0.0.1:39800] API call w/annotators tokenize,pos,lemma,ner,parse,depparse,coref\n",
      " 87%|██████████████████████████████████████████████████████▊        | 1294/1488 [02:33<00:40,  4.76it/s]"
     ]
    },
    {
     "name": "stdout",
     "output_type": "stream",
     "text": [
      "The Halloween display includes a spiderweb and lots of pumpkins.\n",
      "An old, rusty fridge is placed in the grass. \n"
     ]
    },
    {
     "name": "stderr",
     "output_type": "stream",
     "text": [
      "[pool-1-thread-2] INFO CoreNLP - [/127.0.0.1:39824] API call w/annotators tokenize,pos,lemma,ner,parse,depparse,coref\n",
      " 87%|██████████████████████████████████████████████████████▊        | 1295/1488 [02:33<00:35,  5.50it/s][pool-1-thread-1] INFO CoreNLP - [/127.0.0.1:39850] API call w/annotators tokenize,pos,lemma,ner,parse,depparse,coref\n",
      " 87%|██████████████████████████████████████████████████████▊        | 1296/1488 [02:33<00:30,  6.27it/s]"
     ]
    },
    {
     "name": "stdout",
     "output_type": "stream",
     "text": [
      "A couple of young boys kicking around a basket ball.\n",
      "A large box of many different types of doughnuts.\n"
     ]
    },
    {
     "name": "stderr",
     "output_type": "stream",
     "text": [
      "[pool-1-thread-5] INFO CoreNLP - [/127.0.0.1:39876] API call w/annotators tokenize,pos,lemma,ner,parse,depparse,coref\n",
      " 87%|██████████████████████████████████████████████████████▉        | 1297/1488 [02:33<00:27,  6.85it/s][pool-1-thread-4] INFO CoreNLP - [/127.0.0.1:39906] API call w/annotators tokenize,pos,lemma,ner,parse,depparse,coref\n",
      " 87%|██████████████████████████████████████████████████████▉        | 1298/1488 [02:34<00:25,  7.46it/s]"
     ]
    },
    {
     "name": "stdout",
     "output_type": "stream",
     "text": [
      "The large aircraft is on the tarmac next to the vehicles.\n",
      "A picture of a soccer ball in the grass.\n"
     ]
    },
    {
     "name": "stderr",
     "output_type": "stream",
     "text": [
      "[pool-1-thread-3] INFO CoreNLP - [/127.0.0.1:39924] API call w/annotators tokenize,pos,lemma,ner,parse,depparse,coref\n",
      " 87%|██████████████████████████████████████████████████████▉        | 1299/1488 [02:34<00:25,  7.53it/s][pool-1-thread-2] INFO CoreNLP - [/127.0.0.1:39932] API call w/annotators tokenize,pos,lemma,ner,parse,depparse,coref\n",
      " 87%|███████████████████████████████████████████████████████        | 1300/1488 [02:34<00:23,  7.95it/s]"
     ]
    },
    {
     "name": "stdout",
     "output_type": "stream",
     "text": [
      "A field with vegetables such as tomatoes and cabbage being grown in it. \n",
      "A man riding a skateboard over a giant shoe.\n"
     ]
    },
    {
     "name": "stderr",
     "output_type": "stream",
     "text": [
      "[pool-1-thread-1] INFO CoreNLP - [/127.0.0.1:39952] API call w/annotators tokenize,pos,lemma,ner,parse,depparse,coref\n",
      " 87%|███████████████████████████████████████████████████████        | 1301/1488 [02:34<00:22,  8.19it/s][pool-1-thread-5] INFO CoreNLP - [/127.0.0.1:39976] API call w/annotators tokenize,pos,lemma,ner,parse,depparse,coref\n",
      " 88%|███████████████████████████████████████████████████████▏       | 1302/1488 [02:34<00:23,  7.87it/s]"
     ]
    },
    {
     "name": "stdout",
     "output_type": "stream",
     "text": [
      "A man doing a trick on a wall with a skateboard.\n",
      "Person outside with their arms around a horses neck and other horses around them.\n"
     ]
    },
    {
     "name": "stderr",
     "output_type": "stream",
     "text": [
      "[pool-1-thread-4] INFO CoreNLP - [/127.0.0.1:39998] API call w/annotators tokenize,pos,lemma,ner,parse,depparse,coref\n",
      " 88%|███████████████████████████████████████████████████████▏       | 1303/1488 [02:34<00:22,  8.14it/s][pool-1-thread-3] INFO CoreNLP - [/127.0.0.1:40012] API call w/annotators tokenize,pos,lemma,ner,parse,depparse,coref\n",
      " 88%|███████████████████████████████████████████████████████▏       | 1304/1488 [02:34<00:21,  8.59it/s]"
     ]
    },
    {
     "name": "stdout",
     "output_type": "stream",
     "text": [
      "Toddler sitting down at a table playing with a laptop computer.\n",
      "An infant brushing his teeth in a bathtub.\n"
     ]
    },
    {
     "name": "stderr",
     "output_type": "stream",
     "text": [
      "[pool-1-thread-2] INFO CoreNLP - [/127.0.0.1:40020] API call w/annotators tokenize,pos,lemma,ner,parse,depparse,coref\n",
      "[pool-1-thread-1] INFO CoreNLP - [/127.0.0.1:40030] API call w/annotators tokenize,pos,lemma,ner,parse,depparse,coref\n",
      " 88%|███████████████████████████████████████████████████████▎       | 1306/1488 [02:34<00:20,  9.06it/s]"
     ]
    },
    {
     "name": "stdout",
     "output_type": "stream",
     "text": [
      "A bench sits on grass overlooking the street.\n",
      "A lot of people that are walking in the street.\n"
     ]
    },
    {
     "name": "stderr",
     "output_type": "stream",
     "text": [
      "[pool-1-thread-5] INFO CoreNLP - [/127.0.0.1:40052] API call w/annotators tokenize,pos,lemma,ner,parse,depparse,coref\n",
      "[pool-1-thread-4] INFO CoreNLP - [/127.0.0.1:40072] API call w/annotators tokenize,pos,lemma,ner,parse,depparse,coref\n",
      " 88%|███████████████████████████████████████████████████████▍       | 1308/1488 [02:35<00:19,  9.31it/s]"
     ]
    },
    {
     "name": "stdout",
     "output_type": "stream",
     "text": [
      "Several children holding teddy bears in a store.\n",
      "Many people are sitting in a convention watching a presentation.\n"
     ]
    },
    {
     "name": "stderr",
     "output_type": "stream",
     "text": [
      "[pool-1-thread-3] INFO CoreNLP - [/127.0.0.1:40076] API call w/annotators tokenize,pos,lemma,ner,parse,depparse,coref\n",
      " 88%|███████████████████████████████████████████████████████▍       | 1309/1488 [02:35<00:18,  9.44it/s][pool-1-thread-2] INFO CoreNLP - [/127.0.0.1:40096] API call w/annotators tokenize,pos,lemma,ner,parse,depparse,coref\n",
      " 88%|███████████████████████████████████████████████████████▍       | 1310/1488 [02:35<00:19,  9.32it/s]"
     ]
    },
    {
     "name": "stdout",
     "output_type": "stream",
     "text": [
      "A tennis player is waiting to return a serve.\n",
      "A large bus is parked in front of a red building.\n"
     ]
    },
    {
     "name": "stderr",
     "output_type": "stream",
     "text": [
      "[pool-1-thread-1] INFO CoreNLP - [/127.0.0.1:40108] API call w/annotators tokenize,pos,lemma,ner,parse,depparse,coref\n",
      "[pool-1-thread-5] INFO CoreNLP - [/127.0.0.1:40126] API call w/annotators tokenize,pos,lemma,ner,parse,depparse,coref\n",
      " 88%|███████████████████████████████████████████████████████▌       | 1312/1488 [02:35<00:19,  8.89it/s]"
     ]
    },
    {
     "name": "stdout",
     "output_type": "stream",
     "text": [
      "Several beautifully decorated vases on a special display\n",
      "A black and white photo of a stop sign and a bridge in the background.\n"
     ]
    },
    {
     "name": "stderr",
     "output_type": "stream",
     "text": [
      "[pool-1-thread-4] INFO CoreNLP - [/127.0.0.1:40152] API call w/annotators tokenize,pos,lemma,ner,parse,depparse,coref\n",
      " 88%|███████████████████████████████████████████████████████▌       | 1313/1488 [02:35<00:20,  8.73it/s][pool-1-thread-3] INFO CoreNLP - [/127.0.0.1:40176] API call w/annotators tokenize,pos,lemma,ner,parse,depparse,coref\n"
     ]
    },
    {
     "name": "stdout",
     "output_type": "stream",
     "text": [
      "A stack of books sit next to a laptop on a desk.  \n",
      "A small bedroom with a bed and a desk\n"
     ]
    },
    {
     "name": "stderr",
     "output_type": "stream",
     "text": [
      "[pool-1-thread-2] INFO CoreNLP - [/127.0.0.1:40198] API call w/annotators tokenize,pos,lemma,ner,parse,depparse,coref\n",
      " 88%|███████████████████████████████████████████████████████▋       | 1315/1488 [02:35<00:18,  9.25it/s][pool-1-thread-1] INFO CoreNLP - [/127.0.0.1:40218] API call w/annotators tokenize,pos,lemma,ner,parse,depparse,coref\n",
      " 88%|███████████████████████████████████████████████████████▋       | 1316/1488 [02:36<00:18,  9.30it/s]"
     ]
    },
    {
     "name": "stdout",
     "output_type": "stream",
     "text": [
      "A man on a skateboard in the dark\n",
      "A very large aircraft is taking off into the sky.\n"
     ]
    },
    {
     "name": "stderr",
     "output_type": "stream",
     "text": [
      "[pool-1-thread-5] INFO CoreNLP - [/127.0.0.1:40230] API call w/annotators tokenize,pos,lemma,ner,parse,depparse,coref\n",
      " 89%|███████████████████████████████████████████████████████▊       | 1317/1488 [02:36<00:18,  9.44it/s][pool-1-thread-4] INFO CoreNLP - [/127.0.0.1:40236] API call w/annotators tokenize,pos,lemma,ner,parse,depparse,coref\n",
      " 89%|███████████████████████████████████████████████████████▊       | 1318/1488 [02:36<00:18,  9.04it/s]"
     ]
    },
    {
     "name": "stdout",
     "output_type": "stream",
     "text": [
      "A fleet of air crafts are flying formation.\n",
      "A head of broccoli and package of carrots on a cutting board.\n"
     ]
    },
    {
     "name": "stderr",
     "output_type": "stream",
     "text": [
      "[pool-1-thread-3] INFO CoreNLP - [/127.0.0.1:40246] API call w/annotators tokenize,pos,lemma,ner,parse,depparse,coref\n",
      " 89%|███████████████████████████████████████████████████████▊       | 1319/1488 [02:36<00:18,  8.96it/s][pool-1-thread-2] INFO CoreNLP - [/127.0.0.1:40262] API call w/annotators tokenize,pos,lemma,ner,parse,depparse,coref\n",
      " 89%|███████████████████████████████████████████████████████▉       | 1320/1488 [02:36<00:18,  8.94it/s]"
     ]
    },
    {
     "name": "stdout",
     "output_type": "stream",
     "text": [
      "A grey cat leans over the back seat of a car.\n",
      "A train is traveling down the tracks in the forest area. \n"
     ]
    },
    {
     "name": "stderr",
     "output_type": "stream",
     "text": [
      "[pool-1-thread-1] INFO CoreNLP - [/127.0.0.1:40278] API call w/annotators tokenize,pos,lemma,ner,parse,depparse,coref\n",
      "[pool-1-thread-5] INFO CoreNLP - [/127.0.0.1:40294] API call w/annotators tokenize,pos,lemma,ner,parse,depparse,coref\n",
      " 89%|███████████████████████████████████████████████████████▉       | 1322/1488 [02:36<00:18,  9.13it/s]"
     ]
    },
    {
     "name": "stdout",
     "output_type": "stream",
     "text": [
      "a hummingbird looking at a little bird feeder\n",
      "A bath caddy is stuffed with all the amenities for teeth care.\n"
     ]
    },
    {
     "name": "stderr",
     "output_type": "stream",
     "text": [
      "[pool-1-thread-4] INFO CoreNLP - [/127.0.0.1:40308] API call w/annotators tokenize,pos,lemma,ner,parse,depparse,coref\n",
      " 89%|████████████████████████████████████████████████████████       | 1323/1488 [02:36<00:17,  9.30it/s][pool-1-thread-3] INFO CoreNLP - [/127.0.0.1:40320] API call w/annotators tokenize,pos,lemma,ner,parse,depparse,coref\n",
      " 89%|████████████████████████████████████████████████████████       | 1324/1488 [02:36<00:19,  8.21it/s]"
     ]
    },
    {
     "name": "stdout",
     "output_type": "stream",
     "text": [
      "A woman in a bikini is on a surfboard\n",
      "Adult carrying a child in full gear, including skiis at the bottom of a ski slope.\n"
     ]
    },
    {
     "name": "stderr",
     "output_type": "stream",
     "text": [
      "[pool-1-thread-2] INFO CoreNLP - [/127.0.0.1:40338] API call w/annotators tokenize,pos,lemma,ner,parse,depparse,coref\n",
      " 89%|████████████████████████████████████████████████████████       | 1325/1488 [02:37<00:19,  8.38it/s][pool-1-thread-1] INFO CoreNLP - [/127.0.0.1:40354] API call w/annotators tokenize,pos,lemma,ner,parse,depparse,coref\n"
     ]
    },
    {
     "name": "stdout",
     "output_type": "stream",
     "text": [
      "an extreme close up of the bottom of a skate board\n",
      "Four men standing against a brick wall with one of them eating from a food container, one with several carrots stuffed into him mouth and the other two standing next to them.\n"
     ]
    },
    {
     "name": "stderr",
     "output_type": "stream",
     "text": [
      " 89%|████████████████████████████████████████████████████████▏      | 1326/1488 [02:37<00:30,  5.39it/s][pool-1-thread-5] INFO CoreNLP - [/127.0.0.1:40358] API call w/annotators tokenize,pos,lemma,ner,parse,depparse,coref\n",
      " 89%|████████████████████████████████████████████████████████▏      | 1327/1488 [02:37<00:26,  5.97it/s][pool-1-thread-4] INFO CoreNLP - [/127.0.0.1:40376] API call w/annotators tokenize,pos,lemma,ner,parse,depparse,coref\n",
      " 89%|████████████████████████████████████████████████████████▏      | 1328/1488 [02:37<00:24,  6.63it/s]"
     ]
    },
    {
     "name": "stdout",
     "output_type": "stream",
     "text": [
      "A man is holding a tennis racquet prepared to hit the incoming ball.\n",
      "A large green airplane has it's landing gear down.\n"
     ]
    },
    {
     "name": "stderr",
     "output_type": "stream",
     "text": [
      "[pool-1-thread-3] INFO CoreNLP - [/127.0.0.1:40390] API call w/annotators tokenize,pos,lemma,ner,parse,depparse,coref\n",
      " 89%|████████████████████████████████████████████████████████▎      | 1329/1488 [02:37<00:22,  7.23it/s][pool-1-thread-2] INFO CoreNLP - [/127.0.0.1:40408] API call w/annotators tokenize,pos,lemma,ner,parse,depparse,coref\n",
      " 89%|████████████████████████████████████████████████████████▎      | 1330/1488 [02:37<00:20,  7.81it/s]"
     ]
    },
    {
     "name": "stdout",
     "output_type": "stream",
     "text": [
      "Two girls touch an elephant's trunk at a zoo.\n",
      "A refrigerated display case is full of dairy groceries. \n"
     ]
    },
    {
     "name": "stderr",
     "output_type": "stream",
     "text": [
      "[pool-1-thread-1] INFO CoreNLP - [/127.0.0.1:40424] API call w/annotators tokenize,pos,lemma,ner,parse,depparse,coref\n",
      " 89%|████████████████████████████████████████████████████████▎      | 1331/1488 [02:37<00:19,  7.93it/s][pool-1-thread-5] INFO CoreNLP - [/127.0.0.1:40456] API call w/annotators tokenize,pos,lemma,ner,parse,depparse,coref\n",
      " 90%|████████████████████████████████████████████████████████▍      | 1332/1488 [02:38<00:19,  7.97it/s]"
     ]
    },
    {
     "name": "stdout",
     "output_type": "stream",
     "text": [
      "A wildebeest walking in a field with a giraffe in the background.\n",
      "A fresh beer sits on a table next to a cooked pizza.\n"
     ]
    },
    {
     "name": "stderr",
     "output_type": "stream",
     "text": [
      "[pool-1-thread-4] INFO CoreNLP - [/127.0.0.1:40464] API call w/annotators tokenize,pos,lemma,ner,parse,depparse,coref\n",
      "[pool-1-thread-3] INFO CoreNLP - [/127.0.0.1:40474] API call w/annotators tokenize,pos,lemma,ner,parse,depparse,coref\n"
     ]
    },
    {
     "name": "stdout",
     "output_type": "stream",
     "text": [
      "Two guys cross country ski in a race\n",
      "A view from the windshield of a car shows a street with traffic, lights, and buildings.\n"
     ]
    },
    {
     "name": "stderr",
     "output_type": "stream",
     "text": [
      " 90%|████████████████████████████████████████████████████████▍      | 1334/1488 [02:38<00:19,  7.72it/s][pool-1-thread-2] INFO CoreNLP - [/127.0.0.1:40490] API call w/annotators tokenize,pos,lemma,ner,parse,depparse,coref\n",
      " 90%|████████████████████████████████████████████████████████▌      | 1335/1488 [02:38<00:18,  8.15it/s][pool-1-thread-1] INFO CoreNLP - [/127.0.0.1:40500] API call w/annotators tokenize,pos,lemma,ner,parse,depparse,coref\n",
      " 90%|████████████████████████████████████████████████████████▌      | 1336/1488 [02:38<00:19,  7.91it/s]"
     ]
    },
    {
     "name": "stdout",
     "output_type": "stream",
     "text": [
      "A computer setup on a black computer desk.\n",
      "This is a picture of a kitchen with cabinets, large appliances and dishes.\n"
     ]
    },
    {
     "name": "stderr",
     "output_type": "stream",
     "text": [
      "[pool-1-thread-5] INFO CoreNLP - [/127.0.0.1:40522] API call w/annotators tokenize,pos,lemma,ner,parse,depparse,coref\n",
      " 90%|████████████████████████████████████████████████████████▌      | 1337/1488 [02:38<00:18,  8.25it/s][pool-1-thread-4] INFO CoreNLP - [/127.0.0.1:40536] API call w/annotators tokenize,pos,lemma,ner,parse,depparse,coref\n",
      " 90%|████████████████████████████████████████████████████████▋      | 1338/1488 [02:38<00:17,  8.56it/s]"
     ]
    },
    {
     "name": "stdout",
     "output_type": "stream",
     "text": [
      "An old yellow boat among the white and blue boats.\n",
      "A pile of oranges, blue berries and raspberries.\n"
     ]
    },
    {
     "name": "stderr",
     "output_type": "stream",
     "text": [
      "[pool-1-thread-3] INFO CoreNLP - [/127.0.0.1:40542] API call w/annotators tokenize,pos,lemma,ner,parse,depparse,coref\n",
      " 90%|████████████████████████████████████████████████████████▋      | 1339/1488 [02:38<00:17,  8.61it/s][pool-1-thread-2] INFO CoreNLP - [/127.0.0.1:40572] API call w/annotators tokenize,pos,lemma,ner,parse,depparse,coref\n",
      " 90%|████████████████████████████████████████████████████████▋      | 1340/1488 [02:39<00:16,  8.86it/s]"
     ]
    },
    {
     "name": "stdout",
     "output_type": "stream",
     "text": [
      "A small elephant with a seat tied to it's back.\n",
      "Several umbrellas on the edge of a water enclosure.\n"
     ]
    },
    {
     "name": "stderr",
     "output_type": "stream",
     "text": [
      "[pool-1-thread-1] INFO CoreNLP - [/127.0.0.1:40602] API call w/annotators tokenize,pos,lemma,ner,parse,depparse,coref\n",
      "[pool-1-thread-5] INFO CoreNLP - [/127.0.0.1:40626] API call w/annotators tokenize,pos,lemma,ner,parse,depparse,coref\n",
      " 90%|████████████████████████████████████████████████████████▊      | 1342/1488 [02:39<00:16,  8.89it/s]"
     ]
    },
    {
     "name": "stdout",
     "output_type": "stream",
     "text": [
      "The mother elephant is walking with her baby. \n",
      "There is broccoli on a plate with another vegetable that's been grilled.\n"
     ]
    },
    {
     "name": "stderr",
     "output_type": "stream",
     "text": [
      "[pool-1-thread-4] INFO CoreNLP - [/127.0.0.1:40656] API call w/annotators tokenize,pos,lemma,ner,parse,depparse,coref\n",
      " 90%|████████████████████████████████████████████████████████▊      | 1343/1488 [02:39<00:17,  8.46it/s][pool-1-thread-3] INFO CoreNLP - [/127.0.0.1:44754] API call w/annotators tokenize,pos,lemma,ner,parse,depparse,coref\n"
     ]
    },
    {
     "name": "stdout",
     "output_type": "stream",
     "text": [
      "Skier doing jump off a small snow mound in a red jacket\n",
      "A bright computer screen inside of a room.\n"
     ]
    },
    {
     "name": "stderr",
     "output_type": "stream",
     "text": [
      "[pool-1-thread-2] INFO CoreNLP - [/127.0.0.1:44772] API call w/annotators tokenize,pos,lemma,ner,parse,depparse,coref\n",
      " 90%|████████████████████████████████████████████████████████▉      | 1345/1488 [02:39<00:16,  8.89it/s][pool-1-thread-1] INFO CoreNLP - [/127.0.0.1:44784] API call w/annotators tokenize,pos,lemma,ner,parse,depparse,coref\n",
      " 90%|████████████████████████████████████████████████████████▉      | 1346/1488 [02:39<00:15,  8.96it/s]"
     ]
    },
    {
     "name": "stdout",
     "output_type": "stream",
     "text": [
      "Two zebras and a deer grazing in a grass field.\n",
      "A large body of water sitting below a mountain range.\n"
     ]
    },
    {
     "name": "stderr",
     "output_type": "stream",
     "text": [
      "[pool-1-thread-5] INFO CoreNLP - [/127.0.0.1:44790] API call w/annotators tokenize,pos,lemma,ner,parse,depparse,coref\n",
      " 91%|█████████████████████████████████████████████████████████      | 1347/1488 [02:39<00:15,  9.16it/s][pool-1-thread-4] INFO CoreNLP - [/127.0.0.1:44806] API call w/annotators tokenize,pos,lemma,ner,parse,depparse,coref\n",
      " 91%|█████████████████████████████████████████████████████████      | 1348/1488 [02:39<00:15,  9.17it/s]"
     ]
    },
    {
     "name": "stdout",
     "output_type": "stream",
     "text": [
      "an image of a vase of flowers on ledge\n",
      "an image of firestone grill cooking pizza in the oven\n"
     ]
    },
    {
     "name": "stderr",
     "output_type": "stream",
     "text": [
      "[pool-1-thread-3] INFO CoreNLP - [/127.0.0.1:44828] API call w/annotators tokenize,pos,lemma,ner,parse,depparse,coref\n",
      " 91%|█████████████████████████████████████████████████████████      | 1349/1488 [02:40<00:15,  9.02it/s][pool-1-thread-2] INFO CoreNLP - [/127.0.0.1:44838] API call w/annotators tokenize,pos,lemma,ner,parse,depparse,coref\n",
      " 91%|█████████████████████████████████████████████████████████▏     | 1350/1488 [02:40<00:15,  9.07it/s]"
     ]
    },
    {
     "name": "stdout",
     "output_type": "stream",
     "text": [
      "A tennis player crouching waiting for the ball to be hit to him \n",
      "a close up of two people sitting close to one another\n"
     ]
    },
    {
     "name": "stderr",
     "output_type": "stream",
     "text": [
      "[pool-1-thread-1] INFO CoreNLP - [/127.0.0.1:44866] API call w/annotators tokenize,pos,lemma,ner,parse,depparse,coref\n",
      " 91%|█████████████████████████████████████████████████████████▏     | 1351/1488 [02:40<00:15,  8.94it/s][pool-1-thread-5] INFO CoreNLP - [/127.0.0.1:44880] API call w/annotators tokenize,pos,lemma,ner,parse,depparse,coref\n",
      " 91%|█████████████████████████████████████████████████████████▏     | 1352/1488 [02:40<00:14,  9.11it/s]"
     ]
    },
    {
     "name": "stdout",
     "output_type": "stream",
     "text": [
      "A dime sits in the middle of a group of stones.\n",
      "a train moving on a railway line and controller looking\n"
     ]
    },
    {
     "name": "stderr",
     "output_type": "stream",
     "text": [
      "[pool-1-thread-4] INFO CoreNLP - [/127.0.0.1:44890] API call w/annotators tokenize,pos,lemma,ner,parse,depparse,coref\n",
      "[pool-1-thread-3] INFO CoreNLP - [/127.0.0.1:44908] API call w/annotators tokenize,pos,lemma,ner,parse,depparse,coref\n",
      " 91%|█████████████████████████████████████████████████████████▎     | 1354/1488 [02:40<00:14,  9.52it/s][pool-1-thread-2] INFO CoreNLP - [/127.0.0.1:44930] API call w/annotators tokenize,pos,lemma,ner,parse,depparse,coref\n"
     ]
    },
    {
     "name": "stdout",
     "output_type": "stream",
     "text": [
      "a male shirtless skateboarder is doing a trick\n",
      "a coupe of people are sitting outside on a bench\n",
      "A female tennis player dribbles a ball on the court.\n"
     ]
    },
    {
     "name": "stderr",
     "output_type": "stream",
     "text": [
      " 91%|█████████████████████████████████████████████████████████▎     | 1355/1488 [02:40<00:14,  9.29it/s][pool-1-thread-1] INFO CoreNLP - [/127.0.0.1:44936] API call w/annotators tokenize,pos,lemma,ner,parse,depparse,coref\n",
      " 91%|█████████████████████████████████████████████████████████▍     | 1356/1488 [02:40<00:14,  9.42it/s][pool-1-thread-5] INFO CoreNLP - [/127.0.0.1:44966] API call w/annotators tokenize,pos,lemma,ner,parse,depparse,coref\n",
      "[pool-1-thread-4] INFO CoreNLP - [/127.0.0.1:44996] API call w/annotators tokenize,pos,lemma,ner,parse,depparse,coref\n"
     ]
    },
    {
     "name": "stdout",
     "output_type": "stream",
     "text": [
      "A large dog resting in a striped armchair.\n",
      "Some young skateboarders are riding down the sidewalk.\n",
      "A young woman in an orange dress holds a black umbrella\n"
     ]
    },
    {
     "name": "stderr",
     "output_type": "stream",
     "text": [
      " 91%|█████████████████████████████████████████████████████████▍     | 1358/1488 [02:40<00:13,  9.49it/s][pool-1-thread-3] INFO CoreNLP - [/127.0.0.1:45024] API call w/annotators tokenize,pos,lemma,ner,parse,depparse,coref\n",
      " 91%|█████████████████████████████████████████████████████████▌     | 1359/1488 [02:41<00:13,  9.42it/s][pool-1-thread-2] INFO CoreNLP - [/127.0.0.1:45036] API call w/annotators tokenize,pos,lemma,ner,parse,depparse,coref\n",
      " 91%|█████████████████████████████████████████████████████████▌     | 1360/1488 [02:41<00:13,  9.28it/s]"
     ]
    },
    {
     "name": "stdout",
     "output_type": "stream",
     "text": [
      "A train at the station with it's door open.\n",
      "A bunny eating a carrot being help by a teddy bear.\n"
     ]
    },
    {
     "name": "stderr",
     "output_type": "stream",
     "text": [
      "[pool-1-thread-1] INFO CoreNLP - [/127.0.0.1:45052] API call w/annotators tokenize,pos,lemma,ner,parse,depparse,coref\n",
      " 91%|█████████████████████████████████████████████████████████▌     | 1361/1488 [02:41<00:14,  9.02it/s][pool-1-thread-5] INFO CoreNLP - [/127.0.0.1:45068] API call w/annotators tokenize,pos,lemma,ner,parse,depparse,coref\n",
      " 92%|█████████████████████████████████████████████████████████▋     | 1362/1488 [02:41<00:13,  9.20it/s]"
     ]
    },
    {
     "name": "stdout",
     "output_type": "stream",
     "text": [
      "shows a plate and a fork that was just ate off of.\n",
      "Ron Paul holding a surfboard next to Barrack Obama.\n"
     ]
    },
    {
     "name": "stderr",
     "output_type": "stream",
     "text": [
      "[pool-1-thread-4] INFO CoreNLP - [/127.0.0.1:45076] API call w/annotators tokenize,pos,lemma,ner,parse,depparse,coref\n",
      " 92%|█████████████████████████████████████████████████████████▋     | 1363/1488 [02:41<00:13,  9.29it/s][pool-1-thread-3] INFO CoreNLP - [/127.0.0.1:45096] API call w/annotators tokenize,pos,lemma,ner,parse,depparse,coref\n",
      "[pool-1-thread-2] INFO CoreNLP - [/127.0.0.1:45120] API call w/annotators tokenize,pos,lemma,ner,parse,depparse,coref\n"
     ]
    },
    {
     "name": "stdout",
     "output_type": "stream",
     "text": [
      "A clock is on two sides of a building.\n",
      "An American flag is waving in the air\n",
      "a close up of a plate of food on a table with pizza\n"
     ]
    },
    {
     "name": "stderr",
     "output_type": "stream",
     "text": [
      " 92%|█████████████████████████████████████████████████████████▊     | 1365/1488 [02:41<00:13,  9.26it/s][pool-1-thread-1] INFO CoreNLP - [/127.0.0.1:45144] API call w/annotators tokenize,pos,lemma,ner,parse,depparse,coref\n",
      "[pool-1-thread-5] INFO CoreNLP - [/127.0.0.1:45168] API call w/annotators tokenize,pos,lemma,ner,parse,depparse,coref\n",
      " 92%|█████████████████████████████████████████████████████████▉     | 1367/1488 [02:41<00:13,  9.30it/s]"
     ]
    },
    {
     "name": "stdout",
     "output_type": "stream",
     "text": [
      "An elephant is adorned with a head scarf.\n",
      "The woman is riding the waves on her surfboard.\n"
     ]
    },
    {
     "name": "stderr",
     "output_type": "stream",
     "text": [
      "[pool-1-thread-4] INFO CoreNLP - [/127.0.0.1:45180] API call w/annotators tokenize,pos,lemma,ner,parse,depparse,coref\n",
      "[pool-1-thread-3] INFO CoreNLP - [/127.0.0.1:45196] API call w/annotators tokenize,pos,lemma,ner,parse,depparse,coref\n",
      " 92%|█████████████████████████████████████████████████████████▉     | 1369/1488 [02:42<00:12,  9.41it/s]"
     ]
    },
    {
     "name": "stdout",
     "output_type": "stream",
     "text": [
      "a horse in a field of tall grass\n",
      "A toilet in a restroom next to a toilet paper dispenser\n"
     ]
    },
    {
     "name": "stderr",
     "output_type": "stream",
     "text": [
      "[pool-1-thread-2] INFO CoreNLP - [/127.0.0.1:45228] API call w/annotators tokenize,pos,lemma,ner,parse,depparse,coref\n",
      " 92%|██████████████████████████████████████████████████████████     | 1370/1488 [02:42<00:12,  9.44it/s][pool-1-thread-1] INFO CoreNLP - [/127.0.0.1:45236] API call w/annotators tokenize,pos,lemma,ner,parse,depparse,coref\n",
      " 92%|██████████████████████████████████████████████████████████     | 1371/1488 [02:42<00:12,  9.41it/s]"
     ]
    },
    {
     "name": "stdout",
     "output_type": "stream",
     "text": [
      "Elephant walking through a dusty field in the savannah.\n",
      "The two men wearing suits are posing for a picture.\n"
     ]
    },
    {
     "name": "stderr",
     "output_type": "stream",
     "text": [
      "[pool-1-thread-5] INFO CoreNLP - [/127.0.0.1:45264] API call w/annotators tokenize,pos,lemma,ner,parse,depparse,coref\n",
      " 92%|██████████████████████████████████████████████████████████     | 1372/1488 [02:42<00:12,  9.52it/s][pool-1-thread-4] INFO CoreNLP - [/127.0.0.1:45280] API call w/annotators tokenize,pos,lemma,ner,parse,depparse,coref\n",
      " 92%|██████████████████████████████████████████████████████████▏    | 1373/1488 [02:42<00:12,  9.49it/s]"
     ]
    },
    {
     "name": "stdout",
     "output_type": "stream",
     "text": [
      "A glazed doughnut that laying on a napkin.\n",
      "Cows in field with melting snow in the background. \n"
     ]
    },
    {
     "name": "stderr",
     "output_type": "stream",
     "text": [
      "[pool-1-thread-3] INFO CoreNLP - [/127.0.0.1:45304] API call w/annotators tokenize,pos,lemma,ner,parse,depparse,coref\n",
      " 92%|██████████████████████████████████████████████████████████▏    | 1374/1488 [02:42<00:12,  9.27it/s][pool-1-thread-2] INFO CoreNLP - [/127.0.0.1:45328] API call w/annotators tokenize,pos,lemma,ner,parse,depparse,coref\n"
     ]
    },
    {
     "name": "stdout",
     "output_type": "stream",
     "text": [
      "The young children are playing with the Frisbee's in the field. \n",
      "A tree grows bunches of green bananas as a man with yellow flip flops stands near it.\n"
     ]
    },
    {
     "name": "stderr",
     "output_type": "stream",
     "text": [
      " 92%|██████████████████████████████████████████████████████████▏    | 1375/1488 [02:42<00:13,  8.21it/s][pool-1-thread-1] INFO CoreNLP - [/127.0.0.1:45332] API call w/annotators tokenize,pos,lemma,ner,parse,depparse,coref\n",
      " 92%|██████████████████████████████████████████████████████████▎    | 1376/1488 [02:42<00:13,  8.43it/s][pool-1-thread-5] INFO CoreNLP - [/127.0.0.1:45338] API call w/annotators tokenize,pos,lemma,ner,parse,depparse,coref\n",
      " 93%|██████████████████████████████████████████████████████████▎    | 1377/1488 [02:43<00:13,  8.36it/s]"
     ]
    },
    {
     "name": "stdout",
     "output_type": "stream",
     "text": [
      "A table with a plate of food and some drinks.\n",
      "a parking meter that takes visa and a car parked in the spot\n"
     ]
    },
    {
     "name": "stderr",
     "output_type": "stream",
     "text": [
      "[pool-1-thread-4] INFO CoreNLP - [/127.0.0.1:45358] API call w/annotators tokenize,pos,lemma,ner,parse,depparse,coref\n",
      " 93%|██████████████████████████████████████████████████████████▎    | 1378/1488 [02:43<00:12,  8.48it/s][pool-1-thread-3] INFO CoreNLP - [/127.0.0.1:45380] API call w/annotators tokenize,pos,lemma,ner,parse,depparse,coref\n",
      " 93%|██████████████████████████████████████████████████████████▍    | 1379/1488 [02:43<00:13,  8.22it/s]"
     ]
    },
    {
     "name": "stdout",
     "output_type": "stream",
     "text": [
      "Four people aitting down and having a small snack break.\n",
      "A blue motorcycle parked next to a red motorcycle on a lush green field.\n"
     ]
    },
    {
     "name": "stderr",
     "output_type": "stream",
     "text": [
      "[pool-1-thread-2] INFO CoreNLP - [/127.0.0.1:45394] API call w/annotators tokenize,pos,lemma,ner,parse,depparse,coref\n",
      "[pool-1-thread-1] INFO CoreNLP - [/127.0.0.1:45402] API call w/annotators tokenize,pos,lemma,ner,parse,depparse,coref\n",
      " 93%|██████████████████████████████████████████████████████████▍    | 1381/1488 [02:43<00:12,  8.62it/s]"
     ]
    },
    {
     "name": "stdout",
     "output_type": "stream",
     "text": [
      "a person riding a surf board on a wave\n",
      "The yellow truck passes by two people on motorcycles from opposing directions.\n"
     ]
    },
    {
     "name": "stderr",
     "output_type": "stream",
     "text": [
      "[pool-1-thread-5] INFO CoreNLP - [/127.0.0.1:45414] API call w/annotators tokenize,pos,lemma,ner,parse,depparse,coref\n",
      " 93%|██████████████████████████████████████████████████████████▌    | 1382/1488 [02:43<00:12,  8.82it/s][pool-1-thread-4] INFO CoreNLP - [/127.0.0.1:45436] API call w/annotators tokenize,pos,lemma,ner,parse,depparse,coref\n",
      " 93%|██████████████████████████████████████████████████████████▌    | 1383/1488 [02:43<00:12,  8.63it/s]"
     ]
    },
    {
     "name": "stdout",
     "output_type": "stream",
     "text": [
      "Male tennis player with flattened hand raised above head.\n",
      "An orange Frisbee with the ocean and blue sky in the background.\n"
     ]
    },
    {
     "name": "stderr",
     "output_type": "stream",
     "text": [
      "[pool-1-thread-3] INFO CoreNLP - [/127.0.0.1:45452] API call w/annotators tokenize,pos,lemma,ner,parse,depparse,coref\n",
      "[pool-1-thread-2] INFO CoreNLP - [/127.0.0.1:45468] API call w/annotators tokenize,pos,lemma,ner,parse,depparse,coref\n",
      " 93%|██████████████████████████████████████████████████████████▋    | 1385/1488 [02:43<00:11,  9.10it/s]"
     ]
    },
    {
     "name": "stdout",
     "output_type": "stream",
     "text": [
      "There is a mirror placed on a head board\n",
      "A group of people sitting under umbrellas drinking beer.\n"
     ]
    },
    {
     "name": "stderr",
     "output_type": "stream",
     "text": [
      "[pool-1-thread-1] INFO CoreNLP - [/127.0.0.1:45492] API call w/annotators tokenize,pos,lemma,ner,parse,depparse,coref\n",
      " 93%|██████████████████████████████████████████████████████████▋    | 1386/1488 [02:44<00:11,  8.84it/s][pool-1-thread-5] INFO CoreNLP - [/127.0.0.1:45518] API call w/annotators tokenize,pos,lemma,ner,parse,depparse,coref\n",
      " 93%|██████████████████████████████████████████████████████████▋    | 1387/1488 [02:44<00:11,  8.83it/s]"
     ]
    },
    {
     "name": "stdout",
     "output_type": "stream",
     "text": [
      "A personal pizza with several toppings and a beer in a glass.\n",
      "A couple stands in shallow water next to a light aircraft.\n"
     ]
    },
    {
     "name": "stderr",
     "output_type": "stream",
     "text": [
      "[pool-1-thread-4] INFO CoreNLP - [/127.0.0.1:45530] API call w/annotators tokenize,pos,lemma,ner,parse,depparse,coref\n",
      "[pool-1-thread-3] INFO CoreNLP - [/127.0.0.1:45550] API call w/annotators tokenize,pos,lemma,ner,parse,depparse,coref\n",
      " 93%|██████████████████████████████████████████████████████████▊    | 1389/1488 [02:44<00:11,  9.00it/s]"
     ]
    },
    {
     "name": "stdout",
     "output_type": "stream",
     "text": [
      "A woman holding an umbrella in the rain \n",
      "3 slices of pizza with bell pepper, olives, and avocado\n"
     ]
    },
    {
     "name": "stderr",
     "output_type": "stream",
     "text": [
      "[pool-1-thread-2] INFO CoreNLP - [/127.0.0.1:45570] API call w/annotators tokenize,pos,lemma,ner,parse,depparse,coref\n",
      " 93%|██████████████████████████████████████████████████████████▊    | 1390/1488 [02:44<00:11,  8.80it/s][pool-1-thread-1] INFO CoreNLP - [/127.0.0.1:45574] API call w/annotators tokenize,pos,lemma,ner,parse,depparse,coref\n",
      " 93%|██████████████████████████████████████████████████████████▉    | 1391/1488 [02:44<00:11,  8.45it/s]"
     ]
    },
    {
     "name": "stdout",
     "output_type": "stream",
     "text": [
      "A PHOTO OF A LIVING ROOM WITH COUCHES AND A TABLE \n",
      "A person is holding a cup with food and a plastic sword in it.\n"
     ]
    },
    {
     "name": "stderr",
     "output_type": "stream",
     "text": [
      "[pool-1-thread-5] INFO CoreNLP - [/127.0.0.1:45600] API call w/annotators tokenize,pos,lemma,ner,parse,depparse,coref\n",
      " 94%|██████████████████████████████████████████████████████████▉    | 1392/1488 [02:44<00:11,  8.67it/s][pool-1-thread-4] INFO CoreNLP - [/127.0.0.1:45616] API call w/annotators tokenize,pos,lemma,ner,parse,depparse,coref\n",
      " 94%|██████████████████████████████████████████████████████████▉    | 1393/1488 [02:44<00:11,  8.50it/s]"
     ]
    },
    {
     "name": "stdout",
     "output_type": "stream",
     "text": [
      "this is a pair of toilet sin a mens restroom\n",
      "I almost did not see the bird that is camouflaged in this photo.\n"
     ]
    },
    {
     "name": "stderr",
     "output_type": "stream",
     "text": [
      "[pool-1-thread-3] INFO CoreNLP - [/127.0.0.1:45638] API call w/annotators tokenize,pos,lemma,ner,parse,depparse,coref\n",
      " 94%|███████████████████████████████████████████████████████████    | 1394/1488 [02:45<00:11,  8.42it/s][pool-1-thread-2] INFO CoreNLP - [/127.0.0.1:45654] API call w/annotators tokenize,pos,lemma,ner,parse,depparse,coref\n",
      " 94%|███████████████████████████████████████████████████████████    | 1395/1488 [02:45<00:10,  8.70it/s]"
     ]
    },
    {
     "name": "stdout",
     "output_type": "stream",
     "text": [
      "Woman standing inside a small kitchen with a stove and counter space. \n",
      "A bald man with glasses holding a wine glass.\n"
     ]
    },
    {
     "name": "stderr",
     "output_type": "stream",
     "text": [
      "[pool-1-thread-1] INFO CoreNLP - [/127.0.0.1:45670] API call w/annotators tokenize,pos,lemma,ner,parse,depparse,coref\n",
      " 94%|███████████████████████████████████████████████████████████    | 1396/1488 [02:45<00:10,  8.46it/s][pool-1-thread-5] INFO CoreNLP - [/127.0.0.1:45690] API call w/annotators tokenize,pos,lemma,ner,parse,depparse,coref\n",
      " 94%|███████████████████████████████████████████████████████████▏   | 1397/1488 [02:45<00:10,  8.79it/s]"
     ]
    },
    {
     "name": "stdout",
     "output_type": "stream",
     "text": [
      "A room that has a couch, chair, and table in it.\n",
      "A group of men with remotes in a room.\n"
     ]
    },
    {
     "name": "stderr",
     "output_type": "stream",
     "text": [
      "[pool-1-thread-4] INFO CoreNLP - [/127.0.0.1:45710] API call w/annotators tokenize,pos,lemma,ner,parse,depparse,coref\n",
      " 94%|███████████████████████████████████████████████████████████▏   | 1398/1488 [02:45<00:10,  8.55it/s][pool-1-thread-3] INFO CoreNLP - [/127.0.0.1:45722] API call w/annotators tokenize,pos,lemma,ner,parse,depparse,coref\n",
      " 94%|███████████████████████████████████████████████████████████▏   | 1399/1488 [02:45<00:10,  8.82it/s]"
     ]
    },
    {
     "name": "stdout",
     "output_type": "stream",
     "text": [
      "People rides bicycles as a bus driver stands in front of the bus\n",
      "A view of a street with multiple store fronts. \n"
     ]
    },
    {
     "name": "stderr",
     "output_type": "stream",
     "text": [
      "[pool-1-thread-2] INFO CoreNLP - [/127.0.0.1:45752] API call w/annotators tokenize,pos,lemma,ner,parse,depparse,coref\n",
      " 94%|███████████████████████████████████████████████████████████▎   | 1400/1488 [02:45<00:10,  8.77it/s][pool-1-thread-1] INFO CoreNLP - [/127.0.0.1:45758] API call w/annotators tokenize,pos,lemma,ner,parse,depparse,coref\n"
     ]
    },
    {
     "name": "stdout",
     "output_type": "stream",
     "text": [
      "A tree sitting next to a bench near a lake.\n",
      "A person reflective gear directing an airplane \n"
     ]
    },
    {
     "name": "stderr",
     "output_type": "stream",
     "text": [
      "[pool-1-thread-5] INFO CoreNLP - [/127.0.0.1:45784] API call w/annotators tokenize,pos,lemma,ner,parse,depparse,coref\n",
      " 94%|███████████████████████████████████████████████████████████▎   | 1402/1488 [02:45<00:09,  9.40it/s][pool-1-thread-4] INFO CoreNLP - [/127.0.0.1:45806] API call w/annotators tokenize,pos,lemma,ner,parse,depparse,coref\n",
      " 94%|███████████████████████████████████████████████████████████▍   | 1403/1488 [02:46<00:09,  9.41it/s]"
     ]
    },
    {
     "name": "stdout",
     "output_type": "stream",
     "text": [
      "Cars are driving near buses and under a train track\n",
      "A large group of cyclists ride by at night.\n"
     ]
    },
    {
     "name": "stderr",
     "output_type": "stream",
     "text": [
      "[pool-1-thread-3] INFO CoreNLP - [/127.0.0.1:45826] API call w/annotators tokenize,pos,lemma,ner,parse,depparse,coref\n",
      " 94%|███████████████████████████████████████████████████████████▍   | 1404/1488 [02:46<00:08,  9.44it/s][pool-1-thread-2] INFO CoreNLP - [/127.0.0.1:45836] API call w/annotators tokenize,pos,lemma,ner,parse,depparse,coref\n"
     ]
    },
    {
     "name": "stdout",
     "output_type": "stream",
     "text": [
      "Two men walking down the street above a river.\n",
      "this boat is making waves in the water\n"
     ]
    },
    {
     "name": "stderr",
     "output_type": "stream",
     "text": [
      "[pool-1-thread-1] INFO CoreNLP - [/127.0.0.1:45866] API call w/annotators tokenize,pos,lemma,ner,parse,depparse,coref\n",
      " 94%|███████████████████████████████████████████████████████████▌   | 1406/1488 [02:46<00:08,  9.62it/s][pool-1-thread-5] INFO CoreNLP - [/127.0.0.1:45888] API call w/annotators tokenize,pos,lemma,ner,parse,depparse,coref\n",
      " 95%|███████████████████████████████████████████████████████████▌   | 1407/1488 [02:46<00:08,  9.57it/s]"
     ]
    },
    {
     "name": "stdout",
     "output_type": "stream",
     "text": [
      "A couple of ducks laying on the green grass.\n",
      "A silver and orange bus is on a city street.\n"
     ]
    },
    {
     "name": "stderr",
     "output_type": "stream",
     "text": [
      "[pool-1-thread-4] INFO CoreNLP - [/127.0.0.1:45902] API call w/annotators tokenize,pos,lemma,ner,parse,depparse,coref\n",
      " 95%|███████████████████████████████████████████████████████████▌   | 1408/1488 [02:46<00:08,  9.04it/s][pool-1-thread-3] INFO CoreNLP - [/127.0.0.1:45918] API call w/annotators tokenize,pos,lemma,ner,parse,depparse,coref\n",
      " 95%|███████████████████████████████████████████████████████████▋   | 1409/1488 [02:46<00:08,  9.06it/s]"
     ]
    },
    {
     "name": "stdout",
     "output_type": "stream",
     "text": [
      "A bathroom sink has a mirror above it with towel and soap dispensers.\n",
      "The furniture in the small living room is mostly red.\n"
     ]
    },
    {
     "name": "stderr",
     "output_type": "stream",
     "text": [
      "[pool-1-thread-2] INFO CoreNLP - [/127.0.0.1:45928] API call w/annotators tokenize,pos,lemma,ner,parse,depparse,coref\n",
      " 95%|███████████████████████████████████████████████████████████▋   | 1410/1488 [02:46<00:08,  8.94it/s][pool-1-thread-1] INFO CoreNLP - [/127.0.0.1:45956] API call w/annotators tokenize,pos,lemma,ner,parse,depparse,coref\n",
      " 95%|███████████████████████████████████████████████████████████▋   | 1411/1488 [02:46<00:08,  8.89it/s]"
     ]
    },
    {
     "name": "stdout",
     "output_type": "stream",
     "text": [
      "A two story white building with lots of umbrellas over them.\n",
      "Slice of pizza sitting on a metallic table inside a restaurant. \n"
     ]
    },
    {
     "name": "stderr",
     "output_type": "stream",
     "text": [
      "[pool-1-thread-5] INFO CoreNLP - [/127.0.0.1:45966] API call w/annotators tokenize,pos,lemma,ner,parse,depparse,coref\n",
      " 95%|███████████████████████████████████████████████████████████▊   | 1412/1488 [02:47<00:08,  8.73it/s][pool-1-thread-4] INFO CoreNLP - [/127.0.0.1:45990] API call w/annotators tokenize,pos,lemma,ner,parse,depparse,coref\n",
      " 95%|███████████████████████████████████████████████████████████▊   | 1413/1488 [02:47<00:08,  8.97it/s]"
     ]
    },
    {
     "name": "stdout",
     "output_type": "stream",
     "text": [
      "A wooden table containing papers, scissors and a tape dispenser.\n",
      "an animal walking on the sand by the ocean.\n"
     ]
    },
    {
     "name": "stderr",
     "output_type": "stream",
     "text": [
      "[pool-1-thread-3] INFO CoreNLP - [/127.0.0.1:46012] API call w/annotators tokenize,pos,lemma,ner,parse,depparse,coref\n",
      "[pool-1-thread-2] INFO CoreNLP - [/127.0.0.1:46040] API call w/annotators tokenize,pos,lemma,ner,parse,depparse,coref\n",
      " 95%|███████████████████████████████████████████████████████████▉   | 1415/1488 [02:47<00:07,  9.68it/s][pool-1-thread-1] INFO CoreNLP - [/127.0.0.1:46062] API call w/annotators tokenize,pos,lemma,ner,parse,depparse,coref\n"
     ]
    },
    {
     "name": "stdout",
     "output_type": "stream",
     "text": [
      "A person wearing a suit takes a picture\n",
      "Two giraffes standing outside near a building.  \n",
      "A large herd of elephants being led into water. \n"
     ]
    },
    {
     "name": "stderr",
     "output_type": "stream",
     "text": [
      " 95%|███████████████████████████████████████████████████████████▉   | 1416/1488 [02:47<00:07,  9.65it/s][pool-1-thread-5] INFO CoreNLP - [/127.0.0.1:46088] API call w/annotators tokenize,pos,lemma,ner,parse,depparse,coref\n",
      " 95%|███████████████████████████████████████████████████████████▉   | 1417/1488 [02:47<00:09,  7.16it/s]"
     ]
    },
    {
     "name": "stdout",
     "output_type": "stream",
     "text": [
      "A man is standing on a platform with his bicycle dressed in a jersey and bike shorts with two women at a table behind him. \n"
     ]
    },
    {
     "name": "stderr",
     "output_type": "stream",
     "text": [
      "[pool-1-thread-4] INFO CoreNLP - [/127.0.0.1:46102] API call w/annotators tokenize,pos,lemma,ner,parse,depparse,coref\n",
      " 95%|████████████████████████████████████████████████████████████   | 1418/1488 [02:47<00:09,  7.70it/s][pool-1-thread-3] INFO CoreNLP - [/127.0.0.1:46114] API call w/annotators tokenize,pos,lemma,ner,parse,depparse,coref\n",
      " 95%|████████████████████████████████████████████████████████████   | 1419/1488 [02:47<00:08,  7.86it/s]"
     ]
    },
    {
     "name": "stdout",
     "output_type": "stream",
     "text": [
      "THREE WOMEN ARE IN UNIFORM WORKING AT A BAKERY\n",
      "A woman in grey shirt and hat sitting on a wooden bench.\n"
     ]
    },
    {
     "name": "stderr",
     "output_type": "stream",
     "text": [
      "[pool-1-thread-2] INFO CoreNLP - [/127.0.0.1:46136] API call w/annotators tokenize,pos,lemma,ner,parse,depparse,coref\n",
      " 95%|████████████████████████████████████████████████████████████   | 1420/1488 [02:48<00:08,  8.23it/s][pool-1-thread-1] INFO CoreNLP - [/127.0.0.1:46156] API call w/annotators tokenize,pos,lemma,ner,parse,depparse,coref\n",
      " 95%|████████████████████████████████████████████████████████████▏  | 1421/1488 [02:48<00:07,  8.57it/s]"
     ]
    },
    {
     "name": "stdout",
     "output_type": "stream",
     "text": [
      "green velvet couch and coffee table with items on it\n",
      "People are walking and cars are driving in a city.\n"
     ]
    },
    {
     "name": "stderr",
     "output_type": "stream",
     "text": [
      "[pool-1-thread-5] INFO CoreNLP - [/127.0.0.1:46170] API call w/annotators tokenize,pos,lemma,ner,parse,depparse,coref\n",
      " 96%|████████████████████████████████████████████████████████████▏  | 1422/1488 [02:48<00:08,  8.07it/s][pool-1-thread-4] INFO CoreNLP - [/127.0.0.1:46192] API call w/annotators tokenize,pos,lemma,ner,parse,depparse,coref\n"
     ]
    },
    {
     "name": "stdout",
     "output_type": "stream",
     "text": [
      "A person holding a snow board vertical in front of them a wooded snowy area.\n",
      "Three freshly baked roles on a pink napkin on a wooden table.\n"
     ]
    },
    {
     "name": "stderr",
     "output_type": "stream",
     "text": [
      " 96%|████████████████████████████████████████████████████████████▏  | 1423/1488 [02:48<00:08,  7.97it/s][pool-1-thread-3] INFO CoreNLP - [/127.0.0.1:46212] API call w/annotators tokenize,pos,lemma,ner,parse,depparse,coref\n",
      " 96%|████████████████████████████████████████████████████████████▎  | 1424/1488 [02:48<00:08,  7.56it/s][pool-1-thread-2] INFO CoreNLP - [/127.0.0.1:46240] API call w/annotators tokenize,pos,lemma,ner,parse,depparse,coref\n",
      " 96%|████████████████████████████████████████████████████████████▎  | 1425/1488 [02:48<00:07,  7.94it/s]"
     ]
    },
    {
     "name": "stdout",
     "output_type": "stream",
     "text": [
      "A stop sign at the intersection of two snowy streets with mountains in the distance.\n",
      "A black Honda motorcycle parked in front of a garage.\n"
     ]
    },
    {
     "name": "stderr",
     "output_type": "stream",
     "text": [
      "[pool-1-thread-1] INFO CoreNLP - [/127.0.0.1:46266] API call w/annotators tokenize,pos,lemma,ner,parse,depparse,coref\n",
      " 96%|████████████████████████████████████████████████████████████▍  | 1426/1488 [02:48<00:07,  8.19it/s][pool-1-thread-5] INFO CoreNLP - [/127.0.0.1:46276] API call w/annotators tokenize,pos,lemma,ner,parse,depparse,coref\n",
      " 96%|████████████████████████████████████████████████████████████▍  | 1427/1488 [02:48<00:07,  8.11it/s]"
     ]
    },
    {
     "name": "stdout",
     "output_type": "stream",
     "text": [
      "Three people are sitting on a bench looking over a pier.\n",
      "A red stop sign with a blue street sign on top of it.\n"
     ]
    },
    {
     "name": "stderr",
     "output_type": "stream",
     "text": [
      "[pool-1-thread-4] INFO CoreNLP - [/127.0.0.1:46300] API call w/annotators tokenize,pos,lemma,ner,parse,depparse,coref\n",
      " 96%|████████████████████████████████████████████████████████████▍  | 1428/1488 [02:48<00:07,  8.51it/s][pool-1-thread-3] INFO CoreNLP - [/127.0.0.1:46312] API call w/annotators tokenize,pos,lemma,ner,parse,depparse,coref\n",
      "[pool-1-thread-2] INFO CoreNLP - [/127.0.0.1:46324] API call w/annotators tokenize,pos,lemma,ner,parse,depparse,coref\n"
     ]
    },
    {
     "name": "stdout",
     "output_type": "stream",
     "text": [
      "A young ball player poses with his baseball glove.\n",
      "A young girl tasting food from her bowl\n",
      "A couch and chair are surrounded by books. \n"
     ]
    },
    {
     "name": "stderr",
     "output_type": "stream",
     "text": [
      " 96%|████████████████████████████████████████████████████████████▌  | 1430/1488 [02:49<00:06,  9.27it/s][pool-1-thread-1] INFO CoreNLP - [/127.0.0.1:46342] API call w/annotators tokenize,pos,lemma,ner,parse,depparse,coref\n",
      " 96%|████████████████████████████████████████████████████████████▌  | 1431/1488 [02:49<00:06,  9.23it/s][pool-1-thread-5] INFO CoreNLP - [/127.0.0.1:46358] API call w/annotators tokenize,pos,lemma,ner,parse,depparse,coref\n",
      " 96%|████████████████████████████████████████████████████████████▋  | 1432/1488 [02:49<00:06,  9.26it/s]"
     ]
    },
    {
     "name": "stdout",
     "output_type": "stream",
     "text": [
      "The person on the motorcycle had a big helmet on.\n",
      "A group of people who are on a tennis court.\n"
     ]
    },
    {
     "name": "stderr",
     "output_type": "stream",
     "text": [
      "[pool-1-thread-4] INFO CoreNLP - [/127.0.0.1:51296] API call w/annotators tokenize,pos,lemma,ner,parse,depparse,coref\n",
      " 96%|████████████████████████████████████████████████████████████▋  | 1433/1488 [02:49<00:06,  8.64it/s][pool-1-thread-3] INFO CoreNLP - [/127.0.0.1:51304] API call w/annotators tokenize,pos,lemma,ner,parse,depparse,coref\n",
      " 96%|████████████████████████████████████████████████████████████▋  | 1434/1488 [02:49<00:06,  8.63it/s]"
     ]
    },
    {
     "name": "stdout",
     "output_type": "stream",
     "text": [
      "A white bed in front of a window that shows a snowy yard.\n",
      "A collage has three images of a girl with a carrot.\n"
     ]
    },
    {
     "name": "stderr",
     "output_type": "stream",
     "text": [
      "[pool-1-thread-2] INFO CoreNLP - [/127.0.0.1:51322] API call w/annotators tokenize,pos,lemma,ner,parse,depparse,coref\n",
      " 96%|████████████████████████████████████████████████████████████▊  | 1435/1488 [02:49<00:05,  8.91it/s][pool-1-thread-1] INFO CoreNLP - [/127.0.0.1:51332] API call w/annotators tokenize,pos,lemma,ner,parse,depparse,coref\n",
      " 97%|████████████████████████████████████████████████████████████▊  | 1436/1488 [02:49<00:05,  8.87it/s]"
     ]
    },
    {
     "name": "stdout",
     "output_type": "stream",
     "text": [
      "A man and woman are standing on the tennis court\n",
      "A row of motorcycles parked under a large stained glass window.\n"
     ]
    },
    {
     "name": "stderr",
     "output_type": "stream",
     "text": [
      "[pool-1-thread-5] INFO CoreNLP - [/127.0.0.1:51350] API call w/annotators tokenize,pos,lemma,ner,parse,depparse,coref\n",
      " 97%|████████████████████████████████████████████████████████████▊  | 1437/1488 [02:49<00:06,  8.50it/s][pool-1-thread-4] INFO CoreNLP - [/127.0.0.1:51360] API call w/annotators tokenize,pos,lemma,ner,parse,depparse,coref\n",
      " 97%|████████████████████████████████████████████████████████████▉  | 1438/1488 [02:50<00:05,  8.50it/s]"
     ]
    },
    {
     "name": "stdout",
     "output_type": "stream",
     "text": [
      "A grey and black plane on a runway with trees in the background.\n",
      "A large tall building tower with a clock on the top.\n"
     ]
    },
    {
     "name": "stderr",
     "output_type": "stream",
     "text": [
      "[pool-1-thread-3] INFO CoreNLP - [/127.0.0.1:51384] API call w/annotators tokenize,pos,lemma,ner,parse,depparse,coref\n",
      " 97%|████████████████████████████████████████████████████████████▉  | 1439/1488 [02:50<00:05,  8.85it/s][pool-1-thread-2] INFO CoreNLP - [/127.0.0.1:51404] API call w/annotators tokenize,pos,lemma,ner,parse,depparse,coref\n",
      " 97%|████████████████████████████████████████████████████████████▉  | 1440/1488 [02:50<00:05,  8.90it/s]"
     ]
    },
    {
     "name": "stdout",
     "output_type": "stream",
     "text": [
      "a black and white cat is looking at a book\n",
      "a little teddy bear dressed in some BDSM gear and chains \n"
     ]
    },
    {
     "name": "stderr",
     "output_type": "stream",
     "text": [
      "[pool-1-thread-1] INFO CoreNLP - [/127.0.0.1:51418] API call w/annotators tokenize,pos,lemma,ner,parse,depparse,coref\n",
      " 97%|█████████████████████████████████████████████████████████████  | 1441/1488 [02:50<00:05,  8.81it/s][pool-1-thread-5] INFO CoreNLP - [/127.0.0.1:51440] API call w/annotators tokenize,pos,lemma,ner,parse,depparse,coref\n",
      " 97%|█████████████████████████████████████████████████████████████  | 1442/1488 [02:50<00:05,  9.06it/s]"
     ]
    },
    {
     "name": "stdout",
     "output_type": "stream",
     "text": [
      "Two birds with long necks on a a body of water.\n",
      "a man standing on a surf board in the ocean\n"
     ]
    },
    {
     "name": "stderr",
     "output_type": "stream",
     "text": [
      "[pool-1-thread-4] INFO CoreNLP - [/127.0.0.1:51468] API call w/annotators tokenize,pos,lemma,ner,parse,depparse,coref\n",
      " 97%|█████████████████████████████████████████████████████████████  | 1443/1488 [02:50<00:04,  9.11it/s][pool-1-thread-3] INFO CoreNLP - [/127.0.0.1:51486] API call w/annotators tokenize,pos,lemma,ner,parse,depparse,coref\n",
      " 97%|█████████████████████████████████████████████████████████████▏ | 1444/1488 [02:50<00:04,  9.22it/s]"
     ]
    },
    {
     "name": "stdout",
     "output_type": "stream",
     "text": [
      "a very tall brown structure sitting above a parking lot.\n",
      "Two girls on a ski lift on the mountain\n"
     ]
    },
    {
     "name": "stderr",
     "output_type": "stream",
     "text": [
      "[pool-1-thread-2] INFO CoreNLP - [/127.0.0.1:51510] API call w/annotators tokenize,pos,lemma,ner,parse,depparse,coref\n",
      "[pool-1-thread-1] INFO CoreNLP - [/127.0.0.1:51534] API call w/annotators tokenize,pos,lemma,ner,parse,depparse,coref\n",
      " 97%|█████████████████████████████████████████████████████████████▏ | 1446/1488 [02:50<00:04,  9.42it/s]"
     ]
    },
    {
     "name": "stdout",
     "output_type": "stream",
     "text": [
      "three cups that are next to a microwave\n",
      "Slice of pizza on a white plate with brown stripes.\n"
     ]
    },
    {
     "name": "stderr",
     "output_type": "stream",
     "text": [
      "[pool-1-thread-5] INFO CoreNLP - [/127.0.0.1:51560] API call w/annotators tokenize,pos,lemma,ner,parse,depparse,coref\n",
      "[pool-1-thread-4] INFO CoreNLP - [/127.0.0.1:51580] API call w/annotators tokenize,pos,lemma,ner,parse,depparse,coref\n",
      " 97%|█████████████████████████████████████████████████████████████▎ | 1448/1488 [02:51<00:04,  9.46it/s]"
     ]
    },
    {
     "name": "stdout",
     "output_type": "stream",
     "text": [
      "this is a table with a pizza on it\n",
      "A huge plate of yummy food with fork to eat. \n"
     ]
    },
    {
     "name": "stderr",
     "output_type": "stream",
     "text": [
      "[pool-1-thread-3] INFO CoreNLP - [/127.0.0.1:51612] API call w/annotators tokenize,pos,lemma,ner,parse,depparse,coref\n",
      " 97%|█████████████████████████████████████████████████████████████▎ | 1449/1488 [02:51<00:04,  9.24it/s][pool-1-thread-2] INFO CoreNLP - [/127.0.0.1:51620] API call w/annotators tokenize,pos,lemma,ner,parse,depparse,coref\n",
      " 97%|█████████████████████████████████████████████████████████████▍ | 1450/1488 [02:51<00:04,  9.14it/s]"
     ]
    },
    {
     "name": "stdout",
     "output_type": "stream",
     "text": [
      "A surfboard leaning against the wall next to a sliding glass door.\n",
      "A traffic signal with a red stop sign hanging below it.\n"
     ]
    },
    {
     "name": "stderr",
     "output_type": "stream",
     "text": [
      "[pool-1-thread-1] INFO CoreNLP - [/127.0.0.1:51640] API call w/annotators tokenize,pos,lemma,ner,parse,depparse,coref\n",
      " 98%|█████████████████████████████████████████████████████████████▍ | 1451/1488 [02:51<00:04,  8.85it/s][pool-1-thread-5] INFO CoreNLP - [/127.0.0.1:51656] API call w/annotators tokenize,pos,lemma,ner,parse,depparse,coref\n",
      " 98%|█████████████████████████████████████████████████████████████▍ | 1452/1488 [02:51<00:04,  8.68it/s]"
     ]
    },
    {
     "name": "stdout",
     "output_type": "stream",
     "text": [
      "A man and a woman watch as a young man plays video games.\n",
      "Two sheep and a ram stand next to a fence in the yard \n"
     ]
    },
    {
     "name": "stderr",
     "output_type": "stream",
     "text": [
      "[pool-1-thread-4] INFO CoreNLP - [/127.0.0.1:51682] API call w/annotators tokenize,pos,lemma,ner,parse,depparse,coref\n",
      " 98%|█████████████████████████████████████████████████████████████▌ | 1453/1488 [02:51<00:04,  8.74it/s][pool-1-thread-3] INFO CoreNLP - [/127.0.0.1:51694] API call w/annotators tokenize,pos,lemma,ner,parse,depparse,coref\n",
      " 98%|█████████████████████████████████████████████████████████████▌ | 1454/1488 [02:51<00:03,  8.66it/s]"
     ]
    },
    {
     "name": "stdout",
     "output_type": "stream",
     "text": [
      "a person is walking down a tunnel with a bus behind them\n",
      "A photo of a stop sign in front of a grafitied truck\n"
     ]
    },
    {
     "name": "stderr",
     "output_type": "stream",
     "text": [
      "[pool-1-thread-2] INFO CoreNLP - [/127.0.0.1:51716] API call w/annotators tokenize,pos,lemma,ner,parse,depparse,coref\n",
      " 98%|█████████████████████████████████████████████████████████████▌ | 1455/1488 [02:52<00:03,  8.50it/s][pool-1-thread-1] INFO CoreNLP - [/127.0.0.1:51736] API call w/annotators tokenize,pos,lemma,ner,parse,depparse,coref\n"
     ]
    },
    {
     "name": "stdout",
     "output_type": "stream",
     "text": [
      "A group of women with children sitting on a floor eating.\n",
      "A group of people in a circle, while holding tennis rackets and standing on a hard surface tennis court.\n"
     ]
    },
    {
     "name": "stderr",
     "output_type": "stream",
     "text": [
      " 98%|█████████████████████████████████████████████████████████████▋ | 1456/1488 [02:52<00:04,  7.17it/s][pool-1-thread-5] INFO CoreNLP - [/127.0.0.1:51762] API call w/annotators tokenize,pos,lemma,ner,parse,depparse,coref\n",
      " 98%|█████████████████████████████████████████████████████████████▋ | 1457/1488 [02:52<00:04,  7.65it/s][pool-1-thread-4] INFO CoreNLP - [/127.0.0.1:51784] API call w/annotators tokenize,pos,lemma,ner,parse,depparse,coref\n",
      " 98%|█████████████████████████████████████████████████████████████▋ | 1458/1488 [02:52<00:03,  7.70it/s]"
     ]
    },
    {
     "name": "stdout",
     "output_type": "stream",
     "text": [
      "A person is hanging in the air near a building.\n",
      "The skier is in the air after jumping a ramp made of snow.\n"
     ]
    },
    {
     "name": "stderr",
     "output_type": "stream",
     "text": [
      "[pool-1-thread-3] INFO CoreNLP - [/127.0.0.1:51798] API call w/annotators tokenize,pos,lemma,ner,parse,depparse,coref\n",
      "[pool-1-thread-2] INFO CoreNLP - [/127.0.0.1:51818] API call w/annotators tokenize,pos,lemma,ner,parse,depparse,coref\n",
      " 98%|█████████████████████████████████████████████████████████████▊ | 1460/1488 [02:52<00:03,  8.35it/s]"
     ]
    },
    {
     "name": "stdout",
     "output_type": "stream",
     "text": [
      "A grey brick building with snow outside. \n",
      "A young child that is using a wake board in the water.\n"
     ]
    },
    {
     "name": "stderr",
     "output_type": "stream",
     "text": [
      "[pool-1-thread-1] INFO CoreNLP - [/127.0.0.1:51836] API call w/annotators tokenize,pos,lemma,ner,parse,depparse,coref\n",
      " 98%|█████████████████████████████████████████████████████████████▊ | 1461/1488 [02:52<00:03,  8.62it/s][pool-1-thread-5] INFO CoreNLP - [/127.0.0.1:51864] API call w/annotators tokenize,pos,lemma,ner,parse,depparse,coref\n",
      " 98%|█████████████████████████████████████████████████████████████▉ | 1462/1488 [02:52<00:03,  8.24it/s]"
     ]
    },
    {
     "name": "stdout",
     "output_type": "stream",
     "text": [
      "A skateboarder is taking a break at a skatepark. \n",
      "A plate with a sandwich and salad sits in front of a notebook computer.\n"
     ]
    },
    {
     "name": "stderr",
     "output_type": "stream",
     "text": [
      "[pool-1-thread-4] INFO CoreNLP - [/127.0.0.1:51888] API call w/annotators tokenize,pos,lemma,ner,parse,depparse,coref\n",
      " 98%|█████████████████████████████████████████████████████████████▉ | 1463/1488 [02:53<00:03,  8.22it/s][pool-1-thread-3] INFO CoreNLP - [/127.0.0.1:51916] API call w/annotators tokenize,pos,lemma,ner,parse,depparse,coref\n",
      " 98%|█████████████████████████████████████████████████████████████▉ | 1464/1488 [02:53<00:02,  8.63it/s]"
     ]
    },
    {
     "name": "stdout",
     "output_type": "stream",
     "text": [
      "A group of people at a train station with a passing train.\n",
      "An animal sitting on clothes in a suitcase. \n"
     ]
    },
    {
     "name": "stderr",
     "output_type": "stream",
     "text": [
      "[pool-1-thread-2] INFO CoreNLP - [/127.0.0.1:51932] API call w/annotators tokenize,pos,lemma,ner,parse,depparse,coref\n",
      " 98%|██████████████████████████████████████████████████████████████ | 1465/1488 [02:53<00:02,  8.75it/s][pool-1-thread-1] INFO CoreNLP - [/127.0.0.1:51950] API call w/annotators tokenize,pos,lemma,ner,parse,depparse,coref\n",
      " 99%|██████████████████████████████████████████████████████████████ | 1466/1488 [02:53<00:02,  8.95it/s]"
     ]
    },
    {
     "name": "stdout",
     "output_type": "stream",
     "text": [
      "AN IMAGE OF A FIRED HYDRANT ON THE STREET\n",
      "The young people are texting on their cel phones.\n"
     ]
    },
    {
     "name": "stderr",
     "output_type": "stream",
     "text": [
      "[pool-1-thread-5] INFO CoreNLP - [/127.0.0.1:51968] API call w/annotators tokenize,pos,lemma,ner,parse,depparse,coref\n",
      " 99%|██████████████████████████████████████████████████████████████ | 1467/1488 [02:53<00:02,  8.82it/s][pool-1-thread-4] INFO CoreNLP - [/127.0.0.1:51976] API call w/annotators tokenize,pos,lemma,ner,parse,depparse,coref\n",
      " 99%|██████████████████████████████████████████████████████████████▏| 1468/1488 [02:53<00:02,  8.84it/s]"
     ]
    },
    {
     "name": "stdout",
     "output_type": "stream",
     "text": [
      "A person in a field full of people catching a frisbee.\n",
      "A person jumps on a skateboard in a skate park.\n"
     ]
    },
    {
     "name": "stderr",
     "output_type": "stream",
     "text": [
      "[pool-1-thread-3] INFO CoreNLP - [/127.0.0.1:51994] API call w/annotators tokenize,pos,lemma,ner,parse,depparse,coref\n",
      " 99%|██████████████████████████████████████████████████████████████▏| 1469/1488 [02:53<00:02,  8.99it/s][pool-1-thread-2] INFO CoreNLP - [/127.0.0.1:52008] API call w/annotators tokenize,pos,lemma,ner,parse,depparse,coref\n",
      " 99%|██████████████████████████████████████████████████████████████▏| 1470/1488 [02:53<00:01,  9.08it/s]"
     ]
    },
    {
     "name": "stdout",
     "output_type": "stream",
     "text": [
      "A man fitting a ski boot on a ski.\n",
      "a park bench that has a teddy bear on it\n"
     ]
    },
    {
     "name": "stderr",
     "output_type": "stream",
     "text": [
      "[pool-1-thread-1] INFO CoreNLP - [/127.0.0.1:52026] API call w/annotators tokenize,pos,lemma,ner,parse,depparse,coref\n",
      " 99%|██████████████████████████████████████████████████████████████▎| 1471/1488 [02:53<00:01,  8.82it/s][pool-1-thread-5] INFO CoreNLP - [/127.0.0.1:52042] API call w/annotators tokenize,pos,lemma,ner,parse,depparse,coref\n",
      " 99%|██████████████████████████████████████████████████████████████▎| 1472/1488 [02:54<00:01,  8.95it/s]"
     ]
    },
    {
     "name": "stdout",
     "output_type": "stream",
     "text": [
      "A pizza buffet sitting inside of a building next to a kitchen.\n",
      "A young girl in a fairy dress under an umbrella\n"
     ]
    },
    {
     "name": "stderr",
     "output_type": "stream",
     "text": [
      "[pool-1-thread-4] INFO CoreNLP - [/127.0.0.1:52070] API call w/annotators tokenize,pos,lemma,ner,parse,depparse,coref\n",
      " 99%|██████████████████████████████████████████████████████████████▎| 1473/1488 [02:54<00:01,  8.83it/s][pool-1-thread-3] INFO CoreNLP - [/127.0.0.1:52086] API call w/annotators tokenize,pos,lemma,ner,parse,depparse,coref\n",
      " 99%|██████████████████████████████████████████████████████████████▍| 1474/1488 [02:54<00:01,  8.81it/s]"
     ]
    },
    {
     "name": "stdout",
     "output_type": "stream",
     "text": [
      "The boat is sailing on the river with people in it.\n",
      "A lady hold a game controller, pointed towards a laptop.\n"
     ]
    },
    {
     "name": "stderr",
     "output_type": "stream",
     "text": [
      "[pool-1-thread-2] INFO CoreNLP - [/127.0.0.1:52102] API call w/annotators tokenize,pos,lemma,ner,parse,depparse,coref\n",
      " 99%|██████████████████████████████████████████████████████████████▍| 1475/1488 [02:54<00:01,  8.92it/s][pool-1-thread-1] INFO CoreNLP - [/127.0.0.1:52120] API call w/annotators tokenize,pos,lemma,ner,parse,depparse,coref\n",
      " 99%|██████████████████████████████████████████████████████████████▍| 1476/1488 [02:54<00:01,  8.95it/s]"
     ]
    },
    {
     "name": "stdout",
     "output_type": "stream",
     "text": [
      "A plate of food and a magazine on a table\n",
      "A splotchy fire extinguisher stands next to a bent pole.\n"
     ]
    },
    {
     "name": "stderr",
     "output_type": "stream",
     "text": [
      "[pool-1-thread-5] INFO CoreNLP - [/127.0.0.1:52128] API call w/annotators tokenize,pos,lemma,ner,parse,depparse,coref\n",
      " 99%|██████████████████████████████████████████████████████████████▌| 1477/1488 [02:54<00:01,  9.00it/s][pool-1-thread-4] INFO CoreNLP - [/127.0.0.1:52144] API call w/annotators tokenize,pos,lemma,ner,parse,depparse,coref\n"
     ]
    },
    {
     "name": "stdout",
     "output_type": "stream",
     "text": [
      "Two boats parked near a stone cargo dock.\n",
      "A shepherd tends his sheep on a street\n"
     ]
    },
    {
     "name": "stderr",
     "output_type": "stream",
     "text": [
      "[pool-1-thread-3] INFO CoreNLP - [/127.0.0.1:52156] API call w/annotators tokenize,pos,lemma,ner,parse,depparse,coref\n",
      " 99%|██████████████████████████████████████████████████████████████▌| 1479/1488 [02:54<00:00,  9.33it/s][pool-1-thread-2] INFO CoreNLP - [/127.0.0.1:52186] API call w/annotators tokenize,pos,lemma,ner,parse,depparse,coref\n",
      " 99%|██████████████████████████████████████████████████████████████▋| 1480/1488 [02:54<00:00,  8.89it/s]"
     ]
    },
    {
     "name": "stdout",
     "output_type": "stream",
     "text": [
      "A group of people with suitcases in a room.\n",
      "A boy in a base ball uniforming with a ball in his hand.\n"
     ]
    },
    {
     "name": "stderr",
     "output_type": "stream",
     "text": [
      "[pool-1-thread-1] INFO CoreNLP - [/127.0.0.1:52200] API call w/annotators tokenize,pos,lemma,ner,parse,depparse,coref\n",
      "100%|██████████████████████████████████████████████████████████████▋| 1481/1488 [02:55<00:00,  9.04it/s][pool-1-thread-5] INFO CoreNLP - [/127.0.0.1:52220] API call w/annotators tokenize,pos,lemma,ner,parse,depparse,coref\n",
      "100%|██████████████████████████████████████████████████████████████▋| 1482/1488 [02:55<00:00,  9.05it/s]"
     ]
    },
    {
     "name": "stdout",
     "output_type": "stream",
     "text": [
      "Giraffes walk in the green grass of their enclosure.\n",
      "A surfer stands in knee high water in the ocean.\n"
     ]
    },
    {
     "name": "stderr",
     "output_type": "stream",
     "text": [
      "[pool-1-thread-4] INFO CoreNLP - [/127.0.0.1:52242] API call w/annotators tokenize,pos,lemma,ner,parse,depparse,coref\n",
      "100%|██████████████████████████████████████████████████████████████▊| 1483/1488 [02:55<00:00,  8.79it/s][pool-1-thread-3] INFO CoreNLP - [/127.0.0.1:52264] API call w/annotators tokenize,pos,lemma,ner,parse,depparse,coref\n",
      "100%|██████████████████████████████████████████████████████████████▊| 1484/1488 [02:55<00:00,  8.82it/s]"
     ]
    },
    {
     "name": "stdout",
     "output_type": "stream",
     "text": [
      "A young German Shepard puppy perks his ears up while lying down.\n",
      "A wooden table topped with plates of food and cake.\n"
     ]
    },
    {
     "name": "stderr",
     "output_type": "stream",
     "text": [
      "[pool-1-thread-2] INFO CoreNLP - [/127.0.0.1:52286] API call w/annotators tokenize,pos,lemma,ner,parse,depparse,coref\n",
      "100%|██████████████████████████████████████████████████████████████▊| 1485/1488 [02:55<00:00,  9.10it/s][pool-1-thread-1] INFO CoreNLP - [/127.0.0.1:52294] API call w/annotators tokenize,pos,lemma,ner,parse,depparse,coref\n",
      "100%|██████████████████████████████████████████████████████████████▉| 1486/1488 [02:55<00:00,  8.88it/s]"
     ]
    },
    {
     "name": "stdout",
     "output_type": "stream",
     "text": [
      "A white round bowl filled with steamed broccoli.\n",
      "A stop sign stands behind a street sign on Wake Forest Road.\n"
     ]
    },
    {
     "name": "stderr",
     "output_type": "stream",
     "text": [
      "[pool-1-thread-5] INFO CoreNLP - [/127.0.0.1:52304] API call w/annotators tokenize,pos,lemma,ner,parse,depparse,coref\n",
      "100%|██████████████████████████████████████████████████████████████▉| 1487/1488 [02:55<00:00,  8.82it/s][pool-1-thread-4] INFO CoreNLP - [/127.0.0.1:52314] API call w/annotators tokenize,pos,lemma,ner,parse,depparse,coref\n",
      "100%|███████████████████████████████████████████████████████████████| 1488/1488 [02:55<00:00,  8.46it/s]"
     ]
    },
    {
     "name": "stdout",
     "output_type": "stream",
     "text": [
      "A piece of cake up close, it appears almost gone.\n",
      "a pizza prepared to be cooked on a wooden spoon\n"
     ]
    },
    {
     "name": "stderr",
     "output_type": "stream",
     "text": [
      "\n"
     ]
    }
   ],
   "source": [
    "from matplotlib import pyplot as plt\n",
    "from daam import GenerationExperiment\n",
    "\n",
    "def iou(a, b, t: float = 0.15) -> float:\n",
    "    i = ((a > t) & (b > t)).float().sum()\n",
    "    u = ((a > t) | (b > t)).float().sum()\n",
    "    \n",
    "    if u < 1e-6:\n",
    "        return 0.0\n",
    "    else:\n",
    "        return (i / u).item()\n",
    "\n",
    "def ioa(a, b, t: float = 0.15) -> float:\n",
    "    i = ((a > t) & (b > t)).float().sum()\n",
    "    a = (a > t).float().sum()\n",
    "    \n",
    "    if a < 1e-6:\n",
    "        return 0.0\n",
    "    else:\n",
    "        return (i / a).item()\n",
    "\n",
    "stats = []\n",
    "\n",
    "for path in tqdm(list(Path('experiments/visuosyntax').iterdir())):\n",
    "    exp = GenerationExperiment.load(path)\n",
    "    sent = client.annotate(exp.prompt).sentence[0]\n",
    "    heat_map = exp.heat_map()    \n",
    "    word_maps = dict()\n",
    "    \n",
    "    for tok in sent.token:\n",
    "        try:\n",
    "            word_maps[tok.word] = heat_map.compute_word_heat_map(tok.word).value.cuda()\n",
    "        except ValueError:\n",
    "            pass        \n",
    "    \n",
    "    for edge in sent.enhancedDependencies.edge:\n",
    "        head = sent.token[edge.source - 1].word\n",
    "        rel = edge.dep\n",
    "        dep = sent.token[edge.target - 1].word\n",
    "        \n",
    "        try:\n",
    "            head_heat_map = word_maps[head]\n",
    "            dep_heat_map = word_maps[dep]\n",
    "        except KeyError:\n",
    "            continue\n",
    "        \n",
    "        stats.append(dict(\n",
    "            rel=rel,\n",
    "            iou=iou(head_heat_map, dep_heat_map),\n",
    "            iod=ioa(dep_heat_map, head_heat_map),\n",
    "            ioh=ioa(head_heat_map, dep_heat_map)\n",
    "        ))"
   ]
  },
  {
   "cell_type": "markdown",
   "metadata": {},
   "source": [
    "# Results"
   ]
  },
  {
   "cell_type": "code",
   "execution_count": 149,
   "metadata": {},
   "outputs": [],
   "source": [
    "stats_df = pd.DataFrame(stats)\n",
    "res_df = stats_df.groupby('rel').agg(count=('rel', len), mIoU=('iou', 'mean'), mIoD=('iod', 'mean'), mIoH=('ioh', 'mean'))\n",
    "res_df = res_df.sort_values('count', ascending=False).iloc[:10]\n",
    "res_df['delta'] = (res_df['mIoH'] - res_df['mIoD']).abs()"
   ]
  },
  {
   "cell_type": "code",
   "execution_count": 150,
   "metadata": {},
   "outputs": [
    {
     "data": {
      "text/html": [
       "<div>\n",
       "<style scoped>\n",
       "    .dataframe tbody tr th:only-of-type {\n",
       "        vertical-align: middle;\n",
       "    }\n",
       "\n",
       "    .dataframe tbody tr th {\n",
       "        vertical-align: top;\n",
       "    }\n",
       "\n",
       "    .dataframe thead th {\n",
       "        text-align: right;\n",
       "    }\n",
       "</style>\n",
       "<table border=\"1\" class=\"dataframe\">\n",
       "  <thead>\n",
       "    <tr style=\"text-align: right;\">\n",
       "      <th></th>\n",
       "      <th>mIoU</th>\n",
       "      <th>mIoD</th>\n",
       "      <th>mIoH</th>\n",
       "      <th>delta</th>\n",
       "    </tr>\n",
       "    <tr>\n",
       "      <th>rel</th>\n",
       "      <th></th>\n",
       "      <th></th>\n",
       "      <th></th>\n",
       "      <th></th>\n",
       "    </tr>\n",
       "  </thead>\n",
       "  <tbody>\n",
       "    <tr>\n",
       "      <th>punct</th>\n",
       "      <td>0.099857</td>\n",
       "      <td>2.448410</td>\n",
       "      <td>0.103295</td>\n",
       "      <td>2.345114</td>\n",
       "    </tr>\n",
       "    <tr>\n",
       "      <th>nmod:of</th>\n",
       "      <td>8.657074</td>\n",
       "      <td>12.855358</td>\n",
       "      <td>21.987856</td>\n",
       "      <td>9.132498</td>\n",
       "    </tr>\n",
       "    <tr>\n",
       "      <th>compound</th>\n",
       "      <td>33.434113</td>\n",
       "      <td>59.130795</td>\n",
       "      <td>49.985170</td>\n",
       "      <td>9.145626</td>\n",
       "    </tr>\n",
       "    <tr>\n",
       "      <th>nsubj</th>\n",
       "      <td>5.027227</td>\n",
       "      <td>10.692133</td>\n",
       "      <td>22.710293</td>\n",
       "      <td>12.018160</td>\n",
       "    </tr>\n",
       "    <tr>\n",
       "      <th>case</th>\n",
       "      <td>3.831952</td>\n",
       "      <td>18.088006</td>\n",
       "      <td>5.895829</td>\n",
       "      <td>12.192177</td>\n",
       "    </tr>\n",
       "    <tr>\n",
       "      <th>det</th>\n",
       "      <td>0.447811</td>\n",
       "      <td>13.012975</td>\n",
       "      <td>0.657808</td>\n",
       "      <td>12.355168</td>\n",
       "    </tr>\n",
       "    <tr>\n",
       "      <th>conj:and</th>\n",
       "      <td>28.435928</td>\n",
       "      <td>55.501867</td>\n",
       "      <td>39.649883</td>\n",
       "      <td>15.851984</td>\n",
       "    </tr>\n",
       "    <tr>\n",
       "      <th>acl</th>\n",
       "      <td>6.452009</td>\n",
       "      <td>28.692415</td>\n",
       "      <td>11.101184</td>\n",
       "      <td>17.591231</td>\n",
       "    </tr>\n",
       "    <tr>\n",
       "      <th>obj</th>\n",
       "      <td>6.641952</td>\n",
       "      <td>10.566673</td>\n",
       "      <td>36.442496</td>\n",
       "      <td>25.875823</td>\n",
       "    </tr>\n",
       "    <tr>\n",
       "      <th>amod</th>\n",
       "      <td>14.690878</td>\n",
       "      <td>45.062720</td>\n",
       "      <td>19.051720</td>\n",
       "      <td>26.011000</td>\n",
       "    </tr>\n",
       "  </tbody>\n",
       "</table>\n",
       "</div>"
      ],
      "text/plain": [
       "               mIoU       mIoD       mIoH      delta\n",
       "rel                                                 \n",
       "punct      0.099857   2.448410   0.103295   2.345114\n",
       "nmod:of    8.657074  12.855358  21.987856   9.132498\n",
       "compound  33.434113  59.130795  49.985170   9.145626\n",
       "nsubj      5.027227  10.692133  22.710293  12.018160\n",
       "case       3.831952  18.088006   5.895829  12.192177\n",
       "det        0.447811  13.012975   0.657808  12.355168\n",
       "conj:and  28.435928  55.501867  39.649883  15.851984\n",
       "acl        6.452009  28.692415  11.101184  17.591231\n",
       "obj        6.641952  10.566673  36.442496  25.875823\n",
       "amod      14.690878  45.062720  19.051720  26.011000"
      ]
     },
     "execution_count": 150,
     "metadata": {},
     "output_type": "execute_result"
    }
   ],
   "source": [
    "res_df.drop(columns=['count'], inplace=True)\n",
    "res_df = res_df.transform(lambda x: x * 100)\n",
    "res_df.sort_values('delta')"
   ]
  }
 ],
 "metadata": {
  "kernelspec": {
   "display_name": "Python 3 (ipykernel)",
   "language": "python",
   "name": "python3"
  },
  "language_info": {
   "codemirror_mode": {
    "name": "ipython",
    "version": 3
   },
   "file_extension": ".py",
   "mimetype": "text/x-python",
   "name": "python",
   "nbconvert_exporter": "python",
   "pygments_lexer": "ipython3",
   "version": "3.8.17"
  }
 },
 "nbformat": 4,
 "nbformat_minor": 1
}
